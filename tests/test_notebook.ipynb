{
 "cells": [
  {
   "cell_type": "markdown",
   "metadata": {},
   "source": [
    "# Base Class Examples\n",
    "Base Classes are the building blocks of more advanced Group Units"
   ]
  },
  {
   "cell_type": "markdown",
   "metadata": {},
   "source": [
    "## Import the working project"
   ]
  },
  {
   "cell_type": "code",
   "execution_count": 3,
   "metadata": {},
   "outputs": [],
   "source": [
    "import sys\n",
    "\n",
    "sys.path.append(\"/Users/j/Documents/Forme/code/forme-groups-python-3-12/\")"
   ]
  },
  {
   "cell_type": "markdown",
   "metadata": {},
   "source": [
    "## Create a Base Value\n",
    "Base Values hold a single Value"
   ]
  },
  {
   "cell_type": "code",
   "execution_count": 4,
   "metadata": {},
   "outputs": [
    {
     "ename": "GroupBaseValueException",
     "evalue": "Could not force value 1 to type <class 'str'>",
     "output_type": "error",
     "traceback": [
      "\u001b[0;31m---------------------------------------------------------------------------\u001b[0m",
      "\u001b[0;31mGroupBaseValueException\u001b[0m                   Traceback (most recent call last)",
      "    \u001b[0;31m[... skipping hidden 1 frame]\u001b[0m\n",
      "\u001b[1;32m/Users/j/Documents/Forme/code/forme-groups-python-3-12/tests/test_notebook.ipynb Cell 5\u001b[0m line \u001b[0;36m4\n\u001b[1;32m      <a href='vscode-notebook-cell:/Users/j/Documents/Forme/code/forme-groups-python-3-12/tests/test_notebook.ipynb#W6sZmlsZQ%3D%3D?line=2'>3</a>\u001b[0m value_one_int \u001b[39m=\u001b[39m BaseValue(\u001b[39m1\u001b[39m)\n\u001b[0;32m----> <a href='vscode-notebook-cell:/Users/j/Documents/Forme/code/forme-groups-python-3-12/tests/test_notebook.ipynb#W6sZmlsZQ%3D%3D?line=3'>4</a>\u001b[0m value_one_str \u001b[39m=\u001b[39m BaseValue\u001b[39m.\u001b[39;49m_force_type(value_one_int, \u001b[39mstr\u001b[39;49m)\n\u001b[1;32m      <a href='vscode-notebook-cell:/Users/j/Documents/Forme/code/forme-groups-python-3-12/tests/test_notebook.ipynb#W6sZmlsZQ%3D%3D?line=4'>5</a>\u001b[0m \u001b[39mprint\u001b[39m(value_one_str)\n",
      "File \u001b[0;32m~/Documents/Forme/code/forme-groups-python-3-12/app/src/base/value.py:134\u001b[0m, in \u001b[0;36mBaseValue._force_type\u001b[0;34m(value, type_alias)\u001b[0m\n\u001b[1;32m    133\u001b[0m \u001b[39mexcept\u001b[39;00m \u001b[39mException\u001b[39;00m \u001b[39mas\u001b[39;00m e:\n\u001b[0;32m--> 134\u001b[0m     \u001b[39mraise\u001b[39;00m base_exception \u001b[39mfrom\u001b[39;00m \u001b[39me\u001b[39;00m\n\u001b[1;32m    136\u001b[0m \u001b[39mreturn\u001b[39;00m BaseValue(forced_value)\n",
      "File \u001b[0;32m~/Documents/Forme/code/forme-groups-python-3-12/app/src/base/value.py:131\u001b[0m, in \u001b[0;36mBaseValue._force_type\u001b[0;34m(value, type_alias)\u001b[0m\n\u001b[1;32m    130\u001b[0m         \u001b[39mcase\u001b[39;00m\u001b[39m \u001b[39m\u001b[39m_\u001b[39;00m:\n\u001b[0;32m--> 131\u001b[0m             \u001b[39mraise\u001b[39;00m base_exception\n\u001b[1;32m    133\u001b[0m \u001b[39mexcept\u001b[39;00m \u001b[39mException\u001b[39;00m \u001b[39mas\u001b[39;00m e:\n",
      "\u001b[0;31mGroupBaseValueException\u001b[0m: Could not force value 1 to type <class 'str'>",
      "\nThe above exception was the direct cause of the following exception:\n",
      "\u001b[0;31mGroupBaseValueException\u001b[0m                   Traceback (most recent call last)",
      "    \u001b[0;31m[... skipping hidden 1 frame]\u001b[0m\n",
      "\u001b[1;32m/Users/j/Documents/Forme/code/forme-groups-python-3-12/tests/test_notebook.ipynb Cell 5\u001b[0m line \u001b[0;36m4\n\u001b[1;32m      <a href='vscode-notebook-cell:/Users/j/Documents/Forme/code/forme-groups-python-3-12/tests/test_notebook.ipynb#W6sZmlsZQ%3D%3D?line=2'>3</a>\u001b[0m value_one_int \u001b[39m=\u001b[39m BaseValue(\u001b[39m1\u001b[39m)\n\u001b[0;32m----> <a href='vscode-notebook-cell:/Users/j/Documents/Forme/code/forme-groups-python-3-12/tests/test_notebook.ipynb#W6sZmlsZQ%3D%3D?line=3'>4</a>\u001b[0m value_one_str \u001b[39m=\u001b[39m BaseValue\u001b[39m.\u001b[39;49m_force_type(value_one_int, \u001b[39mstr\u001b[39;49m)\n\u001b[1;32m      <a href='vscode-notebook-cell:/Users/j/Documents/Forme/code/forme-groups-python-3-12/tests/test_notebook.ipynb#W6sZmlsZQ%3D%3D?line=4'>5</a>\u001b[0m \u001b[39mprint\u001b[39m(value_one_str)\n",
      "File \u001b[0;32m~/Documents/Forme/code/forme-groups-python-3-12/app/src/base/value.py:134\u001b[0m, in \u001b[0;36mBaseValue._force_type\u001b[0;34m(value, type_alias)\u001b[0m\n\u001b[1;32m    133\u001b[0m \u001b[39mexcept\u001b[39;00m \u001b[39mException\u001b[39;00m \u001b[39mas\u001b[39;00m e:\n\u001b[0;32m--> 134\u001b[0m     \u001b[39mraise\u001b[39;00m base_exception \u001b[39mfrom\u001b[39;00m \u001b[39me\u001b[39;00m\n\u001b[1;32m    136\u001b[0m \u001b[39mreturn\u001b[39;00m BaseValue(forced_value)\n",
      "File \u001b[0;32m~/Documents/Forme/code/forme-groups-python-3-12/app/src/base/value.py:131\u001b[0m, in \u001b[0;36mBaseValue._force_type\u001b[0;34m(value, type_alias)\u001b[0m\n\u001b[1;32m    130\u001b[0m         \u001b[39mcase\u001b[39;00m\u001b[39m \u001b[39m\u001b[39m_\u001b[39;00m:\n\u001b[0;32m--> 131\u001b[0m             \u001b[39mraise\u001b[39;00m base_exception\n\u001b[1;32m    133\u001b[0m \u001b[39mexcept\u001b[39;00m \u001b[39mException\u001b[39;00m \u001b[39mas\u001b[39;00m e:\n",
      "\u001b[0;31mGroupBaseValueException\u001b[0m: Could not force value 1 to type <class 'str'>",
      "\nThe above exception was the direct cause of the following exception:\n",
      "\u001b[0;31mGroupBaseValueException\u001b[0m                   Traceback (most recent call last)",
      "\u001b[1;32m/Users/j/Documents/Forme/code/forme-groups-python-3-12/tests/test_notebook.ipynb Cell 5\u001b[0m line \u001b[0;36m4\n\u001b[1;32m      <a href='vscode-notebook-cell:/Users/j/Documents/Forme/code/forme-groups-python-3-12/tests/test_notebook.ipynb#W6sZmlsZQ%3D%3D?line=0'>1</a>\u001b[0m \u001b[39mfrom\u001b[39;00m \u001b[39mapp\u001b[39;00m\u001b[39m.\u001b[39;00m\u001b[39msrc\u001b[39;00m\u001b[39m.\u001b[39;00m\u001b[39mbase\u001b[39;00m\u001b[39m.\u001b[39;00m\u001b[39mvalue\u001b[39;00m \u001b[39mimport\u001b[39;00m BaseValue\n\u001b[1;32m      <a href='vscode-notebook-cell:/Users/j/Documents/Forme/code/forme-groups-python-3-12/tests/test_notebook.ipynb#W6sZmlsZQ%3D%3D?line=2'>3</a>\u001b[0m value_one_int \u001b[39m=\u001b[39m BaseValue(\u001b[39m1\u001b[39m)\n\u001b[0;32m----> <a href='vscode-notebook-cell:/Users/j/Documents/Forme/code/forme-groups-python-3-12/tests/test_notebook.ipynb#W6sZmlsZQ%3D%3D?line=3'>4</a>\u001b[0m value_one_str \u001b[39m=\u001b[39m BaseValue\u001b[39m.\u001b[39;49m_force_type(value_one_int, \u001b[39mstr\u001b[39;49m)\n\u001b[1;32m      <a href='vscode-notebook-cell:/Users/j/Documents/Forme/code/forme-groups-python-3-12/tests/test_notebook.ipynb#W6sZmlsZQ%3D%3D?line=4'>5</a>\u001b[0m \u001b[39mprint\u001b[39m(value_one_str)\n",
      "File \u001b[0;32m~/Documents/Forme/code/forme-groups-python-3-12/app/src/base/value.py:134\u001b[0m, in \u001b[0;36mBaseValue._force_type\u001b[0;34m(value, type_alias)\u001b[0m\n\u001b[1;32m    131\u001b[0m             \u001b[39mraise\u001b[39;00m base_exception\n\u001b[1;32m    133\u001b[0m \u001b[39mexcept\u001b[39;00m \u001b[39mException\u001b[39;00m \u001b[39mas\u001b[39;00m e:\n\u001b[0;32m--> 134\u001b[0m     \u001b[39mraise\u001b[39;00m base_exception \u001b[39mfrom\u001b[39;00m \u001b[39me\u001b[39;00m\n\u001b[1;32m    136\u001b[0m \u001b[39mreturn\u001b[39;00m BaseValue(forced_value)\n",
      "File \u001b[0;32m~/Documents/Forme/code/forme-groups-python-3-12/app/src/base/value.py:131\u001b[0m, in \u001b[0;36mBaseValue._force_type\u001b[0;34m(value, type_alias)\u001b[0m\n\u001b[1;32m    129\u001b[0m                 forced_value \u001b[39m=\u001b[39m struct\u001b[39m.\u001b[39mpack(\u001b[39m'\u001b[39m\u001b[39m?\u001b[39m\u001b[39m'\u001b[39m, value)\n\u001b[1;32m    130\u001b[0m         \u001b[39mcase\u001b[39;00m\u001b[39m \u001b[39m\u001b[39m_\u001b[39;00m:\n\u001b[0;32m--> 131\u001b[0m             \u001b[39mraise\u001b[39;00m base_exception\n\u001b[1;32m    133\u001b[0m \u001b[39mexcept\u001b[39;00m \u001b[39mException\u001b[39;00m \u001b[39mas\u001b[39;00m e:\n\u001b[1;32m    134\u001b[0m     \u001b[39mraise\u001b[39;00m base_exception \u001b[39mfrom\u001b[39;00m \u001b[39me\u001b[39;00m\n",
      "\u001b[0;31mGroupBaseValueException\u001b[0m: Could not force value 1 to type <class 'str'>"
     ]
    }
   ],
   "source": [
    "from app.src.base.value import BaseValue\n",
    "\n",
    "value_one_int = BaseValue(1)\n",
    "value_one_str = BaseValue._force_type(value_one_int, \"str\")\n",
    "print(value_one_str)\n",
    "\n"
   ]
  }
 ],
 "metadata": {
  "kernelspec": {
   "display_name": ".venv",
   "language": "python",
   "name": "python3"
  },
  "language_info": {
   "codemirror_mode": {
    "name": "ipython",
    "version": 3
   },
   "file_extension": ".py",
   "mimetype": "text/x-python",
   "name": "python",
   "nbconvert_exporter": "python",
   "pygments_lexer": "ipython3",
   "version": "3.12.0rc3"
  }
 },
 "nbformat": 4,
 "nbformat_minor": 2
}
