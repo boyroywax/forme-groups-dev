{
 "cells": [
  {
   "cell_type": "markdown",
   "metadata": {},
   "source": [
    "# Bitcoin Key Pairs"
   ]
  },
  {
   "cell_type": "markdown",
   "metadata": {},
   "source": [
    "## Generate a Bitcoin key pair"
   ]
  },
  {
   "cell_type": "markdown",
   "metadata": {},
   "source": [
    "### ECDSA Key Pairs"
   ]
  },
  {
   "cell_type": "code",
   "execution_count": 1,
   "metadata": {},
   "outputs": [
    {
     "name": "stdout",
     "output_type": "stream",
     "text": [
      "Private key bytse:  b'\\xca/\\x8fh\\xb9.j\\x0f.iD\\x83\\xcd\\xbb\\xd4\\x1c\\x889\\x04\\xe04\\x91>\\x98\\x85L;vVb\\x06\\xd0'\n",
      "Private key:  ca2f8f68b92e6a0f2e694483cdbbd41c883904e034913e98854c3b76566206d0\n",
      "Public key raw:  d4c3cd7c40578eb3157ececeb3a931c30df606424c5417ee71ce91e87a3991d3284d7195b557273653d2eef9e54fbe29b738e406c99b34ce1fc58399f8f72d76\n",
      "Public key Uncompressed:  04d4c3cd7c40578eb3157ececeb3a931c30df606424c5417ee71ce91e87a3991d3284d7195b557273653d2eef9e54fbe29b738e406c99b34ce1fc58399f8f72d76\n",
      "Public key Compressed:  02d4c3cd7c40578eb3157ececeb3a931c30df606424c5417ee71ce91e87a3991d3\n"
     ]
    }
   ],
   "source": [
    "import ecdsa\n",
    "import binascii\n",
    "import hashlib\n",
    "\n",
    "# Generate a private key\n",
    "def generate_private_key() -> ecdsa.SigningKey:\n",
    "    return ecdsa.SigningKey.generate(curve=ecdsa.SECP256k1, hashfunc=hashlib.sha256)\n",
    "\n",
    "# Generate a public key\n",
    "def generate_public_key(private_key: ecdsa.SigningKey) -> ecdsa.VerifyingKey:\n",
    "    return private_key.get_verifying_key()\n",
    "\n",
    "# Generate a compressed public key\n",
    "def generate_compressed_public_key(private_key: ecdsa.SigningKey) -> ecdsa.VerifyingKey:\n",
    "    return private_key.get_verifying_key().to_string(\"compressed\")\n",
    "\n",
    "# Generate a uncompressed public key\n",
    "def generate_uncompressed_public_key(private_key: ecdsa.SigningKey) -> ecdsa.VerifyingKey:\n",
    "    return private_key.get_verifying_key().to_string(\"uncompressed\")\n",
    "\n",
    "def hexlify_private_key(private_key: ecdsa.SigningKey) -> str:\n",
    "    return binascii.hexlify(private_key.to_string()).decode(\"utf-8\")\n",
    "\n",
    "def hexlify_public_key(public_key: ecdsa.VerifyingKey, encoding: str = \"uncompressed\") -> str:\n",
    "    return binascii.hexlify(public_key.to_string(encoding)).decode(\"utf-8\")\n",
    "\n",
    "private_key = generate_private_key()\n",
    "print(\"Private key bytse: \", private_key.to_string())\n",
    "print(\"Private key: \", hexlify_private_key(private_key))\n",
    "\n",
    "public_key = generate_public_key(private_key)\n",
    "print(\"Public key raw: \", hexlify_public_key(public_key, encoding='raw'))\n",
    "print(\"Public key Uncompressed: \", hexlify_public_key(public_key, encoding='uncompressed'))\n",
    "print(\"Public key Compressed: \", hexlify_public_key(public_key, encoding='compressed'))"
   ]
  },
  {
   "cell_type": "markdown",
   "metadata": {},
   "source": [
    "## Import keys"
   ]
  },
  {
   "cell_type": "markdown",
   "metadata": {},
   "source": [
    "### Load a private key"
   ]
  },
  {
   "cell_type": "code",
   "execution_count": 2,
   "metadata": {},
   "outputs": [
    {
     "name": "stdout",
     "output_type": "stream",
     "text": [
      "Private key:  41acfff5cb7cac7d947286ebcc44d3a6c10bca38c43ef88b22060fa1426c50ad\n",
      "Public key Raw:  326243d72726f580e0cfcc9870e6b705527aa3622624eb7f4b0170882a2dae50d2ba41eba0716806a86639803d4c3684c9e95264b38c5a14139cd0c85f6449a6\n",
      "Public key Uncompressed:  04326243d72726f580e0cfcc9870e6b705527aa3622624eb7f4b0170882a2dae50d2ba41eba0716806a86639803d4c3684c9e95264b38c5a14139cd0c85f6449a6\n",
      "Public key Compressed:  02326243d72726f580e0cfcc9870e6b705527aa3622624eb7f4b0170882a2dae50\n"
     ]
    }
   ],
   "source": [
    "# Pre Calculated Keys\n",
    "pre_private_key = '41acfff5cb7cac7d947286ebcc44d3a6c10bca38c43ef88b22060fa1426c50ad'\n",
    "pre_public_key = '02326243d72726f580e0cfcc9870e6b705527aa3622624eb7f4b0170882a2dae50'\n",
    "\n",
    "# Load a private key\n",
    "def load_private_key(private_key: str) -> ecdsa.SigningKey:\n",
    "    return ecdsa.SigningKey.from_string(bytes.fromhex(private_key), curve=ecdsa.SECP256k1, hashfunc=hashlib.sha256)\n",
    "\n",
    "loaded_private_key: ecdsa.SigningKey = load_private_key(pre_private_key)\n",
    "print(\"Private key: \", hexlify_private_key(loaded_private_key))\n",
    "\n",
    "assert hexlify_private_key(loaded_private_key) == pre_private_key\n",
    "\n",
    "generated_public_key_from_private_key = generate_public_key(loaded_private_key)\n",
    "print(\"Public key Raw: \", hexlify_public_key(generated_public_key_from_private_key, encoding='raw'))\n",
    "print(\"Public key Uncompressed: \", hexlify_public_key(generated_public_key_from_private_key, encoding=\"uncompressed\"))\n",
    "print(\"Public key Compressed: \", hexlify_public_key(generated_public_key_from_private_key, encoding=\"compressed\"))\n"
   ]
  },
  {
   "cell_type": "markdown",
   "metadata": {},
   "source": [
    "### Load a public key"
   ]
  },
  {
   "cell_type": "code",
   "execution_count": 3,
   "metadata": {},
   "outputs": [
    {
     "name": "stdout",
     "output_type": "stream",
     "text": [
      "Public key Raw:  326243d72726f580e0cfcc9870e6b705527aa3622624eb7f4b0170882a2dae50d2ba41eba0716806a86639803d4c3684c9e95264b38c5a14139cd0c85f6449a6\n",
      "Public key Uncompressed:  04326243d72726f580e0cfcc9870e6b705527aa3622624eb7f4b0170882a2dae50d2ba41eba0716806a86639803d4c3684c9e95264b38c5a14139cd0c85f6449a6\n",
      "Public key Compressed:  02326243d72726f580e0cfcc9870e6b705527aa3622624eb7f4b0170882a2dae50\n"
     ]
    }
   ],
   "source": [
    "# Pre Calculated Keys\n",
    "pre_private_key = '41acfff5cb7cac7d947286ebcc44d3a6c10bca38c43ef88b22060fa1426c50ad'\n",
    "pre_public_key = '02326243d72726f580e0cfcc9870e6b705527aa3622624eb7f4b0170882a2dae50'\n",
    "\n",
    "def load_public_key(public_key: str) -> ecdsa.VerifyingKey:\n",
    "    return ecdsa.VerifyingKey.from_string(bytes.fromhex(public_key), curve=ecdsa.SECP256k1, hashfunc=hashlib.sha256)\n",
    "\n",
    "loaded_public_key: ecdsa.VerifyingKey = load_public_key(pre_public_key)\n",
    "print(\"Public key Raw: \", hexlify_public_key(loaded_public_key, encoding='raw'))\n",
    "print(\"Public key Uncompressed: \", hexlify_public_key(loaded_public_key, encoding=\"uncompressed\"))\n",
    "print(\"Public key Compressed: \", hexlify_public_key(loaded_public_key, encoding=\"compressed\"))"
   ]
  },
  {
   "cell_type": "markdown",
   "metadata": {},
   "source": [
    "# Bitcoin Address"
   ]
  },
  {
   "cell_type": "markdown",
   "metadata": {},
   "source": [
    "## Generate the bitcoin address\n"
   ]
  },
  {
   "cell_type": "markdown",
   "metadata": {},
   "source": [
    "\n",
    "### Step: 1. SHA-256"
   ]
  },
  {
   "cell_type": "code",
   "execution_count": 4,
   "metadata": {},
   "outputs": [
    {
     "name": "stdout",
     "output_type": "stream",
     "text": [
      "SHA256 hash from public key:  0784a459a2ca0dadbdd3f26d3d775b32bede696745194b6b38c7a970ad304a32\n",
      "SHA256 hash from private key:  0784a459a2ca0dadbdd3f26d3d775b32bede696745194b6b38c7a970ad304a32\n"
     ]
    }
   ],
   "source": [
    "import ecdsa\n",
    "import hashlib\n",
    "import binascii\n",
    "\n",
    "#Generate a private key\n",
    "private_key = ecdsa.SigningKey.generate(curve=ecdsa.SECP256k1)\n",
    "\n",
    "def sha256_hash_public_key(public_key: ecdsa.VerifyingKey) -> str:\n",
    "    return binascii.hexlify(hashlib.sha256(public_key.to_string(\"uncompressed\")).digest()).decode(\"utf-8\")\n",
    "\n",
    "loaded_public_key: ecdsa.VerifyingKey = load_public_key(pre_public_key)\n",
    "print(\"SHA256 hash from public key: \", sha256_hash_public_key(loaded_public_key))\n",
    "\n",
    "# Generate a bitcoin address from a private key\n",
    "def sha256_hash_private_key(private_key: ecdsa.SigningKey) -> str:\n",
    "    return sha256_hash_public_key(generate_public_key(private_key))\n",
    "\n",
    "loaded_private_key = load_private_key(pre_private_key)\n",
    "sha256_hash = sha256_hash_private_key(loaded_private_key)\n",
    "print(\"SHA256 hash from private key: \", sha256_hash)"
   ]
  },
  {
   "cell_type": "markdown",
   "metadata": {},
   "source": [
    "### Step 2. RIPEMD-160"
   ]
  },
  {
   "cell_type": "code",
   "execution_count": 5,
   "metadata": {},
   "outputs": [
    {
     "name": "stdout",
     "output_type": "stream",
     "text": [
      "Ripemd160 hash:  5acee0cdc3f682ef1aaf5d0b387f32270ac4e408\n"
     ]
    }
   ],
   "source": [
    "# Find the ripemd160 hash\n",
    "def ripemd_160_hash(sha256_hash: str) -> str:\n",
    "    return hashlib.new(\"ripemd160\", bytes.fromhex(sha256_hash)).hexdigest()\n",
    "\n",
    "ripemd_160_hash_ = ripemd_160_hash(sha256_hash)\n",
    "print(\"Ripemd160 hash: \", ripemd_160_hash_)"
   ]
  },
  {
   "cell_type": "markdown",
   "metadata": {},
   "source": [
    "### Step 3. Prefix with version byte\n",
    "\n",
    "0x00 for Main Network"
   ]
  },
  {
   "cell_type": "code",
   "execution_count": 6,
   "metadata": {},
   "outputs": [
    {
     "name": "stdout",
     "output_type": "stream",
     "text": [
      "Version byte:  005acee0cdc3f682ef1aaf5d0b387f32270ac4e408\n"
     ]
    }
   ],
   "source": [
    " # Add the version byte\n",
    "def add_version_byte(ripemd_160_hash: str) -> str:\n",
    "    return \"00\" + ripemd_160_hash\n",
    "\n",
    "version_byte = add_version_byte(ripemd_160_hash_)\n",
    "print(\"Version byte: \", version_byte)"
   ]
  },
  {
   "cell_type": "markdown",
   "metadata": {},
   "source": [
    "### Step 4. Append Checksum onto the Extended RIPEMD-160 Result\n",
    "\n",
    "This step produces the abinary bitcoin address"
   ]
  },
  {
   "cell_type": "code",
   "execution_count": 7,
   "metadata": {},
   "outputs": [
    {
     "name": "stdout",
     "output_type": "stream",
     "text": [
      "Checksum:  b21b1f86\n",
      "Checksum version byte:  005acee0cdc3f682ef1aaf5d0b387f32270ac4e408b21b1f86\n"
     ]
    }
   ],
   "source": [
    "# Generate a checksum\n",
    "def generate_checksum(version_byte: str) -> str:\n",
    "    return hashlib.sha256(hashlib.sha256(bytes.fromhex(version_byte)).digest()).hexdigest()[:8]\n",
    "\n",
    "checksum = generate_checksum(version_byte)\n",
    "print(\"Checksum: \", checksum)\n",
    "\n",
    "# Add the checksum to the version byte\n",
    "def add_checksum(version_byte: str, checksum: str) -> str:\n",
    "    return version_byte + checksum\n",
    "\n",
    "checksum_version_byte = add_checksum(version_byte, checksum)\n",
    "print(\"Checksum version byte: \", checksum_version_byte)"
   ]
  },
  {
   "cell_type": "markdown",
   "metadata": {},
   "source": [
    "### Step 5. Base58Check the binary address"
   ]
  },
  {
   "cell_type": "code",
   "execution_count": 8,
   "metadata": {},
   "outputs": [
    {
     "name": "stdout",
     "output_type": "stream",
     "text": [
      "Base58 string:  19H9eQmquVivoCEyVBznuHbYKMcBKdyJkd\n",
      "Base58 string with lib:  19H9eQmquVivoCEyVBznuHbYKMcBKdyJkd\n"
     ]
    }
   ],
   "source": [
    "import base58\n",
    "\n",
    "# Convert the checksum version byte to base58\n",
    "def convert_to_base58(checksum_version_byte: str) -> str:\n",
    "    alphabet = \"123456789ABCDEFGHJKLMNPQRSTUVWXYZabcdefghijkmnopqrstuvwxyz\"\n",
    "    base58_string = \"\"\n",
    "    value = int(checksum_version_byte, 16)\n",
    "    while value > 0:\n",
    "        value, mod = divmod(value, 58)\n",
    "        base58_string = alphabet[mod] + base58_string\n",
    "    return '1' + base58_string\n",
    "\n",
    "def convert_to_base58_with_lib(checksum_version_byte: str) -> str:\n",
    "    return base58.b58encode(bytes.fromhex(checksum_version_byte)).decode(\"utf-8\")\n",
    "\n",
    "base58_string = convert_to_base58(checksum_version_byte)\n",
    "print(\"Base58 string: \", base58_string)\n",
    "\n",
    "base58_string_with_lib = convert_to_base58_with_lib(checksum_version_byte)\n",
    "print(\"Base58 string with lib: \", base58_string_with_lib)"
   ]
  },
  {
   "cell_type": "markdown",
   "metadata": {},
   "source": [
    "### Step 6. combine the steps together\n",
    "\n",
    "#### Generate the bitcoin address from the private key"
   ]
  },
  {
   "cell_type": "code",
   "execution_count": 9,
   "metadata": {},
   "outputs": [
    {
     "name": "stdout",
     "output_type": "stream",
     "text": [
      "Bitcoin address:  19H9eQmquVivoCEyVBznuHbYKMcBKdyJkd\n"
     ]
    }
   ],
   "source": [
    "def generate_bitcoin_address(private_key: ecdsa.SigningKey) -> str:\n",
    "    sha256_hash = sha256_hash_private_key(private_key)\n",
    "    ripemd_160_hash_ = ripemd_160_hash(sha256_hash)\n",
    "    version_byte = add_version_byte(ripemd_160_hash_)\n",
    "    checksum = generate_checksum(version_byte)\n",
    "    checksum_version_byte = add_checksum(version_byte, checksum)\n",
    "    base58_string = convert_to_base58(checksum_version_byte)\n",
    "    return base58_string\n",
    "\n",
    "loaded_private_key = load_private_key(pre_private_key)\n",
    "bitcoin_address = generate_bitcoin_address(loaded_private_key)\n",
    "print(\"Bitcoin address: \", bitcoin_address)"
   ]
  },
  {
   "cell_type": "markdown",
   "metadata": {},
   "source": [
    "#### Generate the bitcoin address from the public key"
   ]
  },
  {
   "cell_type": "code",
   "execution_count": 10,
   "metadata": {},
   "outputs": [
    {
     "name": "stdout",
     "output_type": "stream",
     "text": [
      "Bitcoin address from public key:  19H9eQmquVivoCEyVBznuHbYKMcBKdyJkd\n"
     ]
    }
   ],
   "source": [
    "# Generate a bitcoin address from a public key\n",
    "def generate_bitcoin_address_from_public_key(public_key: ecdsa.VerifyingKey) -> str:\n",
    "    sha256_hash = sha256_hash_public_key(public_key)\n",
    "    ripemd_160_hash_ = ripemd_160_hash(sha256_hash)\n",
    "    version_byte = add_version_byte(ripemd_160_hash_)\n",
    "    checksum = generate_checksum(version_byte)\n",
    "    checksum_version_byte = add_checksum(version_byte, checksum)\n",
    "    base58_string = convert_to_base58(checksum_version_byte)\n",
    "    return base58_string\n",
    "\n",
    "loaded_public_key = load_public_key(pre_public_key)\n",
    "bitcoin_address = generate_bitcoin_address_from_public_key(loaded_public_key)\n",
    "print(\"Bitcoin address from public key: \", bitcoin_address)"
   ]
  },
  {
   "cell_type": "markdown",
   "metadata": {},
   "source": [
    "## Verify the bitcoin address"
   ]
  },
  {
   "cell_type": "code",
   "execution_count": 11,
   "metadata": {},
   "outputs": [
    {
     "name": "stdout",
     "output_type": "stream",
     "text": [
      "Bitcoin address is valid: True\n"
     ]
    }
   ],
   "source": [
    "# Step 1: Decode Base58 Bitcoin Address\n",
    "binary_bitcoin_address_check = base58.b58decode(bitcoin_address)\n",
    "\n",
    "# Step 2: Extract Bitcoin Address from decoded Base58 Bitcoin Address\n",
    "binary_bitcoin_address = binary_bitcoin_address_check[:-4]\n",
    "\n",
    "# Step 3: Extract Bitcoin Address Checksum from decoded Base58 Bitcoin Address\n",
    "binary_bitcoin_address_checksum = binary_bitcoin_address_check[-4:]\n",
    "\n",
    "# Step 4: Perform SHA256 hash on the extended RIPEMD-160 result\n",
    "double_sha256 = hashlib.sha256(hashlib.sha256(binary_bitcoin_address).digest()).digest()\n",
    "\n",
    "# Step 5: Take the first 4 bytes of the second SHA256 hash. This is the address checksum\n",
    "address_checksum = double_sha256[:4]\n",
    "\n",
    "# Step 6: Verify that the address checksum from decoded Base58 Bitcoin Address is equal to the address checksum from the SHA256 hash\n",
    "print(\"Bitcoin address is valid:\", binary_bitcoin_address_checksum == address_checksum)"
   ]
  },
  {
   "cell_type": "markdown",
   "metadata": {},
   "source": [
    "# Message Signing"
   ]
  },
  {
   "cell_type": "markdown",
   "metadata": {},
   "source": [
    "## Bitcoin Massage"
   ]
  },
  {
   "cell_type": "markdown",
   "metadata": {},
   "source": [
    "#### Compose the message\n",
    "\n",
    "encode_varint() is a function that encodes an integer into a variable length array of bytes. The encoding is done as follows:\n",
    "\n",
    "* If the integer is less than 0xFD, it is encoded as a single byte.\n",
    "* If the integer is between 0xFD and 0xFFFF, it is encoded as the byte 0xFD followed by the two byte integer.\n",
    "* If the integer is between 0x10000 and 0xFFFFFFFF, it is encoded as the byte 0xFE followed by the four byte integer.\n",
    "* If the integer is greater than 0xFFFFFFFF, it is encoded as the byte 0xFF followed by the eight byte integer."
   ]
  },
  {
   "cell_type": "code",
   "execution_count": 12,
   "metadata": {},
   "outputs": [],
   "source": [
    "def encode_varint(i: int) -> bytes:\n",
    "    \"\"\"\n",
    "    Encode a potentially very large integer into varint bytes. The length should be\n",
    "    specified in little-endian.\n",
    "\n",
    "    https://bitcoin.org/en/developer-reference#compactsize-unsigned-integers\n",
    "    \"\"\"\n",
    "    if i < 253:\n",
    "        return bytes([i])\n",
    "    elif i < 0x10000:\n",
    "        return b\"\\xfd\" + i.to_bytes(2, \"big\")\n",
    "    elif i < 0x100000000:\n",
    "        return b\"\\xfe\" + i.to_bytes(4, \"big\")\n",
    "    elif i < 0x10000000000000000:\n",
    "        return b\"\\xff\" + i.to_bytes(8, \"big\")\n",
    "    else:\n",
    "        raise ValueError(\"Integer is too large: %d\" % i)"
   ]
  },
  {
   "cell_type": "markdown",
   "metadata": {},
   "source": [
    "#### Basic ECDSA Signature"
   ]
  },
  {
   "cell_type": "code",
   "execution_count": 13,
   "metadata": {},
   "outputs": [
    {
     "name": "stdout",
     "output_type": "stream",
     "text": [
      "Signature:  b'\\xdd\\x84nx\\x9cs\\xf5\\xf5\\xdc\\xb6K\\xde\\x9dK\\xc1\\xfec5\\xc7\\xda\\xeb\\x03\\x8b\\xbb\\xb7\\xb5\\xbf\\x81\\xf9\\xdb\\x7fw4\\xca\\xec\\x0c?E\\xe5\\xe3_\\xcd\\xc3\\xdfQ\\x10\\xb6\\x8a@\\n\\xdc\\xc6]5\\x18\\x1dII\\xc9\\xb7`r\\xd43'\n",
      "Signature is valid:  True\n"
     ]
    }
   ],
   "source": [
    "def create_message(msg: str) -> bytes:\n",
    "    msg_size = encode_varint(len(msg))\n",
    "    # message_hash = hashlib.sha256(hashlib.sha256(b'\\x18Bitcoin Signed Message:\\n' + msg_size + msg.encode()).digest()).digest()\n",
    "    message_hash = hashlib.sha256(hashlib.sha256(b'\\x18Bitcoin Signed Message:\\n' + msg_size + msg.encode()).digest()).digest()\n",
    "    return message_hash\n",
    "\n",
    "def sign_message(private_key: ecdsa.SigningKey, msg: str) -> bytes:\n",
    "    message_hash = create_message(msg)\n",
    "    signature = private_key.sign(message_hash)\n",
    "    return signature\n",
    "\n",
    "def verify_message(public_key: ecdsa.VerifyingKey, signature: bytes, msg: str) -> bool:\n",
    "    message_hash = create_message(msg)\n",
    "    return public_key.verify(signature, message_hash)\n",
    "\n",
    "loaded_private_key = load_private_key(pre_private_key)\n",
    "loaded_public_key = load_public_key(pre_public_key)\n",
    "msg = \"Hello World!\"\n",
    "signature = sign_message(loaded_private_key, msg)\n",
    "print(\"Signature: \", signature)\n",
    "\n",
    "print(\"Signature is valid: \", verify_message(loaded_public_key, signature, msg))"
   ]
  },
  {
   "cell_type": "markdown",
   "metadata": {},
   "source": [
    "### Compact Signature"
   ]
  },
  {
   "cell_type": "code",
   "execution_count": 14,
   "metadata": {},
   "outputs": [
    {
     "name": "stdout",
     "output_type": "stream",
     "text": [
      "Signature:  f91e4e1d47ae5509a43f7a93ebf22c0c17cc461fcb75213a5ee197baa52ce771f75ed75935f05ffc26363105a1a4385566abcfa8a34cc1e74e4dea5e4341adf2\n"
     ]
    }
   ],
   "source": [
    "def sign_message_compact(private_key: ecdsa.SigningKey, msg: str) -> bytes:\n",
    "    message_hash = create_message(msg)\n",
    "    signature = private_key.sign_digest(message_hash, sigencode=ecdsa.util.sigencode_string)\n",
    "    return signature\n",
    "\n",
    "def verify_message_compact(public_key: ecdsa.VerifyingKey, signature: bytes, msg: str) -> bool:\n",
    "    message_hash = create_message(msg)\n",
    "    return public_key.verify_digest(signature, message_hash, sigdecode=ecdsa.util.sigdecode_string)\n",
    "\n",
    "signature = sign_message_compact(loaded_private_key, msg)\n",
    "print(\"Signature: \", signature.hex())\n"
   ]
  },
  {
   "cell_type": "markdown",
   "metadata": {},
   "source": [
    "#### Manually calculate a compact signature"
   ]
  },
  {
   "cell_type": "code",
   "execution_count": 15,
   "metadata": {},
   "outputs": [
    {
     "name": "stdout",
     "output_type": "stream",
     "text": [
      "Compact signature: df121a49ead30cd6aca7628477ff116a1b525fdaaa0d081fb743dda0e3a9618ff533a283efdbeabd937ab5a84bd94eca6fded21ce15da38338d513b566606b88\n"
     ]
    }
   ],
   "source": [
    "def calculate_compact_signature(private_key: ecdsa.SigningKey, msg: str) -> bytes:\n",
    "    message_hash = create_message(msg)\n",
    "    signature = private_key.sign_digest(message_hash, sigencode=ecdsa.util.sigencode_string)\n",
    "    r, s = ecdsa.util.sigdecode_string(signature, private_key.curve.order)\n",
    "    r_bytes = r.to_bytes(32, 'big')\n",
    "    s_bytes = s.to_bytes(32, 'big')\n",
    "    compact_signature = r_bytes + s_bytes\n",
    "    return compact_signature\n",
    "\n",
    "compact_signature = calculate_compact_signature(loaded_private_key, msg)\n",
    "\n",
    "print(f\"Compact signature: {binascii.hexlify(compact_signature).decode()}\")"
   ]
  },
  {
   "cell_type": "markdown",
   "metadata": {},
   "source": [
    "#### Extra: Verify the signature"
   ]
  },
  {
   "cell_type": "code",
   "execution_count": 16,
   "metadata": {},
   "outputs": [
    {
     "name": "stdout",
     "output_type": "stream",
     "text": [
      "Bitcoin address from signature:  19H9eQmquVivoCEyVBznuHbYKMcBKdyJkd\n"
     ]
    }
   ],
   "source": [
    "def generate_bitcoin_address_from_signature(public_key: ecdsa.VerifyingKey, signature: bytes, msg: str) -> str:\n",
    "    message_hash = create_message(msg)\n",
    "    # Recover the public key from the signature\n",
    "    recovered_public_keys = ecdsa.VerifyingKey.from_public_key_recovery_with_digest(\n",
    "        signature,\n",
    "        message_hash,\n",
    "        curve=ecdsa.SECP256k1,\n",
    "        hashfunc=hashlib.sha256\n",
    "    )\n",
    "    # Generate the bitcoin address from the recovered public key\n",
    "    for recovered_public_key in recovered_public_keys:\n",
    "        if recovered_public_key.to_string() == public_key.to_string():\n",
    "            return generate_bitcoin_address_from_public_key(recovered_public_key)\n",
    "    raise Exception(\"Bitcoin address could not be generated from signature\")\n",
    "\n",
    "bitcoin_address = generate_bitcoin_address_from_signature(loaded_public_key, compact_signature, msg)\n",
    "print(\"Bitcoin address from signature: \", bitcoin_address)"
   ]
  },
  {
   "cell_type": "markdown",
   "metadata": {},
   "source": [
    "### Recovery Id"
   ]
  },
  {
   "cell_type": "markdown",
   "metadata": {},
   "source": [
    "#### Manually calculate a recovery id"
   ]
  },
  {
   "cell_type": "code",
   "execution_count": 17,
   "metadata": {},
   "outputs": [
    {
     "name": "stdout",
     "output_type": "stream",
     "text": [
      "Recid: 0\n"
     ]
    }
   ],
   "source": [
    "def calculate_recid(signature, message, public_key):\n",
    "    message_hash = create_message(message)\n",
    "    for recid in range(4):\n",
    "        try:\n",
    "            recovered_key = ecdsa.VerifyingKey.from_public_key_recovery_with_digest(\n",
    "                signature, message_hash, curve=ecdsa.SECP256k1, hashfunc=hashlib.sha256\n",
    "            )\n",
    "            for key_ in recovered_key:\n",
    "                if key_.to_string() == public_key.to_string():\n",
    "                    return recid\n",
    "        except ecdsa.keys.MalformedSignature:\n",
    "            continue\n",
    "    raise ValueError(\"Failed to calculate recid\")\n",
    "\n",
    "recid = calculate_recid(compact_signature, msg, loaded_public_key)\n",
    "print(f\"Recid: {recid}\")\n"
   ]
  },
  {
   "cell_type": "markdown",
   "metadata": {},
   "source": [
    "#### Create the compact signature"
   ]
  },
  {
   "cell_type": "code",
   "execution_count": 18,
   "metadata": {},
   "outputs": [
    {
     "name": "stdout",
     "output_type": "stream",
     "text": [
      "Compact signature with recid: 1bdf121a49ead30cd6aca7628477ff116a1b525fdaaa0d081fb743dda0e3a9618ff533a283efdbeabd937ab5a84bd94eca6fded21ce15da38338d513b566606b88\n"
     ]
    }
   ],
   "source": [
    "def prep_signature_for_base64(signature: bytes, recid: int) -> bytes:\n",
    "    # Add 27 to the recid to get the recovery id\n",
    "    recovery_id: int = recid + 27\n",
    "    # Add the recovery id to the compact signature\n",
    "    compact_signature_with_recovery_id = bytes([recovery_id]) + signature\n",
    "    return compact_signature_with_recovery_id\n",
    "\n",
    "compact_signature_with_recid: bytes = prep_signature_for_base64(compact_signature, recid)\n",
    "print(f\"Compact signature with recid: {binascii.hexlify(compact_signature_with_recid).decode()}\")"
   ]
  },
  {
   "cell_type": "markdown",
   "metadata": {},
   "source": [
    "### Base64 Encoding"
   ]
  },
  {
   "cell_type": "code",
   "execution_count": 19,
   "metadata": {},
   "outputs": [
    {
     "name": "stdout",
     "output_type": "stream",
     "text": [
      "Base64 signature:  G98SGknq0wzWrKdihHf/EWobUl/aqg0IH7dD3aDjqWGP9TOig+/b6r2TerWoS9lOym/e0hzhXaODONUTtWZga4g=\n"
     ]
    }
   ],
   "source": [
    "import base64\n",
    "\n",
    "def base64_signature(sig: bytes) -> str:\n",
    "    return base64.b64encode(sig).decode(\"utf-8\")\n",
    "\n",
    "print(\"Base64 signature: \", base64_signature(compact_signature_with_recid))"
   ]
  },
  {
   "cell_type": "markdown",
   "metadata": {},
   "source": [
    "# Python Packages\n"
   ]
  },
  {
   "cell_type": "markdown",
   "metadata": {},
   "source": [
    "\n",
    "## python-bitcoinlib"
   ]
  },
  {
   "cell_type": "code",
   "execution_count": 20,
   "metadata": {
    "vscode": {
     "languageId": "shellscript"
    }
   },
   "outputs": [],
   "source": [
    "# pip install python-bitcoinlib"
   ]
  },
  {
   "cell_type": "markdown",
   "metadata": {},
   "source": [
    "### Import a private key"
   ]
  },
  {
   "cell_type": "code",
   "execution_count": 21,
   "metadata": {},
   "outputs": [
    {
     "name": "stdout",
     "output_type": "stream",
     "text": [
      "Private key: 5JKDBTjxKS9eXydsuhuKVnHnQYPbuvLQfTS3ynzRAtSozqidowQ\n",
      "Private key hex: 41acfff5cb7cac7d947286ebcc44d3a6c10bca38c43ef88b22060fa1426c50ad\n"
     ]
    }
   ],
   "source": [
    "from bitcoin.wallet import CBitcoinSecret\n",
    "\n",
    "\n",
    "pre_private_key = '41acfff5cb7cac7d947286ebcc44d3a6c10bca38c43ef88b22060fa1426c50ad'\n",
    "\n",
    "# Import a private key\n",
    "private_key_ = CBitcoinSecret.from_secret_bytes(bytes.fromhex(pre_private_key), 0)\n",
    "print(f\"Private key: {private_key_}\")\n",
    "print(f\"Private key hex: {private_key_.hex()}\")\n"
   ]
  },
  {
   "cell_type": "markdown",
   "metadata": {},
   "source": [
    "### Derive the public key"
   ]
  },
  {
   "cell_type": "code",
   "execution_count": 22,
   "metadata": {},
   "outputs": [
    {
     "name": "stdout",
     "output_type": "stream",
     "text": [
      "Public key: 04326243d72726f580e0cfcc9870e6b705527aa3622624eb7f4b0170882a2dae50d2ba41eba0716806a86639803d4c3684c9e95264b38c5a14139cd0c85f6449a6\n",
      "Compressed public key? False\n"
     ]
    }
   ],
   "source": [
    "from bitcoin.core.key import CPubKey\n",
    "\n",
    "# Generate a public key\n",
    "cpublic_key_: CPubKey = private_key_.pub\n",
    "print(f\"Public key: {cpublic_key_.hex()}\")\n",
    "\n",
    "# Generate a compressed public key\n",
    "compressed_public_key_: bool = cpublic_key_.is_compressed\n",
    "print(f\"Compressed public key? {compressed_public_key_}\")"
   ]
  },
  {
   "cell_type": "markdown",
   "metadata": {},
   "source": [
    "### Derive the bitcoin address"
   ]
  },
  {
   "cell_type": "code",
   "execution_count": 23,
   "metadata": {},
   "outputs": [
    {
     "name": "stdout",
     "output_type": "stream",
     "text": [
      "Bitcoin address: 19H9eQmquVivoCEyVBznuHbYKMcBKdyJkd\n"
     ]
    }
   ],
   "source": [
    "from bitcoin.wallet import P2PKHBitcoinAddress\n",
    "\n",
    "# Generate a bitcoin address\n",
    "bitcoin_address_ = P2PKHBitcoinAddress.from_pubkey(cpublic_key_)\n",
    "print(f\"Bitcoin address: {bitcoin_address_}\")"
   ]
  },
  {
   "cell_type": "markdown",
   "metadata": {},
   "source": [
    "### Import a bitcoin address"
   ]
  },
  {
   "cell_type": "code",
   "execution_count": 24,
   "metadata": {},
   "outputs": [
    {
     "name": "stdout",
     "output_type": "stream",
     "text": [
      "Bitcoin address: 19H9eQmquVivoCEyVBznuHbYKMcBKdyJkd\n"
     ]
    }
   ],
   "source": [
    "from bitcoin.wallet import CBitcoinAddress\n",
    "\n",
    "# Generate a bitcoin address\n",
    "bitcoin_address__: CBitcoinAddress = CBitcoinAddress(str(bitcoin_address_))\n",
    "print(f\"Bitcoin address: {bitcoin_address__}\")"
   ]
  },
  {
   "cell_type": "markdown",
   "metadata": {},
   "source": [
    "### Derive the public key"
   ]
  },
  {
   "cell_type": "code",
   "execution_count": 25,
   "metadata": {},
   "outputs": [
    {
     "name": "stdout",
     "output_type": "stream",
     "text": [
      "Private key: 5JKDBTjxKS9eXydsuhuKVnHnQYPbuvLQfTS3ynzRAtSozqidowQ\n",
      "Bitcoin address: 19H9eQmquVivoCEyVBznuHbYKMcBKdyJkd\n"
     ]
    }
   ],
   "source": [
    "from bitcoin.wallet import CBitcoinSecret\n",
    "\n",
    "# Import a private key\n",
    "private_key_ = CBitcoinSecret.from_secret_bytes(bytes.fromhex(pre_private_key), 0)\n",
    "print(f\"Private key: {private_key_}\")\n",
    "\n",
    "# Generate a bitcoin address\n",
    "bitcoin_address_ = P2PKHBitcoinAddress.from_pubkey(private_key_.pub)\n",
    "print(f\"Bitcoin address: {bitcoin_address_}\")"
   ]
  },
  {
   "cell_type": "markdown",
   "metadata": {},
   "source": [
    "### Create and Sign a message"
   ]
  },
  {
   "cell_type": "code",
   "execution_count": 26,
   "metadata": {},
   "outputs": [
    {
     "name": "stdout",
     "output_type": "stream",
     "text": [
      "Message: Hello World!\n",
      "Signature: b'HDH6dj1t2rl1tv3Bi8PaTqlpRe3825lpWNh8Mh/ay5blNzq2vcYHDW2CuPOCDo3LAMMG7mqRQAIvc4xBGdZiVhI='\n"
     ]
    }
   ],
   "source": [
    "from bitcoin.wallet import CBitcoinSecret\n",
    "from bitcoin.signmessage import BitcoinMessage, VerifyMessage, SignMessage\n",
    "\n",
    "private_key = CBitcoinSecret.from_secret_bytes(bytes.fromhex(pre_private_key), 0)\n",
    "\n",
    "# Create a message\n",
    "message = BitcoinMessage(\"Hello World!\")\n",
    "print(f\"Message: {message}\")\n",
    "\n",
    "# Sign the message\n",
    "signature = SignMessage(private_key, message)\n",
    "print(f\"Signature: {signature}\")"
   ]
  },
  {
   "cell_type": "markdown",
   "metadata": {},
   "source": [
    "### Verify the Signature"
   ]
  },
  {
   "cell_type": "code",
   "execution_count": 27,
   "metadata": {},
   "outputs": [
    {
     "name": "stdout",
     "output_type": "stream",
     "text": [
      "Verified: True\n"
     ]
    }
   ],
   "source": [
    "bitcoin_address = P2PKHBitcoinAddress.from_pubkey(private_key.pub)\n",
    "\n",
    "# Verify the message\n",
    "verified = VerifyMessage(bitcoin_address, message, signature)\n",
    "print(f\"Verified: {verified}\")"
   ]
  },
  {
   "cell_type": "markdown",
   "metadata": {},
   "source": [
    "#### Create and Verify the signature of a manually created message"
   ]
  },
  {
   "cell_type": "code",
   "execution_count": 28,
   "metadata": {},
   "outputs": [
    {
     "name": "stdout",
     "output_type": "stream",
     "text": [
      "Private key: 41acfff5cb7cac7d947286ebcc44d3a6c10bca38c43ef88b22060fa1426c50ad\n",
      "Message: de4e9524586d6fce45667f9ff12f661e79870c4105fa0fb58af976619bb11432\n",
      "Partial Signature: b'\\xf1J,\\x17BJl\\x90\\xbd\\xc8I\\x89\\xe3?N\\xcf\\x07\\x90*\\x01\\xeeX\\xcd\\xa2)\\x17\\x18\\x05\\xb6\\xe1\\xd6Go\\xed\\x16\\xb3\\x8fC\\xe6\\xc3\\x18\\xf8#\\x87\\xf3x\\xee\\x93|\\xe6cm<\\t\\xfa\\x81S\\x82,\\x11\\x94\\xd9\\x84\\x8e'\n",
      "Recid: 0\n",
      "Compact signature with recid: 1bf14a2c17424a6c90bdc84989e33f4ecf07902a01ee58cda229171805b6e1d6476fed16b38f43e6c318f82387f378ee937ce6636d3c09fa8153822c1194d9848e\n",
      "Signature: G/FKLBdCSmyQvchJieM/Ts8HkCoB7ljNoikXGAW24dZHb+0Ws49D5sMY+COH83juk3zmY208CfqBU4IsEZTZhI4=\n",
      "Bitcoin address: 19H9eQmquVivoCEyVBznuHbYKMcBKdyJkd\n",
      "Verified: True\n"
     ]
    }
   ],
   "source": [
    "from bitcoin.signmessage import VerifyMessage\n",
    "\n",
    "# Load th4e private key\n",
    "private_key = load_private_key(pre_private_key)\n",
    "print(f\"Private key: {private_key.to_string().hex()}\")\n",
    "\n",
    "# Create a message\n",
    "message__: bytes = create_message(\"Hello World!\")\n",
    "print(f\"Message: {message__.hex()}\")\n",
    "\n",
    "# lib defined message\n",
    "message = BitcoinMessage(\"Hello World!\")\n",
    "\n",
    "# Sign the message\n",
    "partial_compact_signature = calculate_compact_signature(private_key, \"Hello World!\")\n",
    "print(f\"Partial Signature: {partial_compact_signature}\")\n",
    "\n",
    "# Calculate the recid\n",
    "recid = calculate_recid(partial_compact_signature, \"Hello World!\", private_key.get_verifying_key())\n",
    "print(f\"Recid: {recid}\")\n",
    "\n",
    "# Prepare the signature for base64\n",
    "compact_signature_with_recid = prep_signature_for_base64(partial_compact_signature, recid)\n",
    "print(f\"Compact signature with recid: {binascii.hexlify(compact_signature_with_recid).decode()}\")\n",
    "\n",
    "# Convert the signature to base64\n",
    "signature = base64_signature(compact_signature_with_recid)\n",
    "print(f\"Signature: {signature}\")\n",
    "\n",
    "# derive the bitcoin address\n",
    "bitcoin_address = generate_bitcoin_address(private_key)\n",
    "print(f\"Bitcoin address: {bitcoin_address}\")\n",
    "\n",
    "# Verify the message\n",
    "verified = VerifyMessage(bitcoin_address, message, signature)\n",
    "print(f\"Verified: {verified}\")"
   ]
  }
 ],
 "metadata": {
  "kernelspec": {
   "display_name": ".venv",
   "language": "python",
   "name": "python3"
  },
  "language_info": {
   "codemirror_mode": {
    "name": "ipython",
    "version": 3
   },
   "file_extension": ".py",
   "mimetype": "text/x-python",
   "name": "python",
   "nbconvert_exporter": "python",
   "pygments_lexer": "ipython3",
   "version": "3.12.0"
  }
 },
 "nbformat": 4,
 "nbformat_minor": 2
}
