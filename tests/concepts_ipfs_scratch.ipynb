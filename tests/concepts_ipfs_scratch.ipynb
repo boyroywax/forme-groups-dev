{
 "cells": [
  {
   "cell_type": "markdown",
   "metadata": {},
   "source": [
    "# IPFS Concepts - SCRATCHPAD"
   ]
  },
  {
   "cell_type": "markdown",
   "metadata": {},
   "source": [
    "## IPFS Service Node\n",
    "\n",
    "A node that is running the IPFS daemon and is connected to the IPFS network. It is able to provide content to other nodes and to retrieve content from other nodes."
   ]
  },
  {
   "cell_type": "code",
   "execution_count": 37,
   "metadata": {
    "vscode": {
     "languageId": "shellscript"
    }
   },
   "outputs": [],
   "source": [
    "# docker compose -f \"tests/ipfs/docker-compose.yml\" up -d --build"
   ]
  },
  {
   "cell_type": "markdown",
   "metadata": {},
   "source": [
    "### Default Server Address"
   ]
  },
  {
   "cell_type": "code",
   "execution_count": 38,
   "metadata": {},
   "outputs": [],
   "source": [
    "__IPFS_DEFAULT_URL__ = '/ip4/127.0.0.1/tcp/5001'"
   ]
  },
  {
   "cell_type": "markdown",
   "metadata": {},
   "source": [
    "## IPFS-Toolkit"
   ]
  },
  {
   "cell_type": "code",
   "execution_count": 39,
   "metadata": {
    "vscode": {
     "languageId": "shellscript"
    }
   },
   "outputs": [],
   "source": [
    "# pip install IPFS-Toolkit"
   ]
  },
  {
   "cell_type": "markdown",
   "metadata": {},
   "source": [
    "### Connect"
   ]
  },
  {
   "cell_type": "code",
   "execution_count": 40,
   "metadata": {},
   "outputs": [],
   "source": [
    "import ipfs_api\n",
    "\n",
    "# Connect to the IPFS daemon\n",
    "def connect():\n",
    "    client = ipfs_api.ipfshttpclient\n",
    "    return client.connect(__IPFS_DEFAULT_URL__)"
   ]
  },
  {
   "cell_type": "markdown",
   "metadata": {},
   "source": [
    "#### Check Connection"
   ]
  },
  {
   "cell_type": "code",
   "execution_count": 41,
   "metadata": {},
   "outputs": [
    {
     "name": "stdout",
     "output_type": "stream",
     "text": [
      "Client ID:  <ipfshttpclient2.client.base.ResponseBase: {'ID': '12D3KooWNTinNPaFXPyoo2wGcrjFC4uekMgDM5pFY46zwxxgL8HA', 'PublicKey': 'CAESILveCqhrvYi7xfZkCFoytPVThX++ztHAh85jBT3xQ0Et', 'Addresses': ['/ip4/127.0.0.1/tcp/4001/p2p/12D3KooWNTinNPaFXPyoo2wGcrjFC4uekMgDM5pFY46zwxxgL8HA', '/ip4/127.0.0.1/udp/4001/quic-v1/p2p/12D3KooWNTinNPaFXPyoo2wGcrjFC4uekMgDM5pFY46zwxxgL8HA', '/ip4/127.0.0.1/udp/4001/quic-v1/webtransport/certhash/uEiAsG_OZi39bk9tp4XO6luYhWxo_vmHB30yD1HFNsCV1hg/certhash/uEiBU9zqLAAbnHBe6T6br9Bg29WLOe4hW0nsQrOBKeoPadA/p2p/12D3KooWNTinNPaFXPyoo2wGcrjFC4uekMgDM5pFY46zwxxgL8HA', '/ip4/144.202.90.11/tcp/4001/p2p/12D3KooWBvuV5RKq8WqhGhWTm25uJwyjBp8RV14sJQ9JwPiTu1KX/p2p-circuit/p2p/12D3KooWNTinNPaFXPyoo2wGcrjFC4uekMgDM5pFY46zwxxgL8HA', '/ip4/144.202.90.11/udp/4001/quic-v1/p2p/12D3KooWBvuV5RKq8WqhGhWTm25uJwyjBp8RV14sJQ9JwPiTu1KX/p2p-circuit/p2p/12D3KooWNTinNPaFXPyoo2wGcrjFC4uekMgDM5pFY46zwxxgL8HA', '/ip4/144.202.90.11/udp/4001/quic/p2p/12D3KooWBvuV5RKq8WqhGhWTm25uJwyjBp8RV14sJQ9JwPiTu1KX/p2p-circuit/p2p/12D3KooWNTinNPaFXPyoo2wGcrjFC4uekMgDM5pFY46zwxxgL8HA', '/ip4/172.21.0.2/tcp/4001/p2p/12D3KooWNTinNPaFXPyoo2wGcrjFC4uekMgDM5pFY46zwxxgL8HA', '/ip4/172.21.0.2/udp/4001/quic-v1/p2p/12D3KooWNTinNPaFXPyoo2wGcrjFC4uekMgDM5pFY46zwxxgL8HA', '/ip4/172.21.0.2/udp/4001/quic-v1/webtransport/certhash/uEiAsG_OZi39bk9tp4XO6luYhWxo_vmHB30yD1HFNsCV1hg/certhash/uEiBU9zqLAAbnHBe6T6br9Bg29WLOe4hW0nsQrOBKeoPadA/p2p/12D3KooWNTinNPaFXPyoo2wGcrjFC4uekMgDM5pFY46zwxxgL8HA', '/ip4/217.76.54.80/udp/4001/quic-v1/p2p/12D3KooWJEYdF8Dj3TriqxdhvhgwN28JAMQSbvU1CUjyY9Qtuvih/p2p-circuit/p2p/12D3KooWNTinNPaFXPyoo2wGcrjFC4uekMgDM5pFY46zwxxgL8HA', '/ip4/217.76.54.80/udp/4001/quic-v1/webtransport/certhash/uEiDezXc0Zp2Hupm9jwGGk1CMwVPLlvMo4Exyrv-XK2XVTA/certhash/uEiDadBw27nylqY9KnC1uX4oixlLeTms_wAf-0j3V4ZvQFg/p2p/12D3KooWJEYdF8Dj3TriqxdhvhgwN28JAMQSbvU1CUjyY9Qtuvih/p2p-circuit/p2p/12D3KooWNTinNPaFXPyoo2wGcrjFC4uekMgDM5pFY46zwxxgL8HA', '/ip4/217.76.54.80/udp/4001/quic/p2p/12D3KooWJEYdF8Dj3TriqxdhvhgwN28JAMQSbvU1CUjyY9Qtuvih/p2p-circuit/p2p/12D3KooWNTinNPaFXPyoo2wGcrjFC4uekMgDM5pFY46zwxxgL8HA'], 'AgentVersion': 'kubo/0.23.0/3a1a041/docker', 'Protocols': ['/ipfs/bitswap', '/ipfs/bitswap/1.0.0', '/ipfs/bitswap/1.1.0', '/ipfs/bitswap/1.2.0', '/ipfs/id/1.0.0', '/ipfs/id/push/1.0.0', '/ipfs/lan/kad/1.0.0', '/ipfs/ping/1.0.0', '/libp2p/circuit/relay/0.2.0/stop', '/libp2p/dcutr', '/x/']}>\n",
      "Client Version:  <ipfshttpclient2.client.base.ResponseBase: {'Version': '0.23.0', 'Commit': '3a1a041', 'Repo': '15', 'System': 'amd64/linux', 'Golang': 'go1.21.1'}>\n"
     ]
    }
   ],
   "source": [
    "def print_status():\n",
    "    ipfs = connect()\n",
    "    print('Client ID: ', ipfs.id())\n",
    "    print('Client Version: ', ipfs.version())\n",
    "\n",
    "print_status()"
   ]
  },
  {
   "cell_type": "markdown",
   "metadata": {},
   "source": [
    "### Publish"
   ]
  },
  {
   "cell_type": "markdown",
   "metadata": {},
   "source": [
    "#### Strings"
   ]
  },
  {
   "cell_type": "code",
   "execution_count": 42,
   "metadata": {},
   "outputs": [
    {
     "name": "stdout",
     "output_type": "stream",
     "text": [
      "Qmf1rtki74jvYmGeqaaV51hzeiaa6DyWc98fzDiuPatzyy\n"
     ]
    }
   ],
   "source": [
    "def add_str(string: str):\n",
    "    with connect() as c:\n",
    "        return c.add_str(string)\n",
    "\n",
    "returned_hash = add_str(u'Hello World!')\n",
    "print(returned_hash)"
   ]
  },
  {
   "cell_type": "markdown",
   "metadata": {},
   "source": [
    "#### Bytes"
   ]
  },
  {
   "cell_type": "code",
   "execution_count": 43,
   "metadata": {},
   "outputs": [
    {
     "name": "stdout",
     "output_type": "stream",
     "text": [
      "{'_version': 1, '_codec': 'dag-pb', '_multihash': b'\\x12 \\xf7\\xc6k\\x1c\\x005\\xd5-\\\\\\x15\\xbe\\x7f\\x07\\xe8F\\xe43\\xcc\\xa9g\\x18n\\x16\\xc31mYW\\xc5*\\x944'}\n",
      "zdj7Wn77GBmxYDXRUaaaKY6wPYZGvn1omPeUTYCf27aD2Tu9u\n"
     ]
    }
   ],
   "source": [
    "from cid import make_cid\n",
    "\n",
    "def add_bytes(data: bytes):\n",
    "    with connect() as c:\n",
    "        return c.add_bytes(data)\n",
    "    \n",
    "returned_hash = add_bytes(b'Hello World!')\n",
    "\n",
    "# convert to CIDv1\n",
    "returned_hash = make_cid(returned_hash).to_v1()\n",
    "\n",
    "print(returned_hash.__dict__)\n",
    "\n",
    "print(returned_hash)"
   ]
  },
  {
   "cell_type": "markdown",
   "metadata": {},
   "source": [
    "#### JSON"
   ]
  },
  {
   "cell_type": "code",
   "execution_count": 44,
   "metadata": {},
   "outputs": [
    {
     "name": "stdout",
     "output_type": "stream",
     "text": [
      "zdj7WVwV64Uhe5ZpkZvh7qm6UgHrRmJcUR6Lp6amyvRtX8opi\n"
     ]
    }
   ],
   "source": [
    "from cid import CIDv0, CIDv1, make_cid\n",
    "\n",
    "def add_json(json: dict):\n",
    "    with connect() as c:\n",
    "        return c.add_json(json)\n",
    "    \n",
    "returned_hash = add_json({'hello': 'world'})\n",
    "\n",
    "# convert to CIDv1\n",
    "returned_hash = make_cid(returned_hash).to_v1()\n",
    "\n",
    "print(returned_hash)"
   ]
  },
  {
   "cell_type": "markdown",
   "metadata": {},
   "source": [
    "#### Files"
   ]
  },
  {
   "cell_type": "code",
   "execution_count": 45,
   "metadata": {},
   "outputs": [
    {
     "name": "stdout",
     "output_type": "stream",
     "text": [
      "QmUJarh6GuMaNgpkvkC1CoRk8qDk6J39CopoYi9fVdSEiv\n",
      "<ipfshttpclient2.client.base.ResponseBase: {'Name': 'concepts_cid_test.json', 'Hash': 'QmUJarh6GuMaNgpkvkC1CoRk8qDk6J39CopoYi9fVdSEiv', 'Size': '349'}>\n",
      "zdj7WbPqE8A8NqBFQ8gfV9d5BGJm3RBoqTH58ELDWYLK518tr\n"
     ]
    }
   ],
   "source": [
    "def add_file(path: str):\n",
    "    with connect() as c:\n",
    "        return c.add(path)\n",
    "    \n",
    "returned_hash = add_file('concepts_cid_test.json')\n",
    "print(returned_hash['Hash'])\n",
    "\n",
    "print(returned_hash)\n",
    "cidv1 = make_cid(returned_hash['Hash']).to_v1()\n",
    "print(cidv1)"
   ]
  },
  {
   "cell_type": "markdown",
   "metadata": {},
   "source": [
    "## Hash calculation"
   ]
  },
  {
   "cell_type": "code",
   "execution_count": 46,
   "metadata": {
    "vscode": {
     "languageId": "shellscript"
    }
   },
   "outputs": [],
   "source": [
    "# pip install pycroptodome\n",
    "# pip install py-cid\n",
    "# pip install merkly"
   ]
  },
  {
   "cell_type": "code",
   "execution_count": 47,
   "metadata": {},
   "outputs": [
    {
     "name": "stdout",
     "output_type": "stream",
     "text": [
      "root_hashed_256: {'Content-Disposition': 'form-data; name=\"file\"; filename=\"bytes\"', 'Content-Type': 'multipart/form-data; boundary=\"f58a35bf4148471c9a4c6f7fb3c2e358\"'}\n",
      "mh: b'\\x12 \\x86\\x805\\xdc\\xc6M\\xc9\\xddd8c\\xaf%a\\x0b\\xae@\\\\\\xfa\\xe7l\\xb1\\x85\\x83\\xc7=Y=\\xe1\\tZg'\n",
      "mh_root: b'\\x12 \\x86\\x805\\xdc\\xc6M\\xc9\\xddd8c\\xaf%a\\x0b\\xae@\\\\\\xfa\\xe7l\\xb1\\x85\\x83\\xc7=Y=\\xe1\\tZg'\n",
      "CIDv0: QmXPgjMDoCBxB1tECdoUxwMhhckhjgtDNedpaZswrjZWt6\n",
      "CIDv0_2: zdj7WeUw6nHeffZ3jC9wNm6qKCGKpx9TEJMEy3MFNGcgB8R42\n",
      "hash from mt: zdj7WeUw6nHeffZ3jC9wNm6qKCGKpx9TEJMEy3MFNGcgB8R42\n",
      "hash from ipfs add function: QmUJarh6GuMaNgpkvkC1CoRk8qDk6J39CopoYi9fVdSEiv\n"
     ]
    }
   ],
   "source": [
    "import io\n",
    "import base58\n",
    "import json\n",
    "# import BytesIO\n",
    "from typing import Callable, Iterable\n",
    "from cid import CIDv1, make_cid, CIDv0\n",
    "# from multiformats_cid import make_cid, CIDv0, CIDv1, cid\n",
    "# from Crypto.Hash import SHA256\n",
    "import hashlib\n",
    "from merkly.mtree import MerkleTree\n",
    "import multihash\n",
    "import codecs\n",
    "import ipfs_api\n",
    "import multibase\n",
    "\n",
    "multipart = ipfs_api.ipfshttpclient.client.multipart\n",
    "\n",
    "def as_chunks(stream: io.BytesIO, chunk_size: int) -> Iterable[bytes]:\n",
    "    while len(chunk := stream.read(chunk_size)) > 0:\n",
    "        yield chunk\n",
    "\n",
    "def chunk_to_leaf(chunk: bytes) -> bytes:\n",
    "    return hashlib.sha256(chunk).digest()\n",
    "\n",
    "def data_to_tree(data: bytes, chunk_size: int) -> list[str]:\n",
    "    # Create a buffer to hold the tree\n",
    "    tree: list[bytes] = []\n",
    "\n",
    "    # Iterate over the chunks\n",
    "    for chunk in as_chunks(io.BytesIO(data), chunk_size):\n",
    "        # Calculate the leaf hash\n",
    "        tree.append(chunk_to_leaf(chunk))\n",
    "        # print(tree)\n",
    "\n",
    "    # Return the tree\n",
    "    return tree\n",
    "\n",
    "def tree_to_root(tree: list[str]) -> str:\n",
    "    sha256_hash_funciton: Callable[[str], str] = lambda x, y: str(hashlib.sha256(x.encode() + y.encode()).hexdigest())\n",
    "\n",
    "    # Calculate the root hash\n",
    "    mt = MerkleTree(tree, sha256_hash_funciton)\n",
    "    root = mt.root\n",
    "    print(f'raw_root: {root}')\n",
    "    # root = codecs.decode(root, 'hex')\n",
    "    # print('root:', root.hex())\n",
    "    return root\n",
    "\n",
    "def calculate_ipfs_hash(data: bytes):\n",
    "    # Calculate the SHA256 hash of the data\n",
    "    sha256_hash = hashlib.sha256(data).digest()\n",
    "\n",
    "    # Create a multihash for the SHA256 hash\n",
    "    # Multihash format: <hash function code><digest size><digest>\n",
    "    # SHA2-256 function code is 0x12, digest size is 0x20 (32 in decimal)\n",
    "    mh = b'\\x12\\x20' + sha256_hash\n",
    "\n",
    "    # Create a CIDv0\n",
    "    # cidv0: CIDv0 = CIDv0(mh)\n",
    "\n",
    "    # return cidv0\n",
    "\n",
    "    # Create a CIDv0 for the multihash\n",
    "    c_old: CIDv0 = make_cid(base58.b58encode(mh))\n",
    "    print('CIDv0:', c_old)\n",
    "    print(f'CIDv0 to CIDv1: {c_old.to_v1()}')\n",
    "\n",
    "    c: CIDv1 = make_cid(1, 'dag-pb', mh)\n",
    "    # c.buffer = c.encode()\n",
    "\n",
    "    return str(c)\n",
    "\n",
    "def calculate_cid_from_tree(data: bytes, chunk_size: int | None = 256 * 1024) -> str:\n",
    "    # Calculate the tree\n",
    "    # tree = data_to_tree(data, chunk_size)\n",
    "\n",
    "    multipart_encoder = multipart.stream_bytes(data, chunk_size=chunk_size)\n",
    "\n",
    "    # Calculate the root hash\n",
    "    # root = tree_to_root(tree)\n",
    "    # print('root:', root)\n",
    "    # root_hashed_256 = hashlib.sha256(root.encode()).digest()\n",
    "    print(f'root_hashed_256: {multipart_encoder[1]}')\n",
    "    root_hashed_256 = json.dumps(multipart_encoder[1]).encode()\n",
    "    # print(f'root_hashed_256: {root_hashed_256.hex()}')\n",
    "\n",
    "    root_hashed_256 = hashlib.sha256(root_hashed_256).digest()\n",
    "    mh = multihash.encode(root_hashed_256, 'sha2-256')\n",
    "    print('mh:', mh)\n",
    "\n",
    "    # Create a CIDv0 for the root hash\n",
    "    # mh_root = b'\\x12\\x20' + codecs.decode(root, 'hex')\n",
    "    # mh_root = b'\\x12\\x20' + codecs.decode(root, 'hex')\n",
    "    mh_root = b'\\x12\\x20' + root_hashed_256\n",
    "    print('mh_root:', mh_root)\n",
    "    c_old: CIDv0 = make_cid(base58.b58encode(mh_root))\n",
    "    print('CIDv0:', c_old)\n",
    "\n",
    "    # Create a CIDv1 for the root hash\n",
    "    cidv0_2: CIDv1= make_cid(1, 'dag-pb', mh_root)\n",
    "    print('CIDv0_2:', cidv0_2)\n",
    "    # print('CIDv0_2:', cidv0_2.to_v1())\n",
    "\n",
    "    # Return the CIDv0\n",
    "    return cidv0_2\n",
    "\n",
    "# Read the file data\n",
    "with open('concepts_cid_test.json', 'rb') as f:\n",
    "    data = f.read()\n",
    "\n",
    "# Calculate the IPFS hash\n",
    "# ipfs_hash = calculate_ipfs_hash(data)\n",
    "print(f'hash from mt: {calculate_cid_from_tree(data)}')\n",
    "print(f'hash from ipfs add function: {returned_hash[\"Hash\"]}')\n",
    "# print(f'cidv1: {calculate_cid_from_tree(data).to_v1()}')\n",
    "\n",
    "# print('IPFS Hash:', ipfs_hash)"
   ]
  },
  {
   "cell_type": "markdown",
   "metadata": {},
   "source": []
  },
  {
   "cell_type": "markdown",
   "metadata": {},
   "source": [
    "#### Create IPLD object"
   ]
  },
  {
   "cell_type": "code",
   "execution_count": 48,
   "metadata": {},
   "outputs": [
    {
     "name": "stdout",
     "output_type": "stream",
     "text": [
      "obj1 CID: zdj7We1fKtuSjWA1zhER12jc7mydHG43F22AyC8eLrBaBF9Da\n"
     ]
    }
   ],
   "source": [
    "import multihash\n",
    "import cid\n",
    "\n",
    "class IPLDObject:\n",
    "    def __init__(self, data: bytes):\n",
    "        self.data: bytes = data\n",
    "        self.links = {}\n",
    "\n",
    "    def add_link(self, name, other):\n",
    "        self.links[name] = other.cid()\n",
    "\n",
    "    \n",
    "\n",
    "    def cid(self):\n",
    "        # Calculate the multihash of the data\n",
    "        mh = multihash.encode(hashlib.sha256(self.data).digest(), 'sha2-256')\n",
    "\n",
    "        # Create a CID for the multihash\n",
    "        return cid.make_cid(0, 'dag-pb', mh).encode()\n",
    "\n",
    "    def serialize(self):\n",
    "        # Serialize the data and links\n",
    "        return {\n",
    "            'data': self.data,\n",
    "            'links': [{name: cid for name, cid in self.links.items()}],\n",
    "        }\n",
    "\n",
    "    @staticmethod\n",
    "    def deserialize(serialized):\n",
    "        # Deserialize the data and links\n",
    "        obj = IPLDObject(serialized['data'])\n",
    "        obj.links = serialized['links']\n",
    "        return obj\n",
    "        \n",
    "# Create the objects\n",
    "obj1 = IPLDObject(b'Hello World!')\n",
    "obj2 = IPLDObject(b'Hello IPFS!')\n",
    "\n",
    "# Link the objects\n",
    "# obj1.add_link('next', obj2)\n",
    "# obj2.add_link('prev', obj1)\n",
    "\n",
    "# Serialize the objects\n",
    "serialized = obj1.serialize()\n",
    "serialized_two = obj2.serialize()\n",
    "\n",
    "# Deserialize the objects\n",
    "# obj1 = IPLDObject.deserialize(serialized)\n",
    "# obj2 = IPLDObject.deserialize(serialized['links']['next'])\n",
    "\n",
    "# convert to CIDv1\n",
    "obj1 = make_cid(obj1.cid()).to_v1()\n",
    "\n",
    "# Print the CIDs\n",
    "print('obj1 CID:', obj1)\n",
    "# print('obj2 CID:', obj2.cid())\n",
    "\n",
    "# Print the links\n",
    "# print('obj1 links:', obj1.links)\n",
    "# print('obj2 links:', obj2.links)\n"
   ]
  },
  {
   "cell_type": "code",
   "execution_count": 49,
   "metadata": {},
   "outputs": [
    {
     "name": "stdout",
     "output_type": "stream",
     "text": [
      "serialized: b'\\xa2ddataLHello World!elinks\\xa0'\n",
      "encoded: b'\\xa2ddataLHello World!elinks\\xa0'\n",
      "obj1 CID: b'zdpuAwHj7GmEXwDjMT34HzPWrDec9qZSWFofHUi4FAzeJDUNJ'\n"
     ]
    }
   ],
   "source": [
    "import cbor2\n",
    "\n",
    "class IPLDObject:\n",
    "    def __init__(self, data):\n",
    "        self.data = data\n",
    "        self.links = {}\n",
    "\n",
    "    def add_link(self, name, other):\n",
    "        self.links[name] = other.cid()\n",
    "\n",
    "    def cid(self, version=1):\n",
    "        # Encode the data and links in CBOR\n",
    "        encoded = cbor2.dumps({'data': self.data, 'links': self.links})\n",
    "        print('encoded:', encoded)\n",
    "\n",
    "        # Calculate the multihash of the encoded data\n",
    "        mh = multihash.encode(hashlib.sha256(encoded).digest(), 'sha2-256')\n",
    "        # mh = multihash.encode(encoded, 'sha2-256')\n",
    "\n",
    "        if version == 1:\n",
    "        # Create a CIDv1 for the multihash\n",
    "            return cid.make_cid(1, 'dag-cbor', mh).encode()\n",
    "        else:\n",
    "            print('CIDv0 cannot be created from CIDv1 with cbor encoding')\n",
    "\n",
    "    def serialize(self) -> bytes:\n",
    "        # Serialize the data and links\n",
    "        return cbor2.dumps({'data': self.data, 'links': self.links})\n",
    "\n",
    "    @staticmethod\n",
    "    def deserialize(serialized):\n",
    "        # Deserialize the data and links\n",
    "        obj = IPLDObject(cbor2.loads(serialized)['data'])\n",
    "        obj.links = cbor2.loads(serialized)['links']\n",
    "        return obj\n",
    "    \n",
    "# Create the objects\n",
    "obj1 = IPLDObject(b'Hello World!')\n",
    "# obj2 = IPLDObject(b'Hello IPFS!')\n",
    "\n",
    "# Link the objects\n",
    "# obj1.add_link('next', obj2)\n",
    "# obj2.add_link('prev', obj1)\n",
    "\n",
    "# Serialize the objects\n",
    "serialized = obj1.serialize()\n",
    "# serialized_two = obj2.serialize()\n",
    "print('serialized:', serialized)\n",
    "\n",
    "# Deserialize the objects\n",
    "obj1 = IPLDObject.deserialize(serialized)\n",
    "# obj2 = IPLDObject.deserialize(serialized_two)\n",
    "\n",
    "# Print the CIDs\n",
    "print('obj1 CID:', obj1.cid())\n",
    "# print('obj2 CID:', obj2.cid())"
   ]
  },
  {
   "cell_type": "code",
   "execution_count": 50,
   "metadata": {},
   "outputs": [
    {
     "name": "stdout",
     "output_type": "stream",
     "text": [
      "encoded: b'{\"data\": \"Hello World!\", \"links\": {}}'\n",
      "obj1 CID: z4EBG9j6p5ReZnuDBNmJ8a6imnkxz7CFwkhtTaoBjeAX6B2SiAW\n",
      "encoded: b'{\"data\": \"Hello IPFS!\", \"links\": {}}'\n",
      "obj2 CID: z4EBG9j8KgufqvLDcw6UukLChJKffi5f49KFk6LUjFs1kuDfurp\n"
     ]
    }
   ],
   "source": [
    "import json\n",
    "import multihash\n",
    "import cid\n",
    "\n",
    "class IPLDObject:\n",
    "    def __init__(self, data):\n",
    "        self.data = data\n",
    "        self.links = {}\n",
    "\n",
    "    def add_link(self, name, other):\n",
    "        self.links[name] = other.cid()\n",
    "\n",
    "    def cid(self):\n",
    "        # Encode the data and links in JSON\n",
    "        encoded = json.dumps({'data': self.data, 'links': self.links}).encode('utf-8')\n",
    "        print('encoded:', encoded)\n",
    "\n",
    "        # Calculate the multihash of the encoded data\n",
    "        mh = multihash.encode(hashlib.sha256(encoded).digest(), 'sha2-256')\n",
    "\n",
    "        # Create a CIDv1 for the multihash\n",
    "        return cid.make_cid(1, 'dag-json', mh)\n",
    "\n",
    "    def serialize(self) -> str:\n",
    "        # Serialize the data and links\n",
    "        return json.dumps({'data': self.data, 'links': self.links})\n",
    "\n",
    "    @staticmethod\n",
    "    def deserialize(serialized):\n",
    "        # Deserialize the data and links\n",
    "        obj_dict = json.loads(serialized)\n",
    "        obj = IPLDObject(obj_dict['data'])\n",
    "        obj.links = obj_dict['links']\n",
    "        return obj\n",
    "\n",
    "# Create the objects\n",
    "obj1 = IPLDObject('Hello World!')\n",
    "obj2 = IPLDObject('Hello IPFS!')\n",
    "\n",
    "# Link the objects\n",
    "# obj1.add_link('next', obj2)\n",
    "# obj2.add_link('prev', obj1)\n",
    "\n",
    "# Serialize the objects\n",
    "serialized = obj1.serialize()\n",
    "serialized_two = obj2.serialize()\n",
    "\n",
    "# Deserialize the objects\n",
    "obj1 = IPLDObject.deserialize(serialized)\n",
    "obj2 = IPLDObject.deserialize(serialized_two)\n",
    "\n",
    "# Print the CIDs\n",
    "print('obj1 CID:', obj1.cid())\n",
    "print('obj2 CID:', obj2.cid())\n"
   ]
  },
  {
   "cell_type": "code",
   "execution_count": 51,
   "metadata": {},
   "outputs": [
    {
     "name": "stdout",
     "output_type": "stream",
     "text": [
      "z4EBG9j6YnWGhq3XEDXD1Ji8CJND3bY4NvrCo1qwPeqCfrxPuzx\n"
     ]
    }
   ],
   "source": [
    "# import cbor2\n",
    "import hashlib\n",
    "from multihash import encode as multihash_encode\n",
    "from cid import make_cid\n",
    "\n",
    "# Your data\n",
    "data = {'hello': 'world'}\n",
    "\n",
    "# Serialize the data using DAG-CBOR\n",
    "serialized = json.dumps(data).encode('utf-8')\n",
    "\n",
    "# Hash the serialized data using SHA-256\n",
    "hashed = hashlib.sha256(serialized).digest()\n",
    "\n",
    "# Encode the hash as a multihash\n",
    "mh = multihash_encode(hashed, 'sha2-256')\n",
    "\n",
    "# Encode the multihash as a CIDv1 with the DAG-CBOR codec\n",
    "cid_ = make_cid(1, 'dag-json', mh)\n",
    "\n",
    "print(cid_)\n",
    "\n"
   ]
  },
  {
   "cell_type": "code",
   "execution_count": 52,
   "metadata": {},
   "outputs": [
    {
     "name": "stdout",
     "output_type": "stream",
     "text": [
      "mh: Multihash(code=18, name='sha2-256', length=32, digest=b'_\\x8f\\x04\\xf6\\xa3\\xa8\\x92\\xaa\\xab\\xbd\\xdbl\\xf2s\\x89D\\x93w9`\\xd4\\xa3%\\xb1\\x05\\xfe\\xe4n\\xefC\\x04\\xf1')\n",
      "hash_function: sha2-256\n",
      "original_hash:  5f8f04f6a3a892aaabbddb6cf273894493773960d4a325b105fee46eef4304f1\n"
     ]
    }
   ],
   "source": [
    "import cid\n",
    "import cbor2\n",
    "from multihash import decode as multihash_decode\n",
    "\n",
    "# # Your CID\n",
    "# cid_str = cid_.buffer.hex()\n",
    "\n",
    "# # Create a CID object\n",
    "# cid__ = cid.CIDv1('json', cid_str)\n",
    "# print('cid:', cid__)\n",
    "\n",
    "# Decode the multihash\n",
    "mh = multihash_decode(cid_.multihash)\n",
    "print('mh:', mh)\n",
    "\n",
    "# Hash function used (e.g., 'sha2-256')\n",
    "hash_function = mh.name\n",
    "print('hash_function:', hash_function)\n",
    "\n",
    "# Original hash (as bytes)\n",
    "original_hash = mh.digest\n",
    "print('original_hash: ', original_hash.hex())\n",
    "\n",
    "\n",
    "# If you have the original serialized data, you can deserialize it\n",
    "# For example, if the data was serialized using DAG-CBOR:\n",
    "# serialized_data = ...\n",
    "# data = cbor2.loads(serialized_data)"
   ]
  },
  {
   "cell_type": "markdown",
   "metadata": {},
   "source": [
    "### IPLD"
   ]
  },
  {
   "cell_type": "code",
   "execution_count": 53,
   "metadata": {
    "vscode": {
     "languageId": "shellscript"
    }
   },
   "outputs": [],
   "source": [
    "# pip install ipld - Not working on Python 3.12.0"
   ]
  },
  {
   "cell_type": "code",
   "execution_count": 54,
   "metadata": {},
   "outputs": [],
   "source": [
    "# from ipld import Ipld, Link\n",
    "\n",
    "# # Create a node\n",
    "# node = Ipld()\n",
    "\n",
    "# # Add data to the node\n",
    "# node['data'] = b'Hello, world!'\n",
    "\n",
    "# # Create a link to another node\n",
    "# link = Link('/ipfs/QmT78zSuBmuS4z925WZfrqQ1qHaJ56DQaTfyMUF7F8ff5o')\n",
    "# node['link'] = link\n",
    "\n",
    "# # Serialize the node\n",
    "# serialized_node = node.serialize()\n",
    "\n",
    "# # Calculate the CID of the node\n",
    "# cid = node.cid()\n",
    "\n",
    "# print('CID:', cid)"
   ]
  }
 ],
 "metadata": {
  "kernelspec": {
   "display_name": ".venv",
   "language": "python",
   "name": "python3"
  },
  "language_info": {
   "codemirror_mode": {
    "name": "ipython",
    "version": 3
   },
   "file_extension": ".py",
   "mimetype": "text/x-python",
   "name": "python",
   "nbconvert_exporter": "python",
   "pygments_lexer": "ipython3",
   "version": "3.12.0"
  }
 },
 "nbformat": 4,
 "nbformat_minor": 2
}
