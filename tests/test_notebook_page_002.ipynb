{
 "cells": [
  {
   "cell_type": "markdown",
   "metadata": {},
   "source": [
    "# II. Base Containers"
   ]
  },
  {
   "cell_type": "code",
   "execution_count": 1,
   "metadata": {},
   "outputs": [],
   "source": [
    "import sys\n",
    "\n",
    "sys.path.append(\"../../forme-groups-python-3-12/\")"
   ]
  },
  {
   "cell_type": "markdown",
   "metadata": {},
   "source": [
    "## 1. Create a Base Container"
   ]
  },
  {
   "cell_type": "code",
   "execution_count": 2,
   "metadata": {},
   "outputs": [
    {
     "name": "stdout",
     "output_type": "stream",
     "text": [
      "Representation: BaseContainer(items=(BaseValue(value='hello', type=str), BaseValue(value='world', type=str)), type=dict)\n",
      "String: {'hello': 'world'}\n"
     ]
    }
   ],
   "source": [
    "from src.groups.base.container import BaseContainer\n",
    "\n",
    "container_hello = BaseContainer({\"hello\": \"world\"}, \"dictionary\")\n",
    "print(f'Representation: {repr(container_hello)}')\n",
    "print(f'String: {container_hello}')"
   ]
  },
  {
   "cell_type": "markdown",
   "metadata": {},
   "source": [
    "Note: Base Containers are immutable. You cannot change the base container once it is created."
   ]
  },
  {
   "cell_type": "code",
   "execution_count": 3,
   "metadata": {},
   "outputs": [
    {
     "name": "stdout",
     "output_type": "stream",
     "text": [
      "Error: can't set attribute\n"
     ]
    }
   ],
   "source": [
    "from attrs.exceptions import FrozenInstanceError\n",
    "\n",
    "# Check that the value is frozen\n",
    "try:\n",
    "    container_hello._items = 'world2'\n",
    "except FrozenInstanceError as e:\n",
    "    print(f'Error: {e.msg}')"
   ]
  },
  {
   "cell_type": "markdown",
   "metadata": {},
   "source": [
    "## 2. Base Container Types\n",
    "\n",
    "Base Containers support the following types:\n",
    "- **Dictionary** - A dictionary of key-value pairs.\n",
    "- **List** - A list of values.\n",
    "- **Tuple** - A tuple of values.  An immutable list.  Item order is preserved.\n",
    "- **Set** - A set of values.  Sets contain unique values.  No values are duplicated.\n",
    "- **Frozen Set** - A frozen set of values.  Frozen sets contain unique values.  No values are duplicated.\n"
   ]
  },
  {
   "cell_type": "code",
   "execution_count": 4,
   "metadata": {},
   "outputs": [
    {
     "name": "stdout",
     "output_type": "stream",
     "text": [
      "BaseContainer(items=(BaseValue(value='hello', type=str), BaseValue(value='world', type=str)), type=dict)\n",
      "BaseContainer(items=(BaseValue(value='hello', type=str), BaseValue(value='world', type=str)), type=list)\n",
      "BaseContainer(items=(BaseValue(value='hello', type=str), BaseValue(value='world', type=str)), type=tuple)\n",
      "BaseContainer(items=(BaseValue(value='world', type=str), BaseValue(value='hello', type=str)), type=set)\n",
      "BaseContainer(items=(BaseValue(value='world', type=str), BaseValue(value='hello', type=str)), type=frozenset)\n"
     ]
    }
   ],
   "source": [
    "container_dict = BaseContainer({\"hello\": \"world\"}, \"dictionary\")\n",
    "print(f'{repr(container_dict)}')\n",
    "\n",
    "container_list = BaseContainer([\"hello\", \"world\"], \"list\")\n",
    "print(f'{repr(container_list)}')\n",
    "\n",
    "container_tuple = BaseContainer((\"hello\", \"world\"), \"tuple\")\n",
    "print(f'{repr(container_tuple)}')\n",
    "\n",
    "container_set = BaseContainer({\"hello\", \"world\"}, \"set\")\n",
    "print(f'{repr(container_set)}')\n",
    "\n",
    "container_frozenset = BaseContainer(frozenset({\"hello\", \"world\"}), \"frozenset\")\n",
    "print(f'{repr(container_frozenset)}')"
   ]
  },
  {
   "cell_type": "markdown",
   "metadata": {},
   "source": [
    "## 2A. Forcing Base Container Types\n",
    "\n",
    "You can force a base container to be a specific type when it is created.\n",
    "\n",
    "Items are stored in a container by deffault as Tuple of Base Values.  "
   ]
  },
  {
   "cell_type": "code",
   "execution_count": 5,
   "metadata": {},
   "outputs": [
    {
     "name": "stdout",
     "output_type": "stream",
     "text": [
      "BaseContainer(items=(BaseValue(value='hello', type=str), BaseValue(value='world', type=str)), type=dict)\n",
      "Container Type: dict\n",
      "Container Value: {'hello': 'world'}\n"
     ]
    }
   ],
   "source": [
    "container_dict = BaseContainer((\"hello\", \"world\"), \"dictionary\")\n",
    "print(f'{repr(container_dict)}')\n",
    "print(f'Container Type: {container_dict.type}')\n",
    "print(f'Container Value: {container_dict}')"
   ]
  },
  {
   "cell_type": "markdown",
   "metadata": {},
   "source": [
    "## 3. Hashing Base Containers\n",
    "\n",
    "Base Containers are hashed using the SHA-256 algorithm.  This is a one-way hash.  You cannot reverse the hash to get the original value.\n",
    "\n",
    "Base Containers can be hashed a numbebr of ways:\n",
    "- **BaseContainer._hash_repr()** - Hashes the container's representation.\n",
    "- **BaseContainer._hash_items()** - Hashes the container's items values as leaves of a merkle tree.\n",
    "- **BaseConntainer._hash_type()** - Hashes the container's type.\n",
    "- **BaseContainer._hash()** - Returns the hash value of the container."
   ]
  },
  {
   "cell_type": "code",
   "execution_count": 6,
   "metadata": {},
   "outputs": [
    {
     "name": "stdout",
     "output_type": "stream",
     "text": [
      "Representation of String Value: BaseContainer(items=(BaseValue(value='hello', type=str), BaseValue(value='world', type=str)), type=dict)\n",
      "item=b'\\xfb\\x06\\xc1\\xe2\\xd2R)\\x90\\xbc\\x8d\\xe3\\xb3\\xfd>\\xdf\\xd9\\x7f)\\xa6Q\\xe84\\xa97<8\\xfe\\xdb\\x9d\\xfc\\x90Q'\n",
      "Representation Hash: b'\\xfb\\x06\\xc1\\xe2\\xd2R)\\x90\\xbc\\x8d\\xe3\\xb3\\xfd>\\xdf\\xd9\\x7f)\\xa6Q\\xe84\\xa97<8\\xfe\\xdb\\x9d\\xfc\\x90Q'\n",
      "item=b'\\xd5Ci\\x91\\x94\\xa344C\\xab\\x849\\\\\\x04d\\xb0\\x18\\xf1.1\\xdf\\x1b^\\x82\\x9de\\xc4D\\x0e\\x90\\xb9\\xa5'\n",
      "item=b'\\x8c%\\xcb6\\x86F.\\x9a\\x86\\xd2\\x88<V\\x88\\xa2/\\xe78\\xb0\\xbb\\xc8_E\\x8d-+_?f|mZ'\n",
      "sha256_objects=[Leaf(hash=aaa8d512f984bca64ed169f82bc3bcfce39f8cfa5ea8738b67e29ea6bbdc8cbf), Leaf(hash=124129ab61f8631cd151dea88bdd572fa27f11ab6c7a37ed3f821a4476a2cb63)]\n",
      "_levels=Levels(levels=(Leaves(leaves=(Leaf(hash=aaa8d512f984bca64ed169f82bc3bcfce39f8cfa5ea8738b67e29ea6bbdc8cbf), Leaf(hash=124129ab61f8631cd151dea88bdd572fa27f11ab6c7a37ed3f821a4476a2cb63))),))\n",
      "self._levels=None\n"
     ]
    },
    {
     "ename": "TypeError",
     "evalue": "'NoneType' object is not callable",
     "output_type": "error",
     "traceback": [
      "\u001b[0;31m---------------------------------------------------------------------------\u001b[0m",
      "\u001b[0;31mTypeError\u001b[0m                                 Traceback (most recent call last)",
      "\u001b[1;32m/Users/j/Documents/Forme/code/forme-groups-python-3-12/tests/test_notebook_page_002.ipynb Cell 12\u001b[0m line \u001b[0;36m4\n\u001b[1;32m      <a href='vscode-notebook-cell:/Users/j/Documents/Forme/code/forme-groups-python-3-12/tests/test_notebook_page_002.ipynb#X14sZmlsZQ%3D%3D?line=1'>2</a>\u001b[0m \u001b[39mprint\u001b[39m(\u001b[39mf\u001b[39m\u001b[39m'\u001b[39m\u001b[39mRepresentation of String Value: \u001b[39m\u001b[39m{\u001b[39;00m\u001b[39mrepr\u001b[39m(container_dict)\u001b[39m}\u001b[39;00m\u001b[39m'\u001b[39m)\n\u001b[1;32m      <a href='vscode-notebook-cell:/Users/j/Documents/Forme/code/forme-groups-python-3-12/tests/test_notebook_page_002.ipynb#X14sZmlsZQ%3D%3D?line=2'>3</a>\u001b[0m \u001b[39mprint\u001b[39m(\u001b[39mf\u001b[39m\u001b[39m'\u001b[39m\u001b[39mRepresentation Hash: \u001b[39m\u001b[39m{\u001b[39;00mcontainer_dict\u001b[39m.\u001b[39m_hash_repr()\u001b[39m}\u001b[39;00m\u001b[39m'\u001b[39m)\n\u001b[0;32m----> <a href='vscode-notebook-cell:/Users/j/Documents/Forme/code/forme-groups-python-3-12/tests/test_notebook_page_002.ipynb#X14sZmlsZQ%3D%3D?line=3'>4</a>\u001b[0m \u001b[39mprint\u001b[39m(\u001b[39mf\u001b[39m\u001b[39m'\u001b[39m\u001b[39mItems Hash: \u001b[39m\u001b[39m{\u001b[39;00mcontainer_dict\u001b[39m.\u001b[39;49m_hash_items()\u001b[39m}\u001b[39;00m\u001b[39m'\u001b[39m)\n\u001b[1;32m      <a href='vscode-notebook-cell:/Users/j/Documents/Forme/code/forme-groups-python-3-12/tests/test_notebook_page_002.ipynb#X14sZmlsZQ%3D%3D?line=4'>5</a>\u001b[0m \u001b[39mprint\u001b[39m(\u001b[39mf\u001b[39m\u001b[39m'\u001b[39m\u001b[39mType Hash: \u001b[39m\u001b[39m{\u001b[39;00mcontainer_dict\u001b[39m.\u001b[39m_hash_type()\u001b[39m}\u001b[39;00m\u001b[39m'\u001b[39m)\n\u001b[1;32m      <a href='vscode-notebook-cell:/Users/j/Documents/Forme/code/forme-groups-python-3-12/tests/test_notebook_page_002.ipynb#X14sZmlsZQ%3D%3D?line=5'>6</a>\u001b[0m \u001b[39mprint\u001b[39m(\u001b[39mf\u001b[39m\u001b[39m'\u001b[39m\u001b[39mHash: \u001b[39m\u001b[39m{\u001b[39;00mcontainer_dict\u001b[39m.\u001b[39m_hash()\u001b[39m}\u001b[39;00m\u001b[39m'\u001b[39m)\n",
      "File \u001b[0;32m~/Documents/Forme/code/forme-groups-python-3-12/tests/../../forme-groups-python-3-12/src/groups/base/container.py:211\u001b[0m, in \u001b[0;36mBaseContainer._hash_items\u001b[0;34m(self)\u001b[0m\n\u001b[1;32m    209\u001b[0m hashed_items: \u001b[39mtuple\u001b[39m[\u001b[39mstr\u001b[39m, \u001b[39m.\u001b[39m\u001b[39m.\u001b[39m\u001b[39m.\u001b[39m] \u001b[39m=\u001b[39m ()\n\u001b[1;32m    210\u001b[0m \u001b[39mfor\u001b[39;00m item \u001b[39min\u001b[39;00m \u001b[39mself\u001b[39m\u001b[39m.\u001b[39m__iter_items__():\n\u001b[0;32m--> 211\u001b[0m     hashed_items \u001b[39m=\u001b[39m hashed_items \u001b[39m+\u001b[39m (item\u001b[39m.\u001b[39;49m_hash()\u001b[39m.\u001b[39;49mroot(), )\n\u001b[1;32m    213\u001b[0m \u001b[39mreturn\u001b[39;00m MerkleTree(hashed_items)\n",
      "\u001b[0;31mTypeError\u001b[0m: 'NoneType' object is not callable"
     ]
    }
   ],
   "source": [
    "# BaseContainer({\"hello\": \"world\"}, \"dictionary\")\n",
    "print(f'Representation of String Value: {repr(container_dict)}')\n",
    "print(f'Representation Hash: {container_dict._hash_repr()}')\n",
    "print(f'Items Hash: {container_dict._hash_items()}')\n",
    "print(f'Type Hash: {container_dict._hash_type()}')\n",
    "print(f'Hash: {container_dict._hash()}')"
   ]
  },
  {
   "cell_type": "markdown",
   "metadata": {},
   "source": [
    "## 4. Verify Base Container Hashes\n",
    "\n",
    "Below are some examples of how to verify the hash of a base container."
   ]
  },
  {
   "cell_type": "code",
   "execution_count": null,
   "metadata": {},
   "outputs": [
    {
     "name": "stdout",
     "output_type": "stream",
     "text": [
      "Container One items hash: 470573df702151426e45ae5664caf4a7c0a46b2fff6c0321fede8bd2cba68bf1\n",
      "Container Two items hash: a84e2ef29482712f22ea4f5cb6d95832d561ab87aa6209f9d97ab7e84e8309a5\n",
      "Hashes are not equal. 👍\n",
      "Container One type hash: 6ab47d70854a8c690a0c2035be903f3d812cbab06f9e442e9b10ad70b1acd446\n",
      "Container Two type hash: 6ab47d70854a8c690a0c2035be903f3d812cbab06f9e442e9b10ad70b1acd446\n",
      "Hashes are equal. 👍\n",
      "Container One hash: 246fdadf57904d780ed5f498fabd74efdf08c83a2c92a6c64f829020f534faf2\n",
      "Container Two hash: 24fc1fbcf28c51a2860d88d92796e64acf97da2e740da5b8e3d34d9a87a1a296\n",
      "Hashes are not equal. 👍\n"
     ]
    }
   ],
   "source": [
    "container_one = BaseContainer({\"hello\": \"world\"}, \"dictionary\")\n",
    "container_two = BaseContainer({\"hello\": \"worlds\"}, \"dictionary\")\n",
    "\n",
    "print(f'Container One items hash: {container_one._hash_items().root()}')\n",
    "print(f'Container Two items hash: {container_two._hash_items().root()}')\n",
    "\n",
    "if container_one._hash_items().root() != container_two._hash_items().root():\n",
    "    print('Hashes are not equal. 👍')\n",
    "\n",
    "print(f'Container One type hash: {container_one._hash_type()}')\n",
    "print(f'Container Two type hash: {container_two._hash_type()}')\n",
    "\n",
    "if container_one._hash_type() == container_two._hash_type():\n",
    "    print('Hashes are equal. 👍')\n",
    "\n",
    "print(f'Container One hash: {container_one._hash()}')\n",
    "print(f'Container Two hash: {container_two._hash()}')\n",
    "\n",
    "if container_one._hash().root() != container_two._hash().root():\n",
    "    print('Hashes are not equal. 👍')"
   ]
  },
  {
   "cell_type": "markdown",
   "metadata": {},
   "source": [
    "The function **BaseContainer._verify_item()** is used to verify that an item is in the container's item hashes."
   ]
  },
  {
   "cell_type": "code",
   "execution_count": null,
   "metadata": {},
   "outputs": [
    {
     "name": "stdout",
     "output_type": "stream",
     "text": [
      "\"hello\" Item is verified in container_two. 👍\n",
      "\"world\" Item is not verified in container_two. 👍\n",
      "Containers are the same type. 👍\n"
     ]
    }
   ],
   "source": [
    "from src.groups.base.value import BaseValue\n",
    "\n",
    "hello_item: BaseValue = container_one.items[0]\n",
    "\n",
    "if container_two._verify_item(hello_item):  # {\"hello\": \"world\"}\n",
    "    print('\"hello\" Item is verified in container_two. 👍')\n",
    "\n",
    "world_item: BaseValue = container_one.items[1]\n",
    "\n",
    "if not container_two._verify_item(world_item):  # {\"hello\": \"worlds\"}\n",
    "    print('\"world\" Item is not verified in container_two. 👍')\n",
    "\n",
    "if container_one._hash_type() == container_two._hash_type():\n",
    "    print('Containers are the same type. 👍')"
   ]
  }
 ],
 "metadata": {
  "kernelspec": {
   "display_name": ".venv",
   "language": "python",
   "name": "python3"
  },
  "language_info": {
   "codemirror_mode": {
    "name": "ipython",
    "version": 3
   },
   "file_extension": ".py",
   "mimetype": "text/x-python",
   "name": "python",
   "nbconvert_exporter": "python",
   "pygments_lexer": "ipython3",
   "version": "3.12.0"
  }
 },
 "nbformat": 4,
 "nbformat_minor": 2
}
