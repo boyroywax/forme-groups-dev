{
 "cells": [
  {
   "cell_type": "markdown",
   "metadata": {},
   "source": [
    "# II. Base Containers"
   ]
  },
  {
   "cell_type": "code",
   "execution_count": 1,
   "metadata": {},
   "outputs": [],
   "source": [
    "import sys\n",
    "\n",
    "sys.path.append(\"../../forme-groups-python-3-12/\")"
   ]
  },
  {
   "cell_type": "markdown",
   "metadata": {},
   "source": [
    "## 1. Create a Base Container"
   ]
  },
  {
   "cell_type": "code",
   "execution_count": 2,
   "metadata": {},
   "outputs": [
    {
     "name": "stdout",
     "output_type": "stream",
     "text": [
      "Representation: BaseContainer(items=(BaseValue(value='hello', type=str), BaseValue(value='world', type=str)), type=dict)\n",
      "String: {'hello': 'world'}\n"
     ]
    }
   ],
   "source": [
    "from app.src.base.container import BaseContainer\n",
    "\n",
    "container_hello = BaseContainer({\"hello\": \"world\"}, \"dictionary\")\n",
    "print(f'Representation: {repr(container_hello)}')\n",
    "print(f'String: {container_hello}')"
   ]
  },
  {
   "cell_type": "markdown",
   "metadata": {},
   "source": [
    "Note: Base Containers are immutable. You cannot change the base container once it is created."
   ]
  },
  {
   "cell_type": "code",
   "execution_count": 3,
   "metadata": {},
   "outputs": [
    {
     "name": "stdout",
     "output_type": "stream",
     "text": [
      "Error: can't set attribute\n"
     ]
    }
   ],
   "source": [
    "from attrs.exceptions import FrozenInstanceError\n",
    "\n",
    "# Check that the value is frozen\n",
    "try:\n",
    "    container_hello._items = 'world2'\n",
    "except FrozenInstanceError as e:\n",
    "    print(f'Error: {e.msg}')"
   ]
  },
  {
   "cell_type": "markdown",
   "metadata": {},
   "source": [
    "## 2. Base Container Types\n",
    "\n",
    "Base Containers support the following types:\n",
    "- **Dictionary** - A dictionary of key-value pairs.\n",
    "- **List** - A list of values.\n",
    "- **Tuple** - A tuple of values.  An immutable list.  Item order is preserved.\n",
    "- **Set** - A set of values.  Sets contain unique values.  No values are duplicated.\n",
    "- **Frozen Set** - A frozen set of values.  Frozen sets contain unique values.  No values are duplicated.\n"
   ]
  },
  {
   "cell_type": "code",
   "execution_count": 4,
   "metadata": {},
   "outputs": [
    {
     "name": "stdout",
     "output_type": "stream",
     "text": [
      "BaseContainer(items=(BaseValue(value='hello', type=str), BaseValue(value='world', type=str)), type=dict)\n",
      "BaseContainer(items=(BaseValue(value='hello', type=str), BaseValue(value='world', type=str)), type=list)\n",
      "BaseContainer(items=(BaseValue(value='hello', type=str), BaseValue(value='world', type=str)), type=tuple)\n",
      "BaseContainer(items=(BaseValue(value='world', type=str), BaseValue(value='hello', type=str)), type=set)\n",
      "BaseContainer(items=(BaseValue(value='world', type=str), BaseValue(value='hello', type=str)), type=frozenset)\n"
     ]
    }
   ],
   "source": [
    "container_dict = BaseContainer({\"hello\": \"world\"}, \"dictionary\")\n",
    "print(f'{repr(container_dict)}')\n",
    "\n",
    "container_list = BaseContainer([\"hello\", \"world\"], \"list\")\n",
    "print(f'{repr(container_list)}')\n",
    "\n",
    "container_tuple = BaseContainer((\"hello\", \"world\"), \"tuple\")\n",
    "print(f'{repr(container_tuple)}')\n",
    "\n",
    "container_set = BaseContainer({\"hello\", \"world\"}, \"set\")\n",
    "print(f'{repr(container_set)}')\n",
    "\n",
    "container_frozenset = BaseContainer(frozenset({\"hello\", \"world\"}), \"frozenset\")\n",
    "print(f'{repr(container_frozenset)}')"
   ]
  },
  {
   "cell_type": "markdown",
   "metadata": {},
   "source": [
    "## 2A. Forcing Base Container Types\n",
    "\n",
    "You can force a base container to be a specific type when it is created.\n",
    "\n",
    "Items are stored in a container by deffault as Tuple of Base Values.  "
   ]
  },
  {
   "cell_type": "code",
   "execution_count": 8,
   "metadata": {},
   "outputs": [
    {
     "name": "stdout",
     "output_type": "stream",
     "text": [
      "BaseContainer(items=(BaseValue(value='hello', type=str), BaseValue(value='world', type=str)), type=dict)\n",
      "Container Type: dict\n"
     ]
    },
    {
     "ename": "AttributeError",
     "evalue": "'BaseContainer' object has no attribute 'value'",
     "output_type": "error",
     "traceback": [
      "\u001b[0;31m---------------------------------------------------------------------------\u001b[0m",
      "\u001b[0;31mAttributeError\u001b[0m                            Traceback (most recent call last)",
      "\u001b[1;32m/Users/j/Documents/Forme/code/forme-groups-python-3-12/tests/test_notebook_page_002.ipynb Cell 10\u001b[0m line \u001b[0;36m4\n\u001b[1;32m      <a href='vscode-notebook-cell:/Users/j/Documents/Forme/code/forme-groups-python-3-12/tests/test_notebook_page_002.ipynb#X12sZmlsZQ%3D%3D?line=1'>2</a>\u001b[0m \u001b[39mprint\u001b[39m(\u001b[39mf\u001b[39m\u001b[39m'\u001b[39m\u001b[39m{\u001b[39;00m\u001b[39mrepr\u001b[39m(container_dict)\u001b[39m}\u001b[39;00m\u001b[39m'\u001b[39m)\n\u001b[1;32m      <a href='vscode-notebook-cell:/Users/j/Documents/Forme/code/forme-groups-python-3-12/tests/test_notebook_page_002.ipynb#X12sZmlsZQ%3D%3D?line=2'>3</a>\u001b[0m \u001b[39mprint\u001b[39m(\u001b[39mf\u001b[39m\u001b[39m'\u001b[39m\u001b[39mContainer Type: \u001b[39m\u001b[39m{\u001b[39;00mcontainer_dict\u001b[39m.\u001b[39mtype\u001b[39m}\u001b[39;00m\u001b[39m'\u001b[39m)\n\u001b[0;32m----> <a href='vscode-notebook-cell:/Users/j/Documents/Forme/code/forme-groups-python-3-12/tests/test_notebook_page_002.ipynb#X12sZmlsZQ%3D%3D?line=3'>4</a>\u001b[0m \u001b[39mprint\u001b[39m(\u001b[39mf\u001b[39m\u001b[39m'\u001b[39m\u001b[39mContainer Value: \u001b[39m\u001b[39m{\u001b[39;00mcontainer_dict\u001b[39m.\u001b[39;49mvalue\u001b[39m}\u001b[39;00m\u001b[39m'\u001b[39m)\n",
      "\u001b[0;31mAttributeError\u001b[0m: 'BaseContainer' object has no attribute 'value'"
     ]
    }
   ],
   "source": [
    "container_dict = BaseContainer((\"hello\", \"world\"), \"dictionary\")\n",
    "print(f'{repr(container_dict)}')\n",
    "print(f'Container Type: {container_dict.type}')\n",
    "print(f'Container Value: {container_dict}')\n"
   ]
  }
 ],
 "metadata": {
  "kernelspec": {
   "display_name": ".venv",
   "language": "python",
   "name": "python3"
  },
  "language_info": {
   "codemirror_mode": {
    "name": "ipython",
    "version": 3
   },
   "file_extension": ".py",
   "mimetype": "text/x-python",
   "name": "python",
   "nbconvert_exporter": "python",
   "pygments_lexer": "ipython3",
   "version": "3.12.0rc3"
  }
 },
 "nbformat": 4,
 "nbformat_minor": 2
}
