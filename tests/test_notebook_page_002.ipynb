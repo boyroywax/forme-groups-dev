{
 "cells": [
  {
   "cell_type": "markdown",
   "metadata": {},
   "source": [
    "# II. Base Containers"
   ]
  },
  {
   "cell_type": "code",
   "execution_count": 1,
   "metadata": {},
   "outputs": [],
   "source": [
    "import sys\n",
    "\n",
    "sys.path.append(\"../../forme-groups-python-3-12/\")"
   ]
  },
  {
   "cell_type": "markdown",
   "metadata": {},
   "source": [
    "## 1. Create a Base Container"
   ]
  },
  {
   "cell_type": "code",
   "execution_count": 2,
   "metadata": {},
   "outputs": [
    {
     "name": "stdout",
     "output_type": "stream",
     "text": [
      "Representation: BaseContainer(items=(BaseValue(value='hello', type=str), BaseValue(value='world', type=str)), type=dict)\n",
      "String: {'hello': 'world'}\n"
     ]
    }
   ],
   "source": [
    "from src.groups.base.container import BaseContainer\n",
    "\n",
    "container_hello = BaseContainer({\"hello\": \"world\"}, \"dictionary\")\n",
    "print(f'Representation: {repr(container_hello)}')\n",
    "print(f'String: {container_hello}')"
   ]
  },
  {
   "cell_type": "markdown",
   "metadata": {},
   "source": [
    "Note: Base Containers are immutable. You cannot change the base container once it is created."
   ]
  },
  {
   "cell_type": "code",
   "execution_count": 3,
   "metadata": {},
   "outputs": [
    {
     "name": "stdout",
     "output_type": "stream",
     "text": [
      "Error: can't set attribute\n"
     ]
    }
   ],
   "source": [
    "from attrs.exceptions import FrozenInstanceError\n",
    "\n",
    "# Check that the value is frozen\n",
    "try:\n",
    "    container_hello._items = 'world2'\n",
    "except FrozenInstanceError as e:\n",
    "    print(f'Error: {e.msg}')"
   ]
  },
  {
   "cell_type": "markdown",
   "metadata": {},
   "source": [
    "## 2. Base Container Types\n",
    "\n",
    "Base Containers support the following types:\n",
    "- **Dictionary** - A dictionary of key-value pairs.\n",
    "- **List** - A list of values.\n",
    "- **Tuple** - A tuple of values.  An immutable list.  Item order is preserved.\n",
    "- **Set** - A set of values.  Sets contain unique values.  No values are duplicated.\n",
    "- **Frozen Set** - A frozen set of values.  Frozen sets contain unique values.  No values are duplicated.\n"
   ]
  },
  {
   "cell_type": "code",
   "execution_count": 4,
   "metadata": {},
   "outputs": [
    {
     "name": "stdout",
     "output_type": "stream",
     "text": [
      "BaseContainer(items=(BaseValue(value='hello', type=str), BaseValue(value='world', type=str)), type=dict)\n",
      "BaseContainer(items=(BaseValue(value='hello', type=str), BaseValue(value='world', type=str)), type=list)\n",
      "BaseContainer(items=(BaseValue(value='hello', type=str), BaseValue(value='world', type=str)), type=tuple)\n",
      "BaseContainer(items=(BaseValue(value='hello', type=str), BaseValue(value='world', type=str)), type=set)\n",
      "BaseContainer(items=(BaseValue(value='hello', type=str), BaseValue(value='world', type=str)), type=frozenset)\n"
     ]
    }
   ],
   "source": [
    "container_dict = BaseContainer({\"hello\": \"world\"}, \"dictionary\")\n",
    "print(f'{repr(container_dict)}')\n",
    "\n",
    "container_list = BaseContainer([\"hello\", \"world\"], \"list\")\n",
    "print(f'{repr(container_list)}')\n",
    "\n",
    "container_tuple = BaseContainer((\"hello\", \"world\"), \"tuple\")\n",
    "print(f'{repr(container_tuple)}')\n",
    "\n",
    "container_set = BaseContainer({\"hello\", \"world\"}, \"set\")\n",
    "print(f'{repr(container_set)}')\n",
    "\n",
    "container_frozenset = BaseContainer(frozenset({\"hello\", \"world\"}), \"frozenset\")\n",
    "print(f'{repr(container_frozenset)}')"
   ]
  },
  {
   "cell_type": "markdown",
   "metadata": {},
   "source": [
    "## 2A. Forcing Base Container Types\n",
    "\n",
    "You can force a base container to be a specific type when it is created.\n",
    "\n",
    "Items are stored in a container by deffault as Tuple of Base Values.  "
   ]
  },
  {
   "cell_type": "code",
   "execution_count": 5,
   "metadata": {},
   "outputs": [
    {
     "name": "stdout",
     "output_type": "stream",
     "text": [
      "BaseContainer(items=(BaseValue(value='hello', type=str), BaseValue(value='world', type=str)), type=dict)\n",
      "Container Type: dict\n",
      "Container Value: {'hello': 'world'}\n"
     ]
    }
   ],
   "source": [
    "container_dict = BaseContainer((\"hello\", \"world\"), \"dictionary\")\n",
    "print(f'{repr(container_dict)}')\n",
    "print(f'Container Type: {container_dict.type}')\n",
    "print(f'Container Value: {container_dict}')"
   ]
  },
  {
   "cell_type": "markdown",
   "metadata": {},
   "source": [
    "## 3. Hashing Base Containers\n",
    "\n",
    "Base Containers are hashed using the SHA-256 algorithm.  This is a one-way hash.  You cannot reverse the hash to get the original value.\n",
    "\n",
    "Base Containers can be hashed a numbebr of ways:\n",
    "- **BaseContainer._hash_repr()** - Hashes the container's representation.\n",
    "- **BaseContainer._hash_items()** - Hashes the container's items values as leaves of a merkle tree.\n",
    "- **BaseConntainer._hash_type()** - Hashes the container's type.\n",
    "- **BaseContainer._hash()** - Returns the hash value of the container."
   ]
  },
  {
   "cell_type": "code",
   "execution_count": 6,
   "metadata": {},
   "outputs": [
    {
     "name": "stdout",
     "output_type": "stream",
     "text": [
      "Representation of String Value: BaseContainer(items=(BaseValue(value='hello', type=str), BaseValue(value='world', type=str)), type=dict)\n",
      "Representation Hash: fb06c1e2d2522990bc8de3b3fd3edfd97f29a651e834a9373c38fedb9dfc9051\n",
      "Items Hash: 470573df702151426e45ae5664caf4a7c0a46b2fff6c0321fede8bd2cba68bf1\n",
      "Type Hash: 6ab47d70854a8c690a0c2035be903f3d812cbab06f9e442e9b10ad70b1acd446\n",
      "Hash: 246fdadf57904d780ed5f498fabd74efdf08c83a2c92a6c64f829020f534faf2\n"
     ]
    }
   ],
   "source": [
    "# BaseContainer({\"hello\": \"world\"}, \"dictionary\")\n",
    "print(f'Representation of String Value: {repr(container_dict)}')\n",
    "print(f'Representation Hash: {container_dict._hash_repr()}')\n",
    "print(f'Items Hash: {container_dict._hash_items()}')\n",
    "print(f'Type Hash: {container_dict._hash_type()}')\n",
    "print(f'Hash: {container_dict._hash()}')"
   ]
  },
  {
   "cell_type": "markdown",
   "metadata": {},
   "source": []
  }
 ],
 "metadata": {
  "kernelspec": {
   "display_name": ".venv",
   "language": "python",
   "name": "python3"
  },
  "language_info": {
   "codemirror_mode": {
    "name": "ipython",
    "version": 3
   },
   "file_extension": ".py",
   "mimetype": "text/x-python",
   "name": "python",
   "nbconvert_exporter": "python",
   "pygments_lexer": "ipython3",
   "version": "3.12.0"
  }
 },
 "nbformat": 4,
 "nbformat_minor": 2
}
