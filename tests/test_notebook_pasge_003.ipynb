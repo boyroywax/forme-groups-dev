{
 "cells": [
  {
   "cell_type": "markdown",
   "metadata": {},
   "source": [
    "# III. Nonce"
   ]
  },
  {
   "cell_type": "code",
   "execution_count": 5,
   "metadata": {},
   "outputs": [],
   "source": [
    "import sys\n",
    "\n",
    "sys.path.append(\"../../forme-groups-python-3-12/\")"
   ]
  },
  {
   "cell_type": "markdown",
   "metadata": {},
   "source": [
    "## 1. Nonce Chain\n",
    "\n",
    "The Nonce chain is used to express hierarchy within a group.\n",
    "\n",
    "0 = Root\n",
    "0.0 = Root.SubLevel\n",
    "0.0.0 = Root.SubLevel.SubLevel\n",
    "\n",
    "For now, nonces are only represented as integers, or str.\n",
    "\n",
    "\n",
    "### Default Nonce Chain\n",
    "\n",
    "The default nonce chain is a list of integers, starting at 0, and incrementing by 1."
   ]
  },
  {
   "cell_type": "code",
   "execution_count": 6,
   "metadata": {},
   "outputs": [
    {
     "name": "stdout",
     "output_type": "stream",
     "text": [
      "0\n",
      "1\n"
     ]
    }
   ],
   "source": [
    "from src.groups.unit import Nonce\n",
    "\n",
    "default_nonce = Nonce()\n",
    "print(default_nonce)\n",
    "\n",
    "next_nonce = default_nonce._next_active_nonce()\n",
    "print(next_nonce)"
   ]
  },
  {
   "cell_type": "markdown",
   "metadata": {},
   "source": [
    "### Nonce Levels"
   ]
  },
  {
   "cell_type": "code",
   "execution_count": 7,
   "metadata": {},
   "outputs": [
    {
     "name": "stdout",
     "output_type": "stream",
     "text": [
      "0.0\n",
      "0.1\n"
     ]
    }
   ],
   "source": [
    "sub_level = default_nonce._next_sub_nonce()\n",
    "print(sub_level)\n",
    "\n",
    "sub_level_item_2 = sub_level._next_active_nonce()\n",
    "print(sub_level_item_2)"
   ]
  },
  {
   "cell_type": "markdown",
   "metadata": {},
   "source": [
    "### The Active Nonce"
   ]
  },
  {
   "cell_type": "code",
   "execution_count": 10,
   "metadata": {},
   "outputs": [
    {
     "name": "stdout",
     "output_type": "stream",
     "text": [
      "0\n",
      "1\n"
     ]
    }
   ],
   "source": [
    "active_nonce = default_nonce._get_active()\n",
    "print(active_nonce)\n",
    "\n",
    "active_nonce2 = sub_level_item_2._get_active()\n",
    "print(active_nonce2)"
   ]
  }
 ],
 "metadata": {
  "kernelspec": {
   "display_name": ".venv",
   "language": "python",
   "name": "python3"
  },
  "language_info": {
   "codemirror_mode": {
    "name": "ipython",
    "version": 3
   },
   "file_extension": ".py",
   "mimetype": "text/x-python",
   "name": "python",
   "nbconvert_exporter": "python",
   "pygments_lexer": "ipython3",
   "version": "3.12.0"
  }
 },
 "nbformat": 4,
 "nbformat_minor": 2
}
