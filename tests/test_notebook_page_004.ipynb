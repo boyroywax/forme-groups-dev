{
 "cells": [
  {
   "cell_type": "markdown",
   "metadata": {},
   "source": [
    "# IV. Schema\n",
    "\n",
    "Within the Nonce Chain model, the schema is the set of rules that define the structure of the data. \n",
    "\n",
    "The Schema is used to validate the data in the subsequent sub level of the Nonce Chain.\n",
    "\n",
    "```text\n",
    "> Example of schema enforcement:\n",
    "> Nonce Chain: 0.0.0\n",
    "> The Schema Stored in entry 0.0 is used to validate the data in entry 0.0.0\n",
    "```"
   ]
  },
  {
   "cell_type": "code",
   "execution_count": 4,
   "metadata": {},
   "outputs": [],
   "source": [
    "import sys\n",
    "\n",
    "sys.path.append(\"../../forme-groups-python-3-12/\")"
   ]
  },
  {
   "cell_type": "markdown",
   "metadata": {},
   "source": [
    "## 1. Schema Structure\n",
    "\n",
    "The schema is a tuple of SchemaEntry objects.\n",
    "\n",
    "**Order is important** for the schema. The order of the SchemaEntry objects in the tuple is the order of the fields in the data.\n",
    "\n",
    "A SchemaEntry object is a simple key-value pair: \n",
    "- the key is the name of the field\n",
    "- the value is a type-alias representing the type of field.\n",
    "\n",
    "```text\n",
    "> Example Schema: (SchemaEntry(\"name\", \"str\"), SchemaEntry(\"age\", \"int\"))\n",
    "> The SchemaEntry(\"name\", \"str\") means that the field \"name\" must be a string.\n",
    "> The SchemaEntry(\"age\", \"int\") means that the field \"age\" must be an integer.\n",
    "```"
   ]
  },
  {
   "cell_type": "code",
   "execution_count": 5,
   "metadata": {},
   "outputs": [
    {
     "name": "stdout",
     "output_type": "stream",
     "text": [
      "key=name, value=str\n",
      "key=age, value=int\n",
      "key=is_active, value=bool\n",
      "Schema string output: (key=name, value=str), (key=age, value=int), (key=is_active, value=bool)\n",
      "Schema representation: BaseSchema(entries=(SchemaEntry(key='name', value=str), SchemaEntry(key='age', value=int), SchemaEntry(key='is_active', value=bool)))\n"
     ]
    }
   ],
   "source": [
    "from src.groups.base import BaseSchema, SchemaEntry\n",
    "\n",
    "entry_one = SchemaEntry(\"name\", \"string\")\n",
    "print(entry_one)\n",
    "\n",
    "entry_two = SchemaEntry(\"age\", \"integer\")\n",
    "print(entry_two)\n",
    "\n",
    "entry_three = SchemaEntry(\"is_active\", \"boolean\")\n",
    "print(entry_three)\n",
    "\n",
    "schema = BaseSchema((entry_one, entry_two, entry_three))\n",
    "print(f'Schema string output: {schema}')\n",
    "print(f'Schema representation: {repr(schema)}')"
   ]
  },
  {
   "cell_type": "markdown",
   "metadata": {},
   "source": [
    "### Key Rules\n",
    "\n",
    "- The key must be a string.\n",
    "- The key cannnot contain whitespace.\n",
    "- The key must be unique within the schema.\n",
    "- The key must be <= 256 characters in length.\n",
    "- The key must not be empty or whitespace only."
   ]
  },
  {
   "cell_type": "code",
   "execution_count": 6,
   "metadata": {},
   "outputs": [
    {
     "name": "stdout",
     "output_type": "stream",
     "text": [
      "Error: Expected a str, but received <class 'int'>\n",
      "Error: Expected a str without spaces, but received bad key\n",
      "Error: Expected a str with length 256 or less, but received len=257), value=aaaaaaaaaaaaaaaaaaaaaaaaaaaaaaaaaaaaaaaaaaaaaaaaaaaaaaaaaaaaaaaaaaaaaaaaaaaaaaaaaaaaaaaaaaaaaaaaaaaaaaaaaaaaaaaaaaaaaaaaaaaaaaaaaaaaaaaaaaaaaaaaaaaaaaaaaaaaaaaaaaaaaaaaaaaaaaaaaaaaaaaaaaaaaaaaaaaaaaaaaaaaaaaaaaaaaaaaaaaaaaaaaaaaaaaaaaaaaaaaaaaaaaaaaaaaaaaaa\n",
      "Error: (\"'_value' must be (<class 'str'>, <class 'type'>) (got None that is a <class 'NoneType'>).\", Attribute(name='_value', default=NOTHING, validator=<instance_of validator for type (<class 'str'>, <class 'type'>)>, repr=True, eq=True, eq_key=None, order=True, order_key=None, hash=None, init=True, metadata=mappingproxy({}), type=typing.Union[str, type, typing.TypeAlias], converter=<function _base_type_converter at 0x1071fec00>, kw_only=False, inherited=False, on_setattr=None, alias='value'), (<class 'str'>, <class 'type'>), None)\n"
     ]
    }
   ],
   "source": [
    "# Key is not a string\n",
    "try:\n",
    "    bad_entry_one = SchemaEntry(1, \"string\")\n",
    "except TypeError as e:\n",
    "    print(f'Error: {e}')\n",
    "\n",
    "# Key does not contain whitespace\n",
    "try:\n",
    "    bad_entry_two = SchemaEntry(\"bad key\", \"string\")\n",
    "except TypeError as e:\n",
    "    print(f'Error: {e}')\n",
    "\n",
    "# Key is not greater than 256 chars\n",
    "try:\n",
    "    bad_entry_three = SchemaEntry(\"a\" * 257, \"string\")\n",
    "except TypeError as e:\n",
    "    print(f'Error: {e}')\n",
    "\n",
    "# Value is not empty\n",
    "try:\n",
    "    bad_entry_four = SchemaEntry(\"name\", \"\")\n",
    "except TypeError as e:\n",
    "    print(f'Error: {e}')"
   ]
  }
 ],
 "metadata": {
  "kernelspec": {
   "display_name": ".venv",
   "language": "python",
   "name": "python3"
  },
  "language_info": {
   "codemirror_mode": {
    "name": "ipython",
    "version": 3
   },
   "file_extension": ".py",
   "mimetype": "text/x-python",
   "name": "python",
   "nbconvert_exporter": "python",
   "pygments_lexer": "ipython3",
   "version": "3.12.0"
  }
 },
 "nbformat": 4,
 "nbformat_minor": 2
}
