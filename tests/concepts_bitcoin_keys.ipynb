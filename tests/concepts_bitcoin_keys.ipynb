{
 "cells": [
  {
   "cell_type": "markdown",
   "metadata": {},
   "source": [
    "# Bitcoin Key Pairs"
   ]
  },
  {
   "cell_type": "code",
   "execution_count": 20,
   "metadata": {
    "vscode": {
     "languageId": "shellscript"
    }
   },
   "outputs": [],
   "source": [
    "# pip install ecdsa"
   ]
  },
  {
   "cell_type": "markdown",
   "metadata": {},
   "source": [
    "## Manual Key Generation"
   ]
  },
  {
   "cell_type": "code",
   "execution_count": 21,
   "metadata": {},
   "outputs": [
    {
     "name": "stdout",
     "output_type": "stream",
     "text": [
      "Private key raw: f0369563b1ef8a03914b5bfe916428ddc0891a80ee89dacc087fbe28c96d60e9\u0001\n",
      "Private key: f0369563b1ef8a03914b5bfe916428ddc0891a80ee89dacc087fbe28c96d60e9\n",
      "Public key: 033fce724006fcc3ad6299d70736d22b26e594fc1545f122301670a9cbd87d7ab8\n"
     ]
    }
   ],
   "source": [
    "import ecdsa\n",
    "import binascii\n",
    "import hashlib\n",
    "\n",
    "\n",
    "# # Generate a private key\n",
    "private_key_raw_object = ecdsa.SigningKey.generate(curve=ecdsa.SECP256k1, hashfunc=hashlib.sha256)\n",
    "print(\"Private key raw:\", (private_key_raw_object.to_string().hex()) + '\\x01')\n",
    "\n",
    "private_key_raw = private_key_raw_object.to_string()\n",
    "\n",
    "# Get the private key\n",
    "# private_key_hex = private_key_raw.to_string().hex()\n",
    "# private_key_bytes = binascii.unhexlify(private_key_hex)\n",
    "private_key = ecdsa.SigningKey.from_string(private_key_raw, curve=ecdsa.SECP256k1, hashfunc=hashlib.sha256)\n",
    "print(\"Private key:\", private_key.to_string().hex())\n",
    "\n",
    "# Get the public key\n",
    "# public_key: ecdsa.VerifyingKey = private_key.get_verifying_key()\n",
    "public_key = private_key.get_verifying_key()\n",
    "\n",
    "# Print the public key in hexadecimal format\n",
    "print(f\"Public key: {public_key.to_string(\"compressed\").hex()}\")\n"
   ]
  },
  {
   "cell_type": "markdown",
   "metadata": {},
   "source": [
    "While the public key is correct it is not in the proper format. "
   ]
  },
  {
   "cell_type": "markdown",
   "metadata": {},
   "source": [
    "## Bitcoin Address\n",
    "\n",
    "Finding the bitcoin public key or bitcoin address from the private key is a bit more complicated.\n",
    "\n",
    "The public key is a point on the elliptic curve, but it is not in the proper format. The proper format is a 65 byte array with the first byte being 0x04 and the next 32 bytes being the x coordinate and the last 32 bytes being the y coordinate. The x and y coordinates are 32 bytes each because they are 256 bit numbers. The first byte is 0x04 because it is an uncompressed public key. There are compressed public keys which are 33 bytes long, but we will not be using them."
   ]
  },
  {
   "cell_type": "markdown",
   "metadata": {},
   "source": [
    "### Create a bitcoin address"
   ]
  },
  {
   "cell_type": "code",
   "execution_count": 22,
   "metadata": {},
   "outputs": [
    {
     "name": "stdout",
     "output_type": "stream",
     "text": [
      "SHA256:  d5f381098cec9c41cc30cfe0381cd2198a881f62f61cec3587aced4480e3a759\n",
      "RIPEMD-160:  629149d9b3356047bafe680c93eeabe212f88bed\n",
      "Address checksum:  e1acc89a\n",
      "Binary Bitcoin Address:  00629149d9b3356047bafe680c93eeabe212f88bede1acc89a\n",
      "Bitcoin address:  19zBGcx3vR3J1JHQBXuWH2geHyq9h13nTK\n"
     ]
    }
   ],
   "source": [
    "import hashlib\n",
    "import base58\n",
    "\n",
    "# Generate a bitcoin address\n",
    "# Step 1: Hash public key\n",
    "sha256: bytes = hashlib.sha256(public_key.to_string('compressed')).digest()\n",
    "print(\"SHA256: \", sha256.hex())\n",
    "\n",
    "# Step 2: Perform RIPEMD-160 hashing on the result of SHA256\n",
    "ripemd160 = hashlib.new('ripemd160')\n",
    "ripemd160.update(sha256)\n",
    "hashed_public_key = ripemd160.digest()\n",
    "print(\"RIPEMD-160: \", hashed_public_key.hex())\n",
    "\n",
    "# Step 3: Add version byte in front of RIPEMD-160 hash (0x00 for Main Network)\n",
    "hashed_public_key = b'\\x00' + hashed_public_key\n",
    "\n",
    "# Step 4: Perform SHA256 hash on the extended RIPEMD-160 result\n",
    "double_sha256 = hashlib.sha256(hashlib.sha256(hashed_public_key).digest()).digest()\n",
    "\n",
    "# Step 5: Take the first 4 bytes of the second SHA256 hash. This is the address checksum\n",
    "address_checksum = double_sha256[:4]\n",
    "print(\"Address checksum: \", address_checksum.hex())\n",
    "\n",
    "# Step 6: Add the 4 checksum bytes from stage 5 at the end of extended RIPEMD-160 hash from stage 4. This is the 25-byte binary Bitcoin Address.\n",
    "binary_bitcoin_address = hashed_public_key + address_checksum\n",
    "print(\"Binary Bitcoin Address: \", binary_bitcoin_address.hex())\n",
    "\n",
    "# Step 7: Convert the result from a byte string into a base58 string using Base58Check encoding. This is the most commonly used Bitcoin Address format\n",
    "bitcoin_address = base58.b58encode(binary_bitcoin_address).decode()\n",
    "print(\"Bitcoin address: \", bitcoin_address)"
   ]
  },
  {
   "cell_type": "markdown",
   "metadata": {},
   "source": [
    "### Verify a bitcoin address"
   ]
  },
  {
   "cell_type": "code",
   "execution_count": 23,
   "metadata": {},
   "outputs": [
    {
     "name": "stdout",
     "output_type": "stream",
     "text": [
      "Bitcoin address is valid: True\n"
     ]
    }
   ],
   "source": [
    "# Verify that the bitcoin address is correct\n",
    "# Step 1: Decode Base58 Bitcoin Address\n",
    "binary_bitcoin_address_check = base58.b58decode(bitcoin_address)\n",
    "\n",
    "# Step 2: Extract Bitcoin Address from decoded Base58 Bitcoin Address\n",
    "binary_bitcoin_address = binary_bitcoin_address_check[:-4]\n",
    "\n",
    "# Step 3: Extract Bitcoin Address Checksum from decoded Base58 Bitcoin Address\n",
    "binary_bitcoin_address_checksum = binary_bitcoin_address_check[-4:]\n",
    "\n",
    "# Step 4: Perform SHA256 hash on the extended RIPEMD-160 result\n",
    "double_sha256 = hashlib.sha256(hashlib.sha256(binary_bitcoin_address).digest()).digest()\n",
    "\n",
    "# Step 5: Take the first 4 bytes of the second SHA256 hash. This is the address checksum\n",
    "address_checksum = double_sha256[:4]\n",
    "\n",
    "# Step 6: Verify that the address checksum from decoded Base58 Bitcoin Address is equal to the address checksum from the SHA256 hash\n",
    "print(\"Bitcoin address is valid:\", binary_bitcoin_address_checksum == address_checksum)"
   ]
  },
  {
   "cell_type": "markdown",
   "metadata": {},
   "source": [
    "## Signing Messages\n",
    "\n",
    "### Sign a message"
   ]
  },
  {
   "cell_type": "code",
   "execution_count": 24,
   "metadata": {},
   "outputs": [],
   "source": [
    "def encode_varint(i: int) -> bytes:\n",
    "    \"\"\"\n",
    "    Encode a potentially very large integer into varint bytes. The length should be\n",
    "    specified in little-endian.\n",
    "\n",
    "    https://bitcoin.org/en/developer-reference#compactsize-unsigned-integers\n",
    "    \"\"\"\n",
    "    if i < 253:\n",
    "        return bytes([i])\n",
    "    elif i < 0x10000:\n",
    "        return b\"\\xfd\" + i.to_bytes(2, \"little\")\n",
    "    elif i < 0x100000000:\n",
    "        return b\"\\xfe\" + i.to_bytes(4, \"little\")\n",
    "    elif i < 0x10000000000000000:\n",
    "        return b\"\\xff\" + i.to_bytes(8, \"little\")\n",
    "    else:\n",
    "        raise ValueError(\"Integer is too large: %d\" % i)"
   ]
  },
  {
   "cell_type": "code",
   "execution_count": 25,
   "metadata": {},
   "outputs": [
    {
     "name": "stdout",
     "output_type": "stream",
     "text": [
      "Message hash: 9b45fcc99ed84a7051317cc9c804b0235925ea1d9117cb9eb49b22efc3df28b3\n",
      "Signature in b64: 377930486361515345667378486d386f453168667250396a73376e3765414b516b385a6e3972735662522f656e73692b2b45664c3548676b6257372f6c37464a757774506e49794c44467959653366357777426d45773d3d\n",
      "Signature hex: ef2d0771a41211fb311e6f2813585facff63b3b9fb78029093c667f6bb156d1fde9ec8bef847cbe478246d6eff97b149bb0b4f9c8c8b0c5c987b77f9c3006613\n",
      "True\n"
     ]
    }
   ],
   "source": [
    "# Path: concepts_bitcoin_transactions.ipynb\n",
    "import base64\n",
    "\n",
    "private_key_raw_1 = private_key_raw_object\n",
    "msg = b\"Hello world!\"\n",
    "msg_size = encode_varint(len(msg))\n",
    "message_hash = hashlib.sha256(hashlib.sha256(b'\\x18Bitcoin Signed Message:\\n' + msg_size + msg).digest()).digest()\n",
    "print(\"Message hash:\", message_hash.hex())\n",
    "\n",
    "signature_ = private_key_raw_1.sign_deterministic(message_hash)\n",
    "# Use the private key to sign a message\n",
    "# message = bytes(\"Bitcoin Signed Message:\\nHello world!\", \"utf-8\")\n",
    "# message = b\"\\x18Bitcoin Signed Message:\\n\" + msg_size + msg\n",
    "# message_size = encode_varint(len(message))\n",
    "# signature_ = private_key.sign_deterministic(hashlib.sha256(hashlib.sha256(message).digest()).digest())\n",
    "# print(\"Signature:\", signature_.hex())\n",
    "print(f'Signature in b64: {base64.b64encode(signature_).hex()}')\n",
    "print(\"Signature hex:\", binascii.hexlify(signature_).decode('ascii'))\n",
    "\n",
    "# Verify the signature\n",
    "print(public_key.verify(signature_, message_hash))\n"
   ]
  },
  {
   "cell_type": "code",
   "execution_count": 26,
   "metadata": {},
   "outputs": [
    {
     "name": "stdout",
     "output_type": "stream",
     "text": [
      "Signature: 77c23ba57f1decc00b962abb89a83c604f30a0610393773e7ca30ebf5aa42332f79bd96c502c0cf5171a7d4ef03fad125ba81ca938aa82feee04dffce8545544\n",
      "Signature b64: 6438493770583864374d414c6c69713769616738594538776f4745446b33632b664b4d4f7631716b497a4c336d396c735543774d395263616655377750363053573667637154697167763775424e2f383646525652413d3d\n",
      "Public key: 033fce724006fcc3ad6299d70736d22b26e594fc1545f122301670a9cbd87d7ab8\n"
     ]
    }
   ],
   "source": [
    "# Get the private key\n",
    "# private_key_hex = 'your_private_key_here'\n",
    "# private_key_bytes = bytes.fromhex(private_key_hex)\n",
    "# private_key = ecdsa.SigningKey.from_string(private_key_bytes, curve=ecdsa.SECP256k1)\n",
    "\n",
    "# The message to sign\n",
    "# message = 'your_message_here'\n",
    "\n",
    "# Sign the message\n",
    "signature = private_key_raw_1.sign(message_hash)\n",
    "print(f\"Signature: {signature.hex()}\")\n",
    "\n",
    "# Print the signature in base64 format\n",
    "signature_b64 = base64.b64encode(signature).hex()\n",
    "print(f\"Signature b64: {signature_b64}\")\n",
    "\n",
    "# Get the public key\n",
    "public_key: ecdsa.VerifyingKey = private_key_raw_1.get_verifying_key()\n",
    "print(f\"Public key: {public_key.to_string('compressed').hex()}\")\n"
   ]
  },
  {
   "cell_type": "markdown",
   "metadata": {},
   "source": [
    "### Verify a message"
   ]
  },
  {
   "cell_type": "code",
   "execution_count": 27,
   "metadata": {},
   "outputs": [
    {
     "name": "stdout",
     "output_type": "stream",
     "text": [
      "Signature valid\n"
     ]
    }
   ],
   "source": [
    "# Use the public key to verify a message\n",
    "# Verify the signature\n",
    "try:\n",
    "    public_key.verify(signature, message_hash)\n",
    "    print(\"Signature valid\")\n",
    "except ecdsa.BadSignatureError:\n",
    "    print(\"Signature invalid\")"
   ]
  },
  {
   "cell_type": "markdown",
   "metadata": {},
   "source": [
    "# Libraries for bitcoin keys"
   ]
  },
  {
   "cell_type": "markdown",
   "metadata": {},
   "source": [
    "### pybitcoin\n",
    "\n",
    "No longer maintained and does not work with python 3.12"
   ]
  },
  {
   "cell_type": "code",
   "execution_count": 28,
   "metadata": {
    "vscode": {
     "languageId": "shellscript"
    }
   },
   "outputs": [],
   "source": [
    "# pip install pybitcoin"
   ]
  },
  {
   "cell_type": "code",
   "execution_count": 29,
   "metadata": {},
   "outputs": [],
   "source": [
    "# from pybitcoin import BitcoinPrivateKey\n",
    "\n",
    "# # Generate a private key\n",
    "# private_key = BitcoinPrivateKey()\n",
    "# print(f\"Private key: {private_key.to_hex()}\")\n",
    "\n",
    "# # Generate a public key\n",
    "# public_key = private_key.public_key()\n",
    "# print(f\"Public key: {public_key.to_hex()}\")\n",
    "\n",
    "# # Generate a bitcoin address\n",
    "# bitcoin_address = public_key.address()\n",
    "# print(f\"Bitcoin address: {bitcoin_address}\")"
   ]
  },
  {
   "cell_type": "markdown",
   "metadata": {},
   "source": [
    "### bitcoin-utils\n",
    "\n",
    "Package appears damaged and does not work with python 3.12"
   ]
  },
  {
   "cell_type": "code",
   "execution_count": 30,
   "metadata": {
    "vscode": {
     "languageId": "shellscript"
    }
   },
   "outputs": [],
   "source": [
    "# pip install bitcoin-utils"
   ]
  },
  {
   "cell_type": "code",
   "execution_count": 31,
   "metadata": {},
   "outputs": [],
   "source": [
    "# from bitcoinutils.keys import PrivateKey, PublicKey\n",
    "\n",
    "# # Generate a private key\n",
    "# private_key = PrivateKey()\n",
    "# print(f\"Private key: {private_key.to_wif(compressed=True)}\")\n",
    "\n",
    "# # get the public key\n",
    "# public_key: PublicKey = private_key.get_public_key()\n",
    "# print(f\"Public key: {public_key.to_hex(compressed=True)}\")\n",
    "\n",
    "# # get the bitcoin address\n",
    "# bitcoin_address = public_key.get_address()\n",
    "# print(f\"Bitcoin address: {bitcoin_address.to_string()}\")\n",
    "# print(f'Hash160: {bitcoin_address.to_hash160()}')\n",
    "\n"
   ]
  },
  {
   "cell_type": "markdown",
   "metadata": {},
   "source": [
    "Sign a message with a private key and verify the signature with the public key."
   ]
  },
  {
   "cell_type": "code",
   "execution_count": 32,
   "metadata": {},
   "outputs": [],
   "source": [
    "# message: str = \"Hello\"\n",
    "# signature = private_key.sign_message(message)\n",
    "# print(f\"Signature: {signature}\")\n",
    "# # print(f\"Signature valid? {public_key.verify(message, signature)}\")\n",
    "# print(f\"Signature valid? {public_key.verify_message(public_key.get_address().to_string(), message, signature)}\")"
   ]
  },
  {
   "cell_type": "markdown",
   "metadata": {},
   "source": [
    "### python-bitcoinlib"
   ]
  },
  {
   "cell_type": "code",
   "execution_count": 33,
   "metadata": {
    "vscode": {
     "languageId": "shellscript"
    }
   },
   "outputs": [],
   "source": [
    "# pip install python-bitcoinlib"
   ]
  },
  {
   "cell_type": "code",
   "execution_count": 34,
   "metadata": {},
   "outputs": [
    {
     "name": "stdout",
     "output_type": "stream",
     "text": [
      "Private key: Kxf4uYHjzCHBFLUAJtXwFhmayuzKtggTuynApyqfmKdy6cvtBkLQ\n",
      "Public key: 028e3c3f5d2e4f8cb92f85262c8255e81d022650c3fa2c724fe19abbf908c52a56\n",
      "Bitcoin address: 1Lp8fdRd8wiiqWmUoj2n1zQwtY9TpZSVck\n",
      "Bitcoin message: b'Bitcoin Signed Message:\\n' b'Hello world!' 9b45fcc99ed84a7051317cc9c804b0235925ea1d9117cb9eb49b22efc3df28b3\n",
      "b\"\\xbb\\xbe\\xfb\\x93a\\xad\\xca\\xa2T\\xf3l@1\\x83KMz\\xeb\\xaa2\\xa3%\\x10\\x9b\\r\\xa0A\\xc0\\x0c/\\xeaK\\x0c\\xcb\\xbf\\xef9D\\x81\\x1e\\x9b\\x1c\\xc0\\xf61\\xf6\\x86\\xb5Q5'@\\xf5,s\\xbb\\xe7\\xd0c\\xad\\xe5\\xa2|\\xa5\" 1\n",
      "Signature: b'ILu++5NhrcqiVPNsQDGDS01666oyoyUQmw2gQcAML+pLDMu/7zlEgR6bHMD2MfaGtVE1J0D1LHO759BjreWifKU='\n",
      "Signature valid? True\n"
     ]
    }
   ],
   "source": [
    "import secrets\n",
    "import base64\n",
    "from bitcoin.wallet import CBitcoinSecret, P2PKHBitcoinAddress, CBitcoinAddress\n",
    "from bitcoin.signmessage import BitcoinMessage, VerifyMessage, SignMessage\n",
    "from bitcoin.core import x, lx, b2x, b2lx, Hash160\n",
    "\n",
    "message_: str = \"Hello world!\"\n",
    "\n",
    "# Generate a private key\n",
    "private_key_ = CBitcoinSecret.from_secret_bytes(secrets.token_bytes(32))\n",
    "print(f\"Private key: {private_key_}\")\n",
    "\n",
    "# Generate a public key\n",
    "public_key_ = private_key_.pub\n",
    "print(f\"Public key: {public_key_.hex()}\")\n",
    "\n",
    "# Generate a bitcoin address\n",
    "bitcoin_address_ = P2PKHBitcoinAddress.from_pubkey(public_key_)\n",
    "# bitcoin_address_ = CBitcoinAddress(bitcoin_address_)\n",
    "print(f\"Bitcoin address: {bitcoin_address_}\")\n",
    "\n",
    "# Sign message\n",
    "bitcoin_msg = BitcoinMessage(message_)\n",
    "print(f\"Bitcoin message: {bitcoin_msg.magic} {bitcoin_msg.message} {bitcoin_msg.GetHash().hex()}\")\n",
    "\n",
    "signature_ = SignMessage(private_key_, bitcoin_msg)\n",
    "print(f\"Signature: {signature_.hex()}\")\n",
    "\n",
    "# verify the message\n",
    "print(f\"Signature valid? {VerifyMessage(bitcoin_address_, bitcoin_msg, signature_)}\")\n"
   ]
  },
  {
   "cell_type": "code",
   "execution_count": 35,
   "metadata": {},
   "outputs": [
    {
     "name": "stdout",
     "output_type": "stream",
     "text": [
      "Private key not encoded: f0369563b1ef8a03914b5bfe916428ddc0891a80ee89dacc087fbe28c96d60e901\n",
      "Bitcoin private key: f0369563b1ef8a03914b5bfe916428ddc0891a80ee89dacc087fbe28c96d60e901\n",
      "bitcoin public not encoded: 033fce724006fcc3ad6299d70736d22b26e594fc1545f122301670a9cbd87d7ab8\n",
      "Bitcoin public key: 033fce724006fcc3ad6299d70736d22b26e594fc1545f122301670a9cbd87d7ab8\n",
      "Bitcoin address from top: 19zBGcx3vR3J1JHQBXuWH2geHyq9h13nTK\n",
      "Bitcoin address from pubkey: 19zBGcx3vR3J1JHQBXuWH2geHyq9h13nTK\n"
     ]
    }
   ],
   "source": [
    "# verify the handmade message from the top\n",
    "# print(f'Private Key BAse58 Encoded: {base58.b58encode(private_key_raw + b\"\\x01\")}')\n",
    "print(f'Private key not encoded: {private_key_raw.hex() + \"01\"}')\n",
    "# bitccoin_private_key = CBitcoinSecret.from_secret_bytes(private_key_raw)\n",
    "bitccoin_private_key = CBitcoinSecret.from_secret_bytes(bytes.fromhex(private_key_raw.hex() + \"01\"), 0)\n",
    "bitccoin_private_key_bytes = bitccoin_private_key\n",
    "\n",
    "# print(f\"Bitcoin private key: {bitccoin_private_key_bytes.hex()[:-2]}\")\n",
    "print(f\"Bitcoin private key: {bitccoin_private_key_bytes.hex()}\")\n",
    "\n",
    "# bitcoin_public_key_bytes = bitccoin_private_key_bytes.pub\n",
    "# print(f'Public key base58 Encoded: {base58.b58encode(private_key.get_verifying_key().to_string('compressed'))}')\n",
    "print(f'bitcoin public not encoded: {private_key.get_verifying_key().to_string('compressed').hex()}')\n",
    "\n",
    "def compress_public_key(public_key: bytes) -> bytes:\n",
    "    x = public_key[:32]\n",
    "    y = public_key[32:]\n",
    "    if int.from_bytes(y, 'big') % 2 == 0:\n",
    "        return b'\\x02' + x\n",
    "    else:\n",
    "        return b'\\x03' + x\n",
    "    \n",
    "# bitcoin_public_key_bytes = compress_public_key(private_key_raw.get_verifying_key().to_string())\n",
    "bitcoin_public_key_bytes = private_key.get_verifying_key().to_string('compressed')\n",
    "print(f\"Bitcoin public key: {bitcoin_public_key_bytes.hex()}\")\n",
    "\n",
    "print(f\"Bitcoin address from top: {bitcoin_address}\")\n",
    "bitcoin_address_bytes = P2PKHBitcoinAddress.from_pubkey(bytes.fromhex(bitcoin_public_key_bytes.hex()))\n",
    "print(f\"Bitcoin address from pubkey: {bitcoin_address_bytes}\")\n",
    "\n",
    "# bitcoin_address_bytes = P2PKHBitcoinAddress.from_bytes(bytes.fromhex(bitcoin_public_key_bytes.hex()), 0)\n",
    "# print(f\"Bitcoin address: {bitcoin_address_bytes}\")\n"
   ]
  },
  {
   "cell_type": "code",
   "execution_count": 36,
   "metadata": {},
   "outputs": [
    {
     "name": "stdout",
     "output_type": "stream",
     "text": [
      "Bitcoin message: b'Bitcoin Signed Message:\\n' b'Hello world!' 9b45fcc99ed84a7051317cc9c804b0235925ea1d9117cb9eb49b22efc3df28b3\n",
      "signature from top: ILu++5NhrcqiVPNsQDGDS01666oyoyUQmw2gQcAML+pLDMu/7zlEgR6bHMD2MfaGtVE1J0D1LHO759BjreWifKU=\n",
      "Signature from top b64: b'SUx1Kys1TmhyY3FpVlBOc1FER0RTMDE2NjZveW95VVFtdzJnUWNBTUwrcExETXUvN3psRWdSNmJITUQyTWZhR3RWRTFKMEQxTEhPNzU5QmpyZVdpZktVPQ=='\n",
      "b\"\\xbcD\\x89H\\xa1c\\xee0\\x9c\\x7f\\\\\\x16;\\xedx\\x99G\\xe7\\x80\\xbb3a\\xcf\\x19Uc\\xa2\\xbf\\xd63\\r\\x85}d\\xf6\\xa7X\\xb8\\xad\\xe0)\\xde\\xce'\\xf6!\\xb8ju\\xfd\\xb3\\xd0\\xde\\t\\x85\\x8c\\xc1\\x83k\\x03Q\\xa1`\\x96\" 1\n",
      "Signature bytes: ILxEiUihY+4wnH9cFjvteJlH54C7M2HPGVVjor/WMw2FfWT2p1i4reAp3s4n9iG4anX9s9DeCYWMwYNrA1GhYJY=\n",
      "signature bytes decoded: 20bc448948a163ee309c7f5c163bed789947e780bb3361cf195563a2bfd6330d857d64f6a758b8ade029dece27f621b86a75fdb3d0de09858cc1836b0351a16096\n",
      "Signature valid? True\n"
     ]
    }
   ],
   "source": [
    "\n",
    "bitcoin_message_bytes = BitcoinMessage(message_)\n",
    "print(f\"Bitcoin message: {bitcoin_message_bytes.magic} {bitcoin_message_bytes.message} {bitcoin_message_bytes.GetHash().hex()}\")\n",
    "\n",
    "print(f'signature from top: {signature_.decode()}')\n",
    "# print(f'signature from top b64: {base64.b64encode(signature)}')\n",
    "# signature_bytes = signature.__bytes__()\n",
    "signature_bytes_b64 = base64.b64encode(signature_)\n",
    "print(f\"Signature from top b64: {signature_bytes_b64}\")\n",
    "\n",
    "#sign message using bitcoin library\n",
    "signature_bytes = SignMessage(bitccoin_private_key, bitcoin_message_bytes)\n",
    "print(f\"Signature bytes: {signature_bytes.decode()}\")\n",
    "\n",
    "# print(f'signature_bytes_hex: {base64.b64encode(signature_bytes).hex()}')\n",
    "print(f'signature bytes decoded: {base64.b64decode(signature_bytes).hex()}')\n",
    "\n",
    "# verify the message\n",
    "print(f\"Signature valid? {VerifyMessage(bitcoin_address_bytes, bitcoin_message_bytes, signature_bytes)}\")"
   ]
  },
  {
   "cell_type": "markdown",
   "metadata": {},
   "source": []
  },
  {
   "cell_type": "code",
   "execution_count": 37,
   "metadata": {},
   "outputs": [
    {
     "name": "stdout",
     "output_type": "stream",
     "text": [
      "Private key: f0369563b1ef8a03914b5bfe916428ddc0891a80ee89dacc087fbe28c96d60e9\n",
      "Public key: 033fce724006fcc3ad6299d70736d22b26e594fc1545f122301670a9cbd87d7ab8\n",
      "Bitcoin address: 19zBGcx3vR3J1JHQBXuWH2geHyq9h13nTK\n",
      "Message: 9b45fcc99ed84a7051317cc9c804b0235925ea1d9117cb9eb49b22efc3df28b3\n",
      "Signature: 57d4b36785486d5d4020a76a25a1e45cf20d278f07b10bf4d0e8b4080e4e9b2474be8b6812ef7166f8ddfc92d78a06a0fdf82f9e92c58af7028ebfd9a25f10bc\n",
      "Signature ascii: 57d4b36785486d5d4020a76a25a1e45cf20d278f07b10bf4d0e8b4080e4e9b2474be8b6812ef7166f8ddfc92d78a06a0fdf82f9e92c58af7028ebfd9a25f10bc\n",
      "Signature unhex: b\"W\\xd4\\xb3g\\x85Hm]@ \\xa7j%\\xa1\\xe4\\\\\\xf2\\r'\\x8f\\x07\\xb1\\x0b\\xf4\\xd0\\xe8\\xb4\\x08\\x0eN\\x9b$t\\xbe\\x8bh\\x12\\xefqf\\xf8\\xdd\\xfc\\x92\\xd7\\x8a\\x06\\xa0\\xfd\\xf8/\\x9e\\x92\\xc5\\x8a\\xf7\\x02\\x8e\\xbf\\xd9\\xa2_\\x10\\xbc\"\n",
      "Signature b64: V9SzZ4VIbV1AIKdqJaHkXPINJ48HsQv00Oi0CA5OmyR0votoEu9xZvjd/JLXigag/fgvnpLFivcCjr/Zol8QvA==\n",
      "Signature valid\n"
     ]
    }
   ],
   "source": [
    "# Get the private key\n",
    "private_key_hex = private_key_raw.hex()\n",
    "private_key_bytes = binascii.unhexlify(private_key_hex)\n",
    "private_key = ecdsa.SigningKey.from_string(private_key_bytes, curve=ecdsa.SECP256k1)\n",
    "print(f\"Private key: {private_key.to_string().hex()}\")\n",
    "\n",
    "# Get the public key\n",
    "public_key_hex = private_key.get_verifying_key().to_string('compressed').hex()\n",
    "public_key_bytes = binascii.unhexlify(public_key_hex)\n",
    "public_key = ecdsa.VerifyingKey.from_string(public_key_bytes, curve=ecdsa.SECP256k1)\n",
    "print(f\"Public key: {public_key.to_string('compressed').hex()}\")\n",
    "\n",
    "# Get the bitcoin address\n",
    "bitcoin_address = P2PKHBitcoinAddress.from_pubkey(public_key_bytes)\n",
    "print(f\"Bitcoin address: {bitcoin_address}\")\n",
    "\n",
    "# The message to sign\n",
    "message = message_hash\n",
    "print(f\"Message: {message.hex()}\")\n",
    "\n",
    "# Sign the message\n",
    "signature = private_key.sign(message)\n",
    "\n",
    "# Print the signature in hexadecimal format\n",
    "print(f\"Signature: {binascii.hexlify(signature).decode()}\")\n",
    "print(f\"Signature ascii: {binascii.hexlify(signature).decode('ascii')}\")\n",
    "\n",
    "signature_hex = binascii.hexlify(signature).decode('ascii')\n",
    "\n",
    "# The signature\n",
    "signature_unhex = binascii.unhexlify(signature_hex.encode('ascii'))\n",
    "print(f\"Signature unhex: {signature_unhex}\")\n",
    "\n",
    "# signature base64\n",
    "signature_b64 = base64.b64encode(signature_unhex).decode('ascii')\n",
    "print(f\"Signature b64: {signature_b64}\")\n",
    "\n",
    "# Verify the signature\n",
    "try:\n",
    "    public_key.verify(signature_unhex, message)\n",
    "    print(\"Signature valid\")\n",
    "except ecdsa.BadSignatureError:\n",
    "    print(\"Signature invalid\")"
   ]
  }
 ],
 "metadata": {
  "kernelspec": {
   "display_name": ".venv",
   "language": "python",
   "name": "python3"
  },
  "language_info": {
   "codemirror_mode": {
    "name": "ipython",
    "version": 3
   },
   "file_extension": ".py",
   "mimetype": "text/x-python",
   "name": "python",
   "nbconvert_exporter": "python",
   "pygments_lexer": "ipython3",
   "version": "3.12.0"
  }
 },
 "nbformat": 4,
 "nbformat_minor": 2
}
