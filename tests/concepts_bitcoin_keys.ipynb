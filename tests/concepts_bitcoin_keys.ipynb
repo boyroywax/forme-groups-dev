{
 "cells": [
  {
   "cell_type": "markdown",
   "metadata": {},
   "source": [
    "# Bitcoin Key Pairs"
   ]
  },
  {
   "cell_type": "code",
   "execution_count": 1,
   "metadata": {
    "vscode": {
     "languageId": "shellscript"
    }
   },
   "outputs": [],
   "source": [
    "# pip install ecdsa"
   ]
  },
  {
   "cell_type": "markdown",
   "metadata": {},
   "source": [
    "## Manual Key Generation"
   ]
  },
  {
   "cell_type": "code",
   "execution_count": 2,
   "metadata": {},
   "outputs": [
    {
     "name": "stdout",
     "output_type": "stream",
     "text": [
      "Private key raw: a94b359bfb90d536715b90c0357e6291850dd6d9f77df229471696bbf3630263\n",
      "Private key: a94b359bfb90d536715b90c0357e6291850dd6d9f77df229471696bbf3630263\n",
      "Public key: 0220a625bdfbab8e952ab24ff9f6d7bdb72566f8c7383cc45ecbac75849d0eb02c\n"
     ]
    }
   ],
   "source": [
    "import ecdsa\n",
    "import binascii\n",
    "import hashlib\n",
    "\n",
    "\n",
    "# # Generate a private key\n",
    "private_key_raw_object = ecdsa.SigningKey.generate(curve=ecdsa.SECP256k1, hashfunc=hashlib.sha256)\n",
    "print(\"Private key raw:\", private_key_raw_object.to_string().hex())\n",
    "\n",
    "private_key_raw = private_key_raw_object.to_string()\n",
    "\n",
    "# Get the private key\n",
    "# private_key_hex = private_key_raw.to_string().hex()\n",
    "# private_key_bytes = binascii.unhexlify(private_key_hex)\n",
    "private_key = ecdsa.SigningKey.from_string(private_key_raw, curve=ecdsa.SECP256k1, hashfunc=hashlib.sha256)\n",
    "print(\"Private key:\", private_key.to_string().hex())\n",
    "\n",
    "# Get the public key\n",
    "# public_key: ecdsa.VerifyingKey = private_key.get_verifying_key()\n",
    "public_key = private_key.get_verifying_key()\n",
    "\n",
    "# Print the public key in hexadecimal format\n",
    "print(f\"Public key: {public_key.to_string(\"compressed\").hex()}\")\n"
   ]
  },
  {
   "cell_type": "markdown",
   "metadata": {},
   "source": [
    "While the public key is correct it is not in the proper format. "
   ]
  },
  {
   "cell_type": "markdown",
   "metadata": {},
   "source": [
    "## Bitcoin Address\n",
    "\n",
    "Finding the bitcoin public key or bitcoin address from the private key is a bit more complicated.\n",
    "\n",
    "The public key is a point on the elliptic curve, but it is not in the proper format. The proper format is a 65 byte array with the first byte being 0x04 and the next 32 bytes being the x coordinate and the last 32 bytes being the y coordinate. The x and y coordinates are 32 bytes each because they are 256 bit numbers. The first byte is 0x04 because it is an uncompressed public key. There are compressed public keys which are 33 bytes long, but we will not be using them."
   ]
  },
  {
   "cell_type": "markdown",
   "metadata": {},
   "source": [
    "### Create a bitcoin address"
   ]
  },
  {
   "cell_type": "code",
   "execution_count": 3,
   "metadata": {},
   "outputs": [
    {
     "name": "stdout",
     "output_type": "stream",
     "text": [
      "SHA256:  25989afbfc7b7ff042a6b65fe1b8dd4cc7f8cf6d3787fc47aa4fa354a5092230\n",
      "RIPEMD-160:  ba9ce295187e5d85b00c68399e3b491a44eea433\n",
      "Address checksum:  e2604c18\n",
      "Binary Bitcoin Address:  00ba9ce295187e5d85b00c68399e3b491a44eea433e2604c18\n",
      "Bitcoin address:  1J1idFMPFsXo5f7reucA6adZBA9Qh1hCGf\n"
     ]
    }
   ],
   "source": [
    "import hashlib\n",
    "import base58\n",
    "\n",
    "# Generate a bitcoin address\n",
    "# Step 1: Hash public key\n",
    "sha256: bytes = hashlib.sha256(public_key.to_string('compressed')).digest()\n",
    "print(\"SHA256: \", sha256.hex())\n",
    "\n",
    "# Step 2: Perform RIPEMD-160 hashing on the result of SHA256\n",
    "ripemd160 = hashlib.new('ripemd160')\n",
    "ripemd160.update(sha256)\n",
    "hashed_public_key = ripemd160.digest()\n",
    "print(\"RIPEMD-160: \", hashed_public_key.hex())\n",
    "\n",
    "# Step 3: Add version byte in front of RIPEMD-160 hash (0x00 for Main Network)\n",
    "hashed_public_key = b'\\x00' + hashed_public_key\n",
    "\n",
    "# Step 4: Perform SHA256 hash on the extended RIPEMD-160 result\n",
    "double_sha256 = hashlib.sha256(hashlib.sha256(hashed_public_key).digest()).digest()\n",
    "\n",
    "# Step 5: Take the first 4 bytes of the second SHA256 hash. This is the address checksum\n",
    "address_checksum = double_sha256[:4]\n",
    "print(\"Address checksum: \", address_checksum.hex())\n",
    "\n",
    "# Step 6: Add the 4 checksum bytes from stage 5 at the end of extended RIPEMD-160 hash from stage 4. This is the 25-byte binary Bitcoin Address.\n",
    "binary_bitcoin_address = hashed_public_key + address_checksum\n",
    "print(\"Binary Bitcoin Address: \", binary_bitcoin_address.hex())\n",
    "\n",
    "# Step 7: Convert the result from a byte string into a base58 string using Base58Check encoding. This is the most commonly used Bitcoin Address format\n",
    "bitcoin_address = base58.b58encode(binary_bitcoin_address).decode()\n",
    "print(\"Bitcoin address: \", bitcoin_address)"
   ]
  },
  {
   "cell_type": "markdown",
   "metadata": {},
   "source": [
    "### Verify a bitcoin address"
   ]
  },
  {
   "cell_type": "code",
   "execution_count": 4,
   "metadata": {},
   "outputs": [
    {
     "name": "stdout",
     "output_type": "stream",
     "text": [
      "Bitcoin address is valid: True\n"
     ]
    }
   ],
   "source": [
    "# Verify that the bitcoin address is correct\n",
    "# Step 1: Decode Base58 Bitcoin Address\n",
    "binary_bitcoin_address_check = base58.b58decode(bitcoin_address)\n",
    "\n",
    "# Step 2: Extract Bitcoin Address from decoded Base58 Bitcoin Address\n",
    "binary_bitcoin_address = binary_bitcoin_address_check[:-4]\n",
    "\n",
    "# Step 3: Extract Bitcoin Address Checksum from decoded Base58 Bitcoin Address\n",
    "binary_bitcoin_address_checksum = binary_bitcoin_address_check[-4:]\n",
    "\n",
    "# Step 4: Perform SHA256 hash on the extended RIPEMD-160 result\n",
    "double_sha256 = hashlib.sha256(hashlib.sha256(binary_bitcoin_address).digest()).digest()\n",
    "\n",
    "# Step 5: Take the first 4 bytes of the second SHA256 hash. This is the address checksum\n",
    "address_checksum = double_sha256[:4]\n",
    "\n",
    "# Step 6: Verify that the address checksum from decoded Base58 Bitcoin Address is equal to the address checksum from the SHA256 hash\n",
    "print(\"Bitcoin address is valid:\", binary_bitcoin_address_checksum == address_checksum)"
   ]
  },
  {
   "cell_type": "markdown",
   "metadata": {},
   "source": [
    "## Signing Messages\n",
    "\n",
    "### Sign a message"
   ]
  },
  {
   "cell_type": "code",
   "execution_count": 5,
   "metadata": {},
   "outputs": [],
   "source": [
    "def encode_varint(i: int) -> bytes:\n",
    "    \"\"\"\n",
    "    Encode a potentially very large integer into varint bytes. The length should be\n",
    "    specified in little-endian.\n",
    "\n",
    "    https://bitcoin.org/en/developer-reference#compactsize-unsigned-integers\n",
    "    \"\"\"\n",
    "    if i < 253:\n",
    "        return bytes([i])\n",
    "    elif i < 0x10000:\n",
    "        return b\"\\xfd\" + i.to_bytes(2, \"little\")\n",
    "    elif i < 0x100000000:\n",
    "        return b\"\\xfe\" + i.to_bytes(4, \"little\")\n",
    "    elif i < 0x10000000000000000:\n",
    "        return b\"\\xff\" + i.to_bytes(8, \"little\")\n",
    "    else:\n",
    "        raise ValueError(\"Integer is too large: %d\" % i)"
   ]
  },
  {
   "cell_type": "code",
   "execution_count": 6,
   "metadata": {},
   "outputs": [
    {
     "name": "stdout",
     "output_type": "stream",
     "text": [
      "Message hash: 9b45fcc99ed84a7051317cc9c804b0235925ea1d9117cb9eb49b22efc3df28b3\n",
      "Signature in b64: 744877795a58524f4d6c6b2b2f6e43506a646961696c554c657167505a6d6f6361453350635262636170793938546c456b50533032547865706d4a54436272592b746b6b47304e3053317972426148324a67725133413d3d\n",
      "Signature hex: b47c3265744e32593efe708f8dd89a8a550b7aa80f666a1c684dcf7116dc6a9cbdf1394490f4b4d93c5ea6625309bad8fad9241b43744b5cab05a1f6260ad0dc\n",
      "True\n"
     ]
    }
   ],
   "source": [
    "# Path: concepts_bitcoin_transactions.ipynb\n",
    "import base64\n",
    "\n",
    "private_key_raw_1 = private_key_raw_object\n",
    "msg = b\"Hello world!\"\n",
    "msg_size = encode_varint(len(msg))\n",
    "message_hash = hashlib.sha256(hashlib.sha256(b'\\x18Bitcoin Signed Message:\\n' + msg_size + msg).digest()).digest()\n",
    "print(\"Message hash:\", message_hash.hex())\n",
    "\n",
    "signature_ = private_key_raw_1.sign_deterministic(message_hash)\n",
    "# Use the private key to sign a message\n",
    "# message = bytes(\"Bitcoin Signed Message:\\nHello world!\", \"utf-8\")\n",
    "# message = b\"\\x18Bitcoin Signed Message:\\n\" + msg_size + msg\n",
    "# message_size = encode_varint(len(message))\n",
    "# signature_ = private_key.sign_deterministic(hashlib.sha256(hashlib.sha256(message).digest()).digest())\n",
    "# print(\"Signature:\", signature_.hex())\n",
    "print(f'Signature in b64: {base64.b64encode(signature_).hex()}')\n",
    "print(\"Signature hex:\", binascii.hexlify(signature_).decode('ascii'))\n",
    "\n",
    "# Verify the signature\n",
    "print(public_key.verify(signature_, message_hash))\n"
   ]
  },
  {
   "cell_type": "code",
   "execution_count": 7,
   "metadata": {},
   "outputs": [
    {
     "name": "stdout",
     "output_type": "stream",
     "text": [
      "Signature: 68b07eb4809ff64c8b0dbc5191beed756e19ca907f0cc8b057e742794624cce24f1da289646d58948731f4c32207c7e6f7cfb3a8a3c389c05eb8a93e504ca98a\n",
      "Signature b64: 614c422b74494366396b794c446278526b6237746457345a7970422f444d6977562b64436555596b7a4f4a5048614b4a5a4731596c496378394d4d694238666d39382b7a714b504469634265754b6b2b5545797069673d3d\n",
      "Public key: 0220a625bdfbab8e952ab24ff9f6d7bdb72566f8c7383cc45ecbac75849d0eb02c\n"
     ]
    }
   ],
   "source": [
    "# Get the private key\n",
    "# private_key_hex = 'your_private_key_here'\n",
    "# private_key_bytes = bytes.fromhex(private_key_hex)\n",
    "# private_key = ecdsa.SigningKey.from_string(private_key_bytes, curve=ecdsa.SECP256k1)\n",
    "\n",
    "# The message to sign\n",
    "# message = 'your_message_here'\n",
    "\n",
    "# Sign the message\n",
    "signature = private_key_raw_1.sign(message_hash)\n",
    "print(f\"Signature: {signature.hex()}\")\n",
    "\n",
    "# Print the signature in base64 format\n",
    "signature_b64 = base64.b64encode(signature).hex()\n",
    "print(f\"Signature b64: {signature_b64}\")\n",
    "\n",
    "# Get the public key\n",
    "public_key: ecdsa.VerifyingKey = private_key_raw_1.get_verifying_key()\n",
    "print(f\"Public key: {public_key.to_string('compressed').hex()}\")\n"
   ]
  },
  {
   "cell_type": "markdown",
   "metadata": {},
   "source": [
    "### Verify a message"
   ]
  },
  {
   "cell_type": "code",
   "execution_count": 8,
   "metadata": {},
   "outputs": [
    {
     "name": "stdout",
     "output_type": "stream",
     "text": [
      "Signature valid\n"
     ]
    }
   ],
   "source": [
    "# Use the public key to verify a message\n",
    "# Verify the signature\n",
    "try:\n",
    "    public_key.verify(signature, message_hash)\n",
    "    print(\"Signature valid\")\n",
    "except ecdsa.BadSignatureError:\n",
    "    print(\"Signature invalid\")"
   ]
  },
  {
   "cell_type": "markdown",
   "metadata": {},
   "source": [
    "# Libraries for bitcoin keys"
   ]
  },
  {
   "cell_type": "markdown",
   "metadata": {},
   "source": [
    "### pybitcoin\n",
    "\n",
    "No longer maintained and does not work with python 3.12"
   ]
  },
  {
   "cell_type": "code",
   "execution_count": 9,
   "metadata": {
    "vscode": {
     "languageId": "shellscript"
    }
   },
   "outputs": [],
   "source": [
    "# pip install pybitcoin"
   ]
  },
  {
   "cell_type": "code",
   "execution_count": 10,
   "metadata": {},
   "outputs": [],
   "source": [
    "# from pybitcoin import BitcoinPrivateKey\n",
    "\n",
    "# # Generate a private key\n",
    "# private_key = BitcoinPrivateKey()\n",
    "# print(f\"Private key: {private_key.to_hex()}\")\n",
    "\n",
    "# # Generate a public key\n",
    "# public_key = private_key.public_key()\n",
    "# print(f\"Public key: {public_key.to_hex()}\")\n",
    "\n",
    "# # Generate a bitcoin address\n",
    "# bitcoin_address = public_key.address()\n",
    "# print(f\"Bitcoin address: {bitcoin_address}\")"
   ]
  },
  {
   "cell_type": "markdown",
   "metadata": {},
   "source": [
    "### bitcoin-utils\n",
    "\n",
    "Package appears damaged and does not work with python 3.12"
   ]
  },
  {
   "cell_type": "code",
   "execution_count": 11,
   "metadata": {
    "vscode": {
     "languageId": "shellscript"
    }
   },
   "outputs": [],
   "source": [
    "# pip install bitcoin-utils"
   ]
  },
  {
   "cell_type": "code",
   "execution_count": 12,
   "metadata": {},
   "outputs": [],
   "source": [
    "# from bitcoinutils.keys import PrivateKey, PublicKey\n",
    "\n",
    "# # Generate a private key\n",
    "# private_key = PrivateKey()\n",
    "# print(f\"Private key: {private_key.to_wif(compressed=True)}\")\n",
    "\n",
    "# # get the public key\n",
    "# public_key: PublicKey = private_key.get_public_key()\n",
    "# print(f\"Public key: {public_key.to_hex(compressed=True)}\")\n",
    "\n",
    "# # get the bitcoin address\n",
    "# bitcoin_address = public_key.get_address()\n",
    "# print(f\"Bitcoin address: {bitcoin_address.to_string()}\")\n",
    "# print(f'Hash160: {bitcoin_address.to_hash160()}')\n",
    "\n"
   ]
  },
  {
   "cell_type": "markdown",
   "metadata": {},
   "source": [
    "Sign a message with a private key and verify the signature with the public key."
   ]
  },
  {
   "cell_type": "code",
   "execution_count": 13,
   "metadata": {},
   "outputs": [],
   "source": [
    "# message: str = \"Hello\"\n",
    "# signature = private_key.sign_message(message)\n",
    "# print(f\"Signature: {signature}\")\n",
    "# # print(f\"Signature valid? {public_key.verify(message, signature)}\")\n",
    "# print(f\"Signature valid? {public_key.verify_message(public_key.get_address().to_string(), message, signature)}\")"
   ]
  },
  {
   "cell_type": "markdown",
   "metadata": {},
   "source": [
    "### python-bitcoinlib"
   ]
  },
  {
   "cell_type": "code",
   "execution_count": 14,
   "metadata": {
    "vscode": {
     "languageId": "shellscript"
    }
   },
   "outputs": [],
   "source": [
    "# pip install python-bitcoinlib"
   ]
  },
  {
   "cell_type": "code",
   "execution_count": 15,
   "metadata": {},
   "outputs": [
    {
     "name": "stdout",
     "output_type": "stream",
     "text": [
      "Private key: KzVbNeCLTjRncqYKpNh6rsaJeWCiCvJg7RB54PTWUMAnnv353vAu\n",
      "Public key: 02f9c61b27bf511bb0daeef305c23381df8a75fb8e5b169d3796e63e40bc10810e\n",
      "Bitcoin address: 19U5dCcukd1nYfn5UWtyELt7zQKkj98mm4\n",
      "Bitcoin message: b'Bitcoin Signed Message:\\n' b'Hello world!' 9b45fcc99ed84a7051317cc9c804b0235925ea1d9117cb9eb49b22efc3df28b3\n",
      "b'\\x88\\xfc\\xcc\\x03\\x97f\\x98\\x93\\x96\\x15\\xd4\\x9cg\\xf9\\xe1F\\xfb)\\x07S\\n\\xf6\\x8d\\x88\\xe1\\x18\\x01\\xbc\\x17\\xa4\\x04\\xe3\\x1d\\xfb\\x8e\\xba\\x96\\xff\\xb0k\\x89\\xaat\\xf3H\\xe9\\x80\\xa2\\x9c\\x91t\\xe7\\x9e\\x8a\\x07\\x81\\xe3\\x03{\\xdc\\x175\\x0e\\x91' 1\n",
      "Signature: b'IIj8zAOXZpiTlhXUnGf54Ub7KQdTCvaNiOEYAbwXpATjHfuOupb/sGuJqnTzSOmAopyRdOeeigeB4wN73Bc1DpE='\n",
      "Signature valid? True\n"
     ]
    }
   ],
   "source": [
    "import secrets\n",
    "import base64\n",
    "from bitcoin.wallet import CBitcoinSecret, P2PKHBitcoinAddress, CBitcoinAddress\n",
    "from bitcoin.signmessage import BitcoinMessage, VerifyMessage, SignMessage\n",
    "from bitcoin.core import x, lx, b2x, b2lx, Hash160\n",
    "\n",
    "message_: str = \"Hello world!\"\n",
    "\n",
    "# Generate a private key\n",
    "private_key_ = CBitcoinSecret.from_secret_bytes(secrets.token_bytes(32))\n",
    "print(f\"Private key: {private_key_}\")\n",
    "\n",
    "# Generate a public key\n",
    "public_key_ = private_key_.pub\n",
    "print(f\"Public key: {public_key_.hex()}\")\n",
    "\n",
    "# Generate a bitcoin address\n",
    "bitcoin_address_ = P2PKHBitcoinAddress.from_pubkey(public_key_)\n",
    "# bitcoin_address_ = CBitcoinAddress(bitcoin_address_)\n",
    "print(f\"Bitcoin address: {bitcoin_address_}\")\n",
    "\n",
    "# Sign message\n",
    "bitcoin_msg = BitcoinMessage(message_)\n",
    "print(f\"Bitcoin message: {bitcoin_msg.magic} {bitcoin_msg.message} {bitcoin_msg.GetHash().hex()}\")\n",
    "\n",
    "signature_ = SignMessage(private_key_, bitcoin_msg)\n",
    "print(f\"Signature: {signature_}\")\n",
    "\n",
    "# verify the message\n",
    "print(f\"Signature valid? {VerifyMessage(bitcoin_address_, bitcoin_msg, signature_)}\")\n"
   ]
  },
  {
   "cell_type": "code",
   "execution_count": 16,
   "metadata": {},
   "outputs": [
    {
     "name": "stdout",
     "output_type": "stream",
     "text": [
      "Private key not encoded: a94b359bfb90d536715b90c0357e6291850dd6d9f77df229471696bbf363026301\n",
      "Bitcoin private key: a94b359bfb90d536715b90c0357e6291850dd6d9f77df229471696bbf363026301\n",
      "bitcoin public not encoded: 0220a625bdfbab8e952ab24ff9f6d7bdb72566f8c7383cc45ecbac75849d0eb02c\n",
      "Bitcoin public key: 0220a625bdfbab8e952ab24ff9f6d7bdb72566f8c7383cc45ecbac75849d0eb02c\n",
      "Bitcoin address from top: 1J1idFMPFsXo5f7reucA6adZBA9Qh1hCGf\n",
      "Bitcoin address from pubkey: 1J1idFMPFsXo5f7reucA6adZBA9Qh1hCGf\n"
     ]
    }
   ],
   "source": [
    "# verify the handmade message from the top\n",
    "# print(f'Private Key BAse58 Encoded: {base58.b58encode(private_key_raw + b\"\\x01\")}')\n",
    "print(f'Private key not encoded: {private_key_raw.hex() + \"01\"}')\n",
    "# bitccoin_private_key = CBitcoinSecret.from_secret_bytes(private_key_raw)\n",
    "bitccoin_private_key = CBitcoinSecret.from_secret_bytes(bytes.fromhex(private_key_raw.hex() + \"01\"), 0)\n",
    "bitccoin_private_key_bytes = bitccoin_private_key\n",
    "\n",
    "# print(f\"Bitcoin private key: {bitccoin_private_key_bytes.hex()[:-2]}\")\n",
    "print(f\"Bitcoin private key: {bitccoin_private_key_bytes.hex()}\")\n",
    "\n",
    "# bitcoin_public_key_bytes = bitccoin_private_key_bytes.pub\n",
    "# print(f'Public key base58 Encoded: {base58.b58encode(private_key.get_verifying_key().to_string('compressed'))}')\n",
    "print(f'bitcoin public not encoded: {private_key.get_verifying_key().to_string('compressed').hex()}')\n",
    "\n",
    "def compress_public_key(public_key: bytes) -> bytes:\n",
    "    x = public_key[:32]\n",
    "    y = public_key[32:]\n",
    "    if int.from_bytes(y, 'big') % 2 == 0:\n",
    "        return b'\\x02' + x\n",
    "    else:\n",
    "        return b'\\x03' + x\n",
    "    \n",
    "# bitcoin_public_key_bytes = compress_public_key(private_key_raw.get_verifying_key().to_string())\n",
    "bitcoin_public_key_bytes = private_key.get_verifying_key().to_string('compressed')\n",
    "print(f\"Bitcoin public key: {bitcoin_public_key_bytes.hex()}\")\n",
    "\n",
    "print(f\"Bitcoin address from top: {bitcoin_address}\")\n",
    "bitcoin_address_bytes = P2PKHBitcoinAddress.from_pubkey(bytes.fromhex(bitcoin_public_key_bytes.hex()))\n",
    "print(f\"Bitcoin address from pubkey: {bitcoin_address_bytes}\")\n",
    "\n",
    "# bitcoin_address_bytes = P2PKHBitcoinAddress.from_bytes(bytes.fromhex(bitcoin_public_key_bytes.hex()), 0)\n",
    "# print(f\"Bitcoin address: {bitcoin_address_bytes}\")\n"
   ]
  },
  {
   "cell_type": "code",
   "execution_count": 17,
   "metadata": {},
   "outputs": [
    {
     "name": "stdout",
     "output_type": "stream",
     "text": [
      "Bitcoin message: b'Bitcoin Signed Message:\\n' b'Hello world!' 9b45fcc99ed84a7051317cc9c804b0235925ea1d9117cb9eb49b22efc3df28b3\n",
      "signature from top: IIj8zAOXZpiTlhXUnGf54Ub7KQdTCvaNiOEYAbwXpATjHfuOupb/sGuJqnTzSOmAopyRdOeeigeB4wN73Bc1DpE=\n",
      "Signature from top b64: b'SUlqOHpBT1hacGlUbGhYVW5HZjU0VWI3S1FkVEN2YU5pT0VZQWJ3WHBBVGpIZnVPdXBiL3NHdUpxblR6U09tQW9weVJkT2VlaWdlQjR3TjczQmMxRHBFPQ=='\n",
      "b\"OW\\xd0\\xff\\x9f\\xe6g\\x88>\\x143\\x92[\\xf7\\x9d\\x8e%\\x8b\\x01\\xd1xb\\x89\\xae\\x0c%c\\xd2\\xc50\\xc5\\x80\\x0f,\\x9b\\xa07F'\\xd4\\xb6_{\\\\?3Q\\xd2\\x81\\x9b\\x11\\xa0r\\xe3\\xb3\\xc2>\\xdd\\xdc*?\\x8e\\x86\\x00\" 1\n",
      "Signature bytes: IE9X0P+f5meIPhQzklv3nY4liwHReGKJrgwlY9LFMMWADyyboDdGJ9S2X3tcPzNR0oGbEaBy47PCPt3cKj+OhgA=\n",
      "signature bytes decoded: 204f57d0ff9fe667883e1433925bf79d8e258b01d1786289ae0c2563d2c530c5800f2c9ba0374627d4b65f7b5c3f3351d2819b11a072e3b3c23edddc2a3f8e8600\n",
      "Signature valid? True\n"
     ]
    }
   ],
   "source": [
    "\n",
    "bitcoin_message_bytes = BitcoinMessage(message_)\n",
    "print(f\"Bitcoin message: {bitcoin_message_bytes.magic} {bitcoin_message_bytes.message} {bitcoin_message_bytes.GetHash().hex()}\")\n",
    "\n",
    "print(f'signature from top: {signature_.decode()}')\n",
    "# print(f'signature from top b64: {base64.b64encode(signature)}')\n",
    "# signature_bytes = signature.__bytes__()\n",
    "signature_bytes_b64 = base64.b64encode(signature_)\n",
    "print(f\"Signature from top b64: {signature_bytes_b64}\")\n",
    "\n",
    "#sign message using bitcoin library\n",
    "signature_bytes = SignMessage(bitccoin_private_key, bitcoin_message_bytes)\n",
    "print(f\"Signature bytes: {signature_bytes.decode()}\")\n",
    "\n",
    "# print(f'signature_bytes_hex: {base64.b64encode(signature_bytes).hex()}')\n",
    "print(f'signature bytes decoded: {base64.b64decode(signature_bytes).hex()}')\n",
    "\n",
    "# verify the message\n",
    "print(f\"Signature valid? {VerifyMessage(bitcoin_address_bytes, bitcoin_message_bytes, signature_bytes)}\")"
   ]
  },
  {
   "cell_type": "markdown",
   "metadata": {},
   "source": []
  },
  {
   "cell_type": "code",
   "execution_count": 20,
   "metadata": {},
   "outputs": [
    {
     "name": "stdout",
     "output_type": "stream",
     "text": [
      "Private key: a94b359bfb90d536715b90c0357e6291850dd6d9f77df229471696bbf3630263\n",
      "Public key: 0220a625bdfbab8e952ab24ff9f6d7bdb72566f8c7383cc45ecbac75849d0eb02c\n",
      "Signature: a9cc5ac6361434a586a8d494622584fbcf39de7999ea05d536fe5a24a2527a1808b28fbff6cc47e4371d21a324bef6ff56967d8afee617a1c15d8716c952cc4e\n",
      "Signature unhex: b'\\xa9\\xccZ\\xc66\\x144\\xa5\\x86\\xa8\\xd4\\x94b%\\x84\\xfb\\xcf9\\xdey\\x99\\xea\\x05\\xd56\\xfeZ$\\xa2Rz\\x18\\x08\\xb2\\x8f\\xbf\\xf6\\xccG\\xe47\\x1d!\\xa3$\\xbe\\xf6\\xffV\\x96}\\x8a\\xfe\\xe6\\x17\\xa1\\xc1]\\x87\\x16\\xc9R\\xccN'\n",
      "Signature valid\n"
     ]
    }
   ],
   "source": [
    "# Get the private key\n",
    "private_key_hex = private_key_raw.hex()\n",
    "private_key_bytes = binascii.unhexlify(private_key_hex)\n",
    "private_key = ecdsa.SigningKey.from_string(private_key_bytes, curve=ecdsa.SECP256k1)\n",
    "print(f\"Private key: {private_key.to_string().hex()}\")\n",
    "\n",
    "# Get the public key\n",
    "public_key_hex = private_key.get_verifying_key().to_string('compressed').hex()\n",
    "public_key_bytes = binascii.unhexlify(public_key_hex)\n",
    "public_key = ecdsa.VerifyingKey.from_string(public_key_bytes, curve=ecdsa.SECP256k1)\n",
    "print(f\"Public key: {public_key.to_string('compressed').hex()}\")\n",
    "\n",
    "# The byte string to sign\n",
    "message = b'Hello world!'\n",
    "\n",
    "# Sign the message\n",
    "signature = private_key.sign(message_hash)\n",
    "\n",
    "# Print the signature in hexadecimal format\n",
    "print(f\"Signature: {binascii.hexlify(signature).decode()}\")\n",
    "\n",
    "signature_hex = binascii.hexlify(signature).decode()\n",
    "\n",
    "# The signature\n",
    "signature_unhex = binascii.unhexlify(signature_hex.encode('ascii'))\n",
    "print(f\"Signature unhex: {signature_unhex}\")\n",
    "\n",
    "# Verify the signature\n",
    "try:\n",
    "    public_key.verify(signature, message_hash)\n",
    "    print(\"Signature valid\")\n",
    "except ecdsa.BadSignatureError:\n",
    "    print(\"Signature invalid\")"
   ]
  }
 ],
 "metadata": {
  "kernelspec": {
   "display_name": ".venv",
   "language": "python",
   "name": "python3"
  },
  "language_info": {
   "codemirror_mode": {
    "name": "ipython",
    "version": 3
   },
   "file_extension": ".py",
   "mimetype": "text/x-python",
   "name": "python",
   "nbconvert_exporter": "python",
   "pygments_lexer": "ipython3",
   "version": "3.12.0"
  }
 },
 "nbformat": 4,
 "nbformat_minor": 2
}
