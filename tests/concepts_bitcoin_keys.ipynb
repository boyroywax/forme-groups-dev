{
 "cells": [
  {
   "cell_type": "markdown",
   "metadata": {},
   "source": [
    "# Bitcoin Key Pairs"
   ]
  },
  {
   "cell_type": "code",
   "execution_count": 1,
   "metadata": {
    "vscode": {
     "languageId": "shellscript"
    }
   },
   "outputs": [],
   "source": [
    "# pip install ecdsa"
   ]
  },
  {
   "cell_type": "markdown",
   "metadata": {},
   "source": [
    "## Manual Key Generation"
   ]
  },
  {
   "cell_type": "code",
   "execution_count": 2,
   "metadata": {},
   "outputs": [
    {
     "name": "stdout",
     "output_type": "stream",
     "text": [
      "Private key raw: 3839cf91e611d1b8f743ad1aa3bf9a6673752e95c1e2fd4d07bca30cbc2f9bcf\n",
      "Public key: 576a807151ae7bf4c279560a50f3edc2796f2727784cf250b39221688cf61966e9e08ab7d495fe5f0795d84708800262397b23acec4596a61c0285c48b731e45\n",
      "Compressed public key: 03576a807151ae7bf4c279560a50f3edc2796f2727784cf250b39221688cf61966\n"
     ]
    }
   ],
   "source": [
    "import ecdsa\n",
    "import binascii\n",
    "\n",
    "\n",
    "# # Generate a private key\n",
    "private_key_raw = ecdsa.SigningKey.generate(curve=ecdsa.SECP256k1)\n",
    "print(\"Private key raw:\", private_key_raw.to_string().hex())\n",
    "\n",
    "# Get the private key\n",
    "# private_key_hex = private_key_raw.to_string().hex()\n",
    "# private_key_bytes = binascii.unhexlify(private_key_hex)\n",
    "# private_key = ecdsa.SigningKey.from_string(private_key_bytes, curve=ecdsa.SECP256k1)\n",
    "\n",
    "# Get the public key\n",
    "public_key: ecdsa.VerifyingKey = private_key_raw.get_verifying_key()\n",
    "\n",
    "# Print the public key in hexadecimal format\n",
    "print(f\"Public key: {public_key.to_string().hex()}\")\n",
    "\n",
    "\n",
    "def compress_public_key(public_key: bytes) -> bytes:\n",
    "    x = public_key[:32]\n",
    "    y = public_key[32:]\n",
    "    if int.from_bytes(y, 'big') % 2 == 0:\n",
    "        return b'\\x02' + x\n",
    "    else:\n",
    "        return b'\\x03' + x\n",
    "    \n",
    "# Print the compressed public key\n",
    "print(f\"Compressed public key: {compress_public_key(public_key.to_string()).hex()}\")\n",
    "\n",
    "\n",
    "\n",
    "# # Convert private key to hex\n",
    "# private_key = private_key_raw.to_string().hex() + '01'\n",
    "# print(\"Private key:\", private_key)\n",
    "\n",
    "# # Generate a public key\n",
    "# public_key = private_key_raw.get_verifying_key()\n",
    "# print(\"Public key: \", public_key.to_string().hex())"
   ]
  },
  {
   "cell_type": "markdown",
   "metadata": {},
   "source": [
    "While the public key is correct it is not in the proper format. "
   ]
  },
  {
   "cell_type": "markdown",
   "metadata": {},
   "source": [
    "## Bitcoin Address\n",
    "\n",
    "Finding the bitcoin public key or bitcoin address from the private key is a bit more complicated.\n",
    "\n",
    "The public key is a point on the elliptic curve, but it is not in the proper format. The proper format is a 65 byte array with the first byte being 0x04 and the next 32 bytes being the x coordinate and the last 32 bytes being the y coordinate. The x and y coordinates are 32 bytes each because they are 256 bit numbers. The first byte is 0x04 because it is an uncompressed public key. There are compressed public keys which are 33 bytes long, but we will not be using them."
   ]
  },
  {
   "cell_type": "markdown",
   "metadata": {},
   "source": [
    "### Create a bitcoin address"
   ]
  },
  {
   "cell_type": "code",
   "execution_count": 3,
   "metadata": {},
   "outputs": [
    {
     "name": "stdout",
     "output_type": "stream",
     "text": [
      "Bitcoin address:  196fqHTSGuyHJYJH7MMs2GP49cd8ZHc1yG\n"
     ]
    }
   ],
   "source": [
    "import hashlib\n",
    "import base58\n",
    "\n",
    "# Generate a bitcoin address\n",
    "# Step 1: Hash public key\n",
    "sha256: bytes = hashlib.sha256(public_key.to_string().hex().encode()).digest()\n",
    "\n",
    "# Step 2: Perform RIPEMD-160 hashing on the result of SHA256\n",
    "ripemd160 = hashlib.new('ripemd160')\n",
    "ripemd160.update(sha256)\n",
    "hashed_public_key = ripemd160.digest()\n",
    "\n",
    "# Step 3: Add version byte in front of RIPEMD-160 hash (0x00 for Main Network)\n",
    "hashed_public_key = b'\\x00' + hashed_public_key\n",
    "\n",
    "# Step 4: Perform SHA256 hash on the extended RIPEMD-160 result\n",
    "double_sha256 = hashlib.sha256(hashlib.sha256(hashed_public_key).digest()).digest()\n",
    "\n",
    "# Step 5: Take the first 4 bytes of the second SHA256 hash. This is the address checksum\n",
    "address_checksum = double_sha256[:4]\n",
    "\n",
    "# Step 6: Add the 4 checksum bytes from stage 5 at the end of extended RIPEMD-160 hash from stage 4. This is the 25-byte binary Bitcoin Address.\n",
    "binary_bitcoin_address = hashed_public_key + address_checksum\n",
    "\n",
    "# Step 7: Convert the result from a byte string into a base58 string using Base58Check encoding. This is the most commonly used Bitcoin Address format\n",
    "bitcoin_address = base58.b58encode(binary_bitcoin_address).decode(\"ascii\")\n",
    "print(\"Bitcoin address: \", bitcoin_address)"
   ]
  },
  {
   "cell_type": "markdown",
   "metadata": {},
   "source": [
    "### Verify a bitcoin address"
   ]
  },
  {
   "cell_type": "code",
   "execution_count": 4,
   "metadata": {},
   "outputs": [
    {
     "name": "stdout",
     "output_type": "stream",
     "text": [
      "Bitcoin address is valid: True\n"
     ]
    }
   ],
   "source": [
    "# Verify that the bitcoin address is correct\n",
    "# Step 1: Decode Base58 Bitcoin Address\n",
    "binary_bitcoin_address_check = base58.b58decode(bitcoin_address)\n",
    "\n",
    "# Step 2: Extract Bitcoin Address from decoded Base58 Bitcoin Address\n",
    "binary_bitcoin_address = binary_bitcoin_address_check[:-4]\n",
    "\n",
    "# Step 3: Extract Bitcoin Address Checksum from decoded Base58 Bitcoin Address\n",
    "binary_bitcoin_address_checksum = binary_bitcoin_address_check[-4:]\n",
    "\n",
    "# Step 4: Perform SHA256 hash on the extended RIPEMD-160 result\n",
    "double_sha256 = hashlib.sha256(hashlib.sha256(binary_bitcoin_address).digest()).digest()\n",
    "\n",
    "# Step 5: Take the first 4 bytes of the second SHA256 hash. This is the address checksum\n",
    "address_checksum = double_sha256[:4]\n",
    "\n",
    "# Step 6: Verify that the address checksum from decoded Base58 Bitcoin Address is equal to the address checksum from the SHA256 hash\n",
    "print(\"Bitcoin address is valid:\", binary_bitcoin_address_checksum == address_checksum)"
   ]
  },
  {
   "cell_type": "markdown",
   "metadata": {},
   "source": [
    "## Signing Messages\n",
    "\n",
    "### Sign a message"
   ]
  },
  {
   "cell_type": "code",
   "execution_count": 5,
   "metadata": {},
   "outputs": [
    {
     "name": "stdout",
     "output_type": "stream",
     "text": [
      "Signature: b42cf72536589b6a8ed998f9a32d8a2cc7c77e24801b223a4368bfee8097b386350721d994c67bd0b1cbff8ed4f48e74cd19c974fb9329760c5cad1f726c17d3\n"
     ]
    }
   ],
   "source": [
    "# Path: concepts_bitcoin_transactions.ipynb\n",
    "\n",
    "# Use the private key to sign a message\n",
    "# message = bytes(\"Bitcoin Signed Message:\\nHello world!\", \"utf-8\")\n",
    "message = b\"\\x18Bitcoin Signed Message:\\n\" + b\"Hello world!\"\n",
    "signature = private_key_raw.sign_deterministic(message)\n",
    "# print(\"Signature:\", signature.__bytes__().hex())\n",
    "print(\"Signature:\", signature.hex())\n"
   ]
  },
  {
   "cell_type": "markdown",
   "metadata": {},
   "source": [
    "### Verify a message"
   ]
  },
  {
   "cell_type": "code",
   "execution_count": 6,
   "metadata": {},
   "outputs": [
    {
     "name": "stdout",
     "output_type": "stream",
     "text": [
      "True\n"
     ]
    }
   ],
   "source": [
    "# Use the public key to verify a message\n",
    "print(public_key.verify(signature, message))"
   ]
  },
  {
   "cell_type": "markdown",
   "metadata": {},
   "source": [
    "# Libraries for bitcoin keys"
   ]
  },
  {
   "cell_type": "markdown",
   "metadata": {},
   "source": [
    "### pybitcoin\n",
    "\n",
    "No longer maintained and does not work with python 3.12"
   ]
  },
  {
   "cell_type": "code",
   "execution_count": 7,
   "metadata": {
    "vscode": {
     "languageId": "shellscript"
    }
   },
   "outputs": [],
   "source": [
    "# pip install pybitcoin"
   ]
  },
  {
   "cell_type": "code",
   "execution_count": 8,
   "metadata": {},
   "outputs": [],
   "source": [
    "# from pybitcoin import BitcoinPrivateKey\n",
    "\n",
    "# # Generate a private key\n",
    "# private_key = BitcoinPrivateKey()\n",
    "# print(f\"Private key: {private_key.to_hex()}\")\n",
    "\n",
    "# # Generate a public key\n",
    "# public_key = private_key.public_key()\n",
    "# print(f\"Public key: {public_key.to_hex()}\")\n",
    "\n",
    "# # Generate a bitcoin address\n",
    "# bitcoin_address = public_key.address()\n",
    "# print(f\"Bitcoin address: {bitcoin_address}\")"
   ]
  },
  {
   "cell_type": "markdown",
   "metadata": {},
   "source": [
    "### bitcoin-utils\n",
    "\n",
    "Package appears damaged and does not work with python 3.12"
   ]
  },
  {
   "cell_type": "code",
   "execution_count": 9,
   "metadata": {
    "vscode": {
     "languageId": "shellscript"
    }
   },
   "outputs": [],
   "source": [
    "# pip install bitcoin-utils"
   ]
  },
  {
   "cell_type": "code",
   "execution_count": 10,
   "metadata": {},
   "outputs": [],
   "source": [
    "# from bitcoinutils.keys import PrivateKey, PublicKey\n",
    "\n",
    "# # Generate a private key\n",
    "# private_key = PrivateKey()\n",
    "# print(f\"Private key: {private_key.to_wif(compressed=True)}\")\n",
    "\n",
    "# # get the public key\n",
    "# public_key: PublicKey = private_key.get_public_key()\n",
    "# print(f\"Public key: {public_key.to_hex(compressed=True)}\")\n",
    "\n",
    "# # get the bitcoin address\n",
    "# bitcoin_address = public_key.get_address()\n",
    "# print(f\"Bitcoin address: {bitcoin_address.to_string()}\")\n",
    "# print(f'Hash160: {bitcoin_address.to_hash160()}')\n",
    "\n"
   ]
  },
  {
   "cell_type": "markdown",
   "metadata": {},
   "source": [
    "Sign a message with a private key and verify the signature with the public key."
   ]
  },
  {
   "cell_type": "code",
   "execution_count": 11,
   "metadata": {},
   "outputs": [],
   "source": [
    "# message: str = \"Hello\"\n",
    "# signature = private_key.sign_message(message)\n",
    "# print(f\"Signature: {signature}\")\n",
    "# # print(f\"Signature valid? {public_key.verify(message, signature)}\")\n",
    "# print(f\"Signature valid? {public_key.verify_message(public_key.get_address().to_string(), message, signature)}\")"
   ]
  },
  {
   "cell_type": "markdown",
   "metadata": {},
   "source": [
    "### python-bitcoinlib"
   ]
  },
  {
   "cell_type": "code",
   "execution_count": 12,
   "metadata": {
    "vscode": {
     "languageId": "shellscript"
    }
   },
   "outputs": [],
   "source": [
    "# pip install python-bitcoinlib"
   ]
  },
  {
   "cell_type": "code",
   "execution_count": 13,
   "metadata": {},
   "outputs": [
    {
     "name": "stdout",
     "output_type": "stream",
     "text": [
      "Private key: L59Ho2m9qGE7cvhb2V9MqJnrtZYTCWMPNknu6QNWG6G5Vwc31wT3\n",
      "Public key: 0347bd324977e2ae469fdc9e8d03002d6689c600208e47dc7b94af69924808d599\n",
      "Bitcoin address: 1FU2yKCnXYum2jsBJHGNgJA3pXYYyxpdk8\n",
      "Bitcoin message: b'Hello world!'\n",
      "Signature: 483236663931345865596e57455031744c665a5a6f6a2f597a74424a52317769594739316f79705479517931615155552b7751752b6368442b594b67504a6358447141714c3235424a4b79504d4e4470786135754c2b593d\n",
      "Signature valid? True\n"
     ]
    }
   ],
   "source": [
    "import secrets\n",
    "import base64\n",
    "from bitcoin.wallet import CBitcoinSecret, P2PKHBitcoinAddress, CBitcoinAddress\n",
    "from bitcoin.signmessage import BitcoinMessage, VerifyMessage, SignMessage\n",
    "from bitcoin.core import x, lx, b2x, b2lx, Hash160\n",
    "\n",
    "message_: str = \"Hello world!\"\n",
    "\n",
    "# Generate a private key\n",
    "private_key_ = CBitcoinSecret.from_secret_bytes(secrets.token_bytes(32))\n",
    "print(f\"Private key: {private_key_}\")\n",
    "\n",
    "# Generate a public key\n",
    "public_key_ = private_key_.pub\n",
    "print(f\"Public key: {public_key_.hex()}\")\n",
    "\n",
    "# Generate a bitcoin address\n",
    "bitcoin_address_ = P2PKHBitcoinAddress.from_pubkey(public_key_)\n",
    "# bitcoin_address_ = CBitcoinAddress(bitcoin_address_)\n",
    "print(f\"Bitcoin address: {bitcoin_address_}\")\n",
    "\n",
    "# Sign message\n",
    "bitcoin_msg = BitcoinMessage(message_)\n",
    "print(f\"Bitcoin message: {bitcoin_msg.message}\")\n",
    "\n",
    "signature_ = SignMessage(private_key_, bitcoin_msg)\n",
    "print(f\"Signature: {signature_.hex()}\")\n",
    "\n",
    "# verify the message\n",
    "print(f\"Signature valid? {VerifyMessage(bitcoin_address_, bitcoin_msg, signature_)}\")\n"
   ]
  },
  {
   "cell_type": "code",
   "execution_count": 14,
   "metadata": {},
   "outputs": [
    {
     "name": "stdout",
     "output_type": "stream",
     "text": [
      "Private Key BAse58 Encoded: 4nUxdwXnJ6zcfmyptb57RVskAjUajKybpuSxyBAuCkjg\n",
      "Private key not encoded: 3839cf91e611d1b8f743ad1aa3bf9a6673752e95c1e2fd4d07bca30cbc2f9bcf01\n",
      "Bitcoin private key: 3839cf91e611d1b8f743ad1aa3bf9a6673752e95c1e2fd4d07bca30cbc2f9bcf01\n",
      "Public key base58 Encoded: b'2kNMNRctgcX3QVcw1u5Yy27C4yxhYUJ3YDFT6eU64wHj4vpkwdv1Ceob18xHEdqtJugw26CAkBqfMRpGnBMnkSfW'\n",
      "bitcoin public not encoded: b\"Wj\\x80qQ\\xae{\\xf4\\xc2yV\\nP\\xf3\\xed\\xc2yo''xL\\xf2P\\xb3\\x92!h\\x8c\\xf6\\x19f\\xe9\\xe0\\x8a\\xb7\\xd4\\x95\\xfe_\\x07\\x95\\xd8G\\x08\\x80\\x02b9{#\\xac\\xecE\\x96\\xa6\\x1c\\x02\\x85\\xc4\\x8bs\\x1eE\"\n",
      "Bitcoin public key: 03576a807151ae7bf4c279560a50f3edc2796f2727784cf250b39221688cf61966\n",
      "Bitcoin address from top: 196fqHTSGuyHJYJH7MMs2GP49cd8ZHc1yG\n",
      "Bitcoin address: 1NNSuRxt3i5k75Qz9TehrXnz1zfWDs2gdS\n",
      "Bitcoin message: b'Bitcoin Signed Message:\\n' b'\\x18Bitcoin Signed Message:\\nHello world!'\n",
      "signature from top: b42cf72536589b6a8ed998f9a32d8a2cc7c77e24801b223a4368bfee8097b386350721d994c67bd0b1cbff8ed4f48e74cd19c974fb9329760c5cad1f726c17d3\n",
      "Signature from top b64: b'tCz3JTZYm2qO2Zj5oy2KLMfHfiSAGyI6Q2i/7oCXs4Y1ByHZlMZ70LHL/47U9I50zRnJdPuTKXYMXK0fcmwX0w=='\n",
      "Signature bytes: b'IKCkM6HxYmatYhxx8l2lyN4yJNn+OK4OR9pAMIVidZTSGFeuZUIai/qkgb0E9krsU6box/qob3FqgNdG03UQq74='\n",
      "signature_bytes_hex: b' \\xa0\\xa43\\xa1\\xf1bf\\xadb\\x1cq\\xf2]\\xa5\\xc8\\xde2$\\xd9\\xfe8\\xae\\x0eG\\xda@0\\x85bu\\x94\\xd2\\x18W\\xaeeB\\x1a\\x8b\\xfa\\xa4\\x81\\xbd\\x04\\xf6J\\xecS\\xa6\\xe8\\xc7\\xfa\\xa8oqj\\x80\\xd7F\\xd3u\\x10\\xab\\xbe'\n",
      "Signature valid? False\n"
     ]
    }
   ],
   "source": [
    "# verify the handmade message from the top\n",
    "# bitcoin_address_bytes = P2PKHBitcoinAddress.from_bytes(public_key.to_string())\n",
    "print(f'Private Key BAse58 Encoded: {base58.b58encode(private_key_raw.to_string()).decode(\"utf-8\")}')\n",
    "print(f'Private key not encoded: {private_key_raw.to_string().hex() + \"01\"}')\n",
    "bitccoin_private_key = CBitcoinSecret.from_secret_bytes(private_key_raw.to_string())\n",
    "bitccoin_private_key_bytes = bitccoin_private_key\n",
    "\n",
    "# print(f\"Bitcoin private key: {bitccoin_private_key_bytes.hex()[:-2]}\")\n",
    "print(f\"Bitcoin private key: {bitccoin_private_key_bytes.hex()}\")\n",
    "\n",
    "# bitcoin_public_key_bytes = bitccoin_private_key_bytes.pub\n",
    "print(f'Public key base58 Encoded: {base58.b58encode(private_key_raw.get_verifying_key().to_string())}')\n",
    "print(f'bitcoin public not encoded: {private_key_raw.get_verifying_key().to_string()}')\n",
    "\n",
    "def compress_public_key(public_key: bytes) -> bytes:\n",
    "    x = public_key[:32]\n",
    "    y = public_key[32:]\n",
    "    if int.from_bytes(y, 'big') % 2 == 0:\n",
    "        return b'\\x02' + x\n",
    "    else:\n",
    "        return b'\\x03' + x\n",
    "    \n",
    "bitcoin_public_key_bytes = compress_public_key(private_key_raw.get_verifying_key().to_string())\n",
    "print(f\"Bitcoin public key: {bitcoin_public_key_bytes.hex()}\")\n",
    "\n",
    "print(f\"Bitcoin address from top: {bitcoin_address}\")\n",
    "bitcoin_address_bytes = P2PKHBitcoinAddress.from_pubkey(bitcoin_public_key_bytes)\n",
    "print(f\"Bitcoin address: {bitcoin_address_bytes}\")\n",
    "\n",
    "bitcoin_message_bytes = BitcoinMessage(message.decode())\n",
    "print(f\"Bitcoin message: {bitcoin_message_bytes.magic} {bitcoin_message_bytes.message}\")\n",
    "\n",
    "print(f'signature from top: {signature.hex()}')\n",
    "# print(f'signature from top b64: {base64.b64encode(signature)}')\n",
    "# signature_bytes = signature.__bytes__()\n",
    "signature_bytes_b64 = base64.b64encode(bytes.fromhex(signature.hex())) \n",
    "print(f\"Signature from top b64: {signature_bytes_b64}\")\n",
    "\n",
    "#sign message using bitcoin library\n",
    "signature_bytes = SignMessage(bitccoin_private_key, bitcoin_message_bytes)\n",
    "print(f\"Signature bytes: {signature_bytes}\")\n",
    "\n",
    "print(f'signature_bytes_hex: {base64.b64decode(signature_bytes).hex()}')\n",
    "\n",
    "# verify the message\n",
    "print(f\"Signature valid? {VerifyMessage(bitccoin_private_key, bitcoin_message_bytes, signature_bytes)}\")"
   ]
  }
 ],
 "metadata": {
  "kernelspec": {
   "display_name": ".venv",
   "language": "python",
   "name": "python3"
  },
  "language_info": {
   "codemirror_mode": {
    "name": "ipython",
    "version": 3
   },
   "file_extension": ".py",
   "mimetype": "text/x-python",
   "name": "python",
   "nbconvert_exporter": "python",
   "pygments_lexer": "ipython3",
   "version": "3.12.0"
  }
 },
 "nbformat": 4,
 "nbformat_minor": 2
}
