{
 "cells": [
  {
   "cell_type": "markdown",
   "metadata": {},
   "source": [
    "# Bitcoin Key Pairs"
   ]
  },
  {
   "cell_type": "code",
   "execution_count": 1,
   "metadata": {
    "vscode": {
     "languageId": "shellscript"
    }
   },
   "outputs": [],
   "source": [
    "# pip install ecdsa"
   ]
  },
  {
   "cell_type": "markdown",
   "metadata": {},
   "source": [
    "## Manual Key Generation"
   ]
  },
  {
   "cell_type": "code",
   "execution_count": 2,
   "metadata": {},
   "outputs": [
    {
     "name": "stdout",
     "output_type": "stream",
     "text": [
      "Private key raw: b'\\x97O\\xae-by[\\xf3\\xfd\\xb6X\\xf2\\x1b\\xcdH\\xc2As\\x19\\x8417e\\xd5\\xf3\\x89$U7\\xb1\\x7fN'\n",
      "Private key: 974fae2d62795bf3fdb658f21bcd48c241731984313765d5f389245537b17f4e\n",
      "Public key: 02b2465d9ebc12e4c856a1347b4df66114eaa717aee3b388e41d520531c851dc13\n"
     ]
    }
   ],
   "source": [
    "import ecdsa\n",
    "import binascii\n",
    "import hashlib\n",
    "\n",
    "\n",
    "# # Generate a private key\n",
    "private_key_raw_object = ecdsa.SigningKey.generate(curve=ecdsa.SECP256k1)\n",
    "print(\"Private key raw:\", private_key_raw_object.to_string())\n",
    "\n",
    "private_key_raw = private_key_raw_object.to_string()\n",
    "\n",
    "# Get the private key\n",
    "# private_key_hex = private_key_raw.to_string().hex()\n",
    "# private_key_bytes = binascii.unhexlify(private_key_hex)\n",
    "private_key = ecdsa.SigningKey.from_string(private_key_raw, curve=ecdsa.SECP256k1, hashfunc=hashlib.sha256)\n",
    "print(\"Private key:\", private_key.to_string().hex())\n",
    "\n",
    "# Get the public key\n",
    "# public_key: ecdsa.VerifyingKey = private_key.get_verifying_key()\n",
    "public_key = private_key.get_verifying_key()\n",
    "\n",
    "# Print the public key in hexadecimal format\n",
    "print(f\"Public key: {public_key.to_string(\"compressed\").hex()}\")\n",
    "# print(f\"Public key: {public_key.hex()}\")\n",
    "\n",
    "# def compress_public_key(public_key: bytes) -> bytes:\n",
    "#     x = public_key[:32]\n",
    "#     y = public_key[32:]\n",
    "#     if int.from_bytes(y, 'big') % 2 == 0:\n",
    "#         return b'\\x02' + x\n",
    "#     else:\n",
    "#         return b'\\x03' + x\n",
    "    \n",
    "# Print the compressed public key\n",
    "# print(f\"Compressed public key: {compress_public_key(public_key.to_string('compressed')).hex()}\")\n",
    "# print(f\"Compressed public key: {public_key.to_string('compressed').hex()}\")\n",
    "\n",
    "# # Convert private key to hex\n",
    "# private_key = private_key_raw.to_string().hex() + '01'\n",
    "# print(\"Private key:\", private_key)\n",
    "\n",
    "# # Generate a public key\n",
    "# public_key = private_key_raw.get_verifying_key()\n",
    "# print(\"Public key: \", public_key.to_string().hex())"
   ]
  },
  {
   "cell_type": "markdown",
   "metadata": {},
   "source": [
    "While the public key is correct it is not in the proper format. "
   ]
  },
  {
   "cell_type": "markdown",
   "metadata": {},
   "source": [
    "## Bitcoin Address\n",
    "\n",
    "Finding the bitcoin public key or bitcoin address from the private key is a bit more complicated.\n",
    "\n",
    "The public key is a point on the elliptic curve, but it is not in the proper format. The proper format is a 65 byte array with the first byte being 0x04 and the next 32 bytes being the x coordinate and the last 32 bytes being the y coordinate. The x and y coordinates are 32 bytes each because they are 256 bit numbers. The first byte is 0x04 because it is an uncompressed public key. There are compressed public keys which are 33 bytes long, but we will not be using them."
   ]
  },
  {
   "cell_type": "markdown",
   "metadata": {},
   "source": [
    "### Create a bitcoin address"
   ]
  },
  {
   "cell_type": "code",
   "execution_count": 3,
   "metadata": {},
   "outputs": [
    {
     "name": "stdout",
     "output_type": "stream",
     "text": [
      "SHA256:  42e92287621767e53b8b280f1c8c7b9e4a7cca29d5e27357b6a0cd497e51bdfb\n",
      "RIPEMD-160:  c1e560c56998a850b46a4d13544dc6047fc3fc8c\n",
      "Address checksum:  4d3f7168\n",
      "Binary Bitcoin Address:  00c1e560c56998a850b46a4d13544dc6047fc3fc8c4d3f7168\n",
      "Bitcoin address:  1JgECVF9zHQKUBRRD9njbFurhCCBXRi9MR\n"
     ]
    }
   ],
   "source": [
    "import hashlib\n",
    "import base58\n",
    "\n",
    "# Generate a bitcoin address\n",
    "# Step 1: Hash public key\n",
    "sha256: bytes = hashlib.sha256(public_key.to_string('compressed')).digest()\n",
    "print(\"SHA256: \", sha256.hex())\n",
    "\n",
    "# Step 2: Perform RIPEMD-160 hashing on the result of SHA256\n",
    "ripemd160 = hashlib.new('ripemd160')\n",
    "ripemd160.update(sha256)\n",
    "hashed_public_key = ripemd160.digest()\n",
    "print(\"RIPEMD-160: \", hashed_public_key.hex())\n",
    "\n",
    "# Step 3: Add version byte in front of RIPEMD-160 hash (0x00 for Main Network)\n",
    "hashed_public_key = b'\\x00' + hashed_public_key\n",
    "\n",
    "# Step 4: Perform SHA256 hash on the extended RIPEMD-160 result\n",
    "double_sha256 = hashlib.sha256(hashlib.sha256(hashed_public_key).digest()).digest()\n",
    "\n",
    "# Step 5: Take the first 4 bytes of the second SHA256 hash. This is the address checksum\n",
    "address_checksum = double_sha256[:4]\n",
    "print(\"Address checksum: \", address_checksum.hex())\n",
    "\n",
    "# Step 6: Add the 4 checksum bytes from stage 5 at the end of extended RIPEMD-160 hash from stage 4. This is the 25-byte binary Bitcoin Address.\n",
    "binary_bitcoin_address = hashed_public_key + address_checksum\n",
    "print(\"Binary Bitcoin Address: \", binary_bitcoin_address.hex())\n",
    "\n",
    "# Step 7: Convert the result from a byte string into a base58 string using Base58Check encoding. This is the most commonly used Bitcoin Address format\n",
    "bitcoin_address = base58.b58encode(binary_bitcoin_address).decode()\n",
    "print(\"Bitcoin address: \", bitcoin_address)"
   ]
  },
  {
   "cell_type": "markdown",
   "metadata": {},
   "source": [
    "### Verify a bitcoin address"
   ]
  },
  {
   "cell_type": "code",
   "execution_count": 4,
   "metadata": {},
   "outputs": [
    {
     "name": "stdout",
     "output_type": "stream",
     "text": [
      "Bitcoin address is valid: True\n"
     ]
    }
   ],
   "source": [
    "# Verify that the bitcoin address is correct\n",
    "# Step 1: Decode Base58 Bitcoin Address\n",
    "binary_bitcoin_address_check = base58.b58decode(bitcoin_address)\n",
    "\n",
    "# Step 2: Extract Bitcoin Address from decoded Base58 Bitcoin Address\n",
    "binary_bitcoin_address = binary_bitcoin_address_check[:-4]\n",
    "\n",
    "# Step 3: Extract Bitcoin Address Checksum from decoded Base58 Bitcoin Address\n",
    "binary_bitcoin_address_checksum = binary_bitcoin_address_check[-4:]\n",
    "\n",
    "# Step 4: Perform SHA256 hash on the extended RIPEMD-160 result\n",
    "double_sha256 = hashlib.sha256(hashlib.sha256(binary_bitcoin_address).digest()).digest()\n",
    "\n",
    "# Step 5: Take the first 4 bytes of the second SHA256 hash. This is the address checksum\n",
    "address_checksum = double_sha256[:4]\n",
    "\n",
    "# Step 6: Verify that the address checksum from decoded Base58 Bitcoin Address is equal to the address checksum from the SHA256 hash\n",
    "print(\"Bitcoin address is valid:\", binary_bitcoin_address_checksum == address_checksum)"
   ]
  },
  {
   "cell_type": "markdown",
   "metadata": {},
   "source": [
    "## Signing Messages\n",
    "\n",
    "### Sign a message"
   ]
  },
  {
   "cell_type": "code",
   "execution_count": 5,
   "metadata": {},
   "outputs": [
    {
     "name": "stdout",
     "output_type": "stream",
     "text": [
      "Signature: 00c7d170e3f82f315a18ca9357b8f42866fb12ec65a9c932932b10714182a85465e4ec9c3ed7f167ae20caa4f444390344a3fe701334f284b1a13f30167cd2de\n",
      "Signature: 00c7d170e3f82f315a18ca9357b8f42866fb12ec65a9c932932b10714182a85465e4ec9c3ed7f167ae20caa4f444390344a3fe701334f284b1a13f30167cd2de\n"
     ]
    }
   ],
   "source": [
    "# Path: concepts_bitcoin_transactions.ipynb\n",
    "\n",
    "private_key_raw_1 = private_key_raw_object\n",
    "\n",
    "# Use the private key to sign a message\n",
    "# message = bytes(\"Bitcoin Signed Message:\\nHello world!\", \"utf-8\")\n",
    "message = b\"Bitcoin Signed Message:\\n\" + b\"Hello world!\"\n",
    "signature = private_key.sign(message, hashfunc=hashlib.sha256)\n",
    "print(\"Signature:\", signature.hex())\n",
    "print(\"Signature:\", binascii.hexlify(signature).decode())\n"
   ]
  },
  {
   "cell_type": "markdown",
   "metadata": {},
   "source": [
    "### Verify a message"
   ]
  },
  {
   "cell_type": "code",
   "execution_count": 6,
   "metadata": {},
   "outputs": [
    {
     "name": "stdout",
     "output_type": "stream",
     "text": [
      "True\n"
     ]
    }
   ],
   "source": [
    "# Use the public key to verify a message\n",
    "print(public_key.verify(signature, message))"
   ]
  },
  {
   "cell_type": "markdown",
   "metadata": {},
   "source": [
    "# Libraries for bitcoin keys"
   ]
  },
  {
   "cell_type": "markdown",
   "metadata": {},
   "source": [
    "### pybitcoin\n",
    "\n",
    "No longer maintained and does not work with python 3.12"
   ]
  },
  {
   "cell_type": "code",
   "execution_count": 7,
   "metadata": {
    "vscode": {
     "languageId": "shellscript"
    }
   },
   "outputs": [],
   "source": [
    "# pip install pybitcoin"
   ]
  },
  {
   "cell_type": "code",
   "execution_count": 8,
   "metadata": {},
   "outputs": [],
   "source": [
    "# from pybitcoin import BitcoinPrivateKey\n",
    "\n",
    "# # Generate a private key\n",
    "# private_key = BitcoinPrivateKey()\n",
    "# print(f\"Private key: {private_key.to_hex()}\")\n",
    "\n",
    "# # Generate a public key\n",
    "# public_key = private_key.public_key()\n",
    "# print(f\"Public key: {public_key.to_hex()}\")\n",
    "\n",
    "# # Generate a bitcoin address\n",
    "# bitcoin_address = public_key.address()\n",
    "# print(f\"Bitcoin address: {bitcoin_address}\")"
   ]
  },
  {
   "cell_type": "markdown",
   "metadata": {},
   "source": [
    "### bitcoin-utils\n",
    "\n",
    "Package appears damaged and does not work with python 3.12"
   ]
  },
  {
   "cell_type": "code",
   "execution_count": 9,
   "metadata": {
    "vscode": {
     "languageId": "shellscript"
    }
   },
   "outputs": [],
   "source": [
    "# pip install bitcoin-utils"
   ]
  },
  {
   "cell_type": "code",
   "execution_count": 10,
   "metadata": {},
   "outputs": [],
   "source": [
    "# from bitcoinutils.keys import PrivateKey, PublicKey\n",
    "\n",
    "# # Generate a private key\n",
    "# private_key = PrivateKey()\n",
    "# print(f\"Private key: {private_key.to_wif(compressed=True)}\")\n",
    "\n",
    "# # get the public key\n",
    "# public_key: PublicKey = private_key.get_public_key()\n",
    "# print(f\"Public key: {public_key.to_hex(compressed=True)}\")\n",
    "\n",
    "# # get the bitcoin address\n",
    "# bitcoin_address = public_key.get_address()\n",
    "# print(f\"Bitcoin address: {bitcoin_address.to_string()}\")\n",
    "# print(f'Hash160: {bitcoin_address.to_hash160()}')\n",
    "\n"
   ]
  },
  {
   "cell_type": "markdown",
   "metadata": {},
   "source": [
    "Sign a message with a private key and verify the signature with the public key."
   ]
  },
  {
   "cell_type": "code",
   "execution_count": 11,
   "metadata": {},
   "outputs": [],
   "source": [
    "# message: str = \"Hello\"\n",
    "# signature = private_key.sign_message(message)\n",
    "# print(f\"Signature: {signature}\")\n",
    "# # print(f\"Signature valid? {public_key.verify(message, signature)}\")\n",
    "# print(f\"Signature valid? {public_key.verify_message(public_key.get_address().to_string(), message, signature)}\")"
   ]
  },
  {
   "cell_type": "markdown",
   "metadata": {},
   "source": [
    "### python-bitcoinlib"
   ]
  },
  {
   "cell_type": "code",
   "execution_count": 12,
   "metadata": {
    "vscode": {
     "languageId": "shellscript"
    }
   },
   "outputs": [],
   "source": [
    "# pip install python-bitcoinlib"
   ]
  },
  {
   "cell_type": "code",
   "execution_count": 13,
   "metadata": {},
   "outputs": [
    {
     "name": "stdout",
     "output_type": "stream",
     "text": [
      "Private key: L5Ws9bzCFdqXCs99jqzaNvmchHjY5xmeMCzsXX7ZXdwnEofjGezc\n",
      "Public key: 03aa1b69f81f9fcad8b5415a5551236fe2c6fbdc92a4e92dc2372afd649e9f1c06\n",
      "Bitcoin address: 1FNCiUkMPYqCFKncLPuajAJoQavVh9182h\n",
      "Bitcoin message: b'Bitcoin Signed Message:\\n' b'Hello world!' b'\\x9bE\\xfc\\xc9\\x9e\\xd8JpQ1|\\xc9\\xc8\\x04\\xb0#Y%\\xea\\x1d\\x91\\x17\\xcb\\x9e\\xb4\\x9b\"\\xef\\xc3\\xdf(\\xb3'\n",
      "Signature: 4950435367586149304a63647045735a324c6d2b626946767047515567726b54484934727778517357556d5441462f62583167386c435555717877693046636d585168372b6e317957746a54766b54517358397848736f3d\n",
      "Signature valid? True\n"
     ]
    }
   ],
   "source": [
    "import secrets\n",
    "import base64\n",
    "from bitcoin.wallet import CBitcoinSecret, P2PKHBitcoinAddress, CBitcoinAddress\n",
    "from bitcoin.signmessage import BitcoinMessage, VerifyMessage, SignMessage\n",
    "from bitcoin.core import x, lx, b2x, b2lx, Hash160\n",
    "\n",
    "message_: str = \"Hello world!\"\n",
    "\n",
    "# Generate a private key\n",
    "private_key_ = CBitcoinSecret.from_secret_bytes(secrets.token_bytes(32))\n",
    "print(f\"Private key: {private_key_}\")\n",
    "\n",
    "# Generate a public key\n",
    "public_key_ = private_key_.pub\n",
    "print(f\"Public key: {public_key_.hex()}\")\n",
    "\n",
    "# Generate a bitcoin address\n",
    "bitcoin_address_ = P2PKHBitcoinAddress.from_pubkey(public_key_)\n",
    "# bitcoin_address_ = CBitcoinAddress(bitcoin_address_)\n",
    "print(f\"Bitcoin address: {bitcoin_address_}\")\n",
    "\n",
    "# Sign message\n",
    "bitcoin_msg = BitcoinMessage(message_)\n",
    "print(f\"Bitcoin message: {bitcoin_msg.magic} {bitcoin_msg.message} {bitcoin_msg.GetHash()}\")\n",
    "\n",
    "signature_ = SignMessage(private_key_, bitcoin_msg)\n",
    "print(f\"Signature: {signature_.hex()}\")\n",
    "\n",
    "# verify the message\n",
    "print(f\"Signature valid? {VerifyMessage(bitcoin_address_, bitcoin_msg, signature_)}\")\n"
   ]
  },
  {
   "cell_type": "code",
   "execution_count": 14,
   "metadata": {},
   "outputs": [
    {
     "name": "stdout",
     "output_type": "stream",
     "text": [
      "Private key not encoded: 974fae2d62795bf3fdb658f21bcd48c241731984313765d5f389245537b17f4e01\n",
      "Bitcoin private key: 974fae2d62795bf3fdb658f21bcd48c241731984313765d5f389245537b17f4e01\n",
      "bitcoin public not encoded: 02b2465d9ebc12e4c856a1347b4df66114eaa717aee3b388e41d520531c851dc13\n",
      "Bitcoin public key: 02b2465d9ebc12e4c856a1347b4df66114eaa717aee3b388e41d520531c851dc13\n",
      "Bitcoin address from top: 1JgECVF9zHQKUBRRD9njbFurhCCBXRi9MR\n",
      "Bitcoin address from pubkey: 1JgECVF9zHQKUBRRD9njbFurhCCBXRi9MR\n"
     ]
    }
   ],
   "source": [
    "# verify the handmade message from the top\n",
    "# print(f'Private Key BAse58 Encoded: {base58.b58encode(private_key_raw + b\"\\x01\")}')\n",
    "print(f'Private key not encoded: {private_key_raw.hex() + \"01\"}')\n",
    "# bitccoin_private_key = CBitcoinSecret.from_secret_bytes(private_key_raw)\n",
    "bitccoin_private_key = CBitcoinSecret.from_secret_bytes(bytes.fromhex(private_key_raw.hex() + \"01\"), 0)\n",
    "bitccoin_private_key_bytes = bitccoin_private_key\n",
    "\n",
    "# print(f\"Bitcoin private key: {bitccoin_private_key_bytes.hex()[:-2]}\")\n",
    "print(f\"Bitcoin private key: {bitccoin_private_key_bytes.hex()}\")\n",
    "\n",
    "# bitcoin_public_key_bytes = bitccoin_private_key_bytes.pub\n",
    "# print(f'Public key base58 Encoded: {base58.b58encode(private_key.get_verifying_key().to_string('compressed'))}')\n",
    "print(f'bitcoin public not encoded: {private_key.get_verifying_key().to_string('compressed').hex()}')\n",
    "\n",
    "def compress_public_key(public_key: bytes) -> bytes:\n",
    "    x = public_key[:32]\n",
    "    y = public_key[32:]\n",
    "    if int.from_bytes(y, 'big') % 2 == 0:\n",
    "        return b'\\x02' + x\n",
    "    else:\n",
    "        return b'\\x03' + x\n",
    "    \n",
    "# bitcoin_public_key_bytes = compress_public_key(private_key_raw.get_verifying_key().to_string())\n",
    "bitcoin_public_key_bytes = private_key.get_verifying_key().to_string('compressed')\n",
    "print(f\"Bitcoin public key: {bitcoin_public_key_bytes.hex()}\")\n",
    "\n",
    "print(f\"Bitcoin address from top: {bitcoin_address}\")\n",
    "bitcoin_address_bytes = P2PKHBitcoinAddress.from_pubkey(bytes.fromhex(bitcoin_public_key_bytes.hex()))\n",
    "print(f\"Bitcoin address from pubkey: {bitcoin_address_bytes}\")\n",
    "\n",
    "# bitcoin_address_bytes = P2PKHBitcoinAddress.from_bytes(bytes.fromhex(bitcoin_public_key_bytes.hex()), 0)\n",
    "# print(f\"Bitcoin address: {bitcoin_address_bytes}\")\n"
   ]
  },
  {
   "cell_type": "code",
   "execution_count": 15,
   "metadata": {},
   "outputs": [
    {
     "name": "stdout",
     "output_type": "stream",
     "text": [
      "Bitcoin message: b'Bitcoin Signed Message:\\n' b'Hello world!' 9b45fcc99ed84a7051317cc9c804b0235925ea1d9117cb9eb49b22efc3df28b3\n",
      "signature from top: 00c7d170e3f82f315a18ca9357b8f42866fb12ec65a9c932932b10714182a85465e4ec9c3ed7f167ae20caa4f444390344a3fe701334f284b1a13f30167cd2de\n",
      "Signature from top b64: b'AMfRcOP4LzFaGMqTV7j0KGb7EuxlqckykysQcUGCqFRl5OycPtfxZ64gyqT0RDkDRKP+cBM08oSxoT8wFnzS3g=='\n",
      "Signature bytes: b'H6ZmZOvvcdUY2Vg+ag3BCgOBwzJ35m+mrjRDiypvx2cHOAg0wQpNr2mDL2ACr6zbHnDlGjdO1/+jpct2cqZqFZE='\n",
      "signature bytes decoded: 1fa66664ebef71d518d9583e6a0dc10a0381c33277e66fa6ae34438b2a6fc76707380834c10a4daf69832f6002afacdb1e70e51a374ed7ffa3a5cb7672a66a1591\n",
      "Signature valid? False\n"
     ]
    }
   ],
   "source": [
    "\n",
    "bitcoin_message_bytes = BitcoinMessage(message_)\n",
    "print(f\"Bitcoin message: {bitcoin_message_bytes.magic} {bitcoin_message_bytes.message} {bitcoin_message_bytes.GetHash().hex()}\")\n",
    "\n",
    "print(f'signature from top: {signature.hex()}')\n",
    "# print(f'signature from top b64: {base64.b64encode(signature)}')\n",
    "# signature_bytes = signature.__bytes__()\n",
    "signature_bytes_b64 = base64.b64encode(signature) \n",
    "print(f\"Signature from top b64: {signature_bytes_b64}\")\n",
    "\n",
    "#sign message using bitcoin library\n",
    "signature_bytes = SignMessage(bitccoin_private_key_bytes, bitcoin_message_bytes)\n",
    "print(f\"Signature bytes: {signature_bytes}\")\n",
    "\n",
    "# print(f'signature_bytes_hex: {base64.b64encode(signature_bytes).hex()}')\n",
    "print(f'signature bytes decoded: {base64.b64decode(signature_bytes).hex()}')\n",
    "\n",
    "# verify the message\n",
    "print(f\"Signature valid? {VerifyMessage(bitcoin_public_key_bytes, bitcoin_message_bytes, signature_bytes)}\")"
   ]
  },
  {
   "cell_type": "markdown",
   "metadata": {},
   "source": []
  }
 ],
 "metadata": {
  "kernelspec": {
   "display_name": ".venv",
   "language": "python",
   "name": "python3"
  },
  "language_info": {
   "codemirror_mode": {
    "name": "ipython",
    "version": 3
   },
   "file_extension": ".py",
   "mimetype": "text/x-python",
   "name": "python",
   "nbconvert_exporter": "python",
   "pygments_lexer": "ipython3",
   "version": "3.12.0"
  }
 },
 "nbformat": 4,
 "nbformat_minor": 2
}
