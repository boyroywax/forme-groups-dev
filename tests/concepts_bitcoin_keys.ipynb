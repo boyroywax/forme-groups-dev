{
 "cells": [
  {
   "cell_type": "markdown",
   "metadata": {},
   "source": [
    "# Bitcoin Key Pairs"
   ]
  },
  {
   "cell_type": "code",
   "execution_count": 1,
   "metadata": {
    "vscode": {
     "languageId": "shellscript"
    }
   },
   "outputs": [],
   "source": [
    "# pip install ecdsa"
   ]
  },
  {
   "cell_type": "markdown",
   "metadata": {},
   "source": [
    "## Manual Key Generation"
   ]
  },
  {
   "cell_type": "code",
   "execution_count": 2,
   "metadata": {},
   "outputs": [
    {
     "name": "stdout",
     "output_type": "stream",
     "text": [
      "Private key: 23a3d6df01d6c7904c9f7595dbf7fdab368e747ae4577549b4e53055d3c55a73\n",
      "Public key:  47f0c9b313a10caf21f226d5316f17439d5cb98e26a47ec2579f9d1dddb21329019b610b97db7c38c39e29719acf56540c4cae0cf1ed693911d2a83e1ab15ede\n"
     ]
    }
   ],
   "source": [
    "import ecdsa\n",
    "\n",
    "# Generate a private key\n",
    "private_key = ecdsa.SigningKey.generate(curve=ecdsa.SECP256k1)\n",
    "print(\"Private key:\", private_key.to_string().hex())\n",
    "\n",
    "# Generate a public key\n",
    "public_key = private_key.get_verifying_key()\n",
    "print(\"Public key: \", public_key.to_string().hex())"
   ]
  },
  {
   "cell_type": "markdown",
   "metadata": {},
   "source": [
    "While the public key is correct it is not in the proper format. "
   ]
  },
  {
   "cell_type": "markdown",
   "metadata": {},
   "source": [
    "## Bitcoin Address\n",
    "\n",
    "Finding the bitcoin public key or bitcoin address from the private key is a bit more complicated.\n",
    "\n",
    "The public key is a point on the elliptic curve, but it is not in the proper format. The proper format is a 65 byte array with the first byte being 0x04 and the next 32 bytes being the x coordinate and the last 32 bytes being the y coordinate. The x and y coordinates are 32 bytes each because they are 256 bit numbers. The first byte is 0x04 because it is an uncompressed public key. There are compressed public keys which are 33 bytes long, but we will not be using them."
   ]
  },
  {
   "cell_type": "markdown",
   "metadata": {},
   "source": [
    "### Create a bitcoin address"
   ]
  },
  {
   "cell_type": "code",
   "execution_count": 3,
   "metadata": {},
   "outputs": [
    {
     "name": "stdout",
     "output_type": "stream",
     "text": [
      "Bitcoin address:  1359Nv8usSywHX9dog9RHTgFrLtp5mzpRj\n"
     ]
    }
   ],
   "source": [
    "import hashlib\n",
    "import base58\n",
    "\n",
    "# Generate a bitcoin address\n",
    "# Step 1: Hash public key\n",
    "sha256 = hashlib.sha256(public_key.to_string()).digest()\n",
    "\n",
    "# Step 2: Perform RIPEMD-160 hashing on the result of SHA256\n",
    "ripemd160 = hashlib.new('ripemd160')\n",
    "ripemd160.update(sha256)\n",
    "hashed_public_key = ripemd160.digest()\n",
    "\n",
    "# Step 3: Add version byte in front of RIPEMD-160 hash (0x00 for Main Network)\n",
    "hashed_public_key = b'\\x00' + hashed_public_key\n",
    "\n",
    "# Step 4: Perform SHA256 hash on the extended RIPEMD-160 result\n",
    "double_sha256 = hashlib.sha256(hashlib.sha256(hashed_public_key).digest()).digest()\n",
    "\n",
    "# Step 5: Take the first 4 bytes of the second SHA256 hash. This is the address checksum\n",
    "address_checksum = double_sha256[:4]\n",
    "\n",
    "# Step 6: Add the 4 checksum bytes from stage 5 at the end of extended RIPEMD-160 hash from stage 4. This is the 25-byte binary Bitcoin Address.\n",
    "binary_bitcoin_address = hashed_public_key + address_checksum\n",
    "\n",
    "# Step 7: Convert the result from a byte string into a base58 string using Base58Check encoding. This is the most commonly used Bitcoin Address format\n",
    "bitcoin_address = base58.b58encode(binary_bitcoin_address)\n",
    "print(\"Bitcoin address: \", bitcoin_address.decode('utf-8'))"
   ]
  },
  {
   "cell_type": "markdown",
   "metadata": {},
   "source": [
    "### Verify a bitcoin address"
   ]
  },
  {
   "cell_type": "code",
   "execution_count": 4,
   "metadata": {},
   "outputs": [
    {
     "name": "stdout",
     "output_type": "stream",
     "text": [
      "Bitcoin address is valid: True\n"
     ]
    }
   ],
   "source": [
    "# Verify that the bitcoin address is correct\n",
    "# Step 1: Decode Base58 Bitcoin Address\n",
    "binary_bitcoin_address_check = base58.b58decode(bitcoin_address)\n",
    "\n",
    "# Step 2: Extract Bitcoin Address from decoded Base58 Bitcoin Address\n",
    "binary_bitcoin_address = binary_bitcoin_address_check[:-4]\n",
    "\n",
    "# Step 3: Extract Bitcoin Address Checksum from decoded Base58 Bitcoin Address\n",
    "binary_bitcoin_address_checksum = binary_bitcoin_address_check[-4:]\n",
    "\n",
    "# Step 4: Perform SHA256 hash on the extended RIPEMD-160 result\n",
    "double_sha256 = hashlib.sha256(hashlib.sha256(binary_bitcoin_address).digest()).digest()\n",
    "\n",
    "# Step 5: Take the first 4 bytes of the second SHA256 hash. This is the address checksum\n",
    "address_checksum = double_sha256[:4]\n",
    "\n",
    "# Step 6: Verify that the address checksum from decoded Base58 Bitcoin Address is equal to the address checksum from the SHA256 hash\n",
    "print(\"Bitcoin address is valid:\", binary_bitcoin_address_checksum == address_checksum)"
   ]
  },
  {
   "cell_type": "markdown",
   "metadata": {},
   "source": [
    "## Signing Messages\n",
    "\n",
    "### Sign a message"
   ]
  },
  {
   "cell_type": "code",
   "execution_count": 5,
   "metadata": {},
   "outputs": [
    {
     "name": "stdout",
     "output_type": "stream",
     "text": [
      "Signature: b'T\\xf9j\\xc9\\xfb\\x0f\\x8d\\xa12\\x11f\\x891*[{\\x81<\\xb1\\x88\\xb8\\x11$\\xdf,,\\xac0\\x9c:\\xc9\\x17\\n\\xef\\xa3\\xcc\\xbd\\x1bQ\\xfb*C%4\\xda,\\xec[:#?\\x92.g\\xc4\\x94g\\xa3{\\x06\\xa1\\xb4\\xd3\\xbf'\n",
      "Signature: 54f96ac9fb0f8da132116689312a5b7b813cb188b81124df2c2cac309c3ac9170aefa3ccbd1b51fb2a432534da2cec5b3a233f922e67c49467a37b06a1b4d3bf\n"
     ]
    }
   ],
   "source": [
    "# Path: concepts_bitcoin_transactions.ipynb\n",
    "\n",
    "# Use the private key to sign a message\n",
    "message = b'Hello world'\n",
    "signature = private_key.sign_deterministic(message)\n",
    "print(\"Signature:\", signature.__bytes__())\n",
    "print(\"Signature:\", signature.hex())\n"
   ]
  },
  {
   "cell_type": "markdown",
   "metadata": {},
   "source": [
    "### Verify a message"
   ]
  },
  {
   "cell_type": "code",
   "execution_count": 6,
   "metadata": {},
   "outputs": [
    {
     "name": "stdout",
     "output_type": "stream",
     "text": [
      "True\n"
     ]
    }
   ],
   "source": [
    "# Use the public key to verify a message\n",
    "print(public_key.verify(signature, message))"
   ]
  },
  {
   "cell_type": "markdown",
   "metadata": {},
   "source": [
    "# Libraries for bitcoin keys"
   ]
  },
  {
   "cell_type": "markdown",
   "metadata": {},
   "source": [
    "### pybitcoin\n",
    "\n",
    "No longer maintained and does not work with python 3.12"
   ]
  },
  {
   "cell_type": "code",
   "execution_count": 7,
   "metadata": {
    "vscode": {
     "languageId": "shellscript"
    }
   },
   "outputs": [],
   "source": [
    "# pip install pybitcoin"
   ]
  },
  {
   "cell_type": "code",
   "execution_count": 8,
   "metadata": {},
   "outputs": [],
   "source": [
    "# from pybitcoin import BitcoinPrivateKey\n",
    "\n",
    "# # Generate a private key\n",
    "# private_key = BitcoinPrivateKey()\n",
    "# print(f\"Private key: {private_key.to_hex()}\")\n",
    "\n",
    "# # Generate a public key\n",
    "# public_key = private_key.public_key()\n",
    "# print(f\"Public key: {public_key.to_hex()}\")\n",
    "\n",
    "# # Generate a bitcoin address\n",
    "# bitcoin_address = public_key.address()\n",
    "# print(f\"Bitcoin address: {bitcoin_address}\")"
   ]
  },
  {
   "cell_type": "markdown",
   "metadata": {},
   "source": [
    "### bitcoin-utils\n",
    "\n",
    "Package appears damaged and does not work with python 3.12"
   ]
  },
  {
   "cell_type": "code",
   "execution_count": 9,
   "metadata": {
    "vscode": {
     "languageId": "shellscript"
    }
   },
   "outputs": [],
   "source": [
    "# pip install bitcoin-utils"
   ]
  },
  {
   "cell_type": "code",
   "execution_count": 10,
   "metadata": {},
   "outputs": [],
   "source": [
    "# from bitcoinutils.keys import PrivateKey, PublicKey\n",
    "\n",
    "# # Generate a private key\n",
    "# private_key = PrivateKey()\n",
    "# print(f\"Private key: {private_key.to_wif(compressed=True)}\")\n",
    "\n",
    "# # get the public key\n",
    "# public_key: PublicKey = private_key.get_public_key()\n",
    "# print(f\"Public key: {public_key.to_hex(compressed=True)}\")\n",
    "\n",
    "# # get the bitcoin address\n",
    "# bitcoin_address = public_key.get_address()\n",
    "# print(f\"Bitcoin address: {bitcoin_address.to_string()}\")\n",
    "# print(f'Hash160: {bitcoin_address.to_hash160()}')\n",
    "\n"
   ]
  },
  {
   "cell_type": "markdown",
   "metadata": {},
   "source": [
    "Sign a message with a private key and verify the signature with the public key."
   ]
  },
  {
   "cell_type": "code",
   "execution_count": 11,
   "metadata": {},
   "outputs": [],
   "source": [
    "# message: str = \"Hello\"\n",
    "# signature = private_key.sign_message(message)\n",
    "# print(f\"Signature: {signature}\")\n",
    "# # print(f\"Signature valid? {public_key.verify(message, signature)}\")\n",
    "# print(f\"Signature valid? {public_key.verify_message(public_key.get_address().to_string(), message, signature)}\")"
   ]
  },
  {
   "cell_type": "markdown",
   "metadata": {},
   "source": [
    "### python-bitcoinlib"
   ]
  },
  {
   "cell_type": "code",
   "execution_count": 12,
   "metadata": {
    "vscode": {
     "languageId": "shellscript"
    }
   },
   "outputs": [],
   "source": [
    "# pip install python-bitcoinlib"
   ]
  },
  {
   "cell_type": "code",
   "execution_count": 13,
   "metadata": {},
   "outputs": [
    {
     "name": "stdout",
     "output_type": "stream",
     "text": [
      "Private key: KzYrCDja2F6q3RgUaUAJ3puuZZvNstMK58MHHs4cqyg4Q13xxhMP\n",
      "Public key: 03a0bc05d71421eed49cdeb775b4e6387504e55a1f9d61d1fc6da36c617494ec69\n",
      "Bitcoin address: 1JU7FHBVKVvscb12Q8xbFqmABPuABMBp6\n",
      "Signature: H0qkcQaj5+Iu1nSVsJs6YJOrDetHLVW3kwU2OSQ0klFuBQF5yNCl+CnLn3U7YRH0LXm0QSEV/gJEGpL/UwcjHLM=\n",
      "Signature valid? True\n"
     ]
    }
   ],
   "source": [
    "import secrets\n",
    "import base64\n",
    "from bitcoin.wallet import CBitcoinSecret, P2PKHBitcoinAddress\n",
    "from bitcoin.signmessage import BitcoinMessage, VerifyMessage, SignMessage\n",
    "from bitcoin.core import x, lx, b2x, b2lx, Hash160\n",
    "\n",
    "message_: str = \"Hello world!\"\n",
    "\n",
    "# Generate a private key\n",
    "private_key_ = CBitcoinSecret.from_secret_bytes(secrets.token_bytes(32))\n",
    "print(f\"Private key: {private_key_}\")\n",
    "\n",
    "# Generate a public key\n",
    "public_key_ = private_key_.pub\n",
    "print(f\"Public key: {public_key_.hex()}\")\n",
    "\n",
    "# Generate a bitcoin address\n",
    "bitcoin_address_ = P2PKHBitcoinAddress.from_pubkey(public_key_.__bytes__())\n",
    "print(f\"Bitcoin address: {bitcoin_address_}\")\n",
    "\n",
    "# Sign message\n",
    "bitcoin_msg = BitcoinMessage(message_)\n",
    "signature_ = SignMessage(private_key_, bitcoin_msg)\n",
    "print(f\"Signature: {signature_.decode('utf-8')}\")\n",
    "\n",
    "# verify the message\n",
    "print(f\"Signature valid? {VerifyMessage(bitcoin_address_, bitcoin_msg, signature_)}\")\n"
   ]
  },
  {
   "cell_type": "code",
   "execution_count": 14,
   "metadata": {},
   "outputs": [
    {
     "ename": "AttributeError",
     "evalue": "'P2PKHBitcoinAddress' object has no attribute 'to_string'",
     "output_type": "error",
     "traceback": [
      "\u001b[0;31m---------------------------------------------------------------------------\u001b[0m",
      "\u001b[0;31mAttributeError\u001b[0m                            Traceback (most recent call last)",
      "\u001b[1;32m/Users/j/Documents/Forme/code/forme-groups-python-3-12/tests/concepts_bitcoin_keys.ipynb Cell 27\u001b[0m line \u001b[0;36m3\n\u001b[1;32m      <a href='vscode-notebook-cell:/Users/j/Documents/Forme/code/forme-groups-python-3-12/tests/concepts_bitcoin_keys.ipynb#X36sZmlsZQ%3D%3D?line=0'>1</a>\u001b[0m \u001b[39m#verify the handmade message from the top\u001b[39;00m\n\u001b[1;32m      <a href='vscode-notebook-cell:/Users/j/Documents/Forme/code/forme-groups-python-3-12/tests/concepts_bitcoin_keys.ipynb#X36sZmlsZQ%3D%3D?line=1'>2</a>\u001b[0m bitcoin_address_bytes \u001b[39m=\u001b[39m P2PKHBitcoinAddress\u001b[39m.\u001b[39mfrom_bytes(public_key\u001b[39m.\u001b[39mto_string())\n\u001b[0;32m----> <a href='vscode-notebook-cell:/Users/j/Documents/Forme/code/forme-groups-python-3-12/tests/concepts_bitcoin_keys.ipynb#X36sZmlsZQ%3D%3D?line=2'>3</a>\u001b[0m \u001b[39mprint\u001b[39m(\u001b[39mf\u001b[39m\u001b[39m\"\u001b[39m\u001b[39mBitcoin address: \u001b[39m\u001b[39m{\u001b[39;00mbitcoin_address_bytes\u001b[39m.\u001b[39;49mto_string()\u001b[39m}\u001b[39;00m\u001b[39m\"\u001b[39m)\n\u001b[1;32m      <a href='vscode-notebook-cell:/Users/j/Documents/Forme/code/forme-groups-python-3-12/tests/concepts_bitcoin_keys.ipynb#X36sZmlsZQ%3D%3D?line=4'>5</a>\u001b[0m bitcoin_message_bytes \u001b[39m=\u001b[39m BitcoinMessage(message\u001b[39m.\u001b[39mdecode(\u001b[39m'\u001b[39m\u001b[39mutf-8\u001b[39m\u001b[39m'\u001b[39m))\n\u001b[1;32m      <a href='vscode-notebook-cell:/Users/j/Documents/Forme/code/forme-groups-python-3-12/tests/concepts_bitcoin_keys.ipynb#X36sZmlsZQ%3D%3D?line=5'>6</a>\u001b[0m \u001b[39mprint\u001b[39m(\u001b[39mf\u001b[39m\u001b[39m\"\u001b[39m\u001b[39mBitcoin message: \u001b[39m\u001b[39m{\u001b[39;00mbitcoin_message_bytes\u001b[39m.\u001b[39mmessage\u001b[39m}\u001b[39;00m\u001b[39m\"\u001b[39m)\n",
      "\u001b[0;31mAttributeError\u001b[0m: 'P2PKHBitcoinAddress' object has no attribute 'to_string'"
     ]
    }
   ],
   "source": [
    "\n",
    "#verify the handmade message from the top\n",
    "bitcoin_address_bytes = P2PKHBitcoinAddress.from_bytes(public_key.to_string())\n",
    "print(f\"Bitcoin address: {bitcoin_address_bytes}\")\n",
    "\n",
    "bitcoin_message_bytes = BitcoinMessage(message.decode('utf-8'))\n",
    "print(f\"Bitcoin message: {bitcoin_message_bytes.message}\")\n",
    "\n",
    "signature_bytes = base64.b64encode(bytes(b'\\x00') + signature.__bytes__())\n",
    "print(f\"Signature: {signature_bytes.decode('utf-8')}\")\n",
    "\n",
    "print(f\"Signature valid? {VerifyMessage(bitcoin_address_bytes, bitcoin_message_bytes, signature_bytes)}\")"
   ]
  }
 ],
 "metadata": {
  "kernelspec": {
   "display_name": ".venv",
   "language": "python",
   "name": "python3"
  },
  "language_info": {
   "codemirror_mode": {
    "name": "ipython",
    "version": 3
   },
   "file_extension": ".py",
   "mimetype": "text/x-python",
   "name": "python",
   "nbconvert_exporter": "python",
   "pygments_lexer": "ipython3",
   "version": "3.12.0"
  }
 },
 "nbformat": 4,
 "nbformat_minor": 2
}
