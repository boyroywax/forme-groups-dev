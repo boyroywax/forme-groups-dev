{
 "cells": [
  {
   "cell_type": "markdown",
   "metadata": {},
   "source": [
    "# IPFS Concepts"
   ]
  },
  {
   "cell_type": "markdown",
   "metadata": {},
   "source": [
    "## IPFS Service Node\n",
    "\n",
    "A node that is running the IPFS daemon and is connected to the IPFS network. It is able to provide content to other nodes and to retrieve content from other nodes."
   ]
  },
  {
   "cell_type": "code",
   "execution_count": 1,
   "metadata": {
    "vscode": {
     "languageId": "shellscript"
    }
   },
   "outputs": [],
   "source": [
    "# docker compose -f \"tests/ipfs/docker-compose.yml\" up -d --build"
   ]
  },
  {
   "cell_type": "markdown",
   "metadata": {},
   "source": [
    "### Default Server Address"
   ]
  },
  {
   "cell_type": "code",
   "execution_count": 2,
   "metadata": {},
   "outputs": [],
   "source": [
    "__IPFS_DEFAULT_URL__ = '/ip4/127.0.0.1/tcp/5001'"
   ]
  },
  {
   "cell_type": "markdown",
   "metadata": {},
   "source": [
    "## IPFS-Toolkit"
   ]
  },
  {
   "cell_type": "code",
   "execution_count": 3,
   "metadata": {
    "vscode": {
     "languageId": "shellscript"
    }
   },
   "outputs": [],
   "source": [
    "# pip install IPFS-Toolkit"
   ]
  },
  {
   "cell_type": "markdown",
   "metadata": {},
   "source": [
    "### Connect"
   ]
  },
  {
   "cell_type": "code",
   "execution_count": 4,
   "metadata": {},
   "outputs": [],
   "source": [
    "import ipfs_api\n",
    "\n",
    "# Connect to the IPFS daemon\n",
    "def connect():\n",
    "    client = ipfs_api.ipfshttpclient\n",
    "    return client.connect(__IPFS_DEFAULT_URL__)"
   ]
  },
  {
   "cell_type": "markdown",
   "metadata": {},
   "source": [
    "#### Check Connection"
   ]
  },
  {
   "cell_type": "code",
   "execution_count": 5,
   "metadata": {},
   "outputs": [
    {
     "name": "stdout",
     "output_type": "stream",
     "text": [
      "Client ID:  <ipfshttpclient2.client.base.ResponseBase: {'ID': '12D3KooWNTinNPaFXPyoo2wGcrjFC4uekMgDM5pFY46zwxxgL8HA', 'PublicKey': 'CAESILveCqhrvYi7xfZkCFoytPVThX++ztHAh85jBT3xQ0Et', 'Addresses': ['/ip4/127.0.0.1/tcp/4001/p2p/12D3KooWNTinNPaFXPyoo2wGcrjFC4uekMgDM5pFY46zwxxgL8HA', '/ip4/127.0.0.1/udp/4001/quic-v1/p2p/12D3KooWNTinNPaFXPyoo2wGcrjFC4uekMgDM5pFY46zwxxgL8HA', '/ip4/127.0.0.1/udp/4001/quic-v1/webtransport/certhash/uEiAsG_OZi39bk9tp4XO6luYhWxo_vmHB30yD1HFNsCV1hg/certhash/uEiBU9zqLAAbnHBe6T6br9Bg29WLOe4hW0nsQrOBKeoPadA/p2p/12D3KooWNTinNPaFXPyoo2wGcrjFC4uekMgDM5pFY46zwxxgL8HA', '/ip4/158.247.214.31/tcp/4001/p2p/12D3KooWDyoCgTkeqNXSrK5qiqxC9RNbFvjMravHdfbr3NWu4vFs/p2p-circuit/p2p/12D3KooWNTinNPaFXPyoo2wGcrjFC4uekMgDM5pFY46zwxxgL8HA', '/ip4/158.247.214.31/udp/4001/quic-v1/p2p/12D3KooWDyoCgTkeqNXSrK5qiqxC9RNbFvjMravHdfbr3NWu4vFs/p2p-circuit/p2p/12D3KooWNTinNPaFXPyoo2wGcrjFC4uekMgDM5pFY46zwxxgL8HA', '/ip4/158.247.214.31/udp/4001/quic/p2p/12D3KooWDyoCgTkeqNXSrK5qiqxC9RNbFvjMravHdfbr3NWu4vFs/p2p-circuit/p2p/12D3KooWNTinNPaFXPyoo2wGcrjFC4uekMgDM5pFY46zwxxgL8HA', '/ip4/172.21.0.2/tcp/4001/p2p/12D3KooWNTinNPaFXPyoo2wGcrjFC4uekMgDM5pFY46zwxxgL8HA', '/ip4/172.21.0.2/udp/4001/quic-v1/p2p/12D3KooWNTinNPaFXPyoo2wGcrjFC4uekMgDM5pFY46zwxxgL8HA', '/ip4/172.21.0.2/udp/4001/quic-v1/webtransport/certhash/uEiAsG_OZi39bk9tp4XO6luYhWxo_vmHB30yD1HFNsCV1hg/certhash/uEiBU9zqLAAbnHBe6T6br9Bg29WLOe4hW0nsQrOBKeoPadA/p2p/12D3KooWNTinNPaFXPyoo2wGcrjFC4uekMgDM5pFY46zwxxgL8HA', '/ip4/217.76.54.80/udp/4001/quic-v1/p2p/12D3KooWJEYdF8Dj3TriqxdhvhgwN28JAMQSbvU1CUjyY9Qtuvih/p2p-circuit/p2p/12D3KooWNTinNPaFXPyoo2wGcrjFC4uekMgDM5pFY46zwxxgL8HA', '/ip4/217.76.54.80/udp/4001/quic-v1/webtransport/certhash/uEiDezXc0Zp2Hupm9jwGGk1CMwVPLlvMo4Exyrv-XK2XVTA/certhash/uEiDadBw27nylqY9KnC1uX4oixlLeTms_wAf-0j3V4ZvQFg/p2p/12D3KooWJEYdF8Dj3TriqxdhvhgwN28JAMQSbvU1CUjyY9Qtuvih/p2p-circuit/p2p/12D3KooWNTinNPaFXPyoo2wGcrjFC4uekMgDM5pFY46zwxxgL8HA', '/ip4/217.76.54.80/udp/4001/quic/p2p/12D3KooWJEYdF8Dj3TriqxdhvhgwN28JAMQSbvU1CUjyY9Qtuvih/p2p-circuit/p2p/12D3KooWNTinNPaFXPyoo2wGcrjFC4uekMgDM5pFY46zwxxgL8HA'], 'AgentVersion': 'kubo/0.23.0/3a1a041/docker', 'Protocols': ['/ipfs/bitswap', '/ipfs/bitswap/1.0.0', '/ipfs/bitswap/1.1.0', '/ipfs/bitswap/1.2.0', '/ipfs/id/1.0.0', '/ipfs/id/push/1.0.0', '/ipfs/lan/kad/1.0.0', '/ipfs/ping/1.0.0', '/libp2p/circuit/relay/0.2.0/stop', '/libp2p/dcutr', '/x/']}>\n",
      "Client Version:  <ipfshttpclient2.client.base.ResponseBase: {'Version': '0.23.0', 'Commit': '3a1a041', 'Repo': '15', 'System': 'amd64/linux', 'Golang': 'go1.21.1'}>\n"
     ]
    }
   ],
   "source": [
    "def print_status():\n",
    "    ipfs = connect()\n",
    "    print('Client ID: ', ipfs.id())\n",
    "    print('Client Version: ', ipfs.version())\n",
    "\n",
    "print_status()"
   ]
  },
  {
   "cell_type": "markdown",
   "metadata": {},
   "source": [
    "### Publish"
   ]
  },
  {
   "cell_type": "markdown",
   "metadata": {},
   "source": [
    "#### Strings"
   ]
  },
  {
   "cell_type": "code",
   "execution_count": 6,
   "metadata": {
    "vscode": {
     "languageId": "shellscript"
    }
   },
   "outputs": [],
   "source": [
    "# pip install py-multiformats-cid"
   ]
  },
  {
   "cell_type": "code",
   "execution_count": 7,
   "metadata": {},
   "outputs": [
    {
     "name": "stdout",
     "output_type": "stream",
     "text": [
      "CIDV0:  Qmf1rtki74jvYmGeqaaV51hzeiaa6DyWc98fzDiuPatzyy\n",
      "CIDV1:  bafybeihxyzvryabv2uwvyfn6p4d6qrxegpgkszyynylmgmlnlfl4kkuugq\n",
      "Data:   b'Hello World!'\n"
     ]
    }
   ],
   "source": [
    "from multiformats_cid import make_cid\n",
    "\n",
    "def add_str(string: str):\n",
    "    with connect() as c:\n",
    "        return c.add_str(string)\n",
    "\n",
    "returned_hash = add_str(u'Hello World!')\n",
    "print('CIDV0: ', returned_hash)\n",
    "\n",
    "# convert to CIDv1\n",
    "returned_hash_v1 = make_cid(returned_hash).to_v1()\n",
    "print('CIDV1: ', returned_hash_v1)\n",
    "\n",
    "# get the data back\n",
    "def cat_(cid: str):\n",
    "    with connect() as c:\n",
    "        return c.cat(cid)\n",
    "    \n",
    "print('Data:  ', cat_(returned_hash_v1))"
   ]
  },
  {
   "cell_type": "markdown",
   "metadata": {},
   "source": [
    "#### Bytes"
   ]
  },
  {
   "cell_type": "code",
   "execution_count": 8,
   "metadata": {},
   "outputs": [
    {
     "name": "stdout",
     "output_type": "stream",
     "text": [
      "CIDV0:  Qmf1rtki74jvYmGeqaaV51hzeiaa6DyWc98fzDiuPatzyy\n",
      "CIDV1:  bafybeihxyzvryabv2uwvyfn6p4d6qrxegpgkszyynylmgmlnlfl4kkuugq\n",
      "Data:   b'Hello World!'\n"
     ]
    }
   ],
   "source": [
    "from multiformats_cid import make_cid, CIDv1\n",
    "\n",
    "def add_bytes(data: bytes):\n",
    "    with connect() as c:\n",
    "        return c.add_bytes(data)\n",
    "    \n",
    "returned_hash = add_bytes(b'Hello World!')\n",
    "print('CIDV0: ', returned_hash)\n",
    "\n",
    "# convert to CIDv1\n",
    "returned_hash: CIDv1 = make_cid(returned_hash).to_v1()\n",
    "print('CIDV1: ', returned_hash)\n",
    "\n",
    "# get the data back\n",
    "def cat_(hash: CIDv1):\n",
    "    with connect() as c:\n",
    "        return c.cat(hash)\n",
    "    \n",
    "print('Data:  ', cat_(returned_hash))"
   ]
  },
  {
   "cell_type": "markdown",
   "metadata": {},
   "source": [
    "#### JSON"
   ]
  },
  {
   "cell_type": "code",
   "execution_count": 9,
   "metadata": {},
   "outputs": [
    {
     "name": "stdout",
     "output_type": "stream",
     "text": [
      "CIDV0:  QmNrEidQrAbxx3FzxNt9E6qjEDZrtvzxUVh47BXm55Zuen\n",
      "CIDV1:  bafybeiahsrgcz6czdnalzzf4aehc3cigzqy6rwh37dt2guvulabazskdt4\n",
      "Data:   b'{\"hello\":\"world\"}'\n"
     ]
    }
   ],
   "source": [
    "from multiformats_cid import CIDv1, make_cid\n",
    "\n",
    "def add_json(json: dict):\n",
    "    with connect() as c:\n",
    "        return c.add_json(json)\n",
    "    \n",
    "returned_hash = add_json({'hello': 'world'})\n",
    "print('CIDV0: ', returned_hash)\n",
    "\n",
    "# convert to CIDv1\n",
    "returned_hash_v1: CIDv1 = make_cid(returned_hash).to_v1()\n",
    "print('CIDV1: ', returned_hash_v1)\n",
    "\n",
    "# get the data back\n",
    "def cat_(hash: CIDv1):\n",
    "    with connect() as c:\n",
    "        return c.cat(hash)\n",
    "    \n",
    "print('Data:  ', cat_(returned_hash_v1))"
   ]
  },
  {
   "cell_type": "markdown",
   "metadata": {},
   "source": [
    "#### Files"
   ]
  },
  {
   "cell_type": "code",
   "execution_count": 10,
   "metadata": {},
   "outputs": [
    {
     "name": "stdout",
     "output_type": "stream",
     "text": [
      "CIDV0:  QmUJarh6GuMaNgpkvkC1CoRk8qDk6J39CopoYi9fVdSEiv\n",
      "CIDV1:  bafybeicyt2nmat7ybc3iefl3fy5hjc3sxcgxk5ffg7ua3lovt2m6mc3wpm\n",
      "Data:   {\n",
      "  \"name\": \"John Doe\",\n",
      "  \"age\": 30,\n",
      "  \"email\": \"johndoe@example.com\",\n",
      "  \"address\": {\n",
      "    \"street\": \"123 Main St\",\n",
      "    \"city\": \"Anytown\",\n",
      "    \"state\": \"CA\",\n",
      "    \"zip\": \"12345\"\n",
      "  },\n",
      "  \"phoneNumbers\": [\n",
      "    {\n",
      "      \"type\": \"home\",\n",
      "      \"number\": \"555-555-1234\"\n",
      "    },\n",
      "    {\n",
      "      \"type\": \"work\",\n",
      "      \"number\": \"555-555-5678\"\n",
      "    }\n",
      "  ]\n",
      "}\n",
      "\n"
     ]
    }
   ],
   "source": [
    "def add_file(path: str):\n",
    "    with connect() as c:\n",
    "        return c.add(path)\n",
    "    \n",
    "returned_hash = add_file('concepts_cid_test.json')\n",
    "print('CIDV0: ', returned_hash['Hash'])\n",
    "\n",
    "# convert to CIDv1\n",
    "returned_hash = make_cid(returned_hash['Hash']).to_v1()\n",
    "print('CIDV1: ', returned_hash)\n",
    "\n",
    "# print the data\n",
    "print('Data:  ', cat_(returned_hash).decode('utf-8'))"
   ]
  },
  {
   "cell_type": "markdown",
   "metadata": {},
   "source": [
    "#### Blocks"
   ]
  },
  {
   "cell_type": "markdown",
   "metadata": {},
   "source": [
    "##### Raw Blocks"
   ]
  },
  {
   "cell_type": "code",
   "execution_count": 11,
   "metadata": {},
   "outputs": [
    {
     "name": "stdout",
     "output_type": "stream",
     "text": [
      "CIDV1:  bafkreid7qoywk77r7rj3slobqfekdvs57qwuwh5d2z3sqsw52iabe3mqne\n",
      "block data:  b'Hello World!'\n",
      "cat data:    b'Hello World!'\n"
     ]
    }
   ],
   "source": [
    "import io\n",
    "\n",
    "def add_block(block: bytes):\n",
    "    with connect() as c:\n",
    "        return c.block.put(block)\n",
    "    \n",
    "returned_hash = add_block(io.BytesIO(b'Hello World!'))\n",
    "print('CIDV1: ', returned_hash['Key'])\n",
    "\n",
    "# get the block\n",
    "with connect() as c:\n",
    "    block = c.block.get(returned_hash['Key'])\n",
    "    print('block data: ', block)\n",
    "\n",
    "# get the data by its hash\n",
    "with connect() as c:\n",
    "    cat_1 = c.cat(returned_hash['Key'])\n",
    "    print('cat data:   ', cat_1)\n"
   ]
  },
  {
   "cell_type": "markdown",
   "metadata": {},
   "source": [
    "## Content Identifier Data Structure (CID)"
   ]
  },
  {
   "cell_type": "markdown",
   "metadata": {},
   "source": [
    "### Put a dag node"
   ]
  },
  {
   "cell_type": "code",
   "execution_count": 12,
   "metadata": {},
   "outputs": [
    {
     "name": "stdout",
     "output_type": "stream",
     "text": [
      "dag hash:  bafyreifri2ltoxda3hrdvouvt23pbdqxqcwqryjtgwxilkip5c27mi3mbe\n"
     ]
    }
   ],
   "source": [
    "from ipfshttpclient2.client.base import ResponseBase\n",
    "from ipfshttpclient2.client import dag as Dag\n",
    "from ipfshttpclient2.client import Client\n",
    "\n",
    "# Get the client\n",
    "client: Client = connect()\n",
    "\n",
    "# use the dag API\n",
    "dag: Dag = client.dag\n",
    "\n",
    "# add a dag object\n",
    "returned_hash: dict = dag.put('concepts_cid_test.json')\n",
    "print('dag hash: ', returned_hash['Cid']['/'])\n"
   ]
  },
  {
   "cell_type": "markdown",
   "metadata": {},
   "source": [
    "### Retrieve a DAG Node"
   ]
  },
  {
   "cell_type": "code",
   "execution_count": 13,
   "metadata": {},
   "outputs": [
    {
     "name": "stdout",
     "output_type": "stream",
     "text": [
      "dag object from block:  <ipfshttpclient2.client.base.ResponseBase: {'address': {'city': 'Anytown', 'state': 'CA', 'street': '123 Main St', 'zip': '12345'}, 'age': 30, 'email': 'johndoe@example.com', 'name': 'John Doe', 'phoneNumbers': [{'number': '555-555-1234', 'type': 'home'}, {'number': '555-555-5678', 'type': 'work'}]}>\n",
      "dag response:  <ipfshttpclient2.client.base.ResponseBase: {'Cid': {'/': 'bafyreifri2ltoxda3hrdvouvt23pbdqxqcwqryjtgwxilkip5c27mi3mbe'}, 'RemPath': ''}>\n"
     ]
    }
   ],
   "source": [
    "\n",
    "# get a dag object's data\n",
    "dag_get: ResponseBase = dag.get(returned_hash['Cid']['/'])\n",
    "print('dag object from block: ', dag_get)\n",
    "\n",
    "# Get a dag object\n",
    "response_: ResponseBase = dag.resolve(returned_hash['Cid']['/'])\n",
    "print('dag response: ', response_)"
   ]
  },
  {
   "cell_type": "markdown",
   "metadata": {},
   "source": [
    "### Link to a DAG Node"
   ]
  },
  {
   "cell_type": "code",
   "execution_count": 14,
   "metadata": {},
   "outputs": [
    {
     "name": "stdout",
     "output_type": "stream",
     "text": [
      "res1:  <ipfshttpclient2.client.base.ResponseBase: {'Key': 'bafkreidnjiztqogq56lhk3gmy2ak6jjra5ofcjic7numkub4mpmt32czwm', 'Size': 17}>\n",
      "res2:  <ipfshttpclient2.client.base.ResponseBase: {'Key': 'bafkreiebob4gjnr4ctlnmt5kykdwdu4hqltsj3uvghnsq3txoco2noxomq', 'Size': 15}>\n",
      "<ipfshttpclient2.client.base.ResponseBase: {'Cid': {'/': 'bafyreiheqnd4ctjq7bh2pzo5lhkhaawwuqhqypqirpgotdzmkxxrdsvniu'}}>\n"
     ]
    }
   ],
   "source": [
    "import json\n",
    "\n",
    "# Your data\n",
    "data1 = {'name': 'Alice'}\n",
    "data2 = {'name': 'Bob'}\n",
    "\n",
    "# Add the data as blocks\n",
    "res1 = client.block.put(io.BytesIO(json.dumps(data1).encode('utf-8')))\n",
    "print('res1: ', res1)\n",
    "res2 = client.block.put(io.BytesIO(json.dumps(data2).encode('utf-8')))\n",
    "print('res2: ', res2)\n",
    "\n",
    "# Get the CIDs of the blocks\n",
    "cid1 = res1['Key']\n",
    "cid2 = res2['Key']\n",
    "\n",
    "# Create a link from block1 to block2\n",
    "link_data: bytes = json.dumps({'data': cid1, 'link': {'/': cid2}}).encode('utf-8')\n",
    "res: ResponseBase = client.dag.put(io.BytesIO(link_data), format='dag-json', input_enc='json')\n",
    "\n",
    "# Print the CID of the link\n",
    "print(res)"
   ]
  },
  {
   "cell_type": "markdown",
   "metadata": {},
   "source": [
    "### Travers a DAG"
   ]
  },
  {
   "cell_type": "code",
   "execution_count": 17,
   "metadata": {},
   "outputs": [
    {
     "name": "stdout",
     "output_type": "stream",
     "text": [
      "node:  <ipfshttpclient2.client.base.ResponseBase: {'data': 'bafkreidnjiztqogq56lhk3gmy2ak6jjra5ofcjic7numkub4mpmt32czwm', 'link': {'/': 'bafkreiebob4gjnr4ctlnmt5kykdwdu4hqltsj3uvghnsq3txoco2noxomq'}}>\n",
      "dag response:  b'{\"name\": \"Bob\"}'\n"
     ]
    }
   ],
   "source": [
    "from typing import ItemsView\n",
    "\n",
    "node_ = client.dag.get(res['Cid']['/'])\n",
    "print('node: ', node_)\n",
    "\n",
    "# get the data of the current node\n",
    "response_: ItemsView = client.cat(node_['data'])\n",
    "print('dag response: ', response_)\n",
    "\n",
    "# check if the DAG contains a link\n",
    "response__: ItemsView = client.cat(node_['link']['/'])\n",
    "print('dag response: ', response__)"
   ]
  }
 ],
 "metadata": {
  "kernelspec": {
   "display_name": ".venv",
   "language": "python",
   "name": "python3"
  },
  "language_info": {
   "codemirror_mode": {
    "name": "ipython",
    "version": 3
   },
   "file_extension": ".py",
   "mimetype": "text/x-python",
   "name": "python",
   "nbconvert_exporter": "python",
   "pygments_lexer": "ipython3",
   "version": "3.12.0"
  }
 },
 "nbformat": 4,
 "nbformat_minor": 2
}
