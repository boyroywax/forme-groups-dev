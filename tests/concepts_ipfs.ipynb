{
 "cells": [
  {
   "cell_type": "markdown",
   "metadata": {},
   "source": [
    "# IPFS Concepts"
   ]
  },
  {
   "cell_type": "markdown",
   "metadata": {},
   "source": [
    "## IPFS Service Node\n",
    "\n",
    "A node that is running the IPFS daemon and is connected to the IPFS network. It is able to provide content to other nodes and to retrieve content from other nodes."
   ]
  },
  {
   "cell_type": "code",
   "execution_count": 39,
   "metadata": {
    "vscode": {
     "languageId": "shellscript"
    }
   },
   "outputs": [],
   "source": [
    "# docker compose -f \"tests/ipfs/docker-compose.yml\" up -d --build"
   ]
  },
  {
   "cell_type": "markdown",
   "metadata": {},
   "source": [
    "### Default Server Address"
   ]
  },
  {
   "cell_type": "code",
   "execution_count": 40,
   "metadata": {},
   "outputs": [],
   "source": [
    "__IPFS_DEFAULT_URL__ = '/ip4/127.0.0.1/tcp/5001'"
   ]
  },
  {
   "cell_type": "markdown",
   "metadata": {},
   "source": [
    "## IPFS-Toolkit"
   ]
  },
  {
   "cell_type": "code",
   "execution_count": 41,
   "metadata": {
    "vscode": {
     "languageId": "shellscript"
    }
   },
   "outputs": [],
   "source": [
    "# pip install IPFS-Toolkit"
   ]
  },
  {
   "cell_type": "markdown",
   "metadata": {},
   "source": [
    "### Connect"
   ]
  },
  {
   "cell_type": "code",
   "execution_count": 42,
   "metadata": {},
   "outputs": [],
   "source": [
    "import ipfs_api\n",
    "\n",
    "# Connect to the IPFS daemon\n",
    "def connect():\n",
    "    client = ipfs_api.ipfshttpclient\n",
    "    return client.connect(__IPFS_DEFAULT_URL__)"
   ]
  },
  {
   "cell_type": "markdown",
   "metadata": {},
   "source": [
    "#### Check Connection"
   ]
  },
  {
   "cell_type": "code",
   "execution_count": 43,
   "metadata": {},
   "outputs": [
    {
     "name": "stdout",
     "output_type": "stream",
     "text": [
      "Client ID:  <ipfshttpclient2.client.base.ResponseBase: {'ID': '12D3KooWNTinNPaFXPyoo2wGcrjFC4uekMgDM5pFY46zwxxgL8HA', 'PublicKey': 'CAESILveCqhrvYi7xfZkCFoytPVThX++ztHAh85jBT3xQ0Et', 'Addresses': ['/ip4/127.0.0.1/tcp/4001/p2p/12D3KooWNTinNPaFXPyoo2wGcrjFC4uekMgDM5pFY46zwxxgL8HA', '/ip4/127.0.0.1/udp/4001/quic-v1/p2p/12D3KooWNTinNPaFXPyoo2wGcrjFC4uekMgDM5pFY46zwxxgL8HA', '/ip4/127.0.0.1/udp/4001/quic-v1/webtransport/certhash/uEiAsG_OZi39bk9tp4XO6luYhWxo_vmHB30yD1HFNsCV1hg/certhash/uEiBU9zqLAAbnHBe6T6br9Bg29WLOe4hW0nsQrOBKeoPadA/p2p/12D3KooWNTinNPaFXPyoo2wGcrjFC4uekMgDM5pFY46zwxxgL8HA', '/ip4/172.21.0.2/tcp/4001/p2p/12D3KooWNTinNPaFXPyoo2wGcrjFC4uekMgDM5pFY46zwxxgL8HA', '/ip4/172.21.0.2/udp/4001/quic-v1/p2p/12D3KooWNTinNPaFXPyoo2wGcrjFC4uekMgDM5pFY46zwxxgL8HA', '/ip4/172.21.0.2/udp/4001/quic-v1/webtransport/certhash/uEiAsG_OZi39bk9tp4XO6luYhWxo_vmHB30yD1HFNsCV1hg/certhash/uEiBU9zqLAAbnHBe6T6br9Bg29WLOe4hW0nsQrOBKeoPadA/p2p/12D3KooWNTinNPaFXPyoo2wGcrjFC4uekMgDM5pFY46zwxxgL8HA', '/ip4/185.5.52.224/tcp/4001/p2p/12D3KooWSbPvTyBepvXdGBBJMWkx27ze9rU7GDyUzRw6yEjPyGBv/p2p-circuit/p2p/12D3KooWNTinNPaFXPyoo2wGcrjFC4uekMgDM5pFY46zwxxgL8HA', '/ip4/185.5.52.224/udp/4001/quic-v1/p2p/12D3KooWSbPvTyBepvXdGBBJMWkx27ze9rU7GDyUzRw6yEjPyGBv/p2p-circuit/p2p/12D3KooWNTinNPaFXPyoo2wGcrjFC4uekMgDM5pFY46zwxxgL8HA', '/ip4/185.5.52.224/udp/4001/quic/p2p/12D3KooWSbPvTyBepvXdGBBJMWkx27ze9rU7GDyUzRw6yEjPyGBv/p2p-circuit/p2p/12D3KooWNTinNPaFXPyoo2wGcrjFC4uekMgDM5pFY46zwxxgL8HA', '/ip4/217.76.54.80/udp/4001/quic-v1/p2p/12D3KooWJEYdF8Dj3TriqxdhvhgwN28JAMQSbvU1CUjyY9Qtuvih/p2p-circuit/p2p/12D3KooWNTinNPaFXPyoo2wGcrjFC4uekMgDM5pFY46zwxxgL8HA', '/ip4/217.76.54.80/udp/4001/quic-v1/webtransport/certhash/uEiDezXc0Zp2Hupm9jwGGk1CMwVPLlvMo4Exyrv-XK2XVTA/certhash/uEiDadBw27nylqY9KnC1uX4oixlLeTms_wAf-0j3V4ZvQFg/p2p/12D3KooWJEYdF8Dj3TriqxdhvhgwN28JAMQSbvU1CUjyY9Qtuvih/p2p-circuit/p2p/12D3KooWNTinNPaFXPyoo2wGcrjFC4uekMgDM5pFY46zwxxgL8HA', '/ip4/217.76.54.80/udp/4001/quic/p2p/12D3KooWJEYdF8Dj3TriqxdhvhgwN28JAMQSbvU1CUjyY9Qtuvih/p2p-circuit/p2p/12D3KooWNTinNPaFXPyoo2wGcrjFC4uekMgDM5pFY46zwxxgL8HA'], 'AgentVersion': 'kubo/0.23.0/3a1a041', 'Protocols': ['/floodsub/1.0.0', '/ipfs/bitswap', '/ipfs/bitswap/1.0.0', '/ipfs/bitswap/1.1.0', '/ipfs/bitswap/1.2.0', '/ipfs/id/1.0.0', '/ipfs/id/push/1.0.0', '/ipfs/lan/kad/1.0.0', '/ipfs/ping/1.0.0', '/libp2p/circuit/relay/0.2.0/stop', '/libp2p/dcutr', '/meshsub/1.0.0', '/meshsub/1.1.0', '/x/']}>\n",
      "Client Version:  <ipfshttpclient2.client.base.ResponseBase: {'Version': '0.23.0', 'Commit': '3a1a041', 'Repo': '15', 'System': 'amd64/linux', 'Golang': 'go1.21.1'}>\n"
     ]
    }
   ],
   "source": [
    "def print_status():\n",
    "    ipfs = connect()\n",
    "    print('Client ID: ', ipfs.id())\n",
    "    print('Client Version: ', ipfs.version())\n",
    "\n",
    "print_status()"
   ]
  },
  {
   "cell_type": "markdown",
   "metadata": {},
   "source": [
    "### Publish"
   ]
  },
  {
   "cell_type": "markdown",
   "metadata": {},
   "source": [
    "#### Strings"
   ]
  },
  {
   "cell_type": "code",
   "execution_count": 44,
   "metadata": {
    "vscode": {
     "languageId": "shellscript"
    }
   },
   "outputs": [],
   "source": [
    "# pip install py-multiformats-cid"
   ]
  },
  {
   "cell_type": "code",
   "execution_count": 45,
   "metadata": {},
   "outputs": [
    {
     "name": "stdout",
     "output_type": "stream",
     "text": [
      "CIDV0:  Qmf1rtki74jvYmGeqaaV51hzeiaa6DyWc98fzDiuPatzyy\n",
      "CIDV1:  bafybeihxyzvryabv2uwvyfn6p4d6qrxegpgkszyynylmgmlnlfl4kkuugq\n",
      "Data:   b'Hello World!'\n"
     ]
    }
   ],
   "source": [
    "from multiformats_cid import make_cid\n",
    "\n",
    "def add_str(string: str):\n",
    "    with connect() as c:\n",
    "        return c.add_str(string)\n",
    "\n",
    "returned_hash = add_str(u'Hello World!')\n",
    "print('CIDV0: ', returned_hash)\n",
    "\n",
    "# convert to CIDv1\n",
    "returned_hash_v1 = make_cid(returned_hash).to_v1()\n",
    "print('CIDV1: ', returned_hash_v1)\n",
    "\n",
    "# get the data back\n",
    "def cat_(cid: str):\n",
    "    with connect() as c:\n",
    "        return c.cat(cid)\n",
    "    \n",
    "print('Data:  ', cat_(returned_hash_v1))"
   ]
  },
  {
   "cell_type": "markdown",
   "metadata": {},
   "source": [
    "#### Bytes"
   ]
  },
  {
   "cell_type": "code",
   "execution_count": 46,
   "metadata": {},
   "outputs": [
    {
     "name": "stdout",
     "output_type": "stream",
     "text": [
      "CIDV0:  Qmf1rtki74jvYmGeqaaV51hzeiaa6DyWc98fzDiuPatzyy\n",
      "CIDV1:  bafybeihxyzvryabv2uwvyfn6p4d6qrxegpgkszyynylmgmlnlfl4kkuugq\n",
      "Data:   b'Hello World!'\n"
     ]
    }
   ],
   "source": [
    "from multiformats_cid import make_cid, CIDv1\n",
    "\n",
    "def add_bytes(data: bytes):\n",
    "    with connect() as c:\n",
    "        return c.add_bytes(data)\n",
    "    \n",
    "returned_hash = add_bytes(b'Hello World!')\n",
    "print('CIDV0: ', returned_hash)\n",
    "\n",
    "# convert to CIDv1\n",
    "returned_hash: CIDv1 = make_cid(returned_hash).to_v1()\n",
    "print('CIDV1: ', returned_hash)\n",
    "\n",
    "# get the data back\n",
    "def cat_(hash: CIDv1):\n",
    "    with connect() as c:\n",
    "        return c.cat(hash)\n",
    "    \n",
    "print('Data:  ', cat_(returned_hash))"
   ]
  },
  {
   "cell_type": "markdown",
   "metadata": {},
   "source": [
    "#### JSON"
   ]
  },
  {
   "cell_type": "code",
   "execution_count": 47,
   "metadata": {},
   "outputs": [
    {
     "name": "stdout",
     "output_type": "stream",
     "text": [
      "CIDV0:  QmNrEidQrAbxx3FzxNt9E6qjEDZrtvzxUVh47BXm55Zuen\n",
      "CIDV1:  bafybeiahsrgcz6czdnalzzf4aehc3cigzqy6rwh37dt2guvulabazskdt4\n",
      "Data:   b'{\"hello\":\"world\"}'\n"
     ]
    }
   ],
   "source": [
    "from multiformats_cid import CIDv1, make_cid\n",
    "\n",
    "def add_json(json: dict):\n",
    "    with connect() as c:\n",
    "        return c.add_json(json)\n",
    "    \n",
    "returned_hash = add_json({'hello': 'world'})\n",
    "print('CIDV0: ', returned_hash)\n",
    "\n",
    "# convert to CIDv1\n",
    "returned_hash_v1: CIDv1 = make_cid(returned_hash).to_v1()\n",
    "print('CIDV1: ', returned_hash_v1)\n",
    "\n",
    "# get the data back\n",
    "def cat_(hash: CIDv1):\n",
    "    with connect() as c:\n",
    "        return c.cat(hash)\n",
    "    \n",
    "print('Data:  ', cat_(returned_hash_v1))"
   ]
  },
  {
   "cell_type": "markdown",
   "metadata": {},
   "source": [
    "#### Files"
   ]
  },
  {
   "cell_type": "code",
   "execution_count": 126,
   "metadata": {},
   "outputs": [
    {
     "name": "stdout",
     "output_type": "stream",
     "text": [
      "CIDV0:  QmUJarh6GuMaNgpkvkC1CoRk8qDk6J39CopoYi9fVdSEiv\n",
      "CIDV1:  bafybeicyt2nmat7ybc3iefl3fy5hjc3sxcgxk5ffg7ua3lovt2m6mc3wpm\n",
      "Data:\n",
      " {\n",
      "  \"name\": \"John Doe\",\n",
      "  \"age\": 30,\n",
      "  \"email\": \"johndoe@example.com\",\n",
      "  \"address\": {\n",
      "    \"street\": \"123 Main St\",\n",
      "    \"city\": \"Anytown\",\n",
      "    \"state\": \"CA\",\n",
      "    \"zip\": \"12345\"\n",
      "  },\n",
      "  \"phoneNumbers\": [\n",
      "    {\n",
      "      \"type\": \"home\",\n",
      "      \"number\": \"555-555-1234\"\n",
      "    },\n",
      "    {\n",
      "      \"type\": \"work\",\n",
      "      \"number\": \"555-555-5678\"\n",
      "    }\n",
      "  ]\n",
      "}\n",
      "\n"
     ]
    }
   ],
   "source": [
    "def add_file(path: str):\n",
    "    with connect() as c:\n",
    "        return c.add(path)\n",
    "    \n",
    "returned_hash = add_file('concepts_cid_test.json')\n",
    "print('CIDV0: ', returned_hash['Hash'])\n",
    "\n",
    "# convert to CIDv1\n",
    "returned_hash = make_cid(returned_hash['Hash']).to_v1()\n",
    "print('CIDV1: ', returned_hash)\n",
    "\n",
    "# print the data\n",
    "print('Data:\\n', cat_(returned_hash).decode('utf-8'))"
   ]
  },
  {
   "cell_type": "markdown",
   "metadata": {},
   "source": [
    "#### Blocks"
   ]
  },
  {
   "cell_type": "markdown",
   "metadata": {},
   "source": [
    "##### Raw Blocks"
   ]
  },
  {
   "cell_type": "code",
   "execution_count": 127,
   "metadata": {},
   "outputs": [
    {
     "name": "stdout",
     "output_type": "stream",
     "text": [
      "CIDV1:  bafkreid7qoywk77r7rj3slobqfekdvs57qwuwh5d2z3sqsw52iabe3mqne\n",
      "block data:  b'Hello World!'\n",
      "cat data:    b'Hello World!'\n"
     ]
    }
   ],
   "source": [
    "import io\n",
    "\n",
    "def add_block(block: bytes):\n",
    "    with connect() as c:\n",
    "        return c.block.put(block)\n",
    "    \n",
    "returned_hash = add_block(io.BytesIO(b'Hello World!'))\n",
    "print('CIDV1: ', returned_hash['Key'])\n",
    "\n",
    "# get the block\n",
    "with connect() as c:\n",
    "    block = c.block.get(returned_hash['Key'])\n",
    "    print('block data: ', block)\n",
    "\n",
    "# get the data by its hash\n",
    "with connect() as c:\n",
    "    cat_1 = c.cat(returned_hash['Key'])\n",
    "    print('cat data:   ', cat_1)\n"
   ]
  },
  {
   "cell_type": "markdown",
   "metadata": {},
   "source": [
    "## Content Identifier Data Structure (CID)"
   ]
  },
  {
   "cell_type": "markdown",
   "metadata": {},
   "source": [
    "### Pre-calculated CID"
   ]
  },
  {
   "cell_type": "code",
   "execution_count": 128,
   "metadata": {},
   "outputs": [
    {
     "name": "stdout",
     "output_type": "stream",
     "text": [
      "CID:  Qmf1rtki74jvYmGeqaaV51hzeiaa6DyWc98fzDiuPatzyy\n"
     ]
    }
   ],
   "source": [
    "# calculate the CID\n",
    "\n",
    "def get_cid(data: bytes):\n",
    "    return ipfs_api.predict_cid(io.BytesIO(data))\n",
    "\n",
    "\n",
    "data = b'Hello World!'\n",
    "\n",
    "cid = get_cid(data)\n",
    "print('CID: ', cid)\n",
    "    \n",
    "\n"
   ]
  },
  {
   "cell_type": "markdown",
   "metadata": {},
   "source": [
    "## DAG"
   ]
  },
  {
   "cell_type": "markdown",
   "metadata": {},
   "source": [
    "### Put a dag node"
   ]
  },
  {
   "cell_type": "code",
   "execution_count": 129,
   "metadata": {},
   "outputs": [
    {
     "name": "stdout",
     "output_type": "stream",
     "text": [
      "dag hash:  bafyreifri2ltoxda3hrdvouvt23pbdqxqcwqryjtgwxilkip5c27mi3mbe\n"
     ]
    }
   ],
   "source": [
    "from ipfshttpclient2.client.base import ResponseBase\n",
    "from ipfshttpclient2.client import dag as Dag\n",
    "from ipfshttpclient2.client import Client\n",
    "\n",
    "# Get the client\n",
    "client: Client = connect()\n",
    "\n",
    "# use the dag API\n",
    "dag: Dag = client.dag\n",
    "\n",
    "# add a dag object\n",
    "returned_hash: dict = dag.put('concepts_cid_test.json')\n",
    "print('dag hash: ', returned_hash['Cid']['/'])\n"
   ]
  },
  {
   "cell_type": "markdown",
   "metadata": {},
   "source": [
    "### Retrieve a DAG Node"
   ]
  },
  {
   "cell_type": "code",
   "execution_count": 130,
   "metadata": {},
   "outputs": [
    {
     "name": "stdout",
     "output_type": "stream",
     "text": [
      "dag object from block:  <ipfshttpclient2.client.base.ResponseBase: {'address': {'city': 'Anytown', 'state': 'CA', 'street': '123 Main St', 'zip': '12345'}, 'age': 30, 'email': 'johndoe@example.com', 'name': 'John Doe', 'phoneNumbers': [{'number': '555-555-1234', 'type': 'home'}, {'number': '555-555-5678', 'type': 'work'}]}>\n",
      "dag response:  <ipfshttpclient2.client.base.ResponseBase: {'Cid': {'/': 'bafyreifri2ltoxda3hrdvouvt23pbdqxqcwqryjtgwxilkip5c27mi3mbe'}, 'RemPath': ''}>\n"
     ]
    }
   ],
   "source": [
    "\n",
    "# get a dag object's data\n",
    "dag_get: ResponseBase = dag.get(returned_hash['Cid']['/'])\n",
    "print('dag object from block: ', dag_get)\n",
    "\n",
    "# Get a dag object\n",
    "response_: ResponseBase = dag.resolve(returned_hash['Cid']['/'])\n",
    "print('dag response: ', response_)"
   ]
  },
  {
   "cell_type": "markdown",
   "metadata": {},
   "source": [
    "### Link to a DAG Node"
   ]
  },
  {
   "cell_type": "code",
   "execution_count": 131,
   "metadata": {},
   "outputs": [
    {
     "name": "stdout",
     "output_type": "stream",
     "text": [
      "res1:  <ipfshttpclient2.client.base.ResponseBase: {'Key': 'bafkreidnjiztqogq56lhk3gmy2ak6jjra5ofcjic7numkub4mpmt32czwm', 'Size': 17}>\n",
      "res2:  <ipfshttpclient2.client.base.ResponseBase: {'Key': 'bafkreiebob4gjnr4ctlnmt5kykdwdu4hqltsj3uvghnsq3txoco2noxomq', 'Size': 15}>\n",
      "<ipfshttpclient2.client.base.ResponseBase: {'Cid': {'/': 'bafyreiheqnd4ctjq7bh2pzo5lhkhaawwuqhqypqirpgotdzmkxxrdsvniu'}}>\n"
     ]
    }
   ],
   "source": [
    "import json\n",
    "\n",
    "# Your data\n",
    "data1 = {'name': 'Alice'}\n",
    "data2 = {'name': 'Bob'}\n",
    "\n",
    "# Add the data as blocks\n",
    "res1 = client.block.put(io.BytesIO(json.dumps(data1).encode('utf-8')))\n",
    "print('res1: ', res1)\n",
    "res2 = client.block.put(io.BytesIO(json.dumps(data2).encode('utf-8')))\n",
    "print('res2: ', res2)\n",
    "\n",
    "# Get the CIDs of the blocks\n",
    "cid1 = res1['Key']\n",
    "cid2 = res2['Key']\n",
    "\n",
    "# Create a link from block1 to block2\n",
    "link_data: bytes = json.dumps({'data': cid1, 'link': {'/': cid2}}).encode('utf-8')\n",
    "res: ResponseBase = client.dag.put(io.BytesIO(link_data), format='dag-json', input_enc='json')\n",
    "\n",
    "# Print the CID of the link\n",
    "print(res)"
   ]
  },
  {
   "cell_type": "markdown",
   "metadata": {},
   "source": [
    "### Travers a DAG"
   ]
  },
  {
   "cell_type": "code",
   "execution_count": 132,
   "metadata": {},
   "outputs": [
    {
     "name": "stdout",
     "output_type": "stream",
     "text": [
      "node:  <ipfshttpclient2.client.base.ResponseBase: {'data': 'bafkreidnjiztqogq56lhk3gmy2ak6jjra5ofcjic7numkub4mpmt32czwm', 'link': {'/': 'bafkreiebob4gjnr4ctlnmt5kykdwdu4hqltsj3uvghnsq3txoco2noxomq'}}>\n",
      "dag response data1:  b'{\"name\": \"Alice\"}'\n",
      "dag response link to data2:  b'{\"name\": \"Bob\"}'\n",
      "dag of linked item:  <ipfshttpclient2.client.base.ResponseBase: {'/': {'bytes': 'eyJuYW1lIjogIkJvYiJ9'}}>\n",
      "b'{\"name\": \"Bob\"}'\n"
     ]
    }
   ],
   "source": [
    "import base64\n",
    "\n",
    "node_ = client.dag.get(res['Cid']['/'])\n",
    "print('node: ', node_)\n",
    "\n",
    "# get the data of the current node\n",
    "response_: bytes = client.cat(node_['data'])\n",
    "print('dag response data1: ', response_)\n",
    "\n",
    "# check if the DAG contains a link\n",
    "response__: bytes = client.cat(node_['link']['/'])\n",
    "print('dag response link to data2: ', response__)\n",
    "\n",
    "# get the dag of the link\n",
    "response___: bytes = client.dag.get(node_['link']['/'])\n",
    "print('dag of linked item: ', response___)\n",
    "\n",
    "# verify the data of the linked item\n",
    "print(base64.b64decode(response___['/']['bytes']))"
   ]
  },
  {
   "cell_type": "markdown",
   "metadata": {},
   "source": [
    "### Encrypting a DAG"
   ]
  },
  {
   "cell_type": "code",
   "execution_count": 133,
   "metadata": {},
   "outputs": [
    {
     "name": "stdout",
     "output_type": "stream",
     "text": [
      "key:  b'uKNfWDx6H7_TCz4iOvhLC0jL0wvVfqKk28v5SUmhEyI='\n",
      "bafkreihcayla46oyocaiz23xqlcfjin4zgdvhnl22qxb2j6okv3ebodfuy\n"
     ]
    }
   ],
   "source": [
    "\n",
    "from cryptography.fernet import Fernet\n",
    "import json\n",
    "import base64\n",
    "import io\n",
    "\n",
    "# Generate a key for encryption\n",
    "key = Fernet.generate_key()\n",
    "print('key: ', key)\n",
    "cipher_suite = Fernet(key)\n",
    "\n",
    "# Your data\n",
    "data = {'hello': 'world'}\n",
    "\n",
    "# Encrypt the data\n",
    "encrypted_data = cipher_suite.encrypt(json.dumps(data).encode('utf-8'))\n",
    "\n",
    "# Connect to the local IPFS node\n",
    "client = ipfs_api.ipfshttpclient.connect(__IPFS_DEFAULT_URL__)\n",
    "\n",
    "# Add the encrypted data as a block\n",
    "res = client.block.put(io.BytesIO(encrypted_data))\n",
    "\n",
    "# Print the CID of the block\n",
    "print(res['Key'])"
   ]
  },
  {
   "cell_type": "markdown",
   "metadata": {},
   "source": [
    "### Retrieve an encrypted DAG node"
   ]
  },
  {
   "cell_type": "code",
   "execution_count": 134,
   "metadata": {},
   "outputs": [
    {
     "name": "stdout",
     "output_type": "stream",
     "text": [
      "response:  b'gAAAAABlXSuzVGokURrylyH-rNaEDfP9uzgTBghBuMuf-h1q_tjSi4PA5VpPpz9GHKNGRHfQawuetY1jBF_-J76FCUjkCgk4dWLcSQqpixpeeqw2jWmc75c='\n",
      "decrypted data:  b'{\"hello\": \"world\"}'\n"
     ]
    }
   ],
   "source": [
    "# retriece the data\n",
    "response_ = client.cat(res['Key'])\n",
    "print('response: ', response_)\n",
    "\n",
    "# decrypt the data\n",
    "decrypted_data = cipher_suite.decrypt(response_)\n",
    "print('decrypted data: ', decrypted_data)"
   ]
  },
  {
   "cell_type": "markdown",
   "metadata": {},
   "source": [
    "### Metadata"
   ]
  },
  {
   "cell_type": "code",
   "execution_count": 167,
   "metadata": {},
   "outputs": [
    {
     "name": "stdout",
     "output_type": "stream",
     "text": [
      "res:  <ipfshttpclient2.client.base.ResponseBase: {'Key': 'bafkreid3kknm4nf6athbzjbfmoyopkmkzzabzkoecii3k7orpfpnxjnmmy', 'Size': 95}>\n",
      "response:  <ipfshttpclient2.client.base.ResponseBase: {'/': {'bytes': 'eyJkYXRhIjogIkhlbGxvLCB3b3JsZCEiLCAibWV0YWRhdGEiOiB7ImF1dGhvciI6ICJBbGljZSIsICJ0aW1lc3RhbXAiOiAiMjAyMi0wMS0wMVQwMDowMDowMFoifX0'}}>\n"
     ]
    },
    {
     "ename": "Error",
     "evalue": "Incorrect padding",
     "output_type": "error",
     "traceback": [
      "\u001b[0;31m---------------------------------------------------------------------------\u001b[0m",
      "\u001b[0;31mError\u001b[0m                                     Traceback (most recent call last)",
      "\u001b[1;32m/Users/j/Documents/Forme/code/forme-groups-python-3-12/tests/concepts_ipfs.ipynb Cell 42\u001b[0m line \u001b[0;36m2\n\u001b[1;32m     <a href='vscode-notebook-cell:/Users/j/Documents/Forme/code/forme-groups-python-3-12/tests/concepts_ipfs.ipynb#Y113sZmlsZQ%3D%3D?line=20'>21</a>\u001b[0m response_: ResponseBase \u001b[39m=\u001b[39m client\u001b[39m.\u001b[39mdag\u001b[39m.\u001b[39mget(res[\u001b[39m'\u001b[39m\u001b[39mKey\u001b[39m\u001b[39m'\u001b[39m])\n\u001b[1;32m     <a href='vscode-notebook-cell:/Users/j/Documents/Forme/code/forme-groups-python-3-12/tests/concepts_ipfs.ipynb#Y113sZmlsZQ%3D%3D?line=21'>22</a>\u001b[0m \u001b[39mprint\u001b[39m(\u001b[39m'\u001b[39m\u001b[39mresponse: \u001b[39m\u001b[39m'\u001b[39m, response_)\n\u001b[0;32m---> <a href='vscode-notebook-cell:/Users/j/Documents/Forme/code/forme-groups-python-3-12/tests/concepts_ipfs.ipynb#Y113sZmlsZQ%3D%3D?line=22'>23</a>\u001b[0m \u001b[39mprint\u001b[39m(\u001b[39m'\u001b[39m\u001b[39mresponse data: \u001b[39m\u001b[39m'\u001b[39m, base64\u001b[39m.\u001b[39;49mb64decode(response_[\u001b[39m'\u001b[39;49m\u001b[39m/\u001b[39;49m\u001b[39m'\u001b[39;49m][\u001b[39m'\u001b[39;49m\u001b[39mbytes\u001b[39;49m\u001b[39m'\u001b[39;49m]))\n",
      "File \u001b[0;32m/Library/Frameworks/Python.framework/Versions/3.12/lib/python3.12/base64.py:88\u001b[0m, in \u001b[0;36mb64decode\u001b[0;34m(s, altchars, validate)\u001b[0m\n\u001b[1;32m     86\u001b[0m     \u001b[39massert\u001b[39;00m \u001b[39mlen\u001b[39m(altchars) \u001b[39m==\u001b[39m \u001b[39m2\u001b[39m, \u001b[39mrepr\u001b[39m(altchars)\n\u001b[1;32m     87\u001b[0m     s \u001b[39m=\u001b[39m s\u001b[39m.\u001b[39mtranslate(\u001b[39mbytes\u001b[39m\u001b[39m.\u001b[39mmaketrans(altchars, \u001b[39mb\u001b[39m\u001b[39m'\u001b[39m\u001b[39m+/\u001b[39m\u001b[39m'\u001b[39m))\n\u001b[0;32m---> 88\u001b[0m \u001b[39mreturn\u001b[39;00m binascii\u001b[39m.\u001b[39;49ma2b_base64(s, strict_mode\u001b[39m=\u001b[39;49mvalidate)\n",
      "\u001b[0;31mError\u001b[0m: Incorrect padding"
     ]
    }
   ],
   "source": [
    "# The original data\n",
    "data = b'Hello, world!'\n",
    "\n",
    "# The metadata\n",
    "metadata = {\n",
    "    'author': 'Alice',\n",
    "    'timestamp': '2022-01-01T00:00:00Z',\n",
    "}\n",
    "\n",
    "# create a new node\n",
    "new_node = {\n",
    "    'data': data.decode('utf-8'),\n",
    "    'metadata': metadata,\n",
    "}\n",
    "\n",
    "# add the node\n",
    "res = client.block.put(io.BytesIO(json.dumps(new_node).encode('utf-8')))\n",
    "print('res: ', res)\n",
    "\n",
    "# get the node\n",
    "response_: ResponseBase = client.dag.get(res['Key'])\n",
    "print('response: ', response_)\n",
    "print('response data: ', base64.b64decode(response_['/']['bytes'] + '=='))"
   ]
  },
  {
   "cell_type": "markdown",
   "metadata": {},
   "source": [
    "## IPLD"
   ]
  },
  {
   "cell_type": "markdown",
   "metadata": {},
   "source": [
    "paths are used to traverse the DAG"
   ]
  },
  {
   "cell_type": "code",
   "execution_count": null,
   "metadata": {},
   "outputs": [],
   "source": [
    "client = ipfs_api.ipfshttpclient.connect(__IPFS_DEFAULT_URL__)\n",
    "\n",
    "# Add the encrypted data as a block\n"
   ]
  },
  {
   "cell_type": "markdown",
   "metadata": {},
   "source": [
    "## Name"
   ]
  },
  {
   "cell_type": "markdown",
   "metadata": {},
   "source": [
    "### Publish a name"
   ]
  },
  {
   "cell_type": "code",
   "execution_count": null,
   "metadata": {},
   "outputs": [
    {
     "name": "stdout",
     "output_type": "stream",
     "text": [
      "<ipfshttpclient2.client.base.ResponseBase: {'Key': 'bafkreid7qoywk77r7rj3slobqfekdvs57qwuwh5d2z3sqsw52iabe3mqne', 'Size': 12}>\n"
     ]
    },
    {
     "name": "stdout",
     "output_type": "stream",
     "text": [
      "<ipfshttpclient2.client.base.ResponseBase: {'Name': 'k51qzi5uqu5dkv5lfnol93f9i5baf2t5eghettvlqs347k64dj8fwtmn2tum99', 'Value': '/ipfs/bafkreid7qoywk77r7rj3slobqfekdvs57qwuwh5d2z3sqsw52iabe3mqne'}>\n"
     ]
    }
   ],
   "source": [
    "# send a message to the IPFS network\n",
    "client = connect()\n",
    "\n",
    "# add the message as a block\n",
    "res = client.block.put(io.BytesIO(b'Hello World!'))\n",
    "print(res)\n",
    "\n",
    "# get the CID of the block\n",
    "cid = res['Key']\n",
    "\n",
    "# publish the CID\n",
    "res = client.name.publish(cid)\n",
    "print(res)\n"
   ]
  },
  {
   "cell_type": "markdown",
   "metadata": {},
   "source": [
    "### Retrieve a Name"
   ]
  },
  {
   "cell_type": "code",
   "execution_count": null,
   "metadata": {},
   "outputs": [
    {
     "name": "stdout",
     "output_type": "stream",
     "text": [
      "<ipfshttpclient2.client.base.ResponseBase: {'Path': '/ipfs/bafkreid7qoywk77r7rj3slobqfekdvs57qwuwh5d2z3sqsw52iabe3mqne'}>\n",
      "b'Hello World!'\n"
     ]
    }
   ],
   "source": [
    "res = client.name.resolve(res['Name'])\n",
    "print(res)\n",
    "\n",
    "# follow the path to the data\n",
    "res = client.cat(res['Path'])\n",
    "print(res)"
   ]
  },
  {
   "cell_type": "markdown",
   "metadata": {},
   "source": [
    "## Pub/Sub"
   ]
  },
  {
   "cell_type": "markdown",
   "metadata": {},
   "source": [
    "### Development only"
   ]
  },
  {
   "cell_type": "code",
   "execution_count": null,
   "metadata": {},
   "outputs": [
    {
     "name": "stdout",
     "output_type": "stream",
     "text": [
      "{'from': '12D3KooWNTinNPaFXPyoo2wGcrjFC4uekMgDM5pFY46zwxxgL8HA', 'data': 'uSGVsbG8gV29ybGQh', 'seqno': 'uF5m_XMffUkg', 'topicIDs': ['ubXktdG9waWMx']}\n",
      "b'SGVsbG8gV29ybGQh='\n",
      "b'Hello World!'\n"
     ]
    }
   ],
   "source": [
    "from ipfshttpclient2.client.pubsub import SubChannel\n",
    "\n",
    "\n",
    "pubsub_ = client.pubsub\n",
    "\n",
    "# Subscribe to a topic\n",
    "channel_: SubChannel = pubsub_.subscribe('my-topic1')\n",
    "\n",
    "# Publish a message to the topic\n",
    "# pubsub_.publish('my-topic1', 'concepts_cid_test.json')\n",
    "pubsub_.publish('my-topic1', io.BytesIO(b'Hello World!'))\n",
    "\n",
    "# Get the next message from the topic\n",
    "message = channel_.read_message()\n",
    "print(message)\n",
    "\n",
    "# Decode the message data\n",
    "strung = message['data']\n",
    "\n",
    "# # from string to bytes (on encoding \"u\" is added as prefix and the \"=\" is removed)\n",
    "bytes_ = (strung[1::] + '=').encode('utf-8')\n",
    "print(bytes_)\n",
    "\n",
    "decoded = base64.b64decode(bytes_)\n",
    "print(decoded)\n"
   ]
  }
 ],
 "metadata": {
  "kernelspec": {
   "display_name": ".venv",
   "language": "python",
   "name": "python3"
  },
  "language_info": {
   "codemirror_mode": {
    "name": "ipython",
    "version": 3
   },
   "file_extension": ".py",
   "mimetype": "text/x-python",
   "name": "python",
   "nbconvert_exporter": "python",
   "pygments_lexer": "ipython3",
   "version": "3.12.0"
  }
 },
 "nbformat": 4,
 "nbformat_minor": 2
}
