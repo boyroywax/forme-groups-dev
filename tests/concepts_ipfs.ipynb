{
 "cells": [
  {
   "cell_type": "markdown",
   "metadata": {},
   "source": [
    "# IPFS Concepts"
   ]
  },
  {
   "cell_type": "markdown",
   "metadata": {},
   "source": [
    "## IPFS Service Node\n",
    "\n",
    "A node that is running the IPFS daemon and is connected to the IPFS network. It is able to provide content to other nodes and to retrieve content from other nodes."
   ]
  },
  {
   "cell_type": "code",
   "execution_count": 1,
   "metadata": {
    "vscode": {
     "languageId": "shellscript"
    }
   },
   "outputs": [],
   "source": [
    "# docker compose -f \"tests/ipfs/docker-compose.yml\" up -d --build"
   ]
  },
  {
   "cell_type": "markdown",
   "metadata": {},
   "source": [
    "### Default Server Address"
   ]
  },
  {
   "cell_type": "code",
   "execution_count": 2,
   "metadata": {},
   "outputs": [],
   "source": [
    "__IPFS_DEFAULT_URL__ = '/ip4/127.0.0.1/tcp/5001'"
   ]
  },
  {
   "cell_type": "markdown",
   "metadata": {},
   "source": [
    "## IPFS-Toolkit"
   ]
  },
  {
   "cell_type": "code",
   "execution_count": 3,
   "metadata": {
    "vscode": {
     "languageId": "shellscript"
    }
   },
   "outputs": [],
   "source": [
    "# pip install IPFS-Toolkit"
   ]
  },
  {
   "cell_type": "markdown",
   "metadata": {},
   "source": [
    "### Connect"
   ]
  },
  {
   "cell_type": "code",
   "execution_count": 4,
   "metadata": {},
   "outputs": [],
   "source": [
    "import ipfs_api\n",
    "\n",
    "# Connect to the IPFS daemon\n",
    "def connect():\n",
    "    client = ipfs_api.ipfshttpclient\n",
    "    return client.connect(__IPFS_DEFAULT_URL__)"
   ]
  },
  {
   "cell_type": "markdown",
   "metadata": {},
   "source": [
    "#### Check Connection"
   ]
  },
  {
   "cell_type": "code",
   "execution_count": 5,
   "metadata": {},
   "outputs": [
    {
     "name": "stdout",
     "output_type": "stream",
     "text": [
      "Client ID:  <ipfshttpclient2.client.base.ResponseBase: {'ID': '12D3KooWNTinNPaFXPyoo2wGcrjFC4uekMgDM5pFY46zwxxgL8HA', 'PublicKey': 'CAESILveCqhrvYi7xfZkCFoytPVThX++ztHAh85jBT3xQ0Et', 'Addresses': ['/ip4/127.0.0.1/tcp/4001/p2p/12D3KooWNTinNPaFXPyoo2wGcrjFC4uekMgDM5pFY46zwxxgL8HA', '/ip4/127.0.0.1/udp/4001/quic-v1/p2p/12D3KooWNTinNPaFXPyoo2wGcrjFC4uekMgDM5pFY46zwxxgL8HA', '/ip4/127.0.0.1/udp/4001/quic-v1/webtransport/certhash/uEiAsG_OZi39bk9tp4XO6luYhWxo_vmHB30yD1HFNsCV1hg/certhash/uEiBU9zqLAAbnHBe6T6br9Bg29WLOe4hW0nsQrOBKeoPadA/p2p/12D3KooWNTinNPaFXPyoo2wGcrjFC4uekMgDM5pFY46zwxxgL8HA', '/ip4/159.203.176.25/tcp/4001/p2p/12D3KooWR14Gaa6qxCug4rPTZaTqZY6CDaR721q4ruRDmvwU8JCS/p2p-circuit/p2p/12D3KooWNTinNPaFXPyoo2wGcrjFC4uekMgDM5pFY46zwxxgL8HA', '/ip4/159.203.176.25/udp/4001/quic-v1/p2p/12D3KooWR14Gaa6qxCug4rPTZaTqZY6CDaR721q4ruRDmvwU8JCS/p2p-circuit/p2p/12D3KooWNTinNPaFXPyoo2wGcrjFC4uekMgDM5pFY46zwxxgL8HA', '/ip4/159.203.176.25/udp/4001/quic/p2p/12D3KooWR14Gaa6qxCug4rPTZaTqZY6CDaR721q4ruRDmvwU8JCS/p2p-circuit/p2p/12D3KooWNTinNPaFXPyoo2wGcrjFC4uekMgDM5pFY46zwxxgL8HA', '/ip4/172.21.0.2/tcp/4001/p2p/12D3KooWNTinNPaFXPyoo2wGcrjFC4uekMgDM5pFY46zwxxgL8HA', '/ip4/172.21.0.2/udp/4001/quic-v1/p2p/12D3KooWNTinNPaFXPyoo2wGcrjFC4uekMgDM5pFY46zwxxgL8HA', '/ip4/172.21.0.2/udp/4001/quic-v1/webtransport/certhash/uEiAsG_OZi39bk9tp4XO6luYhWxo_vmHB30yD1HFNsCV1hg/certhash/uEiBU9zqLAAbnHBe6T6br9Bg29WLOe4hW0nsQrOBKeoPadA/p2p/12D3KooWNTinNPaFXPyoo2wGcrjFC4uekMgDM5pFY46zwxxgL8HA', '/ip4/217.76.54.80/udp/4001/quic-v1/p2p/12D3KooWJEYdF8Dj3TriqxdhvhgwN28JAMQSbvU1CUjyY9Qtuvih/p2p-circuit/p2p/12D3KooWNTinNPaFXPyoo2wGcrjFC4uekMgDM5pFY46zwxxgL8HA', '/ip4/217.76.54.80/udp/4001/quic-v1/webtransport/certhash/uEiDk8kngvsz6jmvWSUVrANGNger3Gv4Uu8jfl1EpnNkdmg/certhash/uEiDezXc0Zp2Hupm9jwGGk1CMwVPLlvMo4Exyrv-XK2XVTA/p2p/12D3KooWJEYdF8Dj3TriqxdhvhgwN28JAMQSbvU1CUjyY9Qtuvih/p2p-circuit/p2p/12D3KooWNTinNPaFXPyoo2wGcrjFC4uekMgDM5pFY46zwxxgL8HA', '/ip4/217.76.54.80/udp/4001/quic/p2p/12D3KooWJEYdF8Dj3TriqxdhvhgwN28JAMQSbvU1CUjyY9Qtuvih/p2p-circuit/p2p/12D3KooWNTinNPaFXPyoo2wGcrjFC4uekMgDM5pFY46zwxxgL8HA'], 'AgentVersion': 'kubo/0.23.0/3a1a041/docker', 'Protocols': ['/ipfs/bitswap', '/ipfs/bitswap/1.0.0', '/ipfs/bitswap/1.1.0', '/ipfs/bitswap/1.2.0', '/ipfs/id/1.0.0', '/ipfs/id/push/1.0.0', '/ipfs/lan/kad/1.0.0', '/ipfs/ping/1.0.0', '/libp2p/circuit/relay/0.2.0/stop', '/libp2p/dcutr', '/x/']}>\n",
      "Client Version:  <ipfshttpclient2.client.base.ResponseBase: {'Version': '0.23.0', 'Commit': '3a1a041', 'Repo': '15', 'System': 'amd64/linux', 'Golang': 'go1.21.1'}>\n"
     ]
    }
   ],
   "source": [
    "def get_client_id(self):\n",
    "    return self._client_id\n",
    "\n",
    "def get_client_version(self):\n",
    "    return self._client_version\n",
    "\n",
    "def print_status():\n",
    "    ipfs = connect()\n",
    "    print('Client ID: ', ipfs.id())\n",
    "    print('Client Version: ', ipfs.version())\n",
    "\n",
    "print_status()"
   ]
  },
  {
   "cell_type": "markdown",
   "metadata": {},
   "source": [
    "### Publish"
   ]
  },
  {
   "cell_type": "markdown",
   "metadata": {},
   "source": [
    "#### Strings"
   ]
  },
  {
   "cell_type": "code",
   "execution_count": 6,
   "metadata": {},
   "outputs": [
    {
     "name": "stdout",
     "output_type": "stream",
     "text": [
      "Qmf1rtki74jvYmGeqaaV51hzeiaa6DyWc98fzDiuPatzyy\n"
     ]
    }
   ],
   "source": [
    "def add_str(string: str):\n",
    "    with connect() as c:\n",
    "        return c.add_str(string)\n",
    "\n",
    "returned_hash = add_str(u'Hello World!')\n",
    "print(returned_hash)"
   ]
  },
  {
   "cell_type": "markdown",
   "metadata": {},
   "source": [
    "#### Bytes"
   ]
  },
  {
   "cell_type": "code",
   "execution_count": 11,
   "metadata": {},
   "outputs": [
    {
     "name": "stdout",
     "output_type": "stream",
     "text": [
      "Qmf1rtki74jvYmGeqaaV51hzeiaa6DyWc98fzDiuPatzyy\n"
     ]
    }
   ],
   "source": [
    "def add_bytes(data: bytes):\n",
    "    with connect() as c:\n",
    "        return c.add_bytes(data)\n",
    "    \n",
    "returned_hash = add_bytes(b'Hello World!')\n",
    "print(returned_hash)"
   ]
  },
  {
   "cell_type": "markdown",
   "metadata": {},
   "source": [
    "#### JSON"
   ]
  },
  {
   "cell_type": "code",
   "execution_count": 12,
   "metadata": {},
   "outputs": [
    {
     "name": "stdout",
     "output_type": "stream",
     "text": [
      "QmNrEidQrAbxx3FzxNt9E6qjEDZrtvzxUVh47BXm55Zuen\n"
     ]
    }
   ],
   "source": [
    "def add_json(json: dict):\n",
    "    with connect() as c:\n",
    "        return c.add_json(json)\n",
    "    \n",
    "returned_hash = add_json({'hello': 'world'})\n",
    "print(returned_hash)"
   ]
  },
  {
   "cell_type": "markdown",
   "metadata": {},
   "source": [
    "#### Files"
   ]
  },
  {
   "cell_type": "code",
   "execution_count": 13,
   "metadata": {},
   "outputs": [
    {
     "ename": "KeyError",
     "evalue": "'HASH'",
     "output_type": "error",
     "traceback": [
      "\u001b[0;31m---------------------------------------------------------------------------\u001b[0m",
      "\u001b[0;31mKeyError\u001b[0m                                  Traceback (most recent call last)",
      "\u001b[1;32m/Users/j/Documents/Forme/code/forme-groups-python-3-12/tests/concepts_ipfs.ipynb Cell 20\u001b[0m line \u001b[0;36m5\n\u001b[1;32m      <a href='vscode-notebook-cell:/Users/j/Documents/Forme/code/forme-groups-python-3-12/tests/concepts_ipfs.ipynb#X26sZmlsZQ%3D%3D?line=1'>2</a>\u001b[0m     \u001b[39mwith\u001b[39;00m connect() \u001b[39mas\u001b[39;00m c:\n\u001b[1;32m      <a href='vscode-notebook-cell:/Users/j/Documents/Forme/code/forme-groups-python-3-12/tests/concepts_ipfs.ipynb#X26sZmlsZQ%3D%3D?line=2'>3</a>\u001b[0m         \u001b[39mreturn\u001b[39;00m c\u001b[39m.\u001b[39madd(path)[\u001b[39m'\u001b[39m\u001b[39mHASH\u001b[39m\u001b[39m'\u001b[39m]\n\u001b[0;32m----> <a href='vscode-notebook-cell:/Users/j/Documents/Forme/code/forme-groups-python-3-12/tests/concepts_ipfs.ipynb#X26sZmlsZQ%3D%3D?line=4'>5</a>\u001b[0m returned_hash \u001b[39m=\u001b[39m add_file(\u001b[39m'\u001b[39;49m\u001b[39mconcepts_ipfs.ipynb\u001b[39;49m\u001b[39m'\u001b[39;49m)\n\u001b[1;32m      <a href='vscode-notebook-cell:/Users/j/Documents/Forme/code/forme-groups-python-3-12/tests/concepts_ipfs.ipynb#X26sZmlsZQ%3D%3D?line=5'>6</a>\u001b[0m \u001b[39mprint\u001b[39m(returned_hash)\n",
      "\u001b[1;32m/Users/j/Documents/Forme/code/forme-groups-python-3-12/tests/concepts_ipfs.ipynb Cell 20\u001b[0m line \u001b[0;36m3\n\u001b[1;32m      <a href='vscode-notebook-cell:/Users/j/Documents/Forme/code/forme-groups-python-3-12/tests/concepts_ipfs.ipynb#X26sZmlsZQ%3D%3D?line=0'>1</a>\u001b[0m \u001b[39mdef\u001b[39;00m \u001b[39madd_file\u001b[39m(path: \u001b[39mstr\u001b[39m):\n\u001b[1;32m      <a href='vscode-notebook-cell:/Users/j/Documents/Forme/code/forme-groups-python-3-12/tests/concepts_ipfs.ipynb#X26sZmlsZQ%3D%3D?line=1'>2</a>\u001b[0m     \u001b[39mwith\u001b[39;00m connect() \u001b[39mas\u001b[39;00m c:\n\u001b[0;32m----> <a href='vscode-notebook-cell:/Users/j/Documents/Forme/code/forme-groups-python-3-12/tests/concepts_ipfs.ipynb#X26sZmlsZQ%3D%3D?line=2'>3</a>\u001b[0m         \u001b[39mreturn\u001b[39;00m c\u001b[39m.\u001b[39;49madd(path)[\u001b[39m'\u001b[39;49m\u001b[39mHASH\u001b[39;49m\u001b[39m'\u001b[39;49m]\n",
      "File \u001b[0;32m~/Documents/Forme/code/forme-groups-python-3-12/.venv/lib/python3.12/site-packages/ipfshttpclient2/client/base.py:82\u001b[0m, in \u001b[0;36mResponseBase.__getitem__\u001b[0;34m(self, name)\u001b[0m\n\u001b[1;32m     81\u001b[0m \u001b[39mdef\u001b[39;00m \u001b[39m__getitem__\u001b[39m(\u001b[39mself\u001b[39m, name: \u001b[39mstr\u001b[39m) \u001b[39m-\u001b[39m\u001b[39m>\u001b[39m response_item_t:\n\u001b[0;32m---> 82\u001b[0m \t\u001b[39mreturn\u001b[39;00m \u001b[39mself\u001b[39m\u001b[39m.\u001b[39m_wrap_result(\u001b[39mself\u001b[39;49m\u001b[39m.\u001b[39;49m_raw[name])\n",
      "\u001b[0;31mKeyError\u001b[0m: 'HASH'"
     ]
    }
   ],
   "source": [
    "def add_file(path: str):\n",
    "    with connect() as c:\n",
    "        return c.add(path)\n",
    "    \n",
    "returned_hash = add_file('concepts_ipfs.ipynb')\n",
    "print(returned_hash)"
   ]
  }
 ],
 "metadata": {
  "kernelspec": {
   "display_name": ".venv",
   "language": "python",
   "name": "python3"
  },
  "language_info": {
   "codemirror_mode": {
    "name": "ipython",
    "version": 3
   },
   "file_extension": ".py",
   "mimetype": "text/x-python",
   "name": "python",
   "nbconvert_exporter": "python",
   "pygments_lexer": "ipython3",
   "version": "3.12.0"
  }
 },
 "nbformat": 4,
 "nbformat_minor": 2
}
