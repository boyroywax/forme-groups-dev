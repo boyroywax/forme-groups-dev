{
 "cells": [
  {
   "cell_type": "markdown",
   "metadata": {},
   "source": [
    "# #. Group Units\n",
    "\n",
    "A Group is a collection of Group Units. A Group Unit consists of:\n",
    "- **Nonce**: A unique identifier for the Group Unit.  Also, declares the Group Unit's Hierarchical Deterministic (HD) path.\n",
    "- **Owner**: The owner of the Group Unit.  Generally, the owner is the Group's creator, but alternative ownership models are possible.\n",
    "- **Credential**: A credential that is used to authenticate the Group Unit and allow access to the Group Unit's data.\n",
    "- **Data**: The data that is stored in the Group Unit."
   ]
  },
  {
   "cell_type": "code",
   "execution_count": 4,
   "metadata": {},
   "outputs": [],
   "source": [
    "import sys\n",
    "\n",
    "sys.path.append(\"../../forme-groups-python-3-12/\")"
   ]
  },
  {
   "cell_type": "markdown",
   "metadata": {},
   "source": [
    "## Controller\n",
    "\n",
    "The Controller is the entity that creates the Group.  The Controller is responsible for:\n",
    "- Creating the Group.\n",
    "- Creating the Group Units."
   ]
  },
  {
   "cell_type": "code",
   "execution_count": 5,
   "metadata": {},
   "outputs": [
    {
     "name": "stdout",
     "output_type": "stream",
     "text": [
      "is_sub_unit: None, super_unit_schema: None, super_unit_hash: None\n",
      "next_nonce: 1\n",
      "active: nonce: 0, owner: , credential: , data: entry: (0,), schema: None\n",
      "base_values: (BaseValue(value=0, type=int),)\n",
      "predicted_super_nonce: 0\n",
      "predicted_super_nonce_group_unit: nonce: 0, owner: , credential: , data: entry: (0,), schema: None\n",
      "predicted_super_nonce_group_unit_schema: None\n",
      "schema_to_enforce: None\n",
      "data: entry: (1, 2, 3), schema: None\n",
      "group_unit_hash: d63fb21887e17825aecdb8aff280d9a8f238ba808b461f0455521b31d95275e2, nonce_hash: 3eff7c5314a5ed2d5d8fdad16bbc4851cd98b9861c950854246318c5576a37fd\n",
      "hash_item: d63fb21887e17825aecdb8aff280d9a8f238ba808b461f0455521b31d95275e2\n",
      "hash_item: 3eff7c5314a5ed2d5d8fdad16bbc4851cd98b9861c950854246318c5576a37fd\n",
      "nonce: 1, owner: , credential: , data: entry: (1, 2, 3), schema: None\n"
     ]
    }
   ],
   "source": [
    "from src.groups.controller import Controller\n",
    "from src.groups.unit import Data\n",
    "\n",
    "# Create a Controller with a fresh group unit pool\n",
    "controller = Controller()\n",
    "\n",
    "# Create some data to store in the Group\n",
    "data = Data((1, 2, 3))\n",
    "\n",
    "# Create a GroupUnit and store the data in it\n",
    "group_unit = controller._create_group_unit(data)\n",
    "\n",
    "print(group_unit)"
   ]
  },
  {
   "cell_type": "markdown",
   "metadata": {},
   "source": [
    "## Create Sub Units from a schema\n",
    "\n"
   ]
  },
  {
   "cell_type": "code",
   "execution_count": 6,
   "metadata": {},
   "outputs": [
    {
     "name": "stdout",
     "output_type": "stream",
     "text": [
      "is_sub_unit: None, super_unit_schema: None, super_unit_hash: None\n",
      "next_nonce: 2\n",
      "active: nonce: 1, owner: , credential: , data: entry: (1, 2, 3), schema: None\n",
      "base_values: (BaseValue(value=1, type=int),)\n",
      "predicted_super_nonce: 1\n",
      "predicted_super_nonce_group_unit: nonce: 1, owner: , credential: , data: entry: (1, 2, 3), schema: None\n",
      "predicted_super_nonce_group_unit_schema: None\n",
      "schema_to_enforce: None\n",
      "data: entry: ('a', 'b', 'c'), schema: (key=name, value=str), (key=age, value=int)\n",
      "group_unit_hash: d3372f6d5dd15f662c751fa8ff9ceec8f3fd8699478dc02f3391f7016e216992, nonce_hash: 32ee78186a3407f4f288673b1a7dca6154c294f435f444ee3ba054356a88a1e8\n",
      "hash_item: d3372f6d5dd15f662c751fa8ff9ceec8f3fd8699478dc02f3391f7016e216992\n",
      "hash_item: 32ee78186a3407f4f288673b1a7dca6154c294f435f444ee3ba054356a88a1e8\n",
      "nonce: 2, owner: , credential: , data: entry: ('a', 'b', 'c'), schema: (key=name, value=str), (key=age, value=int)\n",
      "is_sub_unit: True, super_unit_schema: None, super_unit_hash: None\n",
      "next_nonce: 2.0\n",
      "active: nonce: 2, owner: , credential: , data: entry: ('a', 'b', 'c'), schema: (key=name, value=str), (key=age, value=int)\n",
      "base_values: (BaseValue(value=2, type=int),)\n",
      "predicted_super_nonce: 2\n",
      "predicted_super_nonce_group_unit: nonce: 2, owner: , credential: , data: entry: ('a', 'b', 'c'), schema: (key=name, value=str), (key=age, value=int)\n",
      "predicted_super_nonce_group_unit_schema: (key=name, value=str), (key=age, value=int)\n",
      "schema_to_enforce: (key=name, value=str), (key=age, value=int)\n",
      "data: entry: ('Fred', 12), schema: None\n",
      "group_unit_hash: f5818e834154435dcee1ec789332f24d750efb892f4aa393b94d4aa66912eec0, nonce_hash: e3dba2e0086e14da2da631fdfb957973d315add9320bb2f02d60fc0bef920557\n",
      "hash_item: f5818e834154435dcee1ec789332f24d750efb892f4aa393b94d4aa66912eec0\n",
      "hash_item: e3dba2e0086e14da2da631fdfb957973d315add9320bb2f02d60fc0bef920557\n",
      "nonce: 2.0, owner: , credential: , data: entry: ('Fred', 12), schema: None\n",
      "is_sub_unit: None, super_unit_schema: None, super_unit_hash: None\n",
      "next_nonce: 2.1\n",
      "active: nonce: 2.0, owner: , credential: , data: entry: ('Fred', 12), schema: None\n",
      "base_values: (BaseValue(value=2, type=int),)\n",
      "predicted_super_nonce: 2\n",
      "predicted_super_nonce_group_unit: nonce: 2, owner: , credential: , data: entry: ('a', 'b', 'c'), schema: (key=name, value=str), (key=age, value=int)\n",
      "predicted_super_nonce_group_unit_schema: (key=name, value=str), (key=age, value=int)\n",
      "schema_to_enforce: (key=name, value=str), (key=age, value=int)\n",
      "data: entry: ('Jane', 11), schema: None\n",
      "group_unit_hash: 34c45d92d706210456c3939b041cd7924bd270e597994d687128fdd14ba6af23, nonce_hash: f4cac58c47c0dc85c294ed700f3dbd0eabb030cf6464ff5f6963feafde0e7a2e\n",
      "hash_item: 34c45d92d706210456c3939b041cd7924bd270e597994d687128fdd14ba6af23\n",
      "hash_item: f4cac58c47c0dc85c294ed700f3dbd0eabb030cf6464ff5f6963feafde0e7a2e\n",
      "nonce: 2.1, owner: , credential: , data: entry: ('Jane', 11), schema: None\n",
      "entry: ('Jill', 10), schema: None\n",
      "is_sub_unit: None, super_unit_schema: None, super_unit_hash: None\n",
      "next_nonce: 2.2\n",
      "active: nonce: 2.1, owner: , credential: , data: entry: ('Jane', 11), schema: None\n",
      "base_values: (BaseValue(value=2, type=int),)\n",
      "predicted_super_nonce: 2\n",
      "predicted_super_nonce_group_unit: nonce: 2, owner: , credential: , data: entry: ('a', 'b', 'c'), schema: (key=name, value=str), (key=age, value=int)\n",
      "predicted_super_nonce_group_unit_schema: (key=name, value=str), (key=age, value=int)\n",
      "schema_to_enforce: (key=name, value=str), (key=age, value=int)\n",
      "data: entry: ('Jill', 10), schema: None\n",
      "group_unit_hash: 806c4da8570e51e51874634c3d12a74561a789671c0f94c38d6a7761c9ced843, nonce_hash: 78eccd18f39d3afae5c26ab47cf406f4640be4bfe1d5dde1c012588d0900e9cd\n",
      "hash_item: 806c4da8570e51e51874634c3d12a74561a789671c0f94c38d6a7761c9ced843\n",
      "hash_item: 78eccd18f39d3afae5c26ab47cf406f4640be4bfe1d5dde1c012588d0900e9cd\n"
     ]
    }
   ],
   "source": [
    "import uuid\n",
    "import random\n",
    "from src.groups.base import SchemaEntry, BaseSchema\n",
    "\n",
    "# Create a SchemaEntry for the GroupUnit\n",
    "schema_entry = SchemaEntry(\"name\", \"str\")\n",
    "schema_entry2 = SchemaEntry(\"age\", \"int\")\n",
    "schema_for_sub_units = BaseSchema((schema_entry, schema_entry2))\n",
    "\n",
    "# Create the data to store in the GroupUnit\n",
    "data = Data(('a', 'b', 'c'), schema_for_sub_units)\n",
    "\n",
    "# Create a GroupUnit and store the data in it\n",
    "group_unit = controller._create_group_unit(data)\n",
    "print(group_unit)\n",
    "\n",
    "# Create the data with the proper schema\n",
    "sub_unit_data = Data((\"Fred\", 12))\n",
    "\n",
    "sub_group_unit = controller._create_group_unit(sub_unit_data, True)\n",
    "\n",
    "print(sub_group_unit)\n",
    "\n",
    "sub_unit_data2 = Data((\"Jane\", 11))\n",
    "\n",
    "sub_group_unit2 = controller._create_group_unit(sub_unit_data2)\n",
    "\n",
    "print(sub_group_unit2)\n",
    "\n",
    "sub_unit3 = Data((\"Jill\", 10))\n",
    "print(sub_unit3)\n",
    "sub_group_unit3 = controller._create_group_unit(sub_unit3)\n",
    "\n",
    "for i in range(0, 100):\n",
    "    random_data = Data((str(uuid.uuid4()), random.randint(0, 1000)))\n",
    "    print(controller.pool.group_units)\n",
    "    print(random_data)\n",
    "    random_group_unit = controller._create_group_unit(random_data)\n",
    "    print(random_group_unit)\n"
   ]
  }
 ],
 "metadata": {
  "kernelspec": {
   "display_name": ".venv",
   "language": "python",
   "name": "python3"
  },
  "language_info": {
   "codemirror_mode": {
    "name": "ipython",
    "version": 3
   },
   "file_extension": ".py",
   "mimetype": "text/x-python",
   "name": "python",
   "nbconvert_exporter": "python",
   "pygments_lexer": "ipython3",
   "version": "3.12.0"
  }
 },
 "nbformat": 4,
 "nbformat_minor": 2
}
