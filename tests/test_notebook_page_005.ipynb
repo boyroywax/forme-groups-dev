{
 "cells": [
  {
   "cell_type": "markdown",
   "metadata": {},
   "source": [
    "# #. Group Units\n",
    "\n",
    "A Group is a collection of Group Units. A Group Unit consists of:\n",
    "- **Nonce**: A unique identifier for the Group Unit.  Also, declares the Group Unit's Hierarchical Deterministic (HD) path.\n",
    "- **Owner**: The owner of the Group Unit.  Generally, the owner is the Group's creator, but alternative ownership models are possible.\n",
    "- **Credential**: A credential that is used to authenticate the Group Unit and allow access to the Group Unit's data.\n",
    "- **Data**: The data that is stored in the Group Unit."
   ]
  },
  {
   "cell_type": "code",
   "execution_count": 1,
   "metadata": {},
   "outputs": [],
   "source": [
    "import sys\n",
    "\n",
    "sys.path.append(\"../../forme-groups-python-3-12/\")"
   ]
  },
  {
   "cell_type": "markdown",
   "metadata": {},
   "source": [
    "## Controller\n",
    "\n",
    "The Controller is the entity that creates the Group.  The Controller is responsible for:\n",
    "- Creating the Group.\n",
    "- Creating the Group Units."
   ]
  },
  {
   "cell_type": "code",
   "execution_count": 2,
   "metadata": {},
   "outputs": [
    {
     "name": "stdout",
     "output_type": "stream",
     "text": [
      "nonce: 1, owner: , credential: , data: entry: (1, 2, 3), schema: None\n"
     ]
    }
   ],
   "source": [
    "from src.groups.controller import Controller\n",
    "from src.groups.unit import Data\n",
    "\n",
    "# Create a Controller with a fresh group unit pool\n",
    "controller = Controller()\n",
    "\n",
    "# Create some data to store in the Group\n",
    "data = Data((1, 2, 3))\n",
    "\n",
    "# Create a GroupUnit and store the data in it\n",
    "group_unit = controller._create_group_unit(data)\n",
    "\n",
    "print(group_unit)"
   ]
  },
  {
   "cell_type": "markdown",
   "metadata": {},
   "source": [
    "## Create Sub Units from a schema\n",
    "\n"
   ]
  },
  {
   "cell_type": "code",
   "execution_count": 6,
   "metadata": {},
   "outputs": [
    {
     "ename": "ValueError",
     "evalue": "GroupUnit with package_hash 19040bd68890ac87e845aa5adf17a2f8b9d4dce83ead0f7ca279b61da0caaaa7 already exists in the Pool",
     "output_type": "error",
     "traceback": [
      "\u001b[0;31m---------------------------------------------------------------------------\u001b[0m",
      "\u001b[0;31mValueError\u001b[0m                                Traceback (most recent call last)",
      "\u001b[1;32m/Users/j/Documents/Forme/code/forme-groups-python-3-12/tests/test_notebook_page_005.ipynb Cell 6\u001b[0m line \u001b[0;36m1\n\u001b[1;32m      <a href='vscode-notebook-cell:/Users/j/Documents/Forme/code/forme-groups-python-3-12/tests/test_notebook_page_005.ipynb#W6sZmlsZQ%3D%3D?line=8'>9</a>\u001b[0m data \u001b[39m=\u001b[39m Data((\u001b[39m'\u001b[39m\u001b[39ma\u001b[39m\u001b[39m'\u001b[39m, \u001b[39m'\u001b[39m\u001b[39mb\u001b[39m\u001b[39m'\u001b[39m, \u001b[39m'\u001b[39m\u001b[39mc\u001b[39m\u001b[39m'\u001b[39m), schema_for_sub_units)\n\u001b[1;32m     <a href='vscode-notebook-cell:/Users/j/Documents/Forme/code/forme-groups-python-3-12/tests/test_notebook_page_005.ipynb#W6sZmlsZQ%3D%3D?line=10'>11</a>\u001b[0m \u001b[39m# Create a GroupUnit and store the data in it\u001b[39;00m\n\u001b[0;32m---> <a href='vscode-notebook-cell:/Users/j/Documents/Forme/code/forme-groups-python-3-12/tests/test_notebook_page_005.ipynb#W6sZmlsZQ%3D%3D?line=11'>12</a>\u001b[0m group_unit \u001b[39m=\u001b[39m controller\u001b[39m.\u001b[39;49m_create_group_unit(data)\n\u001b[1;32m     <a href='vscode-notebook-cell:/Users/j/Documents/Forme/code/forme-groups-python-3-12/tests/test_notebook_page_005.ipynb#W6sZmlsZQ%3D%3D?line=13'>14</a>\u001b[0m \u001b[39m# Create the data with the proper schema\u001b[39;00m\n\u001b[1;32m     <a href='vscode-notebook-cell:/Users/j/Documents/Forme/code/forme-groups-python-3-12/tests/test_notebook_page_005.ipynb#W6sZmlsZQ%3D%3D?line=14'>15</a>\u001b[0m sub_unit_data \u001b[39m=\u001b[39m Data((\u001b[39m\"\u001b[39m\u001b[39mFred\u001b[39m\u001b[39m\"\u001b[39m, \u001b[39m12\u001b[39m))\n",
      "File \u001b[0;32m~/Documents/Forme/code/forme-groups-python-3-12/tests/../../forme-groups-python-3-12/src/groups/controller.py:98\u001b[0m, in \u001b[0;36mController._create_group_unit\u001b[0;34m(self, data, is_sub_unit, super_unit_schema, super_unit_hash)\u001b[0m\n\u001b[1;32m     96\u001b[0m owner \u001b[39m=\u001b[39m Owner()\n\u001b[1;32m     97\u001b[0m group_unit \u001b[39m=\u001b[39m GroupUnit(nonce, owner, credential, data)\n\u001b[0;32m---> 98\u001b[0m \u001b[39mself\u001b[39;49m\u001b[39m.\u001b[39;49m_add_group_unit(group_unit)\n\u001b[1;32m     99\u001b[0m \u001b[39mreturn\u001b[39;00m group_unit\n",
      "File \u001b[0;32m~/Documents/Forme/code/forme-groups-python-3-12/tests/../../forme-groups-python-3-12/src/groups/controller.py:53\u001b[0m, in \u001b[0;36mController._add_group_unit\u001b[0;34m(self, group_unit)\u001b[0m\n\u001b[1;32m     47\u001b[0m \u001b[39mdef\u001b[39;00m \u001b[39m_add_group_unit\u001b[39m(\u001b[39mself\u001b[39m, group_unit: GroupUnit) \u001b[39m-\u001b[39m\u001b[39m>\u001b[39m \u001b[39mNone\u001b[39;00m:\n\u001b[1;32m     48\u001b[0m \u001b[39m    \u001b[39m\u001b[39m\"\"\"Adds a GroupUnit to the Pool\u001b[39;00m\n\u001b[1;32m     49\u001b[0m \n\u001b[1;32m     50\u001b[0m \u001b[39m    Args:\u001b[39;00m\n\u001b[1;32m     51\u001b[0m \u001b[39m        group_unit (GroupUnit): The GroupUnit to add to the Pool\u001b[39;00m\n\u001b[1;32m     52\u001b[0m \u001b[39m    \"\"\"\u001b[39;00m\n\u001b[0;32m---> 53\u001b[0m     \u001b[39mself\u001b[39;49m\u001b[39m.\u001b[39;49mpool\u001b[39m.\u001b[39;49madd_group_unit(group_unit)\n",
      "File \u001b[0;32m~/Documents/Forme/code/forme-groups-python-3-12/tests/../../forme-groups-python-3-12/src/groups/pool.py:98\u001b[0m, in \u001b[0;36mPool.add_group_unit\u001b[0;34m(self, group_unit)\u001b[0m\n\u001b[1;32m     95\u001b[0m \u001b[39massert\u001b[39;00m nonce_hash \u001b[39mis\u001b[39;00m \u001b[39mnot\u001b[39;00m \u001b[39mNone\u001b[39;00m, \u001b[39mf\u001b[39m\u001b[39m'\u001b[39m\u001b[39mExpected nonce_hash to be str, got \u001b[39m\u001b[39m{\u001b[39;00m\u001b[39mtype\u001b[39m(nonce_hash)\u001b[39m}\u001b[39;00m\u001b[39m'\u001b[39m\n\u001b[1;32m     97\u001b[0m \u001b[39mif\u001b[39;00m \u001b[39mself\u001b[39m\u001b[39m.\u001b[39m_check_if_hash_exists((group_unit_hash, nonce_hash), lookup\u001b[39m=\u001b[39m\u001b[39m'\u001b[39m\u001b[39mall\u001b[39m\u001b[39m'\u001b[39m):\n\u001b[0;32m---> 98\u001b[0m     \u001b[39mraise\u001b[39;00m \u001b[39mValueError\u001b[39;00m(\u001b[39mf\u001b[39m\u001b[39m'\u001b[39m\u001b[39mGroupUnit with package_hash \u001b[39m\u001b[39m{\u001b[39;00mgroup_unit_hash\u001b[39m}\u001b[39;00m\u001b[39m already exists in the Pool\u001b[39m\u001b[39m'\u001b[39m)\n\u001b[1;32m    100\u001b[0m \u001b[39mself\u001b[39m\u001b[39m.\u001b[39mgroup_units \u001b[39m+\u001b[39m\u001b[39m=\u001b[39m ((group_unit_hash, nonce_hash, group_unit), )\n",
      "\u001b[0;31mValueError\u001b[0m: GroupUnit with package_hash 19040bd68890ac87e845aa5adf17a2f8b9d4dce83ead0f7ca279b61da0caaaa7 already exists in the Pool"
     ]
    }
   ],
   "source": [
    "from src.groups.base import SchemaEntry, BaseSchema\n",
    "\n",
    "# Create a SchemaEntry for the GroupUnit\n",
    "schema_entry = SchemaEntry(\"name\", \"str\")\n",
    "schema_entry2 = SchemaEntry(\"age\", \"int\")\n",
    "schema_for_sub_units = BaseSchema((schema_entry, schema_entry2))\n",
    "\n",
    "# Create the data to store in the GroupUnit\n",
    "data = Data(('a', 'b', 'c'), schema_for_sub_units)\n",
    "\n",
    "# Create a GroupUnit and store the data in it\n",
    "group_unit = controller._create_group_unit(data)\n",
    "\n",
    "# Create the data with the proper schema\n",
    "sub_unit_data = Data((\"Fred\", 12))\n",
    "\n",
    "sub_group_unit = controller._create_group_unit(sub_unit_data, True)\n",
    "\n",
    "print(sub_group_unit)\n"
   ]
  }
 ],
 "metadata": {
  "kernelspec": {
   "display_name": ".venv",
   "language": "python",
   "name": "python3"
  },
  "language_info": {
   "codemirror_mode": {
    "name": "ipython",
    "version": 3
   },
   "file_extension": ".py",
   "mimetype": "text/x-python",
   "name": "python",
   "nbconvert_exporter": "python",
   "pygments_lexer": "ipython3",
   "version": "3.12.0"
  }
 },
 "nbformat": 4,
 "nbformat_minor": 2
}
