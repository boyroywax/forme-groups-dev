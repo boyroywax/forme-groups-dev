{
 "cells": [
  {
   "cell_type": "markdown",
   "metadata": {},
   "source": [
    "# #. Group Units\n",
    "\n",
    "A Group is a collection of Group Units. A Group Unit consists of:\n",
    "- **Nonce**: A unique identifier for the Group Unit.  Also, declares the Group Unit's Hierarchical Deterministic (HD) path.\n",
    "- **Owner**: The owner of the Group Unit.  Generally, the owner is the Group's creator, but alternative ownership models are possible.\n",
    "- **Credential**: A credential that is used to authenticate the Group Unit and allow access to the Group Unit's data.\n",
    "- **Data**: The data that is stored in the Group Unit."
   ]
  },
  {
   "cell_type": "code",
   "execution_count": 1,
   "metadata": {},
   "outputs": [],
   "source": [
    "import sys\n",
    "\n",
    "sys.path.append(\"../../forme-groups-python-3-12/\")"
   ]
  },
  {
   "cell_type": "markdown",
   "metadata": {},
   "source": [
    "## Controller\n",
    "\n",
    "The Controller is the entity that creates the Group.  The Controller is responsible for:\n",
    "- Creating the Group.\n",
    "- Creating the Group Units."
   ]
  },
  {
   "cell_type": "code",
   "execution_count": 2,
   "metadata": {},
   "outputs": [
    {
     "name": "stdout",
     "output_type": "stream",
     "text": [
      "item=b'\\xfb,=\\xcb\\xe5*\\xa2\\x87\\xc4\\x13\\x87\\x9a\\x8d\\x1bEd\\xc5\\x05\\x83\\x91\\xaeMd\\xf3a\\xb5\\xb0\\xca\\xae\\x93\\x97\\xca'\n",
      "item=b\"_\\xec\\xebf\\xff\\xc8o8\\xd9Rxlmily\\xc2\\xdb\\xc29\\xddN\\x91\\xb4g)\\xd7:'\\xfbW\\xe9\"\n",
      "item=b'm\\xa8\\x8c4\\xba\\x12LA\\xf9w\\xdbf\\xa4\\xfc\\\\\\x1a\\x95\\x17\\x08\\xd2\\x85\\xc8\\x1b\\xb0\\xd4|2\\x06\\xf4\\xc2|\\xa8'\n",
      "sha256_objects=[Leaf(hash=67050eeb5f95abf57449d92629dcf69f80c26247e207ad006a862d1e4e6498ff), Leaf(hash=f21b39860588251da8bfc8b4b038ae8f8e2af114523a0db0daede9785a7e09d1)]\n",
      "_levels=Levels(levels=(Leaves(leaves=(Leaf(hash=67050eeb5f95abf57449d92629dcf69f80c26247e207ad006a862d1e4e6498ff), Leaf(hash=f21b39860588251da8bfc8b4b038ae8f8e2af114523a0db0daede9785a7e09d1))),))\n",
      "self._levels=None\n"
     ]
    },
    {
     "ename": "TypeError",
     "evalue": "'NoneType' object is not callable",
     "output_type": "error",
     "traceback": [
      "\u001b[0;31m---------------------------------------------------------------------------\u001b[0m",
      "\u001b[0;31mTypeError\u001b[0m                                 Traceback (most recent call last)",
      "\u001b[1;32m/Users/j/Documents/Forme/code/forme-groups-python-3-12/tests/test_notebook_page_005.ipynb Cell 4\u001b[0m line \u001b[0;36m5\n\u001b[1;32m      <a href='vscode-notebook-cell:/Users/j/Documents/Forme/code/forme-groups-python-3-12/tests/test_notebook_page_005.ipynb#W3sZmlsZQ%3D%3D?line=1'>2</a>\u001b[0m \u001b[39mfrom\u001b[39;00m \u001b[39msrc\u001b[39;00m\u001b[39m.\u001b[39;00m\u001b[39mgroups\u001b[39;00m\u001b[39m.\u001b[39;00m\u001b[39munit\u001b[39;00m \u001b[39mimport\u001b[39;00m Data\n\u001b[1;32m      <a href='vscode-notebook-cell:/Users/j/Documents/Forme/code/forme-groups-python-3-12/tests/test_notebook_page_005.ipynb#W3sZmlsZQ%3D%3D?line=3'>4</a>\u001b[0m \u001b[39m# Create a Controller with a fresh group unit pool\u001b[39;00m\n\u001b[0;32m----> <a href='vscode-notebook-cell:/Users/j/Documents/Forme/code/forme-groups-python-3-12/tests/test_notebook_page_005.ipynb#W3sZmlsZQ%3D%3D?line=4'>5</a>\u001b[0m controller \u001b[39m=\u001b[39m Controller()\n\u001b[1;32m      <a href='vscode-notebook-cell:/Users/j/Documents/Forme/code/forme-groups-python-3-12/tests/test_notebook_page_005.ipynb#W3sZmlsZQ%3D%3D?line=6'>7</a>\u001b[0m \u001b[39m# Create some data to store in the Group\u001b[39;00m\n\u001b[1;32m      <a href='vscode-notebook-cell:/Users/j/Documents/Forme/code/forme-groups-python-3-12/tests/test_notebook_page_005.ipynb#W3sZmlsZQ%3D%3D?line=7'>8</a>\u001b[0m data \u001b[39m=\u001b[39m Data((\u001b[39m1\u001b[39m, \u001b[39m2\u001b[39m, \u001b[39m3\u001b[39m))\n",
      "File \u001b[0;32m~/Documents/Forme/code/forme-groups-python-3-12/tests/../../forme-groups-python-3-12/src/groups/controller.py:36\u001b[0m, in \u001b[0;36mController.__init__\u001b[0;34m(self, pool)\u001b[0m\n\u001b[1;32m     34\u001b[0m     \u001b[39mself\u001b[39m\u001b[39m.\u001b[39mpool \u001b[39m=\u001b[39m pool\n\u001b[1;32m     35\u001b[0m \u001b[39melse\u001b[39;00m:\n\u001b[0;32m---> 36\u001b[0m     \u001b[39mself\u001b[39m\u001b[39m.\u001b[39mpool \u001b[39m=\u001b[39m Pool(((__DEFAULT_GROUP_UNIT__\u001b[39m.\u001b[39;49mdata\u001b[39m.\u001b[39;49m_hash()\u001b[39m.\u001b[39mroot(), __DEFAULT_GROUP_UNIT__\u001b[39m.\u001b[39mnonce\u001b[39m.\u001b[39m_hash()\u001b[39m.\u001b[39mroot(), __DEFAULT_GROUP_UNIT__),), )\n\u001b[1;32m     38\u001b[0m \u001b[39mself\u001b[39m\u001b[39m.\u001b[39m_active \u001b[39m=\u001b[39m \u001b[39mself\u001b[39m\u001b[39m.\u001b[39mpool\u001b[39m.\u001b[39mgroup_units[\u001b[39m-\u001b[39m\u001b[39m1\u001b[39m][\u001b[39m2\u001b[39m]\n",
      "File \u001b[0;32m~/Documents/Forme/code/forme-groups-python-3-12/tests/../../forme-groups-python-3-12/src/groups/unit/data.py:122\u001b[0m, in \u001b[0;36mData._hash\u001b[0;34m(self)\u001b[0m\n\u001b[1;32m    121\u001b[0m \u001b[39mdef\u001b[39;00m \u001b[39m_hash\u001b[39m(\u001b[39mself\u001b[39m) \u001b[39m-\u001b[39m\u001b[39m>\u001b[39m MerkleTree:\n\u001b[0;32m--> 122\u001b[0m     \u001b[39mreturn\u001b[39;00m \u001b[39mself\u001b[39;49m\u001b[39m.\u001b[39;49mentry\u001b[39m.\u001b[39;49m_hash()\n",
      "File \u001b[0;32m~/Documents/Forme/code/forme-groups-python-3-12/tests/../../forme-groups-python-3-12/src/groups/base/container.py:221\u001b[0m, in \u001b[0;36mBaseContainer._hash\u001b[0;34m(self)\u001b[0m\n\u001b[1;32m    215\u001b[0m \u001b[39mdef\u001b[39;00m \u001b[39m_hash\u001b[39m(\u001b[39mself\u001b[39m) \u001b[39m-\u001b[39m\u001b[39m>\u001b[39m MerkleTree:\n\u001b[1;32m    216\u001b[0m \u001b[39m    \u001b[39m\u001b[39m\"\"\"Hashes the BaseContainer\u001b[39;00m\n\u001b[1;32m    217\u001b[0m \n\u001b[1;32m    218\u001b[0m \u001b[39m    Returns:\u001b[39;00m\n\u001b[1;32m    219\u001b[0m \u001b[39m        MerkleTree: The hashed BaseContainer\u001b[39;00m\n\u001b[1;32m    220\u001b[0m \u001b[39m    \"\"\"\u001b[39;00m\n\u001b[0;32m--> 221\u001b[0m     \u001b[39mreturn\u001b[39;00m MerkleTree((\u001b[39mself\u001b[39m\u001b[39m.\u001b[39m_hash_type(), \u001b[39mself\u001b[39;49m\u001b[39m.\u001b[39;49m_hash_items()\u001b[39m.\u001b[39mroot(), ))\n",
      "File \u001b[0;32m~/Documents/Forme/code/forme-groups-python-3-12/tests/../../forme-groups-python-3-12/src/groups/base/container.py:211\u001b[0m, in \u001b[0;36mBaseContainer._hash_items\u001b[0;34m(self)\u001b[0m\n\u001b[1;32m    209\u001b[0m hashed_items: \u001b[39mtuple\u001b[39m[\u001b[39mstr\u001b[39m, \u001b[39m.\u001b[39m\u001b[39m.\u001b[39m\u001b[39m.\u001b[39m] \u001b[39m=\u001b[39m ()\n\u001b[1;32m    210\u001b[0m \u001b[39mfor\u001b[39;00m item \u001b[39min\u001b[39;00m \u001b[39mself\u001b[39m\u001b[39m.\u001b[39m__iter_items__():\n\u001b[0;32m--> 211\u001b[0m     hashed_items \u001b[39m=\u001b[39m hashed_items \u001b[39m+\u001b[39m (item\u001b[39m.\u001b[39;49m_hash()\u001b[39m.\u001b[39;49mroot(), )\n\u001b[1;32m    213\u001b[0m \u001b[39mreturn\u001b[39;00m MerkleTree(hashed_items)\n",
      "\u001b[0;31mTypeError\u001b[0m: 'NoneType' object is not callable"
     ]
    }
   ],
   "source": [
    "from src.groups.controller import Controller\n",
    "from src.groups.unit import Data\n",
    "\n",
    "# Create a Controller with a fresh group unit pool\n",
    "controller = Controller()\n",
    "\n",
    "# Create some data to store in the Group\n",
    "data = Data((1, 2, 3))\n",
    "\n",
    "# Create a GroupUnit and store the data in it\n",
    "group_unit = controller._create_group_unit(data)\n",
    "\n",
    "print(group_unit)"
   ]
  },
  {
   "cell_type": "markdown",
   "metadata": {},
   "source": [
    "## Create Sub Units from a schema\n",
    "\n"
   ]
  },
  {
   "cell_type": "code",
   "execution_count": null,
   "metadata": {},
   "outputs": [
    {
     "name": "stdout",
     "output_type": "stream",
     "text": [
      "nonce: 2, owner: , credential: , data: entry: ('a', 'b', 'c'), schema: (key=name, value=str), (key=age, value=int)\n",
      "nonce: 2.0, owner: , credential: , data: entry: ('Fred', 12), schema: None\n",
      "nonce: 2.1, owner: , credential: , data: entry: ('Jane', 11), schema: None\n",
      "nonce: 2.2, owner: , credential: , data: entry: ('Jill', 10), schema: None\n",
      "nonce: 2.102, owner: , credential: , data: entry: ('05810de5-c57d-44ad-9395-d3b05a265173', 89), schema: None\n"
     ]
    }
   ],
   "source": [
    "import uuid\n",
    "import random\n",
    "from src.groups.base import SchemaEntry, BaseSchema\n",
    "\n",
    "# Create a SchemaEntry for the GroupUnit\n",
    "schema_entry = SchemaEntry(\"name\", \"str\")\n",
    "schema_entry2 = SchemaEntry(\"age\", \"int\")\n",
    "schema_for_sub_units = BaseSchema((schema_entry, schema_entry2))\n",
    "\n",
    "# Create the data to store in the GroupUnit\n",
    "data = Data(('a', 'b', 'c'), schema_for_sub_units)\n",
    "\n",
    "# Create a GroupUnit and store the data in it\n",
    "group_unit = controller._create_group_unit(data)\n",
    "print(group_unit)\n",
    "\n",
    "# Create the data with the proper schema\n",
    "sub_unit_data = Data((\"Fred\", 12))\n",
    "\n",
    "\n",
    "sub_group_unit = controller._create_group_unit(sub_unit_data, True)\n",
    "\n",
    "print(sub_group_unit)\n",
    "\n",
    "sub_unit_data2 = Data((\"Jane\", 11))\n",
    "\n",
    "sub_group_unit2 = controller._create_group_unit(sub_unit_data2)\n",
    "\n",
    "print(sub_group_unit2)\n",
    "\n",
    "sub_unit3 = Data((\"Jill\", 10))\n",
    "# print(sub_unit3)\n",
    "sub_group_unit3 = controller._create_group_unit(sub_unit3)\n",
    "print(sub_group_unit3)\n",
    "\n",
    "for i in range(0, 100):\n",
    "    random_data = Data((str(uuid.uuid4()), random.randint(0, 100)))\n",
    "    # print(controller.pool.group_units)\n",
    "    # print(random_data)\n",
    "    random_group_unit = controller._create_group_unit(random_data)\n",
    "    # print(random_group_unit)\n",
    "\n",
    "print(controller.pool.group_units[-1][2])\n"
   ]
  },
  {
   "cell_type": "code",
   "execution_count": null,
   "metadata": {},
   "outputs": [
    {
     "name": "stdout",
     "output_type": "stream",
     "text": [
      "nonce: 1, owner: , credential: , data: entry: ('Users',), schema: (key=name, value=str), (key=age, value=int), (key=is_valid, value=bool)\n",
      "nonce: 1.0, owner: , credential: , data: entry: ('Fred', 12, True), schema: None\n",
      "Cannot create a sub Unit without a schema\n",
      "nonce: 1.1, owner: , credential: , data: entry: ('Jill', 10, False), schema: None\n",
      "nonce: 1.2, owner: , credential: , data: entry: ('Aaron', 30, True), schema: (key=title, value=str)\n",
      "nonce: 1.2.0, owner: , credential: , data: entry: ('CEO',), schema: None\n"
     ]
    }
   ],
   "source": [
    "new_controller = Controller()\n",
    "\n",
    "new_base_schema = BaseSchema((SchemaEntry(\"name\", \"str\"), SchemaEntry(\"age\", \"int\"), SchemaEntry(\"is_valid\", \"bool\")))\n",
    "\n",
    "new_data_schema = Data((\"Users\"), new_base_schema)\n",
    "\n",
    "new_group_unit = new_controller._create_group_unit(new_data_schema)\n",
    "\n",
    "print(new_group_unit)\n",
    "\n",
    "new_sub_unit_data = Data((\"Fred\", 12, True))\n",
    "\n",
    "new_sub_group_unit = new_controller._create_group_unit(new_sub_unit_data, True, new_group_unit.data.schema)\n",
    "\n",
    "print(new_sub_group_unit)\n",
    "\n",
    "new_sub_unit_data2 = Data((\"Jane\", 11, False))\n",
    "\n",
    "try:\n",
    "    new_controller._create_group_unit(new_sub_unit_data2, True, new_group_unit.data.schema)\n",
    "except Exception as e:\n",
    "    print(e)\n",
    "\n",
    "new_sub_unit_data3 = Data((\"Jill\", 10, False))\n",
    "\n",
    "new_sub_group_unit3 = new_controller._create_group_unit(new_sub_unit_data3, False)\n",
    "\n",
    "print(new_sub_group_unit3)\n",
    "\n",
    "another_sub_schema = BaseSchema((SchemaEntry(\"title\", \"str\"),))\n",
    "\n",
    "another_sub_data = Data((\"Aaron\", 30, True), another_sub_schema)\n",
    "\n",
    "another_sub_group_unit = new_controller._create_group_unit(another_sub_data, False, new_group_unit.data.schema)\n",
    "\n",
    "print(another_sub_group_unit)\n",
    "\n",
    "sub_sub_data = Data((\"CEO\",))\n",
    "\n",
    "sub_sub_group_unit = new_controller._create_group_unit(sub_sub_data, True, another_sub_group_unit.data.schema)\n",
    "print(sub_sub_group_unit)"
   ]
  },
  {
   "cell_type": "code",
   "execution_count": null,
   "metadata": {},
   "outputs": [
    {
     "name": "stdout",
     "output_type": "stream",
     "text": [
      "nonce: hello.user, owner: , credential: , data: entry: ('Users',), schema: (key=name, value=str), (key=age, value=int), (key=is_valid, value=bool)\n",
      "nonce: hello.user.a, owner: , credential: , data: entry: ('Fred', 12, True), schema: None\n",
      "nonce: hello.user.b, owner: , credential: , data: entry: ('Jane', 11, False), schema: None\n",
      "nonce: hello.user.c, owner: , credential: , data: entry: ('Jill', 10, False), schema: None\n",
      "GroupUnit with package_hash 80b4907c1cff8cabada7380df1f426b79bad7c060c0698d200165b27f3da23b5 already exists in the Pool\n"
     ]
    }
   ],
   "source": [
    "from src.groups.unit import Nonce\n",
    "from src.groups.base import BaseValue, BaseContainer\n",
    "\n",
    "new_controller_2 = Controller()\n",
    "\n",
    "new_base_schema_2 = BaseSchema((SchemaEntry(\"name\", \"str\"), SchemaEntry(\"age\", \"int\"), SchemaEntry(\"is_valid\", \"bool\")))\n",
    "new_nonce_2 = Nonce(BaseContainer((\"hello\", \"user\")))\n",
    "new_data_from_nonce_2 = Data._from((\"Users\", ), new_base_schema_2)\n",
    "\n",
    "new_group_unit_2 = new_controller_2._create_group_unit(new_data_from_nonce_2, True, override_nonce=new_nonce_2)\n",
    "\n",
    "print(new_group_unit_2)\n",
    "\n",
    "new_sub_unit_data_2 = Data((\"Fred\", 12, True))\n",
    "\n",
    "new_sub_group_unit_2 = new_controller_2._create_group_unit(new_sub_unit_data_2, True, new_group_unit_2.data.schema)\n",
    "\n",
    "print(new_sub_group_unit_2)\n",
    "\n",
    "new_sub_unit_data2_2 = Data((\"Jane\", 11, False))\n",
    "\n",
    "new_sub_group_unit2_2 = new_controller_2._create_group_unit(new_sub_unit_data2_2, False, new_group_unit_2.data.schema)\n",
    "\n",
    "print(new_sub_group_unit2_2)\n",
    "\n",
    "new_sub_unit_data3_2 = Data((\"Jill\", 10, False))\n",
    "\n",
    "new_sub_group_unit3_2 = new_controller_2._create_group_unit(new_sub_unit_data3_2)\n",
    "\n",
    "print(new_sub_group_unit3_2)\n",
    "\n",
    "try:\n",
    "    new_sub_unit_data4_2 = Data((\"Jill\", 10, False))\n",
    "    new_sub_group_unit4_2 = new_controller_2._create_group_unit(new_sub_unit_data4_2)\n",
    "except Exception as e:\n",
    "    print(e)"
   ]
  }
 ],
 "metadata": {
  "kernelspec": {
   "display_name": ".venv",
   "language": "python",
   "name": "python3"
  },
  "language_info": {
   "codemirror_mode": {
    "name": "ipython",
    "version": 3
   },
   "file_extension": ".py",
   "mimetype": "text/x-python",
   "name": "python",
   "nbconvert_exporter": "python",
   "pygments_lexer": "ipython3",
   "version": "3.12.0"
  }
 },
 "nbformat": 4,
 "nbformat_minor": 2
}
