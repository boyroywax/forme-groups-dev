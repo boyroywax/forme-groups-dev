{
 "cells": [
  {
   "cell_type": "markdown",
   "metadata": {},
   "source": [
    "# #. Group Units\n",
    "\n",
    "A Group is a collection of Group Units. A Group Unit consists of:\n",
    "- **Nonce**: A unique identifier for the Group Unit.  Also, declares the Group Unit's Hierarchical Deterministic (HD) path.\n",
    "- **Owner**: The owner of the Group Unit.  Generally, the owner is the Group's creator, but alternative ownership models are possible.\n",
    "- **Credential**: A credential that is used to authenticate the Group Unit and allow access to the Group Unit's data.\n",
    "- **Data**: The data that is stored in the Group Unit."
   ]
  },
  {
   "cell_type": "code",
   "execution_count": 1,
   "metadata": {},
   "outputs": [],
   "source": [
    "import sys\n",
    "\n",
    "sys.path.append(\"../../forme-groups-python-3-12/\")"
   ]
  },
  {
   "cell_type": "markdown",
   "metadata": {},
   "source": [
    "## Controller\n",
    "\n",
    "The Controller is the entity that creates the Group.  The Controller is responsible for:\n",
    "- Creating the Group.\n",
    "- Creating the Group Units."
   ]
  },
  {
   "cell_type": "code",
   "execution_count": 2,
   "metadata": {},
   "outputs": [
    {
     "name": "stdout",
     "output_type": "stream",
     "text": [
      "is_sub_unit: None, super_unit_schema: None, super_unit_hash: None\n",
      "nonce: 1\n",
      "active: nonce: 0, owner: , credential: , data: entry: (0,), schema: None\n",
      "super_nonce: 0\n",
      "schema_to_enforce: None\n",
      "data: entry: (1, 2, 3), schema: None\n",
      "group_unit_hash: d63fb21887e17825aecdb8aff280d9a8f238ba808b461f0455521b31d95275e2, nonce_hash: 08153ce81fd729584cd008c10c6cc5480b20b67f4e1babc7bca1b619cf1f27a3\n",
      "hash_item: d63fb21887e17825aecdb8aff280d9a8f238ba808b461f0455521b31d95275e2\n",
      "hash_item: 08153ce81fd729584cd008c10c6cc5480b20b67f4e1babc7bca1b619cf1f27a3\n",
      "nonce: 1, owner: , credential: , data: entry: (1, 2, 3), schema: None\n"
     ]
    }
   ],
   "source": [
    "from src.groups.controller import Controller\n",
    "from src.groups.unit import Data\n",
    "\n",
    "# Create a Controller with a fresh group unit pool\n",
    "controller = Controller()\n",
    "\n",
    "# Create some data to store in the Group\n",
    "data = Data((1, 2, 3))\n",
    "\n",
    "# Create a GroupUnit and store the data in it\n",
    "group_unit = controller._create_group_unit(data)\n",
    "\n",
    "print(group_unit)"
   ]
  },
  {
   "cell_type": "markdown",
   "metadata": {},
   "source": [
    "## Create Sub Units from a schema\n",
    "\n"
   ]
  },
  {
   "cell_type": "code",
   "execution_count": 3,
   "metadata": {},
   "outputs": [
    {
     "name": "stdout",
     "output_type": "stream",
     "text": [
      "is_sub_unit: None, super_unit_schema: None, super_unit_hash: None\n",
      "nonce: 2\n",
      "active: nonce: 1, owner: , credential: , data: entry: (1, 2, 3), schema: None\n",
      "super_nonce: 1\n",
      "schema_to_enforce: None\n",
      "data: entry: ('a', 'b', 'c'), schema: (key=name, value=str), (key=age, value=int)\n",
      "group_unit_hash: d3372f6d5dd15f662c751fa8ff9ceec8f3fd8699478dc02f3391f7016e216992, nonce_hash: c72c4d7282525f549045bb284bd2c0cb6c73289eb6c7a519c55ed0d2d113888b\n",
      "hash_item: d3372f6d5dd15f662c751fa8ff9ceec8f3fd8699478dc02f3391f7016e216992\n",
      "hash_item: c72c4d7282525f549045bb284bd2c0cb6c73289eb6c7a519c55ed0d2d113888b\n",
      "nonce: 2, owner: , credential: , data: entry: ('a', 'b', 'c'), schema: (key=name, value=str), (key=age, value=int)\n",
      "is_sub_unit: True, super_unit_schema: None, super_unit_hash: None\n",
      "schema_to_enforce: (key=name, value=str), (key=age, value=int)\n",
      "data: entry: ('Fred', 12), schema: None\n",
      "group_unit_hash: f5818e834154435dcee1ec789332f24d750efb892f4aa393b94d4aa66912eec0, nonce_hash: 90ca94e480cdef025b17ebdeed9ccebd4caf04bef5ed6c93040c5c71fb115e4b\n",
      "hash_item: f5818e834154435dcee1ec789332f24d750efb892f4aa393b94d4aa66912eec0\n",
      "hash_item: 90ca94e480cdef025b17ebdeed9ccebd4caf04bef5ed6c93040c5c71fb115e4b\n",
      "nonce: 2.0, owner: , credential: , data: entry: ('Fred', 12), schema: None\n",
      "is_sub_unit: None, super_unit_schema: None, super_unit_hash: None\n",
      "nonce: 2.1\n",
      "active: nonce: 2.0, owner: , credential: , data: entry: ('Fred', 12), schema: None\n",
      "super_nonce: 2\n",
      "schema_to_enforce: (key=name, value=str), (key=age, value=int)\n",
      "data: entry: ('Jane', 11), schema: None\n",
      "group_unit_hash: 34c45d92d706210456c3939b041cd7924bd270e597994d687128fdd14ba6af23, nonce_hash: e7bb6cea0c0a3e09066d905a96b06b5a03e94ad1ee9961c4464cbca3aa32334d\n",
      "hash_item: 34c45d92d706210456c3939b041cd7924bd270e597994d687128fdd14ba6af23\n",
      "hash_item: e7bb6cea0c0a3e09066d905a96b06b5a03e94ad1ee9961c4464cbca3aa32334d\n",
      "nonce: 2.1, owner: , credential: , data: entry: ('Jane', 11), schema: None\n",
      "entry: ('Jill', 10), schema: None\n",
      "9c4ba8de7e0107a18f965bdf5b7486d235f79ccfc98443512ef56b258e76f859\n",
      "is_sub_unit: None, super_unit_schema: None, super_unit_hash: None\n",
      "nonce: 2.2\n",
      "active: nonce: 2.1, owner: , credential: , data: entry: ('Jane', 11), schema: None\n",
      "super_nonce: 2\n",
      "schema_to_enforce: (key=name, value=str), (key=age, value=int)\n",
      "data: entry: ('Jill', 10), schema: None\n",
      "group_unit_hash: 806c4da8570e51e51874634c3d12a74561a789671c0f94c38d6a7761c9ced843, nonce_hash: c72c4d7282525f549045bb284bd2c0cb6c73289eb6c7a519c55ed0d2d113888b\n",
      "hash_item: 806c4da8570e51e51874634c3d12a74561a789671c0f94c38d6a7761c9ced843\n",
      "hash_item: c72c4d7282525f549045bb284bd2c0cb6c73289eb6c7a519c55ed0d2d113888b\n"
     ]
    },
    {
     "ename": "ValueError",
     "evalue": "GroupUnit with package_hash 806c4da8570e51e51874634c3d12a74561a789671c0f94c38d6a7761c9ced843 already exists in the Pool",
     "output_type": "error",
     "traceback": [
      "\u001b[0;31m---------------------------------------------------------------------------\u001b[0m",
      "\u001b[0;31mValueError\u001b[0m                                Traceback (most recent call last)",
      "\u001b[1;32m/Users/j/Documents/Forme/code/forme-groups-python-3-12/tests/test_notebook_page_005.ipynb Cell 6\u001b[0m line \u001b[0;36m3\n\u001b[1;32m     <a href='vscode-notebook-cell:/Users/j/Documents/Forme/code/forme-groups-python-3-12/tests/test_notebook_page_005.ipynb#W6sZmlsZQ%3D%3D?line=30'>31</a>\u001b[0m \u001b[39mprint\u001b[39m(sub_unit3)\n\u001b[1;32m     <a href='vscode-notebook-cell:/Users/j/Documents/Forme/code/forme-groups-python-3-12/tests/test_notebook_page_005.ipynb#W6sZmlsZQ%3D%3D?line=31'>32</a>\u001b[0m \u001b[39mprint\u001b[39m(sub_unit3\u001b[39m.\u001b[39m_hash_package()\u001b[39m.\u001b[39mroot())\n\u001b[0;32m---> <a href='vscode-notebook-cell:/Users/j/Documents/Forme/code/forme-groups-python-3-12/tests/test_notebook_page_005.ipynb#W6sZmlsZQ%3D%3D?line=32'>33</a>\u001b[0m sub_group_unit3 \u001b[39m=\u001b[39m controller\u001b[39m.\u001b[39;49m_create_group_unit(sub_unit3)\n\u001b[1;32m     <a href='vscode-notebook-cell:/Users/j/Documents/Forme/code/forme-groups-python-3-12/tests/test_notebook_page_005.ipynb#W6sZmlsZQ%3D%3D?line=34'>35</a>\u001b[0m \u001b[39m# # for i in range(0, 100):\u001b[39;00m\n\u001b[1;32m     <a href='vscode-notebook-cell:/Users/j/Documents/Forme/code/forme-groups-python-3-12/tests/test_notebook_page_005.ipynb#W6sZmlsZQ%3D%3D?line=35'>36</a>\u001b[0m \u001b[39m# random_data = Data((str(uuid.uuid4()), random.randint(0, 1000)))\u001b[39;00m\n\u001b[1;32m     <a href='vscode-notebook-cell:/Users/j/Documents/Forme/code/forme-groups-python-3-12/tests/test_notebook_page_005.ipynb#W6sZmlsZQ%3D%3D?line=36'>37</a>\u001b[0m \u001b[39m# print(controller.pool.group_units)\u001b[39;00m\n\u001b[1;32m     <a href='vscode-notebook-cell:/Users/j/Documents/Forme/code/forme-groups-python-3-12/tests/test_notebook_page_005.ipynb#W6sZmlsZQ%3D%3D?line=37'>38</a>\u001b[0m \u001b[39m# print(random_data)\u001b[39;00m\n\u001b[1;32m     <a href='vscode-notebook-cell:/Users/j/Documents/Forme/code/forme-groups-python-3-12/tests/test_notebook_page_005.ipynb#W6sZmlsZQ%3D%3D?line=38'>39</a>\u001b[0m \u001b[39m# random_group_unit = controller._create_group_unit(random_data)\u001b[39;00m\n\u001b[1;32m     <a href='vscode-notebook-cell:/Users/j/Documents/Forme/code/forme-groups-python-3-12/tests/test_notebook_page_005.ipynb#W6sZmlsZQ%3D%3D?line=39'>40</a>\u001b[0m \u001b[39m# print(random_group_unit)\u001b[39;00m\n",
      "File \u001b[0;32m~/Documents/Forme/code/forme-groups-python-3-12/tests/../../forme-groups-python-3-12/src/groups/controller.py:108\u001b[0m, in \u001b[0;36mController._create_group_unit\u001b[0;34m(self, data, is_sub_unit, super_unit_schema, super_unit_hash)\u001b[0m\n\u001b[1;32m    106\u001b[0m owner \u001b[39m=\u001b[39m Owner()\n\u001b[1;32m    107\u001b[0m group_unit \u001b[39m=\u001b[39m GroupUnit(nonce, owner, credential, new_data)\n\u001b[0;32m--> 108\u001b[0m \u001b[39mself\u001b[39;49m\u001b[39m.\u001b[39;49m_add_group_unit(group_unit)\n\u001b[1;32m    109\u001b[0m \u001b[39mreturn\u001b[39;00m group_unit\n",
      "File \u001b[0;32m~/Documents/Forme/code/forme-groups-python-3-12/tests/../../forme-groups-python-3-12/src/groups/controller.py:49\u001b[0m, in \u001b[0;36mController._add_group_unit\u001b[0;34m(self, group_unit)\u001b[0m\n\u001b[1;32m     43\u001b[0m \u001b[39mdef\u001b[39;00m \u001b[39m_add_group_unit\u001b[39m(\u001b[39mself\u001b[39m, group_unit: GroupUnit) \u001b[39m-\u001b[39m\u001b[39m>\u001b[39m \u001b[39mNone\u001b[39;00m:\n\u001b[1;32m     44\u001b[0m \u001b[39m    \u001b[39m\u001b[39m\"\"\"Adds a GroupUnit to the Pool\u001b[39;00m\n\u001b[1;32m     45\u001b[0m \n\u001b[1;32m     46\u001b[0m \u001b[39m    Args:\u001b[39;00m\n\u001b[1;32m     47\u001b[0m \u001b[39m        group_unit (GroupUnit): The GroupUnit to add to the Pool\u001b[39;00m\n\u001b[1;32m     48\u001b[0m \u001b[39m    \"\"\"\u001b[39;00m\n\u001b[0;32m---> 49\u001b[0m     \u001b[39mself\u001b[39;49m\u001b[39m.\u001b[39;49mpool\u001b[39m.\u001b[39;49madd_group_unit(group_unit)\n",
      "File \u001b[0;32m~/Documents/Forme/code/forme-groups-python-3-12/tests/../../forme-groups-python-3-12/src/groups/pool.py:101\u001b[0m, in \u001b[0;36mPool.add_group_unit\u001b[0;34m(self, group_unit)\u001b[0m\n\u001b[1;32m     98\u001b[0m \u001b[39massert\u001b[39;00m nonce_hash \u001b[39mis\u001b[39;00m \u001b[39mnot\u001b[39;00m \u001b[39mNone\u001b[39;00m, \u001b[39mf\u001b[39m\u001b[39m'\u001b[39m\u001b[39mExpected nonce_hash to be str, got \u001b[39m\u001b[39m{\u001b[39;00m\u001b[39mtype\u001b[39m(nonce_hash)\u001b[39m}\u001b[39;00m\u001b[39m'\u001b[39m\n\u001b[1;32m    100\u001b[0m \u001b[39mif\u001b[39;00m \u001b[39mself\u001b[39m\u001b[39m.\u001b[39m_check_if_hash_exists((group_unit_hash, nonce_hash), lookup\u001b[39m=\u001b[39m\u001b[39m'\u001b[39m\u001b[39mall\u001b[39m\u001b[39m'\u001b[39m):\n\u001b[0;32m--> 101\u001b[0m     \u001b[39mraise\u001b[39;00m \u001b[39mValueError\u001b[39;00m(\u001b[39mf\u001b[39m\u001b[39m'\u001b[39m\u001b[39mGroupUnit with package_hash \u001b[39m\u001b[39m{\u001b[39;00mgroup_unit_hash\u001b[39m}\u001b[39;00m\u001b[39m already exists in the Pool\u001b[39m\u001b[39m'\u001b[39m)\n\u001b[1;32m    103\u001b[0m \u001b[39mself\u001b[39m\u001b[39m.\u001b[39mgroup_units \u001b[39m+\u001b[39m\u001b[39m=\u001b[39m ((group_unit_hash, nonce_hash, group_unit), )\n",
      "\u001b[0;31mValueError\u001b[0m: GroupUnit with package_hash 806c4da8570e51e51874634c3d12a74561a789671c0f94c38d6a7761c9ced843 already exists in the Pool"
     ]
    }
   ],
   "source": [
    "import uuid\n",
    "import random\n",
    "from src.groups.base import SchemaEntry, BaseSchema\n",
    "\n",
    "# Create a SchemaEntry for the GroupUnit\n",
    "schema_entry = SchemaEntry(\"name\", \"str\")\n",
    "schema_entry2 = SchemaEntry(\"age\", \"int\")\n",
    "schema_for_sub_units = BaseSchema((schema_entry, schema_entry2))\n",
    "\n",
    "# Create the data to store in the GroupUnit\n",
    "data = Data(('a', 'b', 'c'), schema_for_sub_units)\n",
    "\n",
    "# Create a GroupUnit and store the data in it\n",
    "group_unit = controller._create_group_unit(data)\n",
    "print(group_unit)\n",
    "\n",
    "# Create the data with the proper schema\n",
    "sub_unit_data = Data((\"Fred\", 12))\n",
    "\n",
    "sub_group_unit = controller._create_group_unit(sub_unit_data, True)\n",
    "\n",
    "print(sub_group_unit)\n",
    "\n",
    "sub_unit_data2 = Data((\"Jane\", 11))\n",
    "\n",
    "sub_group_unit2 = controller._create_group_unit(sub_unit_data2)\n",
    "\n",
    "print(sub_group_unit2)\n",
    "\n",
    "sub_unit3 = Data((\"Jill\", 10))\n",
    "print(sub_unit3)\n",
    "print(sub_unit3._hash_package().root())\n",
    "sub_group_unit3 = controller._create_group_unit(sub_unit3)\n",
    "\n",
    "# # for i in range(0, 100):\n",
    "# random_data = Data((str(uuid.uuid4()), random.randint(0, 1000)))\n",
    "# print(controller.pool.group_units)\n",
    "# print(random_data)\n",
    "# random_group_unit = controller._create_group_unit(random_data)\n",
    "# print(random_group_unit)\n"
   ]
  }
 ],
 "metadata": {
  "kernelspec": {
   "display_name": ".venv",
   "language": "python",
   "name": "python3"
  },
  "language_info": {
   "codemirror_mode": {
    "name": "ipython",
    "version": 3
   },
   "file_extension": ".py",
   "mimetype": "text/x-python",
   "name": "python",
   "nbconvert_exporter": "python",
   "pygments_lexer": "ipython3",
   "version": "3.12.0"
  }
 },
 "nbformat": 4,
 "nbformat_minor": 2
}
