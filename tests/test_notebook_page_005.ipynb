{
 "cells": [
  {
   "cell_type": "markdown",
   "metadata": {},
   "source": [
    "# #. Group Units\n",
    "\n",
    "A Group is a collection of Group Units. A Group Unit consists of:\n",
    "- **Nonce**: A unique identifier for the Group Unit.  Also, declares the Group Unit's Hierarchical Deterministic (HD) path.\n",
    "- **Owner**: The owner of the Group Unit.  Generally, the owner is the Group's creator, but alternative ownership models are possible.\n",
    "- **Credential**: A credential that is used to authenticate the Group Unit and allow access to the Group Unit's data.\n",
    "- **Data**: The data that is stored in the Group Unit."
   ]
  },
  {
   "cell_type": "code",
   "execution_count": 1,
   "metadata": {},
   "outputs": [],
   "source": [
    "import sys\n",
    "\n",
    "sys.path.append(\"../../forme-groups-python-3-12/\")"
   ]
  },
  {
   "cell_type": "markdown",
   "metadata": {},
   "source": [
    "## Controller\n",
    "\n",
    "The Controller is the entity that creates the Group.  The Controller is responsible for:\n",
    "- Creating the Group.\n",
    "- Creating the Group Units."
   ]
  },
  {
   "cell_type": "code",
   "execution_count": 2,
   "metadata": {},
   "outputs": [
    {
     "name": "stdout",
     "output_type": "stream",
     "text": [
      "nonce: 1, owner: , credential: , data: entry: (1, 2, 3), schema: None\n"
     ]
    }
   ],
   "source": [
    "from src.groups.controller import Controller\n",
    "from src.groups.unit import Data\n",
    "\n",
    "# Create a Controller with a fresh group unit pool\n",
    "controller = Controller()\n",
    "\n",
    "# Create some data to store in the Group\n",
    "data = Data((1, 2, 3))\n",
    "\n",
    "# Create a GroupUnit and store the data in it\n",
    "group_unit = controller._create_group_unit(data)\n",
    "\n",
    "print(group_unit)"
   ]
  },
  {
   "cell_type": "markdown",
   "metadata": {},
   "source": [
    "## Create Sub Units from a schema\n",
    "\n"
   ]
  },
  {
   "cell_type": "code",
   "execution_count": 3,
   "metadata": {},
   "outputs": [
    {
     "name": "stdout",
     "output_type": "stream",
     "text": [
      "nonce: 2, owner: , credential: , data: entry: ('a', 'b', 'c'), schema: (key=name, value=str), (key=age, value=int)\n",
      "nonce: 2.0, owner: , credential: , data: entry: ('Fred', 12), schema: None\n",
      "nonce: 2.1, owner: , credential: , data: entry: ('Jane', 11), schema: None\n",
      "nonce: 2.2, owner: , credential: , data: entry: ('Jill', 10), schema: None\n",
      "nonce: 2.102, owner: , credential: , data: entry: ('f42b7e80-716f-42b8-9e26-5b12afc90c5b', 36), schema: None\n"
     ]
    }
   ],
   "source": [
    "import uuid\n",
    "import random\n",
    "from src.groups.base import SchemaEntry, BaseSchema\n",
    "\n",
    "# Create a SchemaEntry for the GroupUnit\n",
    "schema_entry = SchemaEntry(\"name\", \"str\")\n",
    "schema_entry2 = SchemaEntry(\"age\", \"int\")\n",
    "schema_for_sub_units = BaseSchema((schema_entry, schema_entry2))\n",
    "\n",
    "# Create the data to store in the GroupUnit\n",
    "data = Data(('a', 'b', 'c'), schema_for_sub_units)\n",
    "\n",
    "# Create a GroupUnit and store the data in it\n",
    "group_unit = controller._create_group_unit(data)\n",
    "print(group_unit)\n",
    "\n",
    "# Create the data with the proper schema\n",
    "sub_unit_data = Data((\"Fred\", 12))\n",
    "\n",
    "sub_group_unit = controller._create_group_unit(sub_unit_data, True)\n",
    "\n",
    "print(sub_group_unit)\n",
    "\n",
    "sub_unit_data2 = Data((\"Jane\", 11))\n",
    "\n",
    "sub_group_unit2 = controller._create_group_unit(sub_unit_data2)\n",
    "\n",
    "print(sub_group_unit2)\n",
    "\n",
    "sub_unit3 = Data((\"Jill\", 10))\n",
    "# print(sub_unit3)\n",
    "sub_group_unit3 = controller._create_group_unit(sub_unit3)\n",
    "print(sub_group_unit3)\n",
    "\n",
    "for i in range(0, 100):\n",
    "    random_data = Data((str(uuid.uuid4()), random.randint(0, 100)))\n",
    "    # print(controller.pool.group_units)\n",
    "    # print(random_data)\n",
    "    random_group_unit = controller._create_group_unit(random_data)\n",
    "    # print(random_group_unit)\n",
    "\n",
    "print(controller.pool.group_units[-1][2])\n"
   ]
  },
  {
   "cell_type": "code",
   "execution_count": 4,
   "metadata": {},
   "outputs": [
    {
     "name": "stdout",
     "output_type": "stream",
     "text": [
      "nonce: 1, owner: , credential: , data: entry: ('Users',), schema: (key=name, value=str), (key=age, value=int), (key=is_valid, value=bool)\n",
      "nonce: 1.0, owner: , credential: , data: entry: ('Fred', 12, True), schema: None\n",
      "Cannot create a sub Unit without a schema\n",
      "nonce: 1.1, owner: , credential: , data: entry: ('Jill', 10, False), schema: None\n",
      "nonce: 1.2, owner: , credential: , data: entry: ('Aaron', 30, True), schema: (key=title, value=str)\n"
     ]
    }
   ],
   "source": [
    "new_controller = Controller()\n",
    "\n",
    "new_base_schema = BaseSchema((SchemaEntry(\"name\", \"str\"), SchemaEntry(\"age\", \"int\"), SchemaEntry(\"is_valid\", \"bool\")))\n",
    "\n",
    "new_data_schema = Data((\"Users\"), new_base_schema)\n",
    "\n",
    "new_group_unit = new_controller._create_group_unit(new_data_schema)\n",
    "\n",
    "print(new_group_unit)\n",
    "\n",
    "new_sub_unit_data = Data((\"Fred\", 12, True))\n",
    "\n",
    "new_sub_group_unit = new_controller._create_group_unit(new_sub_unit_data, True, new_group_unit.data.schema)\n",
    "\n",
    "print(new_sub_group_unit)\n",
    "\n",
    "new_sub_unit_data2 = Data((\"Jane\", 11, False))\n",
    "\n",
    "try:\n",
    "    new_controller._create_group_unit(new_sub_unit_data2, True, new_group_unit.data.schema)\n",
    "except Exception as e:\n",
    "    print(e)\n",
    "\n",
    "new_sub_unit_data3 = Data((\"Jill\", 10, False))\n",
    "\n",
    "new_sub_group_unit3 = new_controller._create_group_unit(new_sub_unit_data3, False)\n",
    "\n",
    "print(new_sub_group_unit3)\n",
    "\n",
    "another_sub_schema = BaseSchema((SchemaEntry(\"title\", \"str\"),))\n",
    "\n",
    "another_sub_data = Data((\"Aaron\", 30, True), another_sub_schema)\n",
    "\n",
    "another_sub_group_unit = new_controller._create_group_unit(another_sub_data, False, new_group_unit.data.schema)\n",
    "\n",
    "print(another_sub_group_unit)\n",
    "\n",
    "sub_sub_data = Data((\"CEO\",))\n",
    "\n",
    "sub_sub_group_unit = new_controller._create_group_unit(sub_sub_data, True, another_sub_group_unit.data.schema)\n",
    "print(sub_sub_group_unit)"
   ]
  }
 ],
 "metadata": {
  "kernelspec": {
   "display_name": ".venv",
   "language": "python",
   "name": "python3"
  },
  "language_info": {
   "codemirror_mode": {
    "name": "ipython",
    "version": 3
   },
   "file_extension": ".py",
   "mimetype": "text/x-python",
   "name": "python",
   "nbconvert_exporter": "python",
   "pygments_lexer": "ipython3",
   "version": "3.12.0"
  }
 },
 "nbformat": 4,
 "nbformat_minor": 2
}
