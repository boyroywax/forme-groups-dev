{
 "cells": [
  {
   "cell_type": "code",
   "execution_count": null,
   "metadata": {},
   "outputs": [],
   "source": []
  },
  {
   "cell_type": "markdown",
   "metadata": {},
   "source": [
    "# Zero Knowledge Proofs"
   ]
  },
  {
   "cell_type": "markdown",
   "metadata": {},
   "source": [
    "### Zero Knowledge Proof - Interactive method"
   ]
  },
  {
   "cell_type": "code",
   "execution_count": null,
   "metadata": {},
   "outputs": [
    {
     "name": "stdout",
     "output_type": "stream",
     "text": [
      "True\n"
     ]
    }
   ],
   "source": [
    "import random\n",
    "import hashlib\n",
    "\n",
    "def hash(x):\n",
    "    return int(hashlib.sha256(str(x).encode()).hexdigest(), 16)\n",
    "\n",
    "def prove(secret):\n",
    "    # Step 1: The prover chooses a random number\n",
    "    r = random.randint(1, 100)\n",
    "    \n",
    "    # Step 2: The prover sends the hash of the random number to the verifier\n",
    "    commitment = hash(r)\n",
    "    \n",
    "    # Step 3: The verifier sends a random challenge to the prover\n",
    "    challenge = random.randint(1, 100)\n",
    "    \n",
    "    # Step 4: The prover sends the sum of the random number and the secret times the challenge\n",
    "    response = r + secret * challenge\n",
    "    \n",
    "    return commitment, challenge, response\n",
    "\n",
    "def verify(secret, commitment, challenge, response):\n",
    "    # The verifier checks if the hash of the response minus the secret times the challenge equals the commitment\n",
    "    return hash(response - secret * challenge) == commitment\n",
    "\n",
    "# The prover knows the secret\n",
    "secret = 42\n",
    "\n",
    "# The prover generates a proof\n",
    "commitment, challenge, response = prove(secret)\n",
    "\n",
    "# The verifier verifies the proof\n",
    "print(verify(secret, commitment, challenge, response))  # Output: True\n"
   ]
  },
  {
   "cell_type": "markdown",
   "metadata": {},
   "source": [
    "### Fiat-Shamir heuristic = non-interactive proof"
   ]
  },
  {
   "cell_type": "code",
   "execution_count": null,
   "metadata": {},
   "outputs": [
    {
     "name": "stdout",
     "output_type": "stream",
     "text": [
      "r=49\n",
      "commitment=6374527399298669970873680942153226434000226875684672420511088035423137128223\n",
      "challenge=26806423321127601837791332209506913681727170191832023588686229301391962548302\n",
      "response=1125869779487359277187235952799290374632541148056944990724821630658462427028733\n",
      "response - secret * challenge=49\n",
      "True\n"
     ]
    }
   ],
   "source": [
    "def prove(secret):\n",
    "    # Step 1: The prover chooses a random number\n",
    "    r = random.randint(1, 100)\n",
    "    print(f'{r=}')\n",
    "    \n",
    "    # Step 2: The prover sends the hash of the random number to the verifier\n",
    "    commitment = hash(r)\n",
    "    print(f'{commitment=}')\n",
    "    \n",
    "    # Step 3: The prover generates the challenge by hashing the commitment\n",
    "    challenge = hash(commitment)\n",
    "    print(f'{challenge=}')\n",
    "    \n",
    "    # Step 4: The prover sends the sum of the random number and the secret times the challenge\n",
    "    response = r + secret * challenge\n",
    "    print(f'{response=}')\n",
    "    \n",
    "    return commitment, challenge, response\n",
    "\n",
    "def verify(secret, commitment, challenge, response):\n",
    "    # The verifier checks if the hash of the response minus the secret times the challenge equals the commitment\n",
    "    print(f'{response - secret * challenge=}')\n",
    "    return hash(response - secret * challenge) == commitment\n",
    "\n",
    "# The prover knows the secret\n",
    "secret = 42\n",
    "\n",
    "# The prover generates a proof\n",
    "commitment, challenge, response = prove(secret)\n",
    "\n",
    "# The verifier verifies the proof\n",
    "print(verify(secret, commitment, challenge, response))  # Output: True"
   ]
  }
 ],
 "metadata": {
  "kernelspec": {
   "display_name": ".venv",
   "language": "python",
   "name": "python3"
  },
  "language_info": {
   "name": "python",
   "version": "3.12.0"
  }
 },
 "nbformat": 4,
 "nbformat_minor": 2
}
