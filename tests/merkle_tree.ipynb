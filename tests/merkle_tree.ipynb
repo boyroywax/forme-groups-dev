{
 "cells": [
  {
   "cell_type": "markdown",
   "metadata": {},
   "source": [
    "# Hashing"
   ]
  },
  {
   "cell_type": "markdown",
   "metadata": {},
   "source": [
    "## 1. SHA256 Hashing Function"
   ]
  },
  {
   "cell_type": "code",
   "execution_count": 1,
   "metadata": {},
   "outputs": [
    {
     "name": "stdout",
     "output_type": "stream",
     "text": [
      "9f86d081884c7d659a2feaa0c55ad015a3bf4f1b2b0b822cd15d6c15b0f00a08\n"
     ]
    }
   ],
   "source": [
    "import hashlib\n",
    "\n",
    "class SHA256Hash:\n",
    "    def __init__(self, value: str):\n",
    "        self.value: str = value\n",
    "        self.hash: str = hashlib.sha256(value.encode('utf-8')).hexdigest()\n",
    "\n",
    "print(SHA256Hash('test').hash)"
   ]
  },
  {
   "cell_type": "markdown",
   "metadata": {},
   "source": [
    "Expand the class to include inputing a precalculated hash value."
   ]
  },
  {
   "cell_type": "code",
   "execution_count": 2,
   "metadata": {},
   "outputs": [
    {
     "name": "stdout",
     "output_type": "stream",
     "text": [
      "9f86d081884c7d659a2feaa0c55ad015a3bf4f1b2b0b822cd15d6c15b0f00a08\n",
      "test❌\n"
     ]
    }
   ],
   "source": [
    "from typing import Optional\n",
    "\n",
    "class SHA256Hash:\n",
    "    def __init__(self, value: str, hash: Optional[str]):\n",
    "        self.value: str = value\n",
    "        if hash is None:\n",
    "            self.hash: str = self.hash_str(value)\n",
    "        else:\n",
    "            self.hash: str = hash\n",
    "\n",
    "    @staticmethod\n",
    "    def hash_str(value: str) -> str:\n",
    "        return hashlib.sha256(value.encode('utf-8')).hexdigest()\n",
    "\n",
    "print(SHA256Hash('test', None).hash)  # 9f86d081884c7d659a2feaa0c55ad015a3bf4f1b2b0b822cd15d6c15b0f00a08\n",
    "print(SHA256Hash('test', 'test').hash + f'❌')  # hash is not recalculated and potentially wrong"
   ]
  },
  {
   "cell_type": "markdown",
   "metadata": {},
   "source": [
    "Add a hash checking method to verify the hash and value match and an equality method to compare two SHA256Hash objects."
   ]
  },
  {
   "cell_type": "code",
   "execution_count": 3,
   "metadata": {},
   "outputs": [
    {
     "name": "stdout",
     "output_type": "stream",
     "text": [
      "9f86d081884c7d659a2feaa0c55ad015a3bf4f1b2b0b822cd15d6c15b0f00a08\n",
      "ValueError raised\n"
     ]
    }
   ],
   "source": [
    "class SHA256Hash:\n",
    "    def __init__(self, value: str, hash: Optional[str] = None):\n",
    "        self.value: str = value\n",
    "        if hash is None:\n",
    "            self.hash: str = self.hash_str(value)\n",
    "        else:\n",
    "            if self.verify_hash(hash):\n",
    "                self.hash: str = hash\n",
    "            else:\n",
    "                raise ValueError(f'Hash {hash} does not match value {value}')\n",
    "\n",
    "    @staticmethod\n",
    "    def hash_str(value: str) -> str:\n",
    "        return hashlib.sha256(value.encode('utf-8')).hexdigest()\n",
    "    \n",
    "    @staticmethod\n",
    "    def verify_hash(hash: str) -> bool:\n",
    "        assert isinstance(hash, str), 'hash must be a string'\n",
    "\n",
    "        if len(hash) != 64:\n",
    "            return False\n",
    "        \n",
    "        try:\n",
    "            int(hash, 16)\n",
    "        except ValueError:\n",
    "            return False\n",
    "        \n",
    "        return True\n",
    "\n",
    "    def __eq__(self, other: 'SHA256Hash') -> bool:\n",
    "        return self.hash == other.hash\n",
    "    \n",
    "print(SHA256Hash('test', None).hash)  # 9f86d081884c7d659a2feaa0c55ad015a3bf4f1b2b0b822cd15d6c15b0f00a08\n",
    "try:\n",
    "    sha256 = SHA256Hash('test', 'test')\n",
    "except ValueError:\n",
    "    print('ValueError raised')"
   ]
  },
  {
   "cell_type": "markdown",
   "metadata": {},
   "source": [
    "Add a method to return the hash as bytes.  Also a method to add two hash together."
   ]
  },
  {
   "cell_type": "code",
   "execution_count": 4,
   "metadata": {},
   "outputs": [
    {
     "name": "stdout",
     "output_type": "stream",
     "text": [
      "b'\\x9f\\x86\\xd0\\x81\\x88L}e\\x9a/\\xea\\xa0\\xc5Z\\xd0\\x15\\xa3\\xbfO\\x1b+\\x0b\\x82,\\xd1]l\\x15\\xb0\\xf0\\n\\x08'\n",
      "test1test2 2f297f1520dfd4d6a9b680536568fd3aad16a8c2d7067b654ea06dd931bccd51\n"
     ]
    }
   ],
   "source": [
    "class SHA256Hash:\n",
    "    def __init__(self, value: str, hash: Optional[str] = None):\n",
    "        self.value = value\n",
    "        self.hash = None\n",
    "        if hash is None:\n",
    "            self.hash = self.hash_str(value)\n",
    "        else:\n",
    "            if self.verify_hash(hash):\n",
    "                self.hash = hash\n",
    "\n",
    "    @staticmethod\n",
    "    def hash_str(value: str) -> str:\n",
    "        return hashlib.sha256(value.encode('utf-8')).hexdigest()\n",
    "    \n",
    "    @staticmethod\n",
    "    def verify_hash(hash: str) -> bool:\n",
    "        assert isinstance(hash, str), 'hash must be a string'\n",
    "        assert len(hash) == 64, 'hash must be 64 characters long'\n",
    "        \n",
    "        return True\n",
    "    \n",
    "    def to_bytes(self) -> bytes:\n",
    "        return bytes.fromhex(self.hash)\n",
    "    \n",
    "    def __add__(self, other: 'SHA256Hash') -> 'SHA256Hash':\n",
    "        return SHA256Hash(value=self.value + other.value, hash=self.hash_str(self.hash + other.hash))\n",
    "\n",
    "    def __eq__(self, other: 'SHA256Hash') -> bool:\n",
    "        return self.hash == other.hash\n",
    "    \n",
    "print(SHA256Hash('test', None).to_bytes()) \n",
    "# b'\\x9f\\x86\\xd0\\x81\\x88L}e\\x9a/\\xea\\xa0\\xc5Z\\xd0\\x15\\xa3\\xbfO\\x1b+\\x0b\\x82,\\xd1]l\\x15\\xb0\\xf0\\n\\x08'\n",
    "\n",
    "hash1 = SHA256Hash('test1', None)\n",
    "hash2 = SHA256Hash('test2', None)\n",
    "hash3 = hash1 + hash2\n",
    "print(hash3.value + ' ' + hash3.hash)"
   ]
  },
  {
   "cell_type": "markdown",
   "metadata": {},
   "source": [
    "# Merkle Tree"
   ]
  },
  {
   "cell_type": "markdown",
   "metadata": {},
   "source": [
    "## 2. Leaf Nodes\n",
    "\n",
    "Create a LeafNode class that inherits from the SHA256Hash class.  The LeafNode class should have a value and a hash."
   ]
  },
  {
   "cell_type": "code",
   "execution_count": 5,
   "metadata": {},
   "outputs": [
    {
     "name": "stdout",
     "output_type": "stream",
     "text": [
      "test 9f86d081884c7d659a2feaa0c55ad015a3bf4f1b2b0b822cd15d6c15b0f00a08\n"
     ]
    }
   ],
   "source": [
    "class Leaf(SHA256Hash):\n",
    "    pass\n",
    "\n",
    "\n",
    "leaf = Leaf('test')\n",
    "print(leaf.value + ' ' + leaf.hash)"
   ]
  },
  {
   "cell_type": "markdown",
   "metadata": {},
   "source": [
    "## 3. Tree Leaves Class"
   ]
  },
  {
   "cell_type": "code",
   "execution_count": 6,
   "metadata": {},
   "outputs": [
    {
     "name": "stdout",
     "output_type": "stream",
     "text": [
      "test1 1b4f0e9851971998e732078544c96b36c3d01cedf7caa332359d6f1d83567014\n",
      "test2 60303ae22b998861bce3b28f33eec1be758a213c86c93c076dbe9f558c11c752\n"
     ]
    }
   ],
   "source": [
    "class Leaves:\n",
    "    def __init__(self, leaves: tuple[SHA256Hash | Leaf, ...]):\n",
    "        self.leaves: tuple[SHA256Hash | Leaf, ...] = leaves\n",
    "\n",
    "    def __str__(self):\n",
    "        return '\\n'.join([' '.join([leaf.value + ' ' + leaf.hash]) for leaf in self.leaves])\n",
    "\n",
    "    def __repr__(self):\n",
    "        return str(self)\n",
    "    \n",
    "leaves = Leaves((SHA256Hash('test1', None), SHA256Hash('test2', None)))\n",
    "print(leaves)"
   ]
  },
  {
   "cell_type": "markdown",
   "metadata": {},
   "source": [
    "## 4. The Merkle Tree Class"
   ]
  },
  {
   "cell_type": "code",
   "execution_count": 7,
   "metadata": {},
   "outputs": [
    {
     "name": "stdout",
     "output_type": "stream",
     "text": [
      "test1 1b4f0e9851971998e732078544c96b36c3d01cedf7caa332359d6f1d83567014\n",
      "test2 60303ae22b998861bce3b28f33eec1be758a213c86c93c076dbe9f558c11c752\n",
      "test1test2 2f297f1520dfd4d6a9b680536568fd3aad16a8c2d7067b654ea06dd931bccd51\n",
      "test1test2 2f297f1520dfd4d6a9b680536568fd3aad16a8c2d7067b654ea06dd931bccd51\n",
      "test1test2 2f297f1520dfd4d6a9b680536568fd3aad16a8c2d7067b654ea06dd931bccd51\n",
      "2f297f1520dfd4d6a9b680536568fd3aad16a8c2d7067b654ea06dd931bccd51\n",
      "test1 1b4f0e9851971998e732078544c96b36c3d01cedf7caa332359d6f1d83567014\n",
      "test2 60303ae22b998861bce3b28f33eec1be758a213c86c93c076dbe9f558c11c752\n",
      "test3 fd61a03af4f77d870fc21e05e7e80678095c92d808cfb3b5c279ee04c74aca13\n",
      "test1test2 2f297f1520dfd4d6a9b680536568fd3aad16a8c2d7067b654ea06dd931bccd51\n",
      "test3 fd61a03af4f77d870fc21e05e7e80678095c92d808cfb3b5c279ee04c74aca13\n",
      "test1test2test3 e7865859f083e773e2cb504ea8f75d959295d29522e6591006d15213acc1f820\n",
      "e7865859f083e773e2cb504ea8f75d959295d29522e6591006d15213acc1f820\n"
     ]
    }
   ],
   "source": [
    "class MerkleTree:\n",
    "    def __init__(self, base_leaves: Leaves):\n",
    "        self.base_leaves: Leaves = base_leaves\n",
    "        self.levels: tuple[Leaves, ...] = self.build()\n",
    "\n",
    "    def __str__(self):\n",
    "        return '\\n'.join([str(leaves) for leaves in self.levels])\n",
    "    \n",
    "    def __repr__(self):\n",
    "        return str(self)\n",
    "    \n",
    "    @staticmethod\n",
    "    def next_level(leaves: Leaves) -> Leaves:\n",
    "        if len(leaves.leaves) == 1:\n",
    "            return leaves\n",
    "        new_leaves: list[Leaves] = []\n",
    "        for i in range(0, len(leaves.leaves), 2):\n",
    "            if i + 1 < len(leaves.leaves):\n",
    "                new_leaves.append(leaves.leaves[i] + leaves.leaves[i + 1])\n",
    "            else:\n",
    "                new_leaves.append(leaves.leaves[i])\n",
    "        return Leaves(tuple(new_leaves))\n",
    "    \n",
    "    def build(self):\n",
    "        self.levels = (self.base_leaves, )\n",
    "        while len(self.levels[-1].leaves) > 1:\n",
    "            self.levels += (MerkleTree.next_level(self.levels[-1]), )\n",
    "        return self.levels\n",
    "    \n",
    "    @property\n",
    "    def root(self) -> SHA256Hash:\n",
    "        return self.levels[-1].leaves[0].hash\n",
    "    \n",
    "\n",
    "level = MerkleTree(leaves)\n",
    "print(level)\n",
    "print(MerkleTree.next_level(leaves))\n",
    "next_level = MerkleTree.next_level(leaves)\n",
    "print(MerkleTree.next_level(next_level))\n",
    "print(level.root)\n",
    "\n",
    "leaves_two = Leaves((SHA256Hash('test1', None), SHA256Hash('test2', None), SHA256Hash('test3', None)))\n",
    "new_tree = MerkleTree(leaves_two)\n",
    "print(new_tree)\n",
    "print(new_tree.root)"
   ]
  },
  {
   "cell_type": "markdown",
   "metadata": {},
   "source": [
    "## Python packages for merkle trees"
   ]
  },
  {
   "cell_type": "code",
   "execution_count": 8,
   "metadata": {
    "vscode": {
     "languageId": "shellscript"
    }
   },
   "outputs": [],
   "source": [
    "# pip install pymerkle"
   ]
  },
  {
   "cell_type": "code",
   "execution_count": 9,
   "metadata": {},
   "outputs": [],
   "source": [
    "import pymerkle"
   ]
  },
  {
   "cell_type": "markdown",
   "metadata": {},
   "source": [
    "### PySHA3 and merkletooks do not work properly.  \n",
    "\n",
    "merkletools relies on outdated package pysha3.  sha3 is built into latest hashlib."
   ]
  },
  {
   "cell_type": "code",
   "execution_count": 10,
   "metadata": {
    "vscode": {
     "languageId": "shellscript"
    }
   },
   "outputs": [],
   "source": [
    "# pip install --upgrade pip setuptools wheel\n",
    "# pip install pysha3 merkletools"
   ]
  },
  {
   "cell_type": "code",
   "execution_count": 11,
   "metadata": {},
   "outputs": [],
   "source": [
    "# import merkletools\n",
    "\n",
    "# mt = merkletools.MerkleTools()"
   ]
  },
  {
   "cell_type": "markdown",
   "metadata": {},
   "source": [
    "### Merkly"
   ]
  },
  {
   "cell_type": "code",
   "execution_count": 12,
   "metadata": {
    "vscode": {
     "languageId": "shellscript"
    }
   },
   "outputs": [],
   "source": [
    "# pip install merkly"
   ]
  },
  {
   "cell_type": "code",
   "execution_count": 13,
   "metadata": {},
   "outputs": [
    {
     "name": "stdout",
     "output_type": "stream",
     "text": [
      "e7865859f083e773e2cb504ea8f75d959295d29522e6591006d15213acc1f820\n",
      "['1b4f0e9851971998e732078544c96b36c3d01cedf7caa332359d6f1d83567014', '60303ae22b998861bce3b28f33eec1be758a213c86c93c076dbe9f558c11c752', 'fd61a03af4f77d870fc21e05e7e80678095c92d808cfb3b5c279ee04c74aca13']\n"
     ]
    }
   ],
   "source": [
    "from merkly.mtree import MerkleTree\n",
    "from typing import Callable\n",
    "\n",
    "\n",
    "sha256_hash_funciton: Callable[[str], str] = lambda x, y: str(hashlib.sha256(x.encode('utf-8') + y.encode('utf-8')).hexdigest())\n",
    "\n",
    "\n",
    "mtree = MerkleTree(['test1', 'test2', 'test3'], sha256_hash_funciton)\n",
    "print(mtree.root)\n",
    "print(mtree.leafs)"
   ]
  },
  {
   "cell_type": "markdown",
   "metadata": {},
   "source": [
    "# Zero Knowledge Proofs"
   ]
  },
  {
   "cell_type": "markdown",
   "metadata": {},
   "source": [
    "### Zero Knowledge Proof - Interactive method"
   ]
  },
  {
   "cell_type": "code",
   "execution_count": 14,
   "metadata": {},
   "outputs": [
    {
     "name": "stdout",
     "output_type": "stream",
     "text": [
      "True\n"
     ]
    }
   ],
   "source": [
    "import random\n",
    "import hashlib\n",
    "\n",
    "def hash(x):\n",
    "    return int(hashlib.sha256(str(x).encode()).hexdigest(), 16)\n",
    "\n",
    "def prove(secret):\n",
    "    # Step 1: The prover chooses a random number\n",
    "    r = random.randint(1, 100)\n",
    "    \n",
    "    # Step 2: The prover sends the hash of the random number to the verifier\n",
    "    commitment = hash(r)\n",
    "    \n",
    "    # Step 3: The verifier sends a random challenge to the prover\n",
    "    challenge = random.randint(1, 100)\n",
    "    \n",
    "    # Step 4: The prover sends the sum of the random number and the secret times the challenge\n",
    "    response = r + secret * challenge\n",
    "    \n",
    "    return commitment, challenge, response\n",
    "\n",
    "def verify(secret, commitment, challenge, response):\n",
    "    # The verifier checks if the hash of the response minus the secret times the challenge equals the commitment\n",
    "    return hash(response - secret * challenge) == commitment\n",
    "\n",
    "# The prover knows the secret\n",
    "secret = 42\n",
    "\n",
    "# The prover generates a proof\n",
    "commitment, challenge, response = prove(secret)\n",
    "\n",
    "# The verifier verifies the proof\n",
    "print(verify(secret, commitment, challenge, response))  # Output: True\n"
   ]
  },
  {
   "cell_type": "markdown",
   "metadata": {},
   "source": [
    "### Fiat-Shamir heuristic = non-interactive proof"
   ]
  },
  {
   "cell_type": "code",
   "execution_count": 37,
   "metadata": {},
   "outputs": [
    {
     "name": "stdout",
     "output_type": "stream",
     "text": [
      "r=38\n",
      "commitment=79001261933787772368616944061130683375801671526289302723479720265264640619632\n",
      "challenge=74207793488870752159599829997065805596430595152258743610674999120309536509427\n",
      "response=3116727326532571590703192859876763835050084996394867231648349963053000533395972\n",
      "response - secret * challenge=38\n",
      "True\n"
     ]
    }
   ],
   "source": [
    "def prove(secret):\n",
    "    # Step 1: The prover chooses a random number\n",
    "    r = random.randint(1, 100)\n",
    "    print(f'{r=}')\n",
    "    \n",
    "    # Step 2: The prover sends the hash of the random number to the verifier\n",
    "    commitment = hash(r)\n",
    "    print(f'{commitment=}')\n",
    "    \n",
    "    # Step 3: The prover generates the challenge by hashing the commitment\n",
    "    challenge = hash(commitment)\n",
    "    print(f'{challenge=}')\n",
    "    \n",
    "    # Step 4: The prover sends the sum of the random number and the secret times the challenge\n",
    "    response = r + secret * challenge\n",
    "    print(f'{response=}')\n",
    "    \n",
    "    return commitment, challenge, response\n",
    "\n",
    "def verify(secret, commitment, challenge, response):\n",
    "    # The verifier checks if the hash of the response minus the secret times the challenge equals the commitment\n",
    "    print(f'{response - secret * challenge=}')\n",
    "    return hash(response - secret * challenge) == commitment\n",
    "\n",
    "# The prover knows the secret\n",
    "secret = 42\n",
    "\n",
    "# The prover generates a proof\n",
    "commitment, challenge, response = prove(secret)\n",
    "\n",
    "# The verifier verifies the proof\n",
    "print(verify(secret, commitment, challenge, response))  # Output: True"
   ]
  }
 ],
 "metadata": {
  "kernelspec": {
   "display_name": "Python 3",
   "language": "python",
   "name": "python3"
  },
  "language_info": {
   "codemirror_mode": {
    "name": "ipython",
    "version": 3
   },
   "file_extension": ".py",
   "mimetype": "text/x-python",
   "name": "python",
   "nbconvert_exporter": "python",
   "pygments_lexer": "ipython3",
   "version": "3.12.0"
  }
 },
 "nbformat": 4,
 "nbformat_minor": 2
}
