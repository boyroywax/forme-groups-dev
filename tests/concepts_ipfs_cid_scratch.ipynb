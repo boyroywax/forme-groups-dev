{
 "cells": [
  {
   "cell_type": "markdown",
   "metadata": {},
   "source": [
    "# IPFS Concepts - SCRATCHPAD"
   ]
  },
  {
   "cell_type": "markdown",
   "metadata": {},
   "source": [
    "## IPFS Service Node\n",
    "\n",
    "A node that is running the IPFS daemon and is connected to the IPFS network. It is able to provide content to other nodes and to retrieve content from other nodes."
   ]
  },
  {
   "cell_type": "code",
   "execution_count": 1,
   "metadata": {
    "vscode": {
     "languageId": "shellscript"
    }
   },
   "outputs": [],
   "source": [
    "# docker compose -f \"tests/ipfs/docker-compose.yml\" up -d --build"
   ]
  },
  {
   "cell_type": "markdown",
   "metadata": {},
   "source": [
    "### Default Server Address"
   ]
  },
  {
   "cell_type": "code",
   "execution_count": 2,
   "metadata": {},
   "outputs": [],
   "source": [
    "__IPFS_DEFAULT_URL__ = '/ip4/127.0.0.1/tcp/5001'"
   ]
  },
  {
   "cell_type": "markdown",
   "metadata": {},
   "source": [
    "## IPFS-Toolkit"
   ]
  },
  {
   "cell_type": "code",
   "execution_count": 3,
   "metadata": {
    "vscode": {
     "languageId": "shellscript"
    }
   },
   "outputs": [],
   "source": [
    "# pip install IPFS-Toolkit"
   ]
  },
  {
   "cell_type": "markdown",
   "metadata": {},
   "source": [
    "### Connect"
   ]
  },
  {
   "cell_type": "code",
   "execution_count": 4,
   "metadata": {},
   "outputs": [
    {
     "name": "stdout",
     "output_type": "stream",
     "text": [
      "No module named 'multiaddr.exceptions'\n",
      "Falling back to IPFS CLI because our HTTP client isn't working;\n",
      "Not all modules required by the http-connection could be loaded.\n"
     ]
    }
   ],
   "source": [
    "import ipfs_api\n",
    "\n",
    "# Connect to the IPFS daemon\n",
    "def connect():\n",
    "    client = ipfs_api.ipfshttpclient\n",
    "    return client.connect(__IPFS_DEFAULT_URL__)"
   ]
  },
  {
   "cell_type": "markdown",
   "metadata": {},
   "source": [
    "#### Check Connection"
   ]
  },
  {
   "cell_type": "code",
   "execution_count": 5,
   "metadata": {},
   "outputs": [
    {
     "ename": "AttributeError",
     "evalue": "'NoneType' object has no attribute 'connect'",
     "output_type": "error",
     "traceback": [
      "\u001b[0;31m---------------------------------------------------------------------------\u001b[0m",
      "\u001b[0;31mAttributeError\u001b[0m                            Traceback (most recent call last)",
      "\u001b[1;32m/Users/j/Documents/Forme/code/forme-groups-python-3-12/tests/concepts_ipfs_cid_scratch.ipynb Cell 11\u001b[0m line \u001b[0;36m6\n\u001b[1;32m      <a href='vscode-notebook-cell:/Users/j/Documents/Forme/code/forme-groups-python-3-12/tests/concepts_ipfs_cid_scratch.ipynb#X13sZmlsZQ%3D%3D?line=2'>3</a>\u001b[0m     \u001b[39mprint\u001b[39m(\u001b[39m'\u001b[39m\u001b[39mClient ID: \u001b[39m\u001b[39m'\u001b[39m, ipfs\u001b[39m.\u001b[39mid())\n\u001b[1;32m      <a href='vscode-notebook-cell:/Users/j/Documents/Forme/code/forme-groups-python-3-12/tests/concepts_ipfs_cid_scratch.ipynb#X13sZmlsZQ%3D%3D?line=3'>4</a>\u001b[0m     \u001b[39mprint\u001b[39m(\u001b[39m'\u001b[39m\u001b[39mClient Version: \u001b[39m\u001b[39m'\u001b[39m, ipfs\u001b[39m.\u001b[39mversion())\n\u001b[0;32m----> <a href='vscode-notebook-cell:/Users/j/Documents/Forme/code/forme-groups-python-3-12/tests/concepts_ipfs_cid_scratch.ipynb#X13sZmlsZQ%3D%3D?line=5'>6</a>\u001b[0m print_status()\n",
      "\u001b[1;32m/Users/j/Documents/Forme/code/forme-groups-python-3-12/tests/concepts_ipfs_cid_scratch.ipynb Cell 11\u001b[0m line \u001b[0;36m2\n\u001b[1;32m      <a href='vscode-notebook-cell:/Users/j/Documents/Forme/code/forme-groups-python-3-12/tests/concepts_ipfs_cid_scratch.ipynb#X13sZmlsZQ%3D%3D?line=0'>1</a>\u001b[0m \u001b[39mdef\u001b[39;00m \u001b[39mprint_status\u001b[39m():\n\u001b[0;32m----> <a href='vscode-notebook-cell:/Users/j/Documents/Forme/code/forme-groups-python-3-12/tests/concepts_ipfs_cid_scratch.ipynb#X13sZmlsZQ%3D%3D?line=1'>2</a>\u001b[0m     ipfs \u001b[39m=\u001b[39m connect()\n\u001b[1;32m      <a href='vscode-notebook-cell:/Users/j/Documents/Forme/code/forme-groups-python-3-12/tests/concepts_ipfs_cid_scratch.ipynb#X13sZmlsZQ%3D%3D?line=2'>3</a>\u001b[0m     \u001b[39mprint\u001b[39m(\u001b[39m'\u001b[39m\u001b[39mClient ID: \u001b[39m\u001b[39m'\u001b[39m, ipfs\u001b[39m.\u001b[39mid())\n\u001b[1;32m      <a href='vscode-notebook-cell:/Users/j/Documents/Forme/code/forme-groups-python-3-12/tests/concepts_ipfs_cid_scratch.ipynb#X13sZmlsZQ%3D%3D?line=3'>4</a>\u001b[0m     \u001b[39mprint\u001b[39m(\u001b[39m'\u001b[39m\u001b[39mClient Version: \u001b[39m\u001b[39m'\u001b[39m, ipfs\u001b[39m.\u001b[39mversion())\n",
      "\u001b[1;32m/Users/j/Documents/Forme/code/forme-groups-python-3-12/tests/concepts_ipfs_cid_scratch.ipynb Cell 11\u001b[0m line \u001b[0;36m6\n\u001b[1;32m      <a href='vscode-notebook-cell:/Users/j/Documents/Forme/code/forme-groups-python-3-12/tests/concepts_ipfs_cid_scratch.ipynb#X13sZmlsZQ%3D%3D?line=3'>4</a>\u001b[0m \u001b[39mdef\u001b[39;00m \u001b[39mconnect\u001b[39m():\n\u001b[1;32m      <a href='vscode-notebook-cell:/Users/j/Documents/Forme/code/forme-groups-python-3-12/tests/concepts_ipfs_cid_scratch.ipynb#X13sZmlsZQ%3D%3D?line=4'>5</a>\u001b[0m     client \u001b[39m=\u001b[39m ipfs_api\u001b[39m.\u001b[39mipfshttpclient\n\u001b[0;32m----> <a href='vscode-notebook-cell:/Users/j/Documents/Forme/code/forme-groups-python-3-12/tests/concepts_ipfs_cid_scratch.ipynb#X13sZmlsZQ%3D%3D?line=5'>6</a>\u001b[0m     \u001b[39mreturn\u001b[39;00m client\u001b[39m.\u001b[39;49mconnect(__IPFS_DEFAULT_URL__)\n",
      "\u001b[0;31mAttributeError\u001b[0m: 'NoneType' object has no attribute 'connect'"
     ]
    }
   ],
   "source": [
    "def print_status():\n",
    "    ipfs = connect()\n",
    "    print('Client ID: ', ipfs.id())\n",
    "    print('Client Version: ', ipfs.version())\n",
    "\n",
    "print_status()"
   ]
  },
  {
   "cell_type": "markdown",
   "metadata": {},
   "source": [
    "### Publish"
   ]
  },
  {
   "cell_type": "markdown",
   "metadata": {},
   "source": [
    "#### Strings"
   ]
  },
  {
   "cell_type": "code",
   "execution_count": null,
   "metadata": {},
   "outputs": [
    {
     "name": "stdout",
     "output_type": "stream",
     "text": [
      "CIDV0:  Qmf1rtki74jvYmGeqaaV51hzeiaa6DyWc98fzDiuPatzyy\n",
      "CIDV1:  zdj7Wn77GBmxYDXRUaaaKY6wPYZGvn1omPeUTYCf27aD2Tu9u\n"
     ]
    }
   ],
   "source": [
    "def add_str(string: str):\n",
    "    with connect() as c:\n",
    "        return c.add_str(string)\n",
    "\n",
    "returned_hash = add_str(u'Hello World!')\n",
    "print('CIDV0: ', returned_hash)\n",
    "\n",
    "# convert to CIDv1\n",
    "returned_hash = make_cid(returned_hash).to_v1()\n",
    "\n",
    "print('CIDV1: ', returned_hash)"
   ]
  },
  {
   "cell_type": "markdown",
   "metadata": {},
   "source": [
    "#### Bytes"
   ]
  },
  {
   "cell_type": "code",
   "execution_count": null,
   "metadata": {},
   "outputs": [
    {
     "name": "stdout",
     "output_type": "stream",
     "text": [
      "CIDV0:  Qmf1rtki74jvYmGeqaaV51hzeiaa6DyWc98fzDiuPatzyy\n",
      "CIDV1:  zdj7Wn77GBmxYDXRUaaaKY6wPYZGvn1omPeUTYCf27aD2Tu9u\n"
     ]
    }
   ],
   "source": [
    "from cid import make_cid\n",
    "\n",
    "def add_bytes(data: bytes):\n",
    "    with connect() as c:\n",
    "        return c.add_bytes(data)\n",
    "    \n",
    "returned_hash = add_bytes(b'Hello World!')\n",
    "print('CIDV0: ', returned_hash)\n",
    "\n",
    "# convert to CIDv1\n",
    "returned_hash = make_cid(returned_hash).to_v1()\n",
    "\n",
    "print('CIDV1: ', returned_hash)"
   ]
  },
  {
   "cell_type": "markdown",
   "metadata": {},
   "source": [
    "#### JSON"
   ]
  },
  {
   "cell_type": "code",
   "execution_count": null,
   "metadata": {},
   "outputs": [
    {
     "name": "stdout",
     "output_type": "stream",
     "text": [
      "CIDV0:  QmNrEidQrAbxx3FzxNt9E6qjEDZrtvzxUVh47BXm55Zuen\n",
      "CIDV1:  zdj7WVwV64Uhe5ZpkZvh7qm6UgHrRmJcUR6Lp6amyvRtX8opi\n"
     ]
    }
   ],
   "source": [
    "from cid import CIDv0, CIDv1, make_cid\n",
    "\n",
    "def add_json(json: dict):\n",
    "    with connect() as c:\n",
    "        return c.add_json(json)\n",
    "    \n",
    "returned_hash = add_json({'hello': 'world'})\n",
    "print('CIDV0: ', returned_hash)\n",
    "\n",
    "# convert to CIDv1\n",
    "returned_hash = make_cid(returned_hash).to_v1()\n",
    "\n",
    "print('CIDV1: ', returned_hash)"
   ]
  },
  {
   "cell_type": "markdown",
   "metadata": {},
   "source": [
    "#### Files"
   ]
  },
  {
   "cell_type": "code",
   "execution_count": null,
   "metadata": {},
   "outputs": [
    {
     "name": "stdout",
     "output_type": "stream",
     "text": [
      "CIDV0:  QmUJarh6GuMaNgpkvkC1CoRk8qDk6J39CopoYi9fVdSEiv\n",
      "CIDV1:  zdj7WbPqE8A8NqBFQ8gfV9d5BGJm3RBoqTH58ELDWYLK518tr\n"
     ]
    }
   ],
   "source": [
    "def add_file(path: str):\n",
    "    with connect() as c:\n",
    "        return c.add(path)\n",
    "    \n",
    "returned_hash = add_file('concepts_cid_test.json')\n",
    "print('CIDV0: ', returned_hash['Hash'])\n",
    "\n",
    "# convert to CIDv1\n",
    "returned_hash = make_cid(returned_hash['Hash']).to_v1()\n",
    "\n",
    "print('CIDV1: ', returned_hash)"
   ]
  },
  {
   "cell_type": "markdown",
   "metadata": {},
   "source": [
    "#### Blocks"
   ]
  },
  {
   "cell_type": "markdown",
   "metadata": {},
   "source": [
    "##### Raw Blocks"
   ]
  },
  {
   "cell_type": "code",
   "execution_count": null,
   "metadata": {},
   "outputs": [
    {
     "name": "stdout",
     "output_type": "stream",
     "text": [
      "raw_root: fe9b05ddd2c30b4134f8b5e1b9ecf8b9f8485b8090565d006ec009b9c752f308\n",
      "<ipfshttpclient2.client.base.ResponseBase: {'Key': 'bafkreicpuquhapdqadlj6uv2hhx6vma4q2fhi7hkh624swguwj3zw4edwi', 'Size': 338}>\n",
      "{\n",
      "  \"name\": \"John Doe\",\n",
      "  \"age\": 30,\n",
      "  \"email\": \"johndoe@example.com\",\n",
      "  \"address\": {\n",
      "    \"street\": \"123 Main St\",\n",
      "    \"city\": \"Anytown\",\n",
      "    \"state\": \"CA\",\n",
      "    \"zip\": \"12345\"\n",
      "  },\n",
      "  \"phoneNumbers\": [\n",
      "    {\n",
      "      \"type\": \"home\",\n",
      "      \"number\": \"555-555-1234\"\n",
      "    },\n",
      "    {\n",
      "      \"type\": \"work\",\n",
      "      \"number\": \"555-555-5678\"\n",
      "    }\n",
      "  ]\n",
      "}\n",
      "\n"
     ]
    }
   ],
   "source": [
    "import io\n",
    "import base58\n",
    "import json\n",
    "# import BytesIO\n",
    "from typing import Callable, Iterable\n",
    "from cid import CIDv1, make_cid, CIDv0\n",
    "# from multiformats_cid import make_cid, CIDv0, CIDv1, cid\n",
    "# from Crypto.Hash import SHA256\n",
    "import hashlib\n",
    "from merkly.mtree import MerkleTree\n",
    "import multihash\n",
    "import codecs\n",
    "import ipfs_api\n",
    "import multibase\n",
    "\n",
    "def as_chunks(stream: io.BytesIO, chunk_size: int) -> Iterable[bytes]:\n",
    "    while len(chunk := stream.read(chunk_size)) > 0:\n",
    "        yield chunk\n",
    "\n",
    "def chunk_to_leaf(chunk: bytes) -> str:\n",
    "    return hashlib.sha256(chunk).hexdigest()\n",
    "\n",
    "def data_to_tree(data: bytes, chunk_size: int) -> list[str]:\n",
    "    # Create a buffer to hold the tree\n",
    "    tree: list[str] = []\n",
    "\n",
    "    # Iterate over the chunks\n",
    "    for chunk in as_chunks(io.BytesIO(data), chunk_size):\n",
    "        # Calculate the leaf hash\n",
    "        tree.append(chunk_to_leaf(chunk))\n",
    "        # print(tree)\n",
    "\n",
    "    # Return the tree\n",
    "    return tree\n",
    "\n",
    "def tree_to_root(tree: list[bytes]) -> str:\n",
    "    sha256_hash_funciton: Callable[[str], str] = lambda x, y: str(hashlib.sha256(x.encode() + y.encode()).hexdigest())\n",
    "\n",
    "    # Calculate the root hash\n",
    "    mt = MerkleTree(tree, sha256_hash_funciton)\n",
    "    root = mt.root\n",
    "    print(f'raw_root: {root}')\n",
    "    # root = codecs.decode(root, 'hex')\n",
    "    # print('root:', root.hex())\n",
    "    return root\n",
    "\n",
    "# Connect to the local IPFS node\n",
    "client = ipfs_api.ipfshttpclient.connect('/ip4/127.0.0.1/tcp/5001')\n",
    "\n",
    "# Read the file\n",
    "with open('concepts_cid_test.json', 'rb') as f:\n",
    "    data = f.read()\n",
    "\n",
    "# Calculate the tree\n",
    "tree = data_to_tree(data, 4)\n",
    "\n",
    "# Calculate the root\n",
    "root = tree_to_root(tree)\n",
    "\n",
    "# Add the Merkle root to IPFS\n",
    "res = client.block.put(file='concepts_cid_test.json')\n",
    "\n",
    "print(res)  # prints the CID of the Merkle root\n",
    "\n",
    "# Get the block from IPFS\n",
    "block = client.block.get(res['Key'])\n",
    "\n",
    "# Print the block\n",
    "print(block.decode())\n"
   ]
  },
  {
   "cell_type": "markdown",
   "metadata": {},
   "source": [
    "##### Creating a Block - Get The CID"
   ]
  },
  {
   "cell_type": "code",
   "execution_count": null,
   "metadata": {},
   "outputs": [
    {
     "name": "stdout",
     "output_type": "stream",
     "text": [
      "Qmb9cDaiMqrbBoYoL8MvZLjLwxgW6RCSwURNRxgNKcWPo8\n"
     ]
    }
   ],
   "source": [
    "import hashlib\n",
    "import multihash\n",
    "import base58\n",
    "import cbor2\n",
    "from io import BytesIO\n",
    "import cid\n",
    "\n",
    "# Your node\n",
    "node = {\n",
    "    'data': 'Hello World!',\n",
    "    'links': [],\n",
    "}\n",
    "\n",
    "# Serialize the node using DAG-CBOR\n",
    "serialized = cbor2.dumps(node)\n",
    "\n",
    "# Calculate the SHA-256 hash of the serialized node\n",
    "hash = hashlib.sha256(serialized).digest()\n",
    "\n",
    "# Create a multihash from the hash\n",
    "mh = multihash.encode(hash, 'sha2-256')\n",
    "\n",
    "# Create a CIDv1 from the multihash\n",
    "cid_ = base58.b58encode(mh).decode()\n",
    "print(cid_)\n"
   ]
  },
  {
   "cell_type": "code",
   "execution_count": null,
   "metadata": {},
   "outputs": [
    {
     "name": "stdout",
     "output_type": "stream",
     "text": [
      "Qmb9cDaiMqrbBoYoL8MvZLjLwxgW6RCSwURNRxgNKcWPo8\n",
      "<ipfshttpclient2.client.base.ResponseBase: {'Key': 'bafkreif6ko4ucr2qtihpnqlfqatklokmsczhsvv6ycvebdilcxxrlzdyim', 'Size': 26}>\n",
      "b'\\xa2ddatalHello World!elinks\\x80'\n",
      "zb2rhjTEhdvbh7c8zQMKE8DFF7oiEPzouXBrFDSjdZx5tUZzr\n",
      "Qmb9cDaiMqrbBoYoL8MvZLjLwxgW6RCSwURNRxgNKcWPo8\n",
      "zdj7WiErb1nDKLC4Wrj4sKYRiZuaAswoxcaonpu6m53945Hy4\n",
      "Qmf1rtki74jvYmGeqaaV51hzeiaa6DyWc98fzDiuPatzyy\n",
      "<ipfshttpclient2.client.base.ResponseBase: {'Name': 'QmYrWm8tZNwUMTbuDvB7vbXUQKLtrhGBJWjMxCHfjUbWTs', 'Hash': 'QmYrWm8tZNwUMTbuDvB7vbXUQKLtrhGBJWjMxCHfjUbWTs', 'Size': '34'}>\n",
      "b'\\xa2ddatalHello World!elinks\\x80'\n",
      "b'Hello World!'\n"
     ]
    }
   ],
   "source": [
    "\n",
    "print(cid_)  # prints the CID of the node\n",
    "\n",
    "# Your Merkle DAG\n",
    "dag = {\n",
    "    'data': 'Hello World!',\n",
    "    'links': [\n",
    "        # {'cid': 'bafyreihdwdcefihqacbuea4s2g3ktn7nol4n6ie3jprsg2jvh2hjcxzrna', 'name': 'child1', 'size': 13},\n",
    "        # {'cid': 'bafyreif447ug2lstf5abwxzzjnsrh3flmhfcdy2s2n5q4ckq57qj2uv2sm', 'name': 'child2', 'size': 13},\n",
    "    ],\n",
    "}\n",
    "\n",
    "# Serialize the DAG node using DAG-CBOR\n",
    "serialized = cbor2.dumps(dag)\n",
    "\n",
    "# Add the serialized DAG node to IPFS\n",
    "res = client.block.put(BytesIO(serialized))\n",
    "print(res)  # prints the CID of the Merkle root\n",
    "\n",
    "# Get the block from IPFS\n",
    "block = client.block.get(res['Key'])\n",
    "print(block)\n",
    "print(cid.make_cid(res['Key']))\n",
    "\n",
    "cidv0 = cid.make_cid(cid_)\n",
    "print(cidv0)\n",
    "cidv1 = cidv0.to_v1()\n",
    "print(cidv1)\n",
    "\n",
    "res1 = client.add_bytes(b'Hello World!')\n",
    "print(res1)\n",
    "\n",
    "res2 = client.add(BytesIO(serialized))\n",
    "print(res2)\n",
    "\n",
    "print(client.cat(res2['Hash']))\n",
    "print(client.cat(res1))"
   ]
  },
  {
   "cell_type": "code",
   "execution_count": null,
   "metadata": {},
   "outputs": [
    {
     "name": "stdout",
     "output_type": "stream",
     "text": [
      "zdpuAwniF6gSgt1pgdFydH3LPG5o4KcTzkRTY76dmnyHUTdAF\n"
     ]
    }
   ],
   "source": [
    "import hashlib\n",
    "import multihash\n",
    "import base58\n",
    "import cbor2\n",
    "from cid import make_cid\n",
    "\n",
    "# Your data\n",
    "data = b'Hello World!'\n",
    "\n",
    "dag = {\n",
    "    'data': data,\n",
    "    'links': [],\n",
    "}\n",
    "\n",
    "# Serialize the data using DAG-CBOR\n",
    "serialized = cbor2.dumps(dag)\n",
    "\n",
    "# Calculate the SHA-256 hash of the serialized data\n",
    "hash = hashlib.sha256(serialized).digest()\n",
    "\n",
    "# Create a multihash from the hash\n",
    "mh = multihash.encode(hash, 'sha2-256')\n",
    "\n",
    "# Create a CIDv1 from the multihash\n",
    "# 0x71 is the multicodec for DAG-CBOR\n",
    "cid_ = make_cid(1, 'dag-cbor', mh)\n",
    "\n",
    "print(cid_)  # prints the CID of the data"
   ]
  },
  {
   "cell_type": "code",
   "execution_count": null,
   "metadata": {},
   "outputs": [
    {
     "name": "stdout",
     "output_type": "stream",
     "text": [
      "315f5bdb76d078c43b8ac0064e4a0164612b1fce77c869345bfc94c75894edd3\n",
      "zdj7WYkdPhBE4a3b6sm9hKakvrDguPBFZiQcqLSdisNZxKznW\n",
      "QmWGeRAEgtsHW3ec7U4qW2CyVy7eA2mFRVbk1nb24jFyks\n"
     ]
    }
   ],
   "source": [
    "import hashlib\n",
    "\n",
    "# Node structure\n",
    "class Node:\n",
    "    def __init__(self, data):\n",
    "        self.data = data\n",
    "        self.children = []\n",
    "\n",
    "    def hash(self):\n",
    "        m = hashlib.sha256()\n",
    "        m.update(self.data.encode('utf-8'))\n",
    "        for child in self.children:\n",
    "            m.update(child.hash().encode('utf-8'))\n",
    "        return m.digest()\n",
    "    \n",
    "def hash_to_cid(hash: str):\n",
    "    mh = multihash.encode(hash, 'sha2-256')\n",
    "    cid_ = make_cid(1, 'dag-pb', mh)\n",
    "    return cid_\n",
    "# Create nodes\n",
    "node1 = Node('Hello, world!')\n",
    "# node2 = Node('node2')\n",
    "# node3 = Node('node3')\n",
    "# node4 = Node('node4')\n",
    "\n",
    "# Link nodes to create a DAG\n",
    "# node1.children.append(node2)\n",
    "# node1.children.append(node3)\n",
    "# node2.children.append(node4)\n",
    "# node3.children.append(node4)\n",
    "\n",
    "# Hash the DAG starting from the root\n",
    "print(node1.hash().hex())\n",
    "print(hash_to_cid(node1.hash()))\n",
    "print(client.add_str(node1.data))"
   ]
  },
  {
   "cell_type": "code",
   "execution_count": null,
   "metadata": {},
   "outputs": [
    {
     "name": "stdout",
     "output_type": "stream",
     "text": [
      "Hello World!\n",
      "7f83b1657ff1fc53b92dc18148a1d65dfc2d4b1fa3d677284addd200126d9069\n",
      "zdj7We1fKtuSjWA1zhER12jc7mydHG43F22AyC8eLrBaBF9Da\n",
      "b'{\\n  \"name\": \"John Doe\",\\n  \"age\": 30,\\n  \"email\": \"johndoe@example.com\",\\n  \"address\": {\\n    \"street\": \"123 Main St\",\\n    \"city\": \"Anytown\",\\n    \"state\": \"CA\",\\n    \"zip\": \"12345\"\\n  },\\n  \"phoneNumbers\": [\\n    {\\n      \"type\": \"home\",\\n      \"number\": \"555-555-1234\"\\n    },\\n    {\\n      \"type\": \"work\",\\n      \"number\": \"555-555-5678\"\\n    }\\n  ]\\n}\\n'\n",
      "4fa428703c7000d69f52ba39efeab01c868a747cea3fb5c958d4b2779b7083b2\n",
      "zdj7WannUB2kdHy7pr3iNhw9sxs7b1EZphdbnsiJkZfGZi8o3\n"
     ]
    }
   ],
   "source": [
    "def chunk_data(data, chunk_size):\n",
    "    return [data[i:i+chunk_size] for i in range(0, len(data), chunk_size)]\n",
    "\n",
    "# Your data\n",
    "data = 'Hello World!'\n",
    "\n",
    "# Chunk the data into pieces of size 256 kilobytes\n",
    "chunks = chunk_data(data, 256 * 1024)\n",
    "\n",
    "for chunk in chunks:\n",
    "    print(chunk)\n",
    "    print(hashlib.sha256(chunk.encode()).hexdigest())\n",
    "    print(hash_to_cid(hashlib.sha256(chunk.encode()).digest()))\n",
    "\n",
    "with open('concepts_cid_test.json', 'rb') as f:\n",
    "    data = f.read()\n",
    "\n",
    "# Chunk the data into pieces of size 256 kilobytes\n",
    "chunks = chunk_data(data, 256 * 1024)\n",
    "\n",
    "for chunk in chunks:\n",
    "    print(chunk)\n",
    "    print(hashlib.sha256(chunk).hexdigest())\n",
    "    print(hash_to_cid(hashlib.sha256(chunk).digest()))"
   ]
  },
  {
   "cell_type": "code",
   "execution_count": null,
   "metadata": {},
   "outputs": [
    {
     "name": "stdout",
     "output_type": "stream",
     "text": [
      "base58btc - cidv0 - dag-pb - (sha2-256 : 256 : 7F83B1657FF1FC53B92DC18148A1D65DFC2D4B1FA3D677284ADDD200126D9069)\n",
      "QmWvQxTqbG2Z9HPJgG57jjwR154cKhbtJenbyYTWkjgF3e\n",
      "base58btc - cidv1 - dag-pb - (sha2-256 : 256 : 7F83B1657FF1FC53B92DC18148A1D65DFC2D4B1FA3D677284ADDD200126D9069)\n",
      "12207f83b1657ff1fc53b92dc18148a1d65dfc2d4b1fa3d677284addd200126d9069\n",
      "QmWvQxTqbG2Z9HPJgG57jjwR154cKhbtJenbyYTWkjgF3e\n"
     ]
    }
   ],
   "source": [
    "from multiformats import CID, multibase, multicodec\n",
    "import multihash\n",
    "\n",
    "# Create a CIDv0\n",
    "cidv0 = CID(\n",
    "    base='base58btc',\n",
    "    version=0,\n",
    "    codec='dag-pb',\n",
    "    digest=multihash.encode(hashlib.sha256(b'Hello World!').digest(), 'sha2-256'),\n",
    ")\n",
    "\n",
    "print(cidv0.human_readable)\n",
    "print(cidv0)\n",
    "\n",
    "# Create a CIDv1\n",
    "cidv1 = CID(\n",
    "    base='base58btc',\n",
    "    version=1,\n",
    "    codec='dag-pb',\n",
    "    digest=multihash.encode(hashlib.sha256(b'Hello World!').digest(), 'sha2-256', 32),\n",
    ")\n",
    "\n",
    "print(cidv1.human_readable)\n",
    "\n",
    "mh = multihash.encode(hashlib.sha256(b'Hello World!').digest(), 'sha2-256')\n",
    "print(mh.hex())\n",
    "\n",
    "# mc_c = multicodec.wrap(multicodec.get(code=0x01), mh)\n",
    "# print(mc_c)\n",
    "\n",
    "# mc_2 = multicodec.wrap('dag-pb', mc_c)\n",
    "# print(mc_2)\n",
    "\n",
    "\n",
    "\n",
    "mb = multibase.encode(mh, 'base58btc')\n",
    "print(mb[1::])\n",
    "\n",
    "# res = client.cat(mb[1:])\n",
    "# print(res)\n",
    "\n"
   ]
  },
  {
   "cell_type": "code",
   "execution_count": null,
   "metadata": {},
   "outputs": [
    {
     "name": "stdout",
     "output_type": "stream",
     "text": [
      "zdj7We1fKtuSjWA1zhER12jc7mydHG43F22AyC8eLrBaBF9Da\n",
      "12207f83b1657ff1fc53b92dc18148a1d65dfc2d4b1fa3d677284addd200126d9069\n",
      "zdj7We1fKtuSjWA1zhER12jc7mydHG43F22AyC8eLrBaBF9Da\n",
      "QmWvQxTqbG2Z9HPJgG57jjwR154cKhbtJenbyYTWkjgF3e\n",
      "not found\n",
      "Qmf1rtki74jvYmGeqaaV51hzeiaa6DyWc98fzDiuPatzyy\n",
      "b'Hello World!'\n"
     ]
    }
   ],
   "source": [
    "\n",
    "# print(multibase.encode(base58.b58encode(multihash.encode(hashlib.sha256(b'Hello World!').digest(), 'sha2-256', 32), 'base58btc').decode()))\n",
    "print(cidv1)\n",
    "\n",
    "# get the cidv0\n",
    "cidv1_digest = cidv1.digest\n",
    "print(cidv1_digest.hex())\n",
    "\n",
    "created = cid.make_cid(str(cidv1))\n",
    "print(created)\n",
    "\n",
    "# get the cidv1\n",
    "s = str(created.to_v0())\n",
    "print(s)\n",
    "try:\n",
    "    print(client.cat(s))\n",
    "except:\n",
    "    print('not found')\n",
    "\n",
    "# Create a CIDv1\n",
    "res = client.add_str('Hello World!')\n",
    "print(res)\n",
    "\n",
    "find = client.cat(res)\n",
    "print(find)"
   ]
  },
  {
   "cell_type": "code",
   "execution_count": null,
   "metadata": {},
   "outputs": [
    {
     "name": "stdout",
     "output_type": "stream",
     "text": [
      "<__main__.Node object at 0x11789f8c0>\n",
      "{\n",
      "    \"data\": \"Hello World!\",\n",
      "    \"links\": []\n",
      "}\n",
      "b'\\x12 \\x07yZ\\x8b\\xf2\\x12<\\xb3\\x84\\t\\xfcS\\x80\\xbe\\x82\\x0e\\x12\\xa7hct[\\xf3um\\x07\\xed\\x06\\xb5\\xa9f\\xc0'\n",
      "zdj7WVw5FxkQoTca7bJ1rwri5c75oL45HswjBqD3jn2NZtARu\n",
      "zdj7WVw5FxkQoTca7bJ1rwri5c75oL45HswjBqD3jn2NZtARu\n",
      "<ipfshttpclient2.client.base.ResponseBase: {'Key': 'bafkreiahpfnix4qshszyicp4koal5aqocktwqy3ulpzxk3ih5udllklgya', 'Size': 47}>\n",
      "b'{\\n    \"data\": \"Hello World!\",\\n    \"links\": []\\n}'\n"
     ]
    }
   ],
   "source": [
    "from bases import make\n",
    "\n",
    "\n",
    "class Node:\n",
    "    def __init__(self, data):\n",
    "        self.data = data\n",
    "        self.links = []\n",
    "\n",
    "    def serialize_oopt1(self):\n",
    "        return {\n",
    "            'data': self.data.decode('utf-8'),\n",
    "            'links': [child.serialize_oopt1() for child in self.links],\n",
    "        }\n",
    "    \n",
    "    def serialize_(self):\n",
    "        return json.dumps(self.serialize_oopt1(), default=lambda o: o.__dict__, sort_keys=True, indent=4)\n",
    "\n",
    "def chunk_data(data, chunk_size):\n",
    "    return [data[i:i+chunk_size] for i in range(0, len(data), chunk_size)]\n",
    "\n",
    "def create_dag(data, chunk_size):\n",
    "    chunks = chunk_data(data, chunk_size)\n",
    "    nodes = [Node(chunk) for chunk in chunks]\n",
    "    for i in range(len(nodes) - 1):\n",
    "        nodes[i].children.append(nodes[i+1])\n",
    "    return nodes[0]  # Return the root of the DAG\n",
    "\n",
    "# Your binary data\n",
    "data = b'Hello World!'\n",
    "\n",
    "# Create a DAG with chunks of size 5\n",
    "root = create_dag(data, 256 * 1024)\n",
    "print(root)\n",
    "\n",
    "# serialized = root.serialize_oopt1()\n",
    "# print(serialized)\n",
    "\n",
    "# mh = multihash.encode(hashlib.sha256(serialized['data'].encode()), 'sha2-256')\n",
    "# print(mh)\n",
    "\n",
    "serialized_2 = root.serialize_()\n",
    "print(serialized_2)\n",
    "\n",
    "mh_2 = multihash.encode(hashlib.sha256(serialized_2.encode()).digest(), 'sha2-256')\n",
    "print(mh_2)\n",
    "\n",
    "cidv1_ = CID(\n",
    "    base='base58btc',\n",
    "    version=1,\n",
    "    codec='dag-pb',\n",
    "    digest=mh_2,\n",
    ")\n",
    "\n",
    "print(cidv1_)\n",
    "\n",
    "# added = client.block.put(io.BytesIO(serialized))\n",
    "# print(added)\n",
    "\n",
    "make_cid_ = make_cid(str(cidv1_))\n",
    "print(make_cid_)\n",
    "\n",
    "added = client.block.put(io.BytesIO(serialized_2.encode()))\n",
    "print(added)\n",
    "\n",
    "fetched = client.block.get(added['Key'])\n",
    "print(fetched)\n",
    "\n",
    "\n"
   ]
  },
  {
   "cell_type": "code",
   "execution_count": null,
   "metadata": {},
   "outputs": [
    {
     "name": "stdout",
     "output_type": "stream",
     "text": [
      "QmUJarh6GuMaNgpkvkC1CoRk8qDk6J39CopoYi9fVdSEiv\n",
      "Qmf1rtki74jvYmGeqaaV51hzeiaa6DyWc98fzDiuPatzyy\n",
      "{'QmNaPyRfA9pKxfoZ2obQh3nPF783dpHSRCHBECghKiyJky': {'Type': 'recursive'}, 'QmNrEidQrAbxx3FzxNt9E6qjEDZrtvzxUVh47BXm55Zuen': {'Type': 'recursive'}, 'QmPG7z9cvzPajnEEHqvEasLscjYmUXDWw9askfW5VNWY1T': {'Type': 'recursive'}, 'QmRf22bZar3WKmojipms22PkXH1MZGmvsqzQtuSvQE3uhm': {'Type': 'recursive'}, 'QmSg65W6sgWFDPDesEGwuMAtGPBZznaAB7fzJF914khbUW': {'Type': 'recursive'}, 'QmT4vBkDXGTiALx8Z2TEdsiyvL9cWU2AZeexjKoSnPtLX3': {'Type': 'recursive'}, 'QmTPXo5EBG99iEKxgL92UjcYKmkW7zUGy65b5b1mCFWS93': {'Type': 'recursive'}, 'QmTVfsj9xHGa6vZsoZLWoZRkKWdWjfEMBQahS7tXn4foqS': {'Type': 'recursive'}, 'QmUJarh6GuMaNgpkvkC1CoRk8qDk6J39CopoYi9fVdSEiv': {'Type': 'recursive'}, 'QmUNLLsPACCz1vLxQVkXqqLX5R1X345qqfHbsf67hvA3Nn': {'Type': 'recursive'}, 'QmUwNnn1CUqWFWYFFwWGLTywLrVu3V33kBXLyrXVG56mh4': {'Type': 'recursive'}, 'QmVSGXxECDigYrXAdc5kg6wgunts4rMdq7CdsGkt76wLFp': {'Type': 'recursive'}, 'QmVrf8MXjvt8LWs3breFwKvsCa2LQGMgwdrHuV1hjmVpjH': {'Type': 'recursive'}, 'QmWGeRAEgtsHW3ec7U4qW2CyVy7eA2mFRVbk1nb24jFyks': {'Type': 'recursive'}, 'QmWYgCstdspqdkMoLXfPe4RtyVgrWhU4btCcygQBYaohhU': {'Type': 'recursive'}, 'QmYrWm8tZNwUMTbuDvB7vbXUQKLtrhGBJWjMxCHfjUbWTs': {'Type': 'recursive'}, 'QmZ657Fen8gqyAoWBpknVw2YM6i3DDKfxyg6AR1eKf4UNu': {'Type': 'recursive'}, 'QmZTt7Nmea3JW68DRzNQjHqa5xQSYxjqiAGerE6KPsDSza': {'Type': 'recursive'}, 'QmZiP1X5goyP2eeHkAwxq663b5moSXti9sc2uvU8Q89kNn': {'Type': 'recursive'}, 'QmZpA1dDXSfsRCtdtURieiX1mTFvchhGWNBtPuV8gEuD2z': {'Type': 'recursive'}, 'QmaVJE6VVARmaYdCdYf2ydQ5AAXbEyby7ecxMfCv2qyGvE': {'Type': 'recursive'}, 'Qmadk71dyVUjeVeeJ5MBVuUkdEbsEBpNPbKXmVvBbVJaKg': {'Type': 'recursive'}, 'QmcRUKWJFe9dPt6i3cTA7FQpQccC9DxpLvt1K51GEXabfC': {'Type': 'recursive'}, 'Qmcn4oNFjSQiR42NcpRvdRLrt68nYbhtGQTJnq2fVtdpJx': {'Type': 'recursive'}, 'Qmd65CAgVn1gwiqVri5eTBcZLtk5Mq3eNXkhYKNfEtCfmH': {'Type': 'recursive'}, 'QmdiUEuYW4FakagHneZ4GEyVsdMYzyJZwxeSyWLXmjNvUk': {'Type': 'recursive'}, 'QmdnF4PT3nk2WCspDM62yxpQxBJeo8SSCDQWLfcCFCRBCk': {'Type': 'recursive'}, 'QmePw8gVcBMb8x6kAep6aMBAX23hCSk6iZW3i9VKkiFhu1': {'Type': 'recursive'}, 'QmeomffUNfmQy76CQGy9NdmqEnnHU9soCexBnGU3ezPHVH': {'Type': 'recursive'}, 'Qmf1rtki74jvYmGeqaaV51hzeiaa6DyWc98fzDiuPatzyy': {'Type': 'recursive'}}\n",
      "<ipfshttpclient2.client.base.ResponseBase: {'Key': 'bafkreicpuquhapdqadlj6uv2hhx6vma4q2fhi7hkh624swguwj3zw4edwi', 'Size': 338}>\n"
     ]
    }
   ],
   "source": [
    "import ipfs_api\n",
    "import ipfs_datatransmission\n",
    "import ipfs_cli\n",
    "\n",
    "# Connect to the local IPFS node\n",
    "client = ipfs_api.ipfshttpclient.connect(__IPFS_DEFAULT_URL__)\n",
    "\n",
    "# Read the file\n",
    "with open('concepts_cid_test.json', 'rb') as f:\n",
    "    data = f.read()\n",
    "\n",
    "# Calculate the tree\n",
    "prediction = ipfs_api.predict_cid('concepts_cid_test.json')\n",
    "print(prediction)\n",
    "\n",
    "predidction_2 = ipfs_api.predict_cid(io.BytesIO(b'Hello World!'))\n",
    "print(predidction_2)\n",
    "\n",
    "print(ipfs_api.pins())\n",
    "\n",
    "# # Calculate the root\n",
    "# root = ipfs_datatransmission.tree_to_root(tree)\n",
    "\n",
    "# Add the Merkle root to IPFS\n",
    "res = client.block.put(file='concepts_cid_test.json')\n",
    "\n",
    "print(res)  # prints the CID of the Merkle root\n"
   ]
  },
  {
   "cell_type": "code",
   "execution_count": null,
   "metadata": {},
   "outputs": [
    {
     "name": "stdout",
     "output_type": "stream",
     "text": [
      "zdj7We1fKtuSjWA1zhER12jc7mydHG43F22AyC8eLrBaBF9Da\n"
     ]
    }
   ],
   "source": [
    "from cid import CIDv1\n",
    "from multihash import multihash\n",
    "from multicodec import add_prefix\n",
    "import hashlib\n",
    "\n",
    "# Your data\n",
    "data = b'Hello World!'\n",
    "\n",
    "# Serialize the data (in this case, we just use the raw data)\n",
    "serialized_data = data\n",
    "\n",
    "# Hash the data\n",
    "hashed_data = hashlib.sha256(serialized_data).digest()\n",
    "\n",
    "# Create the multihash\n",
    "mh = multihash.encode(hashed_data, 'sha2-256')\n",
    "\n",
    "# Create the CID\n",
    "cid = CIDv1('dag-pb', mh)\n",
    "\n",
    "# Print the CID\n",
    "print(cid)\n",
    "\n"
   ]
  }
 ],
 "metadata": {
  "kernelspec": {
   "display_name": ".venv",
   "language": "python",
   "name": "python3"
  },
  "language_info": {
   "codemirror_mode": {
    "name": "ipython",
    "version": 3
   },
   "file_extension": ".py",
   "mimetype": "text/x-python",
   "name": "python",
   "nbconvert_exporter": "python",
   "pygments_lexer": "ipython3",
   "version": "3.12.0"
  }
 },
 "nbformat": 4,
 "nbformat_minor": 2
}
