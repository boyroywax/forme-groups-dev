{
 "cells": [
  {
   "cell_type": "markdown",
   "metadata": {},
   "source": [
    "# Groups Base Class\n",
    "Base Classes are the building blocks of more advanced Group Units"
   ]
  },
  {
   "cell_type": "markdown",
   "metadata": {},
   "source": [
    "## Import the project\n"
   ]
  },
  {
   "cell_type": "code",
   "execution_count": 11,
   "metadata": {},
   "outputs": [],
   "source": [
    "import sys\n",
    "\n",
    "sys.path.append(\"../../forme-groups-python-3-12/\")"
   ]
  },
  {
   "cell_type": "markdown",
   "metadata": {},
   "source": [
    "# I. Base Values"
   ]
  },
  {
   "cell_type": "markdown",
   "metadata": {},
   "source": [
    "## 1. Create a Base Value\n",
    "Base Values hold a single Value"
   ]
  },
  {
   "cell_type": "code",
   "execution_count": 12,
   "metadata": {},
   "outputs": [
    {
     "name": "stdout",
     "output_type": "stream",
     "text": [
      "Representation: BaseValue(value='hello world', type=str)\n",
      "String: hello world\n"
     ]
    }
   ],
   "source": [
    "from app.src.base.value import BaseValue\n",
    "\n",
    "value_hello = BaseValue(\"hello world\")\n",
    "print(f'Representation: {repr(value_hello)}')\n",
    "print(f'String: {value_hello}')"
   ]
  },
  {
   "cell_type": "markdown",
   "metadata": {},
   "source": [
    "Note: Base values are immutable.\n",
    "> Base values are frozen by default."
   ]
  },
  {
   "cell_type": "code",
   "execution_count": 13,
   "metadata": {},
   "outputs": [
    {
     "name": "stdout",
     "output_type": "stream",
     "text": [
      "Error: can't set attribute\n"
     ]
    }
   ],
   "source": [
    "from attrs.exceptions import FrozenInstanceError\n",
    "\n",
    "# Check that the value is frozen\n",
    "try:\n",
    "    value_hello.value = 123\n",
    "except FrozenInstanceError as e:\n",
    "    print(f'Error: {e.msg}')"
   ]
  },
  {
   "cell_type": "markdown",
   "metadata": {},
   "source": [
    "## 2. Base Value Types\n",
    "Base Values can be of the following types:\n",
    "- **Integer** - An integer value\n",
    "- **Floating Point** - A floating point value\n",
    "- **String** - A string value\n",
    "- **Boolean** - A boolean value\n",
    "- **Bytes** - A bytes value\n"
   ]
  },
  {
   "cell_type": "code",
   "execution_count": 14,
   "metadata": {},
   "outputs": [
    {
     "name": "stdout",
     "output_type": "stream",
     "text": [
      "BaseValue(value=1, type=int)\n",
      "BaseValue(value=1.0, type=float)\n",
      "BaseValue(value='string', type=str)\n",
      "BaseValue(value=True, type=bool)\n",
      "BaseValue(value=b'bytes', type=bytes)\n"
     ]
    }
   ],
   "source": [
    "value_integer = BaseValue(1)\n",
    "print(repr(value_integer))\n",
    "\n",
    "value_float = BaseValue(1.0)\n",
    "print(repr(value_float))\n",
    "\n",
    "value_string = BaseValue(\"string\")\n",
    "print(repr(value_string))\n",
    "\n",
    "value_bool = BaseValue(True)\n",
    "print(repr(value_bool))\n",
    "\n",
    "value_bytes = BaseValue(b\"bytes\")\n",
    "print(repr(value_bytes))"
   ]
  },
  {
   "cell_type": "markdown",
   "metadata": {},
   "source": [
    "### 2A. Forcing Base Values\n",
    "A static method **BaseValue._force_type()** is used to force a value to be a specific type of Base Value.\n",
    "\n",
    "Forced Base Values are returned as a new Base Value object."
   ]
  },
  {
   "cell_type": "code",
   "execution_count": 15,
   "metadata": {},
   "outputs": [
    {
     "name": "stdout",
     "output_type": "stream",
     "text": [
      "BaseValue(value='1', type=str)\n",
      "True\n"
     ]
    }
   ],
   "source": [
    "value_one_str = BaseValue._force_type(value_integer, \"str\")\n",
    "print(repr(value_one_str))\n",
    "print(isinstance(value_one_str.value, str))"
   ]
  },
  {
   "cell_type": "markdown",
   "metadata": {},
   "source": [
    "## 3. Hashing Base Values\n",
    "Base values can be hashed a number of ways:\n",
    "- **BaseValue._hash_repr()** - Hashes the value's representation, the type is included.\n",
    "- **BaseValue._hash_value()** - Hashes the represenation of the value only.\n",
    "- **BaseValue._hash_type()** - Hashes the type of the Base Value.\n",
    "- **BaseValue._hash()** - Hashes the _hash_value()_ and _hash_type()_ together in a Merkle Tree.\n"
   ]
  },
  {
   "cell_type": "code",
   "execution_count": 16,
   "metadata": {},
   "outputs": [
    {
     "name": "stdout",
     "output_type": "stream",
     "text": [
      "Representation of String Value: '1'\n",
      "Representation Hash: 04425a4401de7b66df18c39d7819a936aa9ea27f6e86c934709f38622458a022\n",
      "Value Hash: 9a7622b24ae73586214f453f44ed438ce5c63aa07c720c2ccc29ae5bd7ec5322\n",
      "Type Hash: 8c25cb3686462e9a86d2883c5688a22fe738b0bbc85f458d2d2b5f3f667c6d5a\n",
      "Hash: 5f2bd24796a0a300e493bedc55efff88c02ac4a611d7e98705f9ee6125e98d5f\n"
     ]
    }
   ],
   "source": [
    "# BaeValue(value=\"1\", type=str)\n",
    "print(f'Representation of String Value: {repr(value_one_str.value)}')\n",
    "print(f'Representation Hash: {value_one_str._hash_repr()}')  # 'BaeValue(value=\"1\", type=str)' hashed. \n",
    "print(f'Value Hash: {value_one_str._hash_value()}')  # '1' hashed.\n",
    "print(f'Type Hash: {value_one_str._hash_type()}')  # 'str' hashed.\n",
    "print(f'Hash: {value_one_str._hash()}')  # Value Hash and Type Hash catenated and hashed."
   ]
  },
  {
   "cell_type": "markdown",
   "metadata": {},
   "source": [
    "Why the different hashes for a single value?\n",
    "- **_hash_repr()_** is useful for checking if two Base Values representations are the same.\n",
    "- **_hash_value()_** is useful for checking if two Base Values are the same value.\n",
    "- **_hash_type()_** is useful for checking if two Base Values are the same type.\n",
    "- **_hash()_** is useful for checking if a Base Value has a specific value or type."
   ]
  },
  {
   "cell_type": "code",
   "execution_count": 17,
   "metadata": {},
   "outputs": [
    {
     "name": "stdout",
     "output_type": "stream",
     "text": [
      "Representation of Integer Value: 1\n",
      "Representation Hash: 5176a0db25fa8911b84f16b90d6c02d56d0c983122bc26fd137713aa0ede123f\n",
      "Value Hash: 6b86b273ff34fce19d6b804eff5a3f5747ada4eaa22f1d49c01e52ddb7875b4b\n",
      "Type Hash: 6da88c34ba124c41f977db66a4fc5c1a951708d285c81bb0d47c3206f4c27ca8\n",
      "Hash: 5b1980a185761ca08c85b7ae8d9d98176814e6161f86df9bbc0b5ae4311ba46a\n"
     ]
    }
   ],
   "source": [
    "# BaseValue(value=1, type=int)\n",
    "print(f'Representation of Integer Value: {repr(value_integer.value)}')\n",
    "print(f'Representation Hash: {value_integer._hash_repr()}')  # 'BaseValue(value=1, type=int)' hashed.\n",
    "print(f'Value Hash: {value_integer._hash_value()}')  # 1 hashed.\n",
    "print(f'Type Hash: {value_integer._hash_type()}')  # 'int' hashed.\n",
    "print(f'Hash: {value_integer._hash()}')  # Value Hash and Type Hash catenated and hashed."
   ]
  },
  {
   "cell_type": "markdown",
   "metadata": {},
   "source": [
    "A String (\"1\") will hash not hash the same as an Integer (1).\n",
    "> But they will hash the same if they are forced to the same type."
   ]
  },
  {
   "cell_type": "code",
   "execution_count": 18,
   "metadata": {},
   "outputs": [
    {
     "name": "stdout",
     "output_type": "stream",
     "text": [
      "Hashes are equal.\n"
     ]
    }
   ],
   "source": [
    "if BaseValue._force_type(value_integer, \"str\")._hash() == value_one_str._hash():\n",
    "    print(\"Hashes are equal.\")"
   ]
  },
  {
   "cell_type": "markdown",
   "metadata": {},
   "source": [
    "## 4. Verifying Base Value _hash() Function\n",
    "Some basic tests to verify the seperate hashes are working as expected:"
   ]
  },
  {
   "cell_type": "code",
   "execution_count": 19,
   "metadata": {},
   "outputs": [
    {
     "name": "stdout",
     "output_type": "stream",
     "text": [
      "Value One value (1) hash: 6b86b273ff34fce19d6b804eff5a3f5747ada4eaa22f1d49c01e52ddb7875b4b\n",
      "Value Two value (2) hash: d4735e3a265e16eee03f59718b9b5d03019c07d8b6c51f90da3a666eec13ab35\n",
      "Hashed Values are not equal. 👍\n",
      "Value One type (int) hash: 6da88c34ba124c41f977db66a4fc5c1a951708d285c81bb0d47c3206f4c27ca8\n",
      "Value Two type (int) hash: 6da88c34ba124c41f977db66a4fc5c1a951708d285c81bb0d47c3206f4c27ca8\n",
      "Hashed Types are equal. 👍\n",
      "Value One hash: 5b1980a185761ca08c85b7ae8d9d98176814e6161f86df9bbc0b5ae4311ba46a\n",
      "Value Two hash: ea1544a0ed9f707610be31eace6f6e80ae7acbd5b8f7fb3498bd3be35490eadd\n",
      "Hashes are not equal. 👍\n"
     ]
    }
   ],
   "source": [
    "value_one = BaseValue(1)  # BaseValue(value=1, type=int)\n",
    "value_two = BaseValue(2)  # BaseValue(value=2, type=int)\n",
    "\n",
    "print(f'Value One value (1) hash: {value_one._hash_value()}')  # 1 hashed.\n",
    "print(f'Value Two value (2) hash: {value_two._hash_value()}')  # 2 hashed.\n",
    "\n",
    "if value_one._hash_value() != value_two._hash_value():  # 1 hashed != 2 hashed\n",
    "    print(\"Hashed Values are not equal. 👍\")\n",
    "\n",
    "print(f'Value One type (int) hash: {value_one._hash_type()}')  # 'int' hashed.\n",
    "print(f'Value Two type (int) hash: {value_two._hash_type()}')  # 'int' hashed.\n",
    "\n",
    "if value_one._hash_type() == value_two._hash_type():  # 'int' hashed == 'int' hashed\n",
    "    print(\"Hashed Types are equal. 👍\")\n",
    "\n",
    "print(f'Value One hash: {value_one._hash()}')  # Value Hash and Type Hash catenated and hashed.\n",
    "print(f'Value Two hash: {value_two._hash()}')  # Value Hash and Type Hash catenated and hashed.\n",
    "\n",
    "if value_one._hash().root() != value_two._hash().root():  \n",
    "    print(\"Hashes are not equal. 👍\")"
   ]
  },
  {
   "cell_type": "markdown",
   "metadata": {},
   "source": [
    "Running the Base Values _verify_hash*() functions, use:\n",
    "- **_verify_hash()** to verify that two Base Values are the same value and type.\n",
    "- **_verify_hash_value()** to verify that two Bases Values are the same value.\n",
    "- **_verify_hash_type()** to verify that two Bases Values are the same type."
   ]
  },
  {
   "cell_type": "code",
   "execution_count": 20,
   "metadata": {},
   "outputs": [
    {
     "name": "stdout",
     "output_type": "stream",
     "text": [
      "Hashes are not equal. 👍\n",
      "Hashed Values are not equal. 👍\n",
      "Hashed Types are equal. 👍\n"
     ]
    }
   ],
   "source": [
    "value_a = BaseValue(\"a\")  # BaseValue(value=\"a\", type=str)\n",
    "value_b = BaseValue(\"b\")  # BaseValue(value=\"b\", type=str)\n",
    "\n",
    "if not value_a._verify_hash(value_b._hash()):\n",
    "    print(\"Hashes are not equal. 👍\")\n",
    "\n",
    "if not value_a._verify_hash_value(value_b._hash_value()):\n",
    "    print(\"Hashed Values are not equal. 👍\")\n",
    "\n",
    "if value_a._verify_hash_type(value_b._hash_type()):\n",
    "    print(\"Hashed Types are equal. 👍\")"
   ]
  }
 ],
 "metadata": {
  "kernelspec": {
   "display_name": ".venv",
   "language": "python",
   "name": "python3"
  },
  "language_info": {
   "codemirror_mode": {
    "name": "ipython",
    "version": 3
   },
   "file_extension": ".py",
   "mimetype": "text/x-python",
   "name": "python",
   "nbconvert_exporter": "python",
   "pygments_lexer": "ipython3",
   "version": "3.12.0rc3"
  }
 },
 "nbformat": 4,
 "nbformat_minor": 2
}
