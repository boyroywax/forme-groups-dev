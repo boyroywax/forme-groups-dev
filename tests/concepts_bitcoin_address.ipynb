{
 "cells": [
  {
   "cell_type": "markdown",
   "metadata": {},
   "source": [
    "# Bitcoin Address Concepts"
   ]
  },
  {
   "cell_type": "markdown",
   "metadata": {},
   "source": [
    "## Generate the bitcoin address\n",
    "\n",
    "### Step: 1. SHA-256"
   ]
  },
  {
   "cell_type": "code",
   "execution_count": 1,
   "metadata": {},
   "outputs": [
    {
     "ename": "NameError",
     "evalue": "name 'ecdsa' is not defined",
     "output_type": "error",
     "traceback": [
      "\u001b[0;31m---------------------------------------------------------------------------\u001b[0m",
      "\u001b[0;31mNameError\u001b[0m                                 Traceback (most recent call last)",
      "\u001b[1;32m/Users/j/Documents/Forme/code/forme-groups-python-3-12/tests/concepts_bitcoin_address.ipynb Cell 3\u001b[0m line \u001b[0;36m1\n\u001b[0;32m----> <a href='vscode-notebook-cell:/Users/j/Documents/Forme/code/forme-groups-python-3-12/tests/concepts_bitcoin_address.ipynb#W4sZmlsZQ%3D%3D?line=0'>1</a>\u001b[0m \u001b[39mdef\u001b[39;00m \u001b[39msha256_hash_public_key\u001b[39m(public_key: ecdsa\u001b[39m.\u001b[39mVerifyingKey) \u001b[39m-\u001b[39m\u001b[39m>\u001b[39m \u001b[39mstr\u001b[39m:\n\u001b[1;32m      <a href='vscode-notebook-cell:/Users/j/Documents/Forme/code/forme-groups-python-3-12/tests/concepts_bitcoin_address.ipynb#W4sZmlsZQ%3D%3D?line=1'>2</a>\u001b[0m     \u001b[39mreturn\u001b[39;00m binascii\u001b[39m.\u001b[39mhexlify(hashlib\u001b[39m.\u001b[39msha256(public_key\u001b[39m.\u001b[39mto_string(\u001b[39m\"\u001b[39m\u001b[39muncompressed\u001b[39m\u001b[39m\"\u001b[39m))\u001b[39m.\u001b[39mdigest())\u001b[39m.\u001b[39mdecode(\u001b[39m\"\u001b[39m\u001b[39mutf-8\u001b[39m\u001b[39m\"\u001b[39m)\n\u001b[1;32m      <a href='vscode-notebook-cell:/Users/j/Documents/Forme/code/forme-groups-python-3-12/tests/concepts_bitcoin_address.ipynb#W4sZmlsZQ%3D%3D?line=3'>4</a>\u001b[0m loaded_public_key: ecdsa\u001b[39m.\u001b[39mVerifyingKey \u001b[39m=\u001b[39m load_public_key(pre_public_key)\n",
      "\u001b[0;31mNameError\u001b[0m: name 'ecdsa' is not defined"
     ]
    }
   ],
   "source": [
    "import ecdsa\n",
    "import hashlib\n",
    "import binascii\n",
    "\n",
    "def sha256_hash_public_key(public_key: ecdsa.VerifyingKey) -> str:\n",
    "    return binascii.hexlify(hashlib.sha256(public_key.to_string(\"uncompressed\")).digest()).decode(\"utf-8\")\n",
    "\n",
    "loaded_public_key: ecdsa.VerifyingKey = load_public_key(pre_public_key)\n",
    "print(\"SHA256 hash from public key: \", sha256_hash_public_key(loaded_public_key))\n",
    "\n",
    "# Generate a bitcoin address from a private key\n",
    "def sha256_hash_private_key(private_key: ecdsa.SigningKey) -> str:\n",
    "    return sha256_hash_public_key(generate_public_key(private_key))\n",
    "\n",
    "loaded_private_key = load_private_key(pre_private_key)\n",
    "sha256_hash = sha256_hash_private_key(loaded_private_key)\n",
    "print(\"SHA256 hash from private key: \", sha256_hash)"
   ]
  },
  {
   "cell_type": "markdown",
   "metadata": {},
   "source": [
    "### Step 2. RIPEMD-160"
   ]
  },
  {
   "cell_type": "code",
   "execution_count": null,
   "metadata": {},
   "outputs": [
    {
     "name": "stdout",
     "output_type": "stream",
     "text": [
      "Ripemd160 hash:  5acee0cdc3f682ef1aaf5d0b387f32270ac4e408\n"
     ]
    }
   ],
   "source": [
    "# Find the ripemd160 hash\n",
    "def ripemd_160_hash(sha256_hash: str) -> str:\n",
    "    return hashlib.new(\"ripemd160\", bytes.fromhex(sha256_hash)).hexdigest()\n",
    "\n",
    "ripemd_160_hash_ = ripemd_160_hash(sha256_hash)\n",
    "print(\"Ripemd160 hash: \", ripemd_160_hash_)"
   ]
  },
  {
   "cell_type": "markdown",
   "metadata": {},
   "source": [
    "### Step 3. Prefix with version byte\n",
    "\n",
    "0x00 for Main Network"
   ]
  },
  {
   "cell_type": "code",
   "execution_count": null,
   "metadata": {},
   "outputs": [
    {
     "name": "stdout",
     "output_type": "stream",
     "text": [
      "Version byte:  005acee0cdc3f682ef1aaf5d0b387f32270ac4e408\n"
     ]
    }
   ],
   "source": [
    " # Add the version byte\n",
    "def add_version_byte(ripemd_160_hash: str) -> str:\n",
    "    return \"00\" + ripemd_160_hash\n",
    "\n",
    "version_byte = add_version_byte(ripemd_160_hash_)\n",
    "print(\"Version byte: \", version_byte)"
   ]
  },
  {
   "cell_type": "markdown",
   "metadata": {},
   "source": [
    "### Step 4. Append Checksum onto the Extended RIPEMD-160 Result\n",
    "\n",
    "This step produces the abinary bitcoin address"
   ]
  },
  {
   "cell_type": "code",
   "execution_count": null,
   "metadata": {},
   "outputs": [
    {
     "name": "stdout",
     "output_type": "stream",
     "text": [
      "Checksum:  b21b1f86\n",
      "Checksum version byte:  005acee0cdc3f682ef1aaf5d0b387f32270ac4e408b21b1f86\n"
     ]
    }
   ],
   "source": [
    "# Generate a checksum\n",
    "def generate_checksum(version_byte: str) -> str:\n",
    "    return hashlib.sha256(hashlib.sha256(bytes.fromhex(version_byte)).digest()).hexdigest()[:8]\n",
    "\n",
    "checksum = generate_checksum(version_byte)\n",
    "print(\"Checksum: \", checksum)\n",
    "\n",
    "# Add the checksum to the version byte\n",
    "def add_checksum(version_byte: str, checksum: str) -> str:\n",
    "    return version_byte + checksum\n",
    "\n",
    "checksum_version_byte = add_checksum(version_byte, checksum)\n",
    "print(\"Checksum version byte: \", checksum_version_byte)"
   ]
  },
  {
   "cell_type": "markdown",
   "metadata": {},
   "source": [
    "### Step 5. Base58Check the binary address"
   ]
  },
  {
   "cell_type": "code",
   "execution_count": null,
   "metadata": {},
   "outputs": [
    {
     "name": "stdout",
     "output_type": "stream",
     "text": [
      "Base58 string:  19H9eQmquVivoCEyVBznuHbYKMcBKdyJkd\n",
      "Base58 string with lib:  19H9eQmquVivoCEyVBznuHbYKMcBKdyJkd\n"
     ]
    }
   ],
   "source": [
    "import base58\n",
    "\n",
    "# Convert the checksum version byte to base58\n",
    "def convert_to_base58(checksum_version_byte: str) -> str:\n",
    "    alphabet = \"123456789ABCDEFGHJKLMNPQRSTUVWXYZabcdefghijkmnopqrstuvwxyz\"\n",
    "    base58_string = \"\"\n",
    "    value = int(checksum_version_byte, 16)\n",
    "    while value > 0:\n",
    "        value, mod = divmod(value, 58)\n",
    "        base58_string = alphabet[mod] + base58_string\n",
    "    return '1' + base58_string\n",
    "\n",
    "def convert_to_base58_with_lib(checksum_version_byte: str) -> str:\n",
    "    return base58.b58encode(bytes.fromhex(checksum_version_byte)).decode(\"utf-8\")\n",
    "\n",
    "base58_string = convert_to_base58(checksum_version_byte)\n",
    "print(\"Base58 string: \", base58_string)\n",
    "\n",
    "base58_string_with_lib = convert_to_base58_with_lib(checksum_version_byte)\n",
    "print(\"Base58 string with lib: \", base58_string_with_lib)"
   ]
  },
  {
   "cell_type": "markdown",
   "metadata": {},
   "source": [
    "### Step 6. combine the steps together"
   ]
  },
  {
   "cell_type": "code",
   "execution_count": null,
   "metadata": {},
   "outputs": [
    {
     "name": "stdout",
     "output_type": "stream",
     "text": [
      "Bitcoin address:  19H9eQmquVivoCEyVBznuHbYKMcBKdyJkd\n"
     ]
    }
   ],
   "source": [
    "def generate_bitcoin_address(private_key: ecdsa.SigningKey) -> str:\n",
    "    sha256_hash = sha256_hash_private_key(private_key)\n",
    "    ripemd_160_hash_ = ripemd_160_hash(sha256_hash)\n",
    "    version_byte = add_version_byte(ripemd_160_hash_)\n",
    "    checksum = generate_checksum(version_byte)\n",
    "    checksum_version_byte = add_checksum(version_byte, checksum)\n",
    "    base58_string = convert_to_base58(checksum_version_byte)\n",
    "    return base58_string\n",
    "\n",
    "loaded_private_key = load_private_key(pre_private_key)\n",
    "bitcoin_address = generate_bitcoin_address(loaded_private_key)\n",
    "print(\"Bitcoin address: \", bitcoin_address)"
   ]
  },
  {
   "cell_type": "code",
   "execution_count": null,
   "metadata": {},
   "outputs": [
    {
     "name": "stdout",
     "output_type": "stream",
     "text": [
      "Bitcoin address from public key:  19H9eQmquVivoCEyVBznuHbYKMcBKdyJkd\n"
     ]
    }
   ],
   "source": [
    "# Generate a bitcoin address from a public key\n",
    "def generate_bitcoin_address_from_public_key(public_key: ecdsa.VerifyingKey) -> str:\n",
    "    sha256_hash = sha256_hash_public_key(public_key)\n",
    "    ripemd_160_hash_ = ripemd_160_hash(sha256_hash)\n",
    "    version_byte = add_version_byte(ripemd_160_hash_)\n",
    "    checksum = generate_checksum(version_byte)\n",
    "    checksum_version_byte = add_checksum(version_byte, checksum)\n",
    "    base58_string = convert_to_base58(checksum_version_byte)\n",
    "    return base58_string\n",
    "\n",
    "loaded_public_key = load_public_key(pre_public_key)\n",
    "bitcoin_address = generate_bitcoin_address_from_public_key(loaded_public_key)\n",
    "print(\"Bitcoin address from public key: \", bitcoin_address)"
   ]
  }
 ],
 "metadata": {
  "kernelspec": {
   "display_name": ".venv",
   "language": "python",
   "name": "python3"
  },
  "language_info": {
   "codemirror_mode": {
    "name": "ipython",
    "version": 3
   },
   "file_extension": ".py",
   "mimetype": "text/x-python",
   "name": "python",
   "nbconvert_exporter": "python",
   "pygments_lexer": "ipython3",
   "version": "3.12.0"
  }
 },
 "nbformat": 4,
 "nbformat_minor": 2
}
