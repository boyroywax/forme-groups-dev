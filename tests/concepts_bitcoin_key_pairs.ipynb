{
 "cells": [
  {
   "cell_type": "markdown",
   "metadata": {},
   "source": [
    "# Bitcoin Key Pairs"
   ]
  },
  {
   "cell_type": "markdown",
   "metadata": {},
   "source": [
    "## Generate a Bitcoin key pair"
   ]
  },
  {
   "cell_type": "code",
   "execution_count": 1,
   "metadata": {},
   "outputs": [
    {
     "name": "stdout",
     "output_type": "stream",
     "text": [
      "Private key bytse:  b'M\\x81\\xcd\\xd5\\x9fZ\\x15\\xae\\x8d\\x8fkA\\xbc\\xf5NpN(1\\x8dg{\\x905j\\xe9i\\xe2\\x8f\\x10\\x8a9'\n",
      "Private key:  4d81cdd59f5a15ae8d8f6b41bcf54e704e28318d677b90356ae969e28f108a39\n",
      "Public key raw:  5ceeec58bc81cad1b8ad052474aab73bbc154a4a83fdf635a340316f7096e9590b4e1c598a088270cefc793d891ef1e262434ba9b0fea07149e582974bdab49d\n",
      "Public key Uncompressed:  045ceeec58bc81cad1b8ad052474aab73bbc154a4a83fdf635a340316f7096e9590b4e1c598a088270cefc793d891ef1e262434ba9b0fea07149e582974bdab49d\n",
      "Public key Compressed:  035ceeec58bc81cad1b8ad052474aab73bbc154a4a83fdf635a340316f7096e959\n"
     ]
    }
   ],
   "source": [
    "import ecdsa\n",
    "import binascii\n",
    "import hashlib\n",
    "\n",
    "# Generate a private key\n",
    "def generate_private_key() -> ecdsa.SigningKey:\n",
    "    return ecdsa.SigningKey.generate(curve=ecdsa.SECP256k1, hashfunc=hashlib.sha256)\n",
    "\n",
    "# Generate a public key\n",
    "def generate_public_key(private_key: ecdsa.SigningKey) -> ecdsa.VerifyingKey:\n",
    "    return private_key.get_verifying_key()\n",
    "\n",
    "# Generate a compressed public key\n",
    "def generate_compressed_public_key(private_key: ecdsa.SigningKey) -> ecdsa.VerifyingKey:\n",
    "    return private_key.get_verifying_key().to_string(\"compressed\")\n",
    "\n",
    "# Generate a uncompressed public key\n",
    "def generate_uncompressed_public_key(private_key: ecdsa.SigningKey) -> ecdsa.VerifyingKey:\n",
    "    return private_key.get_verifying_key().to_string(\"uncompressed\")\n",
    "\n",
    "def hexlify_private_key(private_key: ecdsa.SigningKey) -> str:\n",
    "    return binascii.hexlify(private_key.to_string()).decode(\"utf-8\")\n",
    "\n",
    "def hexlify_public_key(public_key: ecdsa.VerifyingKey, encoding: str = \"uncompressed\") -> str:\n",
    "    return binascii.hexlify(public_key.to_string(encoding)).decode(\"utf-8\")\n",
    "\n",
    "private_key = generate_private_key()\n",
    "print(\"Private key bytse: \", private_key.to_string())\n",
    "print(\"Private key: \", hexlify_private_key(private_key))\n",
    "\n",
    "public_key = generate_public_key(private_key)\n",
    "print(\"Public key raw: \", hexlify_public_key(public_key, encoding='raw'))\n",
    "print(\"Public key Uncompressed: \", hexlify_public_key(public_key, encoding='uncompressed'))\n",
    "print(\"Public key Compressed: \", hexlify_public_key(public_key, encoding='compressed'))"
   ]
  },
  {
   "cell_type": "markdown",
   "metadata": {},
   "source": [
    "## Load a private key"
   ]
  },
  {
   "cell_type": "code",
   "execution_count": 2,
   "metadata": {},
   "outputs": [
    {
     "name": "stdout",
     "output_type": "stream",
     "text": [
      "Private key:  41acfff5cb7cac7d947286ebcc44d3a6c10bca38c43ef88b22060fa1426c50ad\n",
      "Public key Raw:  5ceeec58bc81cad1b8ad052474aab73bbc154a4a83fdf635a340316f7096e9590b4e1c598a088270cefc793d891ef1e262434ba9b0fea07149e582974bdab49d\n",
      "Public key Uncompressed:  045ceeec58bc81cad1b8ad052474aab73bbc154a4a83fdf635a340316f7096e9590b4e1c598a088270cefc793d891ef1e262434ba9b0fea07149e582974bdab49d\n",
      "Public key Compressed:  035ceeec58bc81cad1b8ad052474aab73bbc154a4a83fdf635a340316f7096e959\n"
     ]
    }
   ],
   "source": [
    "# Pre Calculated Keys\n",
    "pre_private_key = '41acfff5cb7cac7d947286ebcc44d3a6c10bca38c43ef88b22060fa1426c50ad'\n",
    "pre_public_key = '02326243d72726f580e0cfcc9870e6b705527aa3622624eb7f4b0170882a2dae50'\n",
    "\n",
    "# Load a private key\n",
    "def load_private_key(private_key: str) -> ecdsa.SigningKey:\n",
    "    return ecdsa.SigningKey.from_string(bytes.fromhex(private_key), curve=ecdsa.SECP256k1, hashfunc=hashlib.sha256)\n",
    "\n",
    "loaded_private_key: ecdsa.SigningKey = load_private_key(pre_private_key)\n",
    "print(\"Private key: \", hexlify_private_key(loaded_private_key))\n",
    "\n",
    "assert hexlify_private_key(loaded_private_key) == pre_private_key\n",
    "\n",
    "generated_public_key_from_private_key = generate_public_key(private_key)\n",
    "print(\"Public key Raw: \", hexlify_public_key(generated_public_key_from_private_key, encoding='raw'))\n",
    "print(\"Public key Uncompressed: \", hexlify_public_key(generated_public_key_from_private_key, encoding=\"uncompressed\"))\n",
    "print(\"Public key Compressed: \", hexlify_public_key(generated_public_key_from_private_key, encoding=\"compressed\"))\n"
   ]
  },
  {
   "cell_type": "markdown",
   "metadata": {},
   "source": [
    "## Load a public key"
   ]
  },
  {
   "cell_type": "code",
   "execution_count": 3,
   "metadata": {},
   "outputs": [
    {
     "name": "stdout",
     "output_type": "stream",
     "text": [
      "Public key Raw:  326243d72726f580e0cfcc9870e6b705527aa3622624eb7f4b0170882a2dae50d2ba41eba0716806a86639803d4c3684c9e95264b38c5a14139cd0c85f6449a6\n",
      "Public key Uncompressed:  04326243d72726f580e0cfcc9870e6b705527aa3622624eb7f4b0170882a2dae50d2ba41eba0716806a86639803d4c3684c9e95264b38c5a14139cd0c85f6449a6\n",
      "Public key Compressed:  02326243d72726f580e0cfcc9870e6b705527aa3622624eb7f4b0170882a2dae50\n"
     ]
    }
   ],
   "source": [
    "def load_public_key(public_key: str) -> ecdsa.VerifyingKey:\n",
    "    return ecdsa.VerifyingKey.from_string(bytes.fromhex(public_key), curve=ecdsa.SECP256k1, hashfunc=hashlib.sha256)\n",
    "\n",
    "loaded_public_key: ecdsa.VerifyingKey = load_public_key(pre_public_key)\n",
    "print(\"Public key Raw: \", hexlify_public_key(loaded_public_key, encoding='raw'))\n",
    "print(\"Public key Uncompressed: \", hexlify_public_key(loaded_public_key, encoding=\"uncompressed\"))\n",
    "print(\"Public key Compressed: \", hexlify_public_key(loaded_public_key, encoding=\"compressed\"))"
   ]
  },
  {
   "cell_type": "markdown",
   "metadata": {},
   "source": [
    "## Generate the bitcoin address\n",
    "\n",
    "### Step: 1. SHA-256"
   ]
  },
  {
   "cell_type": "code",
   "execution_count": 4,
   "metadata": {},
   "outputs": [
    {
     "name": "stdout",
     "output_type": "stream",
     "text": [
      "Bitcoin address from public key:  0784a459a2ca0dadbdd3f26d3d775b32bede696745194b6b38c7a970ad304a32\n",
      "Bitcoin address from private key:  0784a459a2ca0dadbdd3f26d3d775b32bede696745194b6b38c7a970ad304a32\n"
     ]
    }
   ],
   "source": [
    "# Generate a bitcoin public key\n",
    "def generate_bitcoin_public_key(public_key: ecdsa.VerifyingKey) -> str:\n",
    "    return binascii.hexlify(hashlib.sha256(public_key.to_string(\"uncompressed\")).digest()).decode(\"utf-8\")\n",
    "\n",
    "loaded_public_key: ecdsa.VerifyingKey = load_public_key(pre_public_key)\n",
    "print(\"Bitcoin address from public key: \", generate_bitcoin_public_key(loaded_public_key))\n",
    "\n",
    "# Generate a bitcoin address from a private key\n",
    "def generate_bitcoin_address_from_private_key(private_key: ecdsa.SigningKey) -> str:\n",
    "    return generate_bitcoin_public_key(generate_public_key(private_key))\n",
    "\n",
    "loaded_private_key = load_private_key(pre_private_key)\n",
    "generated_bitcoin_public_key = generate_bitcoin_address_from_private_key(loaded_private_key)\n",
    "print(\"Bitcoin address from private key: \", generated_bitcoin_public_key)"
   ]
  },
  {
   "cell_type": "markdown",
   "metadata": {},
   "source": [
    "### Step 2. RIPEMD-160"
   ]
  },
  {
   "cell_type": "code",
   "execution_count": null,
   "metadata": {},
   "outputs": [],
   "source": [
    "# Generate a bitcoin address from a public key\n",
    "def generate_bitcoin_address_from_public_key(public_key: ecdsa.VerifyingKey) -> str:\n",
    "    "
   ]
  },
  {
   "cell_type": "markdown",
   "metadata": {},
   "source": [
    "## Create a keypair using python-bitcoinutils"
   ]
  },
  {
   "cell_type": "code",
   "execution_count": 5,
   "metadata": {},
   "outputs": [
    {
     "ename": "TypeError",
     "evalue": "pubkey must be bytes instance; got <class 'ecdsa.keys.VerifyingKey'>",
     "output_type": "error",
     "traceback": [
      "\u001b[0;31m---------------------------------------------------------------------------\u001b[0m",
      "\u001b[0;31mTypeError\u001b[0m                                 Traceback (most recent call last)",
      "\u001b[1;32m/Users/j/Documents/Forme/code/forme-groups-python-3-12/tests/concepts_bitcoin_key_pairs.ipynb Cell 11\u001b[0m line \u001b[0;36m9\n\u001b[1;32m      <a href='vscode-notebook-cell:/Users/j/Documents/Forme/code/forme-groups-python-3-12/tests/concepts_bitcoin_key_pairs.ipynb#X10sZmlsZQ%3D%3D?line=5'>6</a>\u001b[0m     \u001b[39mreturn\u001b[39;00m \u001b[39mstr\u001b[39m(P2PKHBitcoinAddress\u001b[39m.\u001b[39mfrom_pubkey(generate_public_key(private_key)))\n\u001b[1;32m      <a href='vscode-notebook-cell:/Users/j/Documents/Forme/code/forme-groups-python-3-12/tests/concepts_bitcoin_key_pairs.ipynb#X10sZmlsZQ%3D%3D?line=7'>8</a>\u001b[0m loaded_private_key \u001b[39m=\u001b[39m load_private_key(pre_private_key)\n\u001b[0;32m----> <a href='vscode-notebook-cell:/Users/j/Documents/Forme/code/forme-groups-python-3-12/tests/concepts_bitcoin_key_pairs.ipynb#X10sZmlsZQ%3D%3D?line=8'>9</a>\u001b[0m bitcoin_address \u001b[39m=\u001b[39m generate_bitcoin_address_from_private_key(loaded_private_key)\n\u001b[1;32m     <a href='vscode-notebook-cell:/Users/j/Documents/Forme/code/forme-groups-python-3-12/tests/concepts_bitcoin_key_pairs.ipynb#X10sZmlsZQ%3D%3D?line=9'>10</a>\u001b[0m \u001b[39mprint\u001b[39m(\u001b[39m\"\u001b[39m\u001b[39mBitcoin address from private key: \u001b[39m\u001b[39m\"\u001b[39m, bitcoin_address)\n",
      "\u001b[1;32m/Users/j/Documents/Forme/code/forme-groups-python-3-12/tests/concepts_bitcoin_key_pairs.ipynb Cell 11\u001b[0m line \u001b[0;36m6\n\u001b[1;32m      <a href='vscode-notebook-cell:/Users/j/Documents/Forme/code/forme-groups-python-3-12/tests/concepts_bitcoin_key_pairs.ipynb#X10sZmlsZQ%3D%3D?line=4'>5</a>\u001b[0m \u001b[39mdef\u001b[39;00m \u001b[39mgenerate_bitcoin_address_from_private_key\u001b[39m(private_key: ecdsa\u001b[39m.\u001b[39mSigningKey) \u001b[39m-\u001b[39m\u001b[39m>\u001b[39m \u001b[39mstr\u001b[39m:\n\u001b[0;32m----> <a href='vscode-notebook-cell:/Users/j/Documents/Forme/code/forme-groups-python-3-12/tests/concepts_bitcoin_key_pairs.ipynb#X10sZmlsZQ%3D%3D?line=5'>6</a>\u001b[0m     \u001b[39mreturn\u001b[39;00m \u001b[39mstr\u001b[39m(P2PKHBitcoinAddress\u001b[39m.\u001b[39;49mfrom_pubkey(generate_public_key(private_key)))\n",
      "File \u001b[0;32m~/Documents/Forme/code/forme-groups-python-3-12/.venv/lib/python3.12/site-packages/bitcoin/wallet.py:207\u001b[0m, in \u001b[0;36mP2PKHBitcoinAddress.from_pubkey\u001b[0;34m(cls, pubkey, accept_invalid)\u001b[0m\n\u001b[1;32m    199\u001b[0m \u001b[39m\u001b[39m\u001b[39m\"\"\"Create a P2PKH bitcoin address from a pubkey\u001b[39;00m\n\u001b[1;32m    200\u001b[0m \n\u001b[1;32m    201\u001b[0m \u001b[39mRaises CBitcoinAddressError if pubkey is invalid, unless accept_invalid\u001b[39;00m\n\u001b[0;32m   (...)\u001b[0m\n\u001b[1;32m    204\u001b[0m \u001b[39mThe pubkey must be a bytes instance; CECKey instances are not accepted.\u001b[39;00m\n\u001b[1;32m    205\u001b[0m \u001b[39m\"\"\"\u001b[39;00m\n\u001b[1;32m    206\u001b[0m \u001b[39mif\u001b[39;00m \u001b[39mnot\u001b[39;00m \u001b[39misinstance\u001b[39m(pubkey, \u001b[39mbytes\u001b[39m):\n\u001b[0;32m--> 207\u001b[0m     \u001b[39mraise\u001b[39;00m \u001b[39mTypeError\u001b[39;00m(\u001b[39m'\u001b[39m\u001b[39mpubkey must be bytes instance; got \u001b[39m\u001b[39m%r\u001b[39;00m\u001b[39m'\u001b[39m \u001b[39m%\u001b[39m pubkey\u001b[39m.\u001b[39m\u001b[39m__class__\u001b[39m)\n\u001b[1;32m    209\u001b[0m \u001b[39mif\u001b[39;00m \u001b[39mnot\u001b[39;00m accept_invalid:\n\u001b[1;32m    210\u001b[0m     \u001b[39mif\u001b[39;00m \u001b[39mnot\u001b[39;00m \u001b[39misinstance\u001b[39m(pubkey, bitcoin\u001b[39m.\u001b[39mcore\u001b[39m.\u001b[39mkey\u001b[39m.\u001b[39mCPubKey):\n",
      "\u001b[0;31mTypeError\u001b[0m: pubkey must be bytes instance; got <class 'ecdsa.keys.VerifyingKey'>"
     ]
    }
   ],
   "source": [
    "from bitcoin.wallet import CBitcoinSecret, P2PKHBitcoinAddress, CBitcoinAddress\n",
    "\n",
    "\n",
    "# Generate a bitcoin address from a private key\n",
    "def generate_bitcoin_address_from_private_key(private_key: ecdsa.SigningKey) -> str:\n",
    "    return str(P2PKHBitcoinAddress.from_pubkey(generate_public_key(private_key)))\n",
    "\n",
    "loaded_private_key = load_private_key(pre_private_key)\n",
    "bitcoin_address = generate_bitcoin_address_from_private_key(loaded_private_key)\n",
    "print(\"Bitcoin address from private key: \", bitcoin_address)"
   ]
  }
 ],
 "metadata": {
  "kernelspec": {
   "display_name": ".venv",
   "language": "python",
   "name": "python3"
  },
  "language_info": {
   "codemirror_mode": {
    "name": "ipython",
    "version": 3
   },
   "file_extension": ".py",
   "mimetype": "text/x-python",
   "name": "python",
   "nbconvert_exporter": "python",
   "pygments_lexer": "ipython3",
   "version": "3.12.0"
  }
 },
 "nbformat": 4,
 "nbformat_minor": 2
}
