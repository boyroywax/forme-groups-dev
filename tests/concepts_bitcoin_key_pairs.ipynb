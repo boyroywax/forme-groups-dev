{
 "cells": [
  {
   "cell_type": "markdown",
   "metadata": {},
   "source": [
    "# Bitcoin Key Pairs"
   ]
  },
  {
   "cell_type": "markdown",
   "metadata": {},
   "source": [
    "## Generate a Bitcoin key pair"
   ]
  },
  {
   "cell_type": "code",
   "execution_count": 7,
   "metadata": {},
   "outputs": [
    {
     "name": "stdout",
     "output_type": "stream",
     "text": [
      "Private key bytse:  b'dM\\x07\\xdbA4\\xea\\x15s\\x7f\\x03\\x8fP\\x7fn\\xb4\\xb6\\xbc\\xd0\\xd2\\x87\\xbc\\x88g#BH,\\xd4\\xfcBJ'\n",
      "Private key:  644d07db4134ea15737f038f507f6eb4b6bcd0d287bc88672342482cd4fc424a\n",
      "Public key raw:  09c13a98c409a725315e40d33f7aafb4d204fd21e905928c8bea32ebc81d977328c4bb8d27ff12beb97715067ce010fa32975049ac09bfa6d541dad013a8106e\n",
      "Public key Uncompressed:  0409c13a98c409a725315e40d33f7aafb4d204fd21e905928c8bea32ebc81d977328c4bb8d27ff12beb97715067ce010fa32975049ac09bfa6d541dad013a8106e\n",
      "Public key Compressed:  0209c13a98c409a725315e40d33f7aafb4d204fd21e905928c8bea32ebc81d9773\n"
     ]
    }
   ],
   "source": [
    "import ecdsa\n",
    "import binascii\n",
    "import hashlib\n",
    "\n",
    "# Generate a private key\n",
    "def generate_private_key() -> ecdsa.SigningKey:\n",
    "    return ecdsa.SigningKey.generate(curve=ecdsa.SECP256k1, hashfunc=hashlib.sha256)\n",
    "\n",
    "# Generate a public key\n",
    "def generate_public_key(private_key: ecdsa.SigningKey) -> ecdsa.VerifyingKey:\n",
    "    return private_key.get_verifying_key()\n",
    "\n",
    "# Generate a compressed public key\n",
    "def generate_compressed_public_key(private_key: ecdsa.SigningKey) -> ecdsa.VerifyingKey:\n",
    "    return private_key.get_verifying_key().to_string(\"compressed\")\n",
    "\n",
    "# Generate a uncompressed public key\n",
    "def generate_uncompressed_public_key(private_key: ecdsa.SigningKey) -> ecdsa.VerifyingKey:\n",
    "    return private_key.get_verifying_key().to_string(\"uncompressed\")\n",
    "\n",
    "def hexlify_private_key(private_key: ecdsa.SigningKey) -> str:\n",
    "    return binascii.hexlify(private_key.to_string()).decode(\"utf-8\")\n",
    "\n",
    "def hexlify_public_key(public_key: ecdsa.VerifyingKey, encoding: str = \"uncompressed\") -> str:\n",
    "    return binascii.hexlify(public_key.to_string(encoding)).decode(\"utf-8\")\n",
    "\n",
    "private_key = generate_private_key()\n",
    "print(\"Private key bytse: \", private_key.to_string())\n",
    "print(\"Private key: \", hexlify_private_key(private_key))\n",
    "\n",
    "public_key = generate_public_key(private_key)\n",
    "print(\"Public key raw: \", hexlify_public_key(public_key, encoding='raw'))\n",
    "print(\"Public key Uncompressed: \", hexlify_public_key(public_key, encoding='uncompressed'))\n",
    "print(\"Public key Compressed: \", hexlify_public_key(public_key, encoding='compressed'))"
   ]
  },
  {
   "cell_type": "markdown",
   "metadata": {},
   "source": [
    "## Load a private key"
   ]
  },
  {
   "cell_type": "code",
   "execution_count": 11,
   "metadata": {},
   "outputs": [
    {
     "name": "stdout",
     "output_type": "stream",
     "text": [
      "Private key:  41acfff5cb7cac7d947286ebcc44d3a6c10bca38c43ef88b22060fa1426c50ad\n",
      "Public key Raw:  326243d72726f580e0cfcc9870e6b705527aa3622624eb7f4b0170882a2dae50d2ba41eba0716806a86639803d4c3684c9e95264b38c5a14139cd0c85f6449a6\n",
      "Public key Uncompressed:  04326243d72726f580e0cfcc9870e6b705527aa3622624eb7f4b0170882a2dae50d2ba41eba0716806a86639803d4c3684c9e95264b38c5a14139cd0c85f6449a6\n",
      "Public key Compressed:  02326243d72726f580e0cfcc9870e6b705527aa3622624eb7f4b0170882a2dae50\n"
     ]
    }
   ],
   "source": [
    "# Pre Calculated Keys\n",
    "pre_private_key = '41acfff5cb7cac7d947286ebcc44d3a6c10bca38c43ef88b22060fa1426c50ad'\n",
    "pre_public_key = '02326243d72726f580e0cfcc9870e6b705527aa3622624eb7f4b0170882a2dae50'\n",
    "\n",
    "# Load a private key\n",
    "def load_private_key(private_key: str) -> ecdsa.SigningKey:\n",
    "    return ecdsa.SigningKey.from_string(bytes.fromhex(private_key), curve=ecdsa.SECP256k1, hashfunc=hashlib.sha256)\n",
    "\n",
    "loaded_private_key: ecdsa.SigningKey = load_private_key(pre_private_key)\n",
    "print(\"Private key: \", hexlify_private_key(loaded_private_key))\n",
    "\n",
    "assert hexlify_private_key(loaded_private_key) == pre_private_key\n",
    "\n",
    "generated_public_key_from_private_key = generate_public_key(loaded_private_key)\n",
    "print(\"Public key Raw: \", hexlify_public_key(generated_public_key_from_private_key, encoding='raw'))\n",
    "print(\"Public key Uncompressed: \", hexlify_public_key(generated_public_key_from_private_key, encoding=\"uncompressed\"))\n",
    "print(\"Public key Compressed: \", hexlify_public_key(generated_public_key_from_private_key, encoding=\"compressed\"))\n"
   ]
  },
  {
   "cell_type": "markdown",
   "metadata": {},
   "source": [
    "## Load a public key"
   ]
  },
  {
   "cell_type": "code",
   "execution_count": 12,
   "metadata": {},
   "outputs": [
    {
     "name": "stdout",
     "output_type": "stream",
     "text": [
      "Public key Raw:  326243d72726f580e0cfcc9870e6b705527aa3622624eb7f4b0170882a2dae50d2ba41eba0716806a86639803d4c3684c9e95264b38c5a14139cd0c85f6449a6\n",
      "Public key Uncompressed:  04326243d72726f580e0cfcc9870e6b705527aa3622624eb7f4b0170882a2dae50d2ba41eba0716806a86639803d4c3684c9e95264b38c5a14139cd0c85f6449a6\n",
      "Public key Compressed:  02326243d72726f580e0cfcc9870e6b705527aa3622624eb7f4b0170882a2dae50\n"
     ]
    }
   ],
   "source": [
    "# Pre Calculated Keys\n",
    "pre_private_key = '41acfff5cb7cac7d947286ebcc44d3a6c10bca38c43ef88b22060fa1426c50ad'\n",
    "pre_public_key = '02326243d72726f580e0cfcc9870e6b705527aa3622624eb7f4b0170882a2dae50'\n",
    "\n",
    "def load_public_key(public_key: str) -> ecdsa.VerifyingKey:\n",
    "    return ecdsa.VerifyingKey.from_string(bytes.fromhex(public_key), curve=ecdsa.SECP256k1, hashfunc=hashlib.sha256)\n",
    "\n",
    "loaded_public_key: ecdsa.VerifyingKey = load_public_key(pre_public_key)\n",
    "print(\"Public key Raw: \", hexlify_public_key(loaded_public_key, encoding='raw'))\n",
    "print(\"Public key Uncompressed: \", hexlify_public_key(loaded_public_key, encoding=\"uncompressed\"))\n",
    "print(\"Public key Compressed: \", hexlify_public_key(loaded_public_key, encoding=\"compressed\"))"
   ]
  },
  {
   "cell_type": "markdown",
   "metadata": {},
   "source": [
    "# Python Packages\n",
    "\n",
    "## python-bitcoinlib"
   ]
  },
  {
   "cell_type": "code",
   "execution_count": null,
   "metadata": {
    "vscode": {
     "languageId": "shellscript"
    }
   },
   "outputs": [],
   "source": [
    "> pip install python-bitcoinlib"
   ]
  },
  {
   "cell_type": "markdown",
   "metadata": {},
   "source": [
    "### Import a private key"
   ]
  },
  {
   "cell_type": "code",
   "execution_count": 30,
   "metadata": {},
   "outputs": [
    {
     "name": "stdout",
     "output_type": "stream",
     "text": [
      "Private key: 5JKDBTjxKS9eXydsuhuKVnHnQYPbuvLQfTS3ynzRAtSozqidowQ\n",
      "Private key hex: 41acfff5cb7cac7d947286ebcc44d3a6c10bca38c43ef88b22060fa1426c50ad\n"
     ]
    }
   ],
   "source": [
    "from bitcoin.wallet import CBitcoinSecret, P2PKHBitcoinAddress, CBitcoinAddress\n",
    "from bitcoin.signmessage import BitcoinMessage, VerifyMessage, SignMessage\n",
    "\n",
    "\n",
    "pre_private_key = '41acfff5cb7cac7d947286ebcc44d3a6c10bca38c43ef88b22060fa1426c50ad'\n",
    "\n",
    "# Import a private key\n",
    "private_key_ = CBitcoinSecret.from_secret_bytes(bytes.fromhex(pre_private_key), 0)\n",
    "print(f\"Private key: {private_key_}\")\n",
    "print(f\"Private key hex: {private_key_.hex()}\")\n"
   ]
  },
  {
   "cell_type": "markdown",
   "metadata": {},
   "source": [
    "### Derive the public key"
   ]
  },
  {
   "cell_type": "code",
   "execution_count": 31,
   "metadata": {},
   "outputs": [
    {
     "name": "stdout",
     "output_type": "stream",
     "text": [
      "Public key: 04326243d72726f580e0cfcc9870e6b705527aa3622624eb7f4b0170882a2dae50d2ba41eba0716806a86639803d4c3684c9e95264b38c5a14139cd0c85f6449a6\n",
      "Compressed public key: False\n"
     ]
    }
   ],
   "source": [
    "\n",
    "# Generate a public key\n",
    "public_key_ = private_key_.pub\n",
    "print(f\"Public key: {public_key_.hex()}\")\n",
    "\n",
    "# Generate a compressed public key\n",
    "compressed_public_key_ = public_key_.is_compressed\n",
    "print(f\"Compressed public key: {compressed_public_key_}\")"
   ]
  }
 ],
 "metadata": {
  "kernelspec": {
   "display_name": ".venv",
   "language": "python",
   "name": "python3"
  },
  "language_info": {
   "codemirror_mode": {
    "name": "ipython",
    "version": 3
   },
   "file_extension": ".py",
   "mimetype": "text/x-python",
   "name": "python",
   "nbconvert_exporter": "python",
   "pygments_lexer": "ipython3",
   "version": "3.12.0"
  }
 },
 "nbformat": 4,
 "nbformat_minor": 2
}
