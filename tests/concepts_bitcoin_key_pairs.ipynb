{
 "cells": [
  {
   "cell_type": "markdown",
   "metadata": {},
   "source": [
    "# Bitcoin Key Pairs"
   ]
  },
  {
   "cell_type": "markdown",
   "metadata": {},
   "source": [
    "## Generate a Bitcoin key pair"
   ]
  },
  {
   "cell_type": "markdown",
   "metadata": {},
   "source": [
    "### ECDSA Key Pairs"
   ]
  },
  {
   "cell_type": "code",
   "execution_count": 33,
   "metadata": {},
   "outputs": [
    {
     "name": "stdout",
     "output_type": "stream",
     "text": [
      "Private key bytse:  b\"2*\\xda\\xec\\x029\\x17\\x95\\x9d\\x8f\\\\<\\xc9\\x9b'\\xf7!?\\xe3\\xcc[\\xd7\\xe9\\x86.\\x8cT\\x0c=q\\xf7[\"\n",
      "Private key:  322adaec023917959d8f5c3cc99b27f7213fe3cc5bd7e9862e8c540c3d71f75b\n",
      "Public key raw:  06a4966a24f2b1d8bc1b6752a284ebf0b0639166e45cf6007fca14007ca5aa8a4df1a18f938069c6374d21ca26bcf4b6e49251792ab331bc72053f89a2d8313f\n",
      "Public key Uncompressed:  0406a4966a24f2b1d8bc1b6752a284ebf0b0639166e45cf6007fca14007ca5aa8a4df1a18f938069c6374d21ca26bcf4b6e49251792ab331bc72053f89a2d8313f\n",
      "Public key Compressed:  0306a4966a24f2b1d8bc1b6752a284ebf0b0639166e45cf6007fca14007ca5aa8a\n"
     ]
    }
   ],
   "source": [
    "import ecdsa\n",
    "import binascii\n",
    "import hashlib\n",
    "\n",
    "# Generate a private key\n",
    "def generate_private_key() -> ecdsa.SigningKey:\n",
    "    return ecdsa.SigningKey.generate(curve=ecdsa.SECP256k1, hashfunc=hashlib.sha256)\n",
    "\n",
    "# Generate a public key\n",
    "def generate_public_key(private_key: ecdsa.SigningKey) -> ecdsa.VerifyingKey:\n",
    "    return private_key.get_verifying_key()\n",
    "\n",
    "# Generate a compressed public key\n",
    "def generate_compressed_public_key(private_key: ecdsa.SigningKey) -> ecdsa.VerifyingKey:\n",
    "    return private_key.get_verifying_key().to_string(\"compressed\")\n",
    "\n",
    "# Generate a uncompressed public key\n",
    "def generate_uncompressed_public_key(private_key: ecdsa.SigningKey) -> ecdsa.VerifyingKey:\n",
    "    return private_key.get_verifying_key().to_string(\"uncompressed\")\n",
    "\n",
    "def hexlify_private_key(private_key: ecdsa.SigningKey) -> str:\n",
    "    return binascii.hexlify(private_key.to_string()).decode(\"utf-8\")\n",
    "\n",
    "def hexlify_public_key(public_key: ecdsa.VerifyingKey, encoding: str = \"uncompressed\") -> str:\n",
    "    return binascii.hexlify(public_key.to_string(encoding)).decode(\"utf-8\")\n",
    "\n",
    "private_key = generate_private_key()\n",
    "print(\"Private key bytse: \", private_key.to_string())\n",
    "print(\"Private key: \", hexlify_private_key(private_key))\n",
    "\n",
    "public_key = generate_public_key(private_key)\n",
    "print(\"Public key raw: \", hexlify_public_key(public_key, encoding='raw'))\n",
    "print(\"Public key Uncompressed: \", hexlify_public_key(public_key, encoding='uncompressed'))\n",
    "print(\"Public key Compressed: \", hexlify_public_key(public_key, encoding='compressed'))"
   ]
  },
  {
   "cell_type": "markdown",
   "metadata": {},
   "source": [
    "## Import keys"
   ]
  },
  {
   "cell_type": "markdown",
   "metadata": {},
   "source": [
    "### Load a private key"
   ]
  },
  {
   "cell_type": "code",
   "execution_count": 34,
   "metadata": {},
   "outputs": [
    {
     "name": "stdout",
     "output_type": "stream",
     "text": [
      "Private key:  41acfff5cb7cac7d947286ebcc44d3a6c10bca38c43ef88b22060fa1426c50ad\n",
      "Public key Raw:  326243d72726f580e0cfcc9870e6b705527aa3622624eb7f4b0170882a2dae50d2ba41eba0716806a86639803d4c3684c9e95264b38c5a14139cd0c85f6449a6\n",
      "Public key Uncompressed:  04326243d72726f580e0cfcc9870e6b705527aa3622624eb7f4b0170882a2dae50d2ba41eba0716806a86639803d4c3684c9e95264b38c5a14139cd0c85f6449a6\n",
      "Public key Compressed:  02326243d72726f580e0cfcc9870e6b705527aa3622624eb7f4b0170882a2dae50\n"
     ]
    }
   ],
   "source": [
    "# Pre Calculated Keys\n",
    "pre_private_key = '41acfff5cb7cac7d947286ebcc44d3a6c10bca38c43ef88b22060fa1426c50ad'\n",
    "pre_public_key = '02326243d72726f580e0cfcc9870e6b705527aa3622624eb7f4b0170882a2dae50'\n",
    "\n",
    "# Load a private key\n",
    "def load_private_key(private_key: str) -> ecdsa.SigningKey:\n",
    "    return ecdsa.SigningKey.from_string(bytes.fromhex(private_key), curve=ecdsa.SECP256k1, hashfunc=hashlib.sha256)\n",
    "\n",
    "loaded_private_key: ecdsa.SigningKey = load_private_key(pre_private_key)\n",
    "print(\"Private key: \", hexlify_private_key(loaded_private_key))\n",
    "\n",
    "assert hexlify_private_key(loaded_private_key) == pre_private_key\n",
    "\n",
    "generated_public_key_from_private_key = generate_public_key(loaded_private_key)\n",
    "print(\"Public key Raw: \", hexlify_public_key(generated_public_key_from_private_key, encoding='raw'))\n",
    "print(\"Public key Uncompressed: \", hexlify_public_key(generated_public_key_from_private_key, encoding=\"uncompressed\"))\n",
    "print(\"Public key Compressed: \", hexlify_public_key(generated_public_key_from_private_key, encoding=\"compressed\"))\n"
   ]
  },
  {
   "cell_type": "markdown",
   "metadata": {},
   "source": [
    "### Load a public key"
   ]
  },
  {
   "cell_type": "code",
   "execution_count": 35,
   "metadata": {},
   "outputs": [
    {
     "name": "stdout",
     "output_type": "stream",
     "text": [
      "Public key Raw:  326243d72726f580e0cfcc9870e6b705527aa3622624eb7f4b0170882a2dae50d2ba41eba0716806a86639803d4c3684c9e95264b38c5a14139cd0c85f6449a6\n",
      "Public key Uncompressed:  04326243d72726f580e0cfcc9870e6b705527aa3622624eb7f4b0170882a2dae50d2ba41eba0716806a86639803d4c3684c9e95264b38c5a14139cd0c85f6449a6\n",
      "Public key Compressed:  02326243d72726f580e0cfcc9870e6b705527aa3622624eb7f4b0170882a2dae50\n"
     ]
    }
   ],
   "source": [
    "# Pre Calculated Keys\n",
    "pre_private_key = '41acfff5cb7cac7d947286ebcc44d3a6c10bca38c43ef88b22060fa1426c50ad'\n",
    "pre_public_key = '02326243d72726f580e0cfcc9870e6b705527aa3622624eb7f4b0170882a2dae50'\n",
    "\n",
    "def load_public_key(public_key: str) -> ecdsa.VerifyingKey:\n",
    "    return ecdsa.VerifyingKey.from_string(bytes.fromhex(public_key), curve=ecdsa.SECP256k1, hashfunc=hashlib.sha256)\n",
    "\n",
    "loaded_public_key: ecdsa.VerifyingKey = load_public_key(pre_public_key)\n",
    "print(\"Public key Raw: \", hexlify_public_key(loaded_public_key, encoding='raw'))\n",
    "print(\"Public key Uncompressed: \", hexlify_public_key(loaded_public_key, encoding=\"uncompressed\"))\n",
    "print(\"Public key Compressed: \", hexlify_public_key(loaded_public_key, encoding=\"compressed\"))"
   ]
  },
  {
   "cell_type": "markdown",
   "metadata": {},
   "source": [
    "# Bitcoin Address"
   ]
  },
  {
   "cell_type": "markdown",
   "metadata": {},
   "source": [
    "## Generate the bitcoin address\n"
   ]
  },
  {
   "cell_type": "markdown",
   "metadata": {},
   "source": [
    "\n",
    "### Step: 1. SHA-256"
   ]
  },
  {
   "cell_type": "code",
   "execution_count": 36,
   "metadata": {},
   "outputs": [
    {
     "name": "stdout",
     "output_type": "stream",
     "text": [
      "SHA256 hash from public key:  0784a459a2ca0dadbdd3f26d3d775b32bede696745194b6b38c7a970ad304a32\n",
      "SHA256 hash from private key:  0784a459a2ca0dadbdd3f26d3d775b32bede696745194b6b38c7a970ad304a32\n"
     ]
    }
   ],
   "source": [
    "import ecdsa\n",
    "import hashlib\n",
    "import binascii\n",
    "\n",
    "#Generate a private key\n",
    "private_key = ecdsa.SigningKey.generate(curve=ecdsa.SECP256k1)\n",
    "\n",
    "def sha256_hash_public_key(public_key: ecdsa.VerifyingKey) -> str:\n",
    "    return binascii.hexlify(hashlib.sha256(public_key.to_string(\"uncompressed\")).digest()).decode(\"utf-8\")\n",
    "\n",
    "loaded_public_key: ecdsa.VerifyingKey = load_public_key(pre_public_key)\n",
    "print(\"SHA256 hash from public key: \", sha256_hash_public_key(loaded_public_key))\n",
    "\n",
    "# Generate a bitcoin address from a private key\n",
    "def sha256_hash_private_key(private_key: ecdsa.SigningKey) -> str:\n",
    "    return sha256_hash_public_key(generate_public_key(private_key))\n",
    "\n",
    "loaded_private_key = load_private_key(pre_private_key)\n",
    "sha256_hash = sha256_hash_private_key(loaded_private_key)\n",
    "print(\"SHA256 hash from private key: \", sha256_hash)"
   ]
  },
  {
   "cell_type": "markdown",
   "metadata": {},
   "source": [
    "### Step 2. RIPEMD-160"
   ]
  },
  {
   "cell_type": "code",
   "execution_count": 37,
   "metadata": {},
   "outputs": [
    {
     "name": "stdout",
     "output_type": "stream",
     "text": [
      "Ripemd160 hash:  5acee0cdc3f682ef1aaf5d0b387f32270ac4e408\n"
     ]
    }
   ],
   "source": [
    "# Find the ripemd160 hash\n",
    "def ripemd_160_hash(sha256_hash: str) -> str:\n",
    "    return hashlib.new(\"ripemd160\", bytes.fromhex(sha256_hash)).hexdigest()\n",
    "\n",
    "ripemd_160_hash_ = ripemd_160_hash(sha256_hash)\n",
    "print(\"Ripemd160 hash: \", ripemd_160_hash_)"
   ]
  },
  {
   "cell_type": "markdown",
   "metadata": {},
   "source": [
    "### Step 3. Prefix with version byte\n",
    "\n",
    "0x00 for Main Network"
   ]
  },
  {
   "cell_type": "code",
   "execution_count": 38,
   "metadata": {},
   "outputs": [
    {
     "name": "stdout",
     "output_type": "stream",
     "text": [
      "Version byte:  005acee0cdc3f682ef1aaf5d0b387f32270ac4e408\n"
     ]
    }
   ],
   "source": [
    " # Add the version byte\n",
    "def add_version_byte(ripemd_160_hash: str) -> str:\n",
    "    return \"00\" + ripemd_160_hash\n",
    "\n",
    "version_byte = add_version_byte(ripemd_160_hash_)\n",
    "print(\"Version byte: \", version_byte)"
   ]
  },
  {
   "cell_type": "markdown",
   "metadata": {},
   "source": [
    "### Step 4. Append Checksum onto the Extended RIPEMD-160 Result\n",
    "\n",
    "This step produces the abinary bitcoin address"
   ]
  },
  {
   "cell_type": "code",
   "execution_count": 39,
   "metadata": {},
   "outputs": [
    {
     "name": "stdout",
     "output_type": "stream",
     "text": [
      "Checksum:  b21b1f86\n",
      "Checksum version byte:  005acee0cdc3f682ef1aaf5d0b387f32270ac4e408b21b1f86\n"
     ]
    }
   ],
   "source": [
    "# Generate a checksum\n",
    "def generate_checksum(version_byte: str) -> str:\n",
    "    return hashlib.sha256(hashlib.sha256(bytes.fromhex(version_byte)).digest()).hexdigest()[:8]\n",
    "\n",
    "checksum = generate_checksum(version_byte)\n",
    "print(\"Checksum: \", checksum)\n",
    "\n",
    "# Add the checksum to the version byte\n",
    "def add_checksum(version_byte: str, checksum: str) -> str:\n",
    "    return version_byte + checksum\n",
    "\n",
    "checksum_version_byte = add_checksum(version_byte, checksum)\n",
    "print(\"Checksum version byte: \", checksum_version_byte)"
   ]
  },
  {
   "cell_type": "markdown",
   "metadata": {},
   "source": [
    "### Step 5. Base58Check the binary address"
   ]
  },
  {
   "cell_type": "code",
   "execution_count": 40,
   "metadata": {},
   "outputs": [
    {
     "name": "stdout",
     "output_type": "stream",
     "text": [
      "Base58 string:  19H9eQmquVivoCEyVBznuHbYKMcBKdyJkd\n",
      "Base58 string with lib:  19H9eQmquVivoCEyVBznuHbYKMcBKdyJkd\n"
     ]
    }
   ],
   "source": [
    "import base58\n",
    "\n",
    "# Convert the checksum version byte to base58\n",
    "def convert_to_base58(checksum_version_byte: str) -> str:\n",
    "    alphabet = \"123456789ABCDEFGHJKLMNPQRSTUVWXYZabcdefghijkmnopqrstuvwxyz\"\n",
    "    base58_string = \"\"\n",
    "    value = int(checksum_version_byte, 16)\n",
    "    while value > 0:\n",
    "        value, mod = divmod(value, 58)\n",
    "        base58_string = alphabet[mod] + base58_string\n",
    "    return '1' + base58_string\n",
    "\n",
    "def convert_to_base58_with_lib(checksum_version_byte: str) -> str:\n",
    "    return base58.b58encode(bytes.fromhex(checksum_version_byte)).decode(\"utf-8\")\n",
    "\n",
    "base58_string = convert_to_base58(checksum_version_byte)\n",
    "print(\"Base58 string: \", base58_string)\n",
    "\n",
    "base58_string_with_lib = convert_to_base58_with_lib(checksum_version_byte)\n",
    "print(\"Base58 string with lib: \", base58_string_with_lib)"
   ]
  },
  {
   "cell_type": "markdown",
   "metadata": {},
   "source": [
    "### Step 6. combine the steps together\n",
    "\n",
    "#### Generate the bitcoin address from the private key"
   ]
  },
  {
   "cell_type": "code",
   "execution_count": 41,
   "metadata": {},
   "outputs": [
    {
     "name": "stdout",
     "output_type": "stream",
     "text": [
      "Bitcoin address:  19H9eQmquVivoCEyVBznuHbYKMcBKdyJkd\n"
     ]
    }
   ],
   "source": [
    "def generate_bitcoin_address(private_key: ecdsa.SigningKey) -> str:\n",
    "    sha256_hash = sha256_hash_private_key(private_key)\n",
    "    ripemd_160_hash_ = ripemd_160_hash(sha256_hash)\n",
    "    version_byte = add_version_byte(ripemd_160_hash_)\n",
    "    checksum = generate_checksum(version_byte)\n",
    "    checksum_version_byte = add_checksum(version_byte, checksum)\n",
    "    base58_string = convert_to_base58(checksum_version_byte)\n",
    "    return base58_string\n",
    "\n",
    "loaded_private_key = load_private_key(pre_private_key)\n",
    "bitcoin_address = generate_bitcoin_address(loaded_private_key)\n",
    "print(\"Bitcoin address: \", bitcoin_address)"
   ]
  },
  {
   "cell_type": "markdown",
   "metadata": {},
   "source": [
    "#### Generate the bitcoin address from the public key"
   ]
  },
  {
   "cell_type": "code",
   "execution_count": 42,
   "metadata": {},
   "outputs": [
    {
     "name": "stdout",
     "output_type": "stream",
     "text": [
      "Bitcoin address from public key:  19H9eQmquVivoCEyVBznuHbYKMcBKdyJkd\n"
     ]
    }
   ],
   "source": [
    "# Generate a bitcoin address from a public key\n",
    "def generate_bitcoin_address_from_public_key(public_key: ecdsa.VerifyingKey) -> str:\n",
    "    sha256_hash = sha256_hash_public_key(public_key)\n",
    "    ripemd_160_hash_ = ripemd_160_hash(sha256_hash)\n",
    "    version_byte = add_version_byte(ripemd_160_hash_)\n",
    "    checksum = generate_checksum(version_byte)\n",
    "    checksum_version_byte = add_checksum(version_byte, checksum)\n",
    "    base58_string = convert_to_base58(checksum_version_byte)\n",
    "    return base58_string\n",
    "\n",
    "loaded_public_key = load_public_key(pre_public_key)\n",
    "bitcoin_address = generate_bitcoin_address_from_public_key(loaded_public_key)\n",
    "print(\"Bitcoin address from public key: \", bitcoin_address)"
   ]
  },
  {
   "cell_type": "markdown",
   "metadata": {},
   "source": [
    "## Verify the bitcoin address"
   ]
  },
  {
   "cell_type": "code",
   "execution_count": 43,
   "metadata": {},
   "outputs": [
    {
     "name": "stdout",
     "output_type": "stream",
     "text": [
      "Bitcoin address is valid: True\n"
     ]
    }
   ],
   "source": [
    "# Step 1: Decode Base58 Bitcoin Address\n",
    "binary_bitcoin_address_check = base58.b58decode(bitcoin_address)\n",
    "\n",
    "# Step 2: Extract Bitcoin Address from decoded Base58 Bitcoin Address\n",
    "binary_bitcoin_address = binary_bitcoin_address_check[:-4]\n",
    "\n",
    "# Step 3: Extract Bitcoin Address Checksum from decoded Base58 Bitcoin Address\n",
    "binary_bitcoin_address_checksum = binary_bitcoin_address_check[-4:]\n",
    "\n",
    "# Step 4: Perform SHA256 hash on the extended RIPEMD-160 result\n",
    "double_sha256 = hashlib.sha256(hashlib.sha256(binary_bitcoin_address).digest()).digest()\n",
    "\n",
    "# Step 5: Take the first 4 bytes of the second SHA256 hash. This is the address checksum\n",
    "address_checksum = double_sha256[:4]\n",
    "\n",
    "# Step 6: Verify that the address checksum from decoded Base58 Bitcoin Address is equal to the address checksum from the SHA256 hash\n",
    "print(\"Bitcoin address is valid:\", binary_bitcoin_address_checksum == address_checksum)"
   ]
  },
  {
   "cell_type": "markdown",
   "metadata": {},
   "source": [
    "# Python Packages\n"
   ]
  },
  {
   "cell_type": "markdown",
   "metadata": {},
   "source": [
    "\n",
    "## python-bitcoinlib"
   ]
  },
  {
   "cell_type": "code",
   "execution_count": 44,
   "metadata": {
    "vscode": {
     "languageId": "shellscript"
    }
   },
   "outputs": [],
   "source": [
    "# pip install python-bitcoinlib"
   ]
  },
  {
   "cell_type": "markdown",
   "metadata": {},
   "source": [
    "### Import a private key"
   ]
  },
  {
   "cell_type": "code",
   "execution_count": 45,
   "metadata": {},
   "outputs": [
    {
     "name": "stdout",
     "output_type": "stream",
     "text": [
      "Private key: 5JKDBTjxKS9eXydsuhuKVnHnQYPbuvLQfTS3ynzRAtSozqidowQ\n",
      "Private key hex: 41acfff5cb7cac7d947286ebcc44d3a6c10bca38c43ef88b22060fa1426c50ad\n"
     ]
    }
   ],
   "source": [
    "from bitcoin.wallet import CBitcoinSecret\n",
    "\n",
    "\n",
    "pre_private_key = '41acfff5cb7cac7d947286ebcc44d3a6c10bca38c43ef88b22060fa1426c50ad'\n",
    "\n",
    "# Import a private key\n",
    "private_key_ = CBitcoinSecret.from_secret_bytes(bytes.fromhex(pre_private_key), 0)\n",
    "print(f\"Private key: {private_key_}\")\n",
    "print(f\"Private key hex: {private_key_.hex()}\")\n"
   ]
  },
  {
   "cell_type": "markdown",
   "metadata": {},
   "source": [
    "### Derive the public key"
   ]
  },
  {
   "cell_type": "code",
   "execution_count": 46,
   "metadata": {},
   "outputs": [
    {
     "name": "stdout",
     "output_type": "stream",
     "text": [
      "Public key: 04326243d72726f580e0cfcc9870e6b705527aa3622624eb7f4b0170882a2dae50d2ba41eba0716806a86639803d4c3684c9e95264b38c5a14139cd0c85f6449a6\n",
      "Compressed public key? False\n"
     ]
    }
   ],
   "source": [
    "from bitcoin.core.key import CPubKey\n",
    "\n",
    "# Generate a public key\n",
    "cpublic_key_: CPubKey = private_key_.pub\n",
    "print(f\"Public key: {cpublic_key_.hex()}\")\n",
    "\n",
    "# Generate a compressed public key\n",
    "compressed_public_key_: bool = cpublic_key_.is_compressed\n",
    "print(f\"Compressed public key? {compressed_public_key_}\")"
   ]
  },
  {
   "cell_type": "markdown",
   "metadata": {},
   "source": [
    "### Derive the bitcoin address"
   ]
  },
  {
   "cell_type": "code",
   "execution_count": 47,
   "metadata": {},
   "outputs": [
    {
     "name": "stdout",
     "output_type": "stream",
     "text": [
      "Bitcoin address: 19H9eQmquVivoCEyVBznuHbYKMcBKdyJkd\n"
     ]
    }
   ],
   "source": [
    "from bitcoin.wallet import P2PKHBitcoinAddress\n",
    "\n",
    "# Generate a bitcoin address\n",
    "bitcoin_address_ = P2PKHBitcoinAddress.from_pubkey(cpublic_key_)\n",
    "print(f\"Bitcoin address: {bitcoin_address_}\")"
   ]
  },
  {
   "cell_type": "markdown",
   "metadata": {},
   "source": [
    "### Import a bitcoin address"
   ]
  },
  {
   "cell_type": "code",
   "execution_count": 48,
   "metadata": {},
   "outputs": [
    {
     "name": "stdout",
     "output_type": "stream",
     "text": [
      "Bitcoin address: 19H9eQmquVivoCEyVBznuHbYKMcBKdyJkd\n"
     ]
    }
   ],
   "source": [
    "from bitcoin.wallet import CBitcoinAddress\n",
    "\n",
    "# Generate a bitcoin address\n",
    "bitcoin_address__: CBitcoinAddress = CBitcoinAddress(str(bitcoin_address_))\n",
    "print(f\"Bitcoin address: {bitcoin_address__}\")"
   ]
  },
  {
   "cell_type": "markdown",
   "metadata": {},
   "source": [
    "### Derive the public key"
   ]
  },
  {
   "cell_type": "code",
   "execution_count": 49,
   "metadata": {},
   "outputs": [
    {
     "name": "stdout",
     "output_type": "stream",
     "text": [
      "Private key: 5JKDBTjxKS9eXydsuhuKVnHnQYPbuvLQfTS3ynzRAtSozqidowQ\n",
      "Bitcoin address: 19H9eQmquVivoCEyVBznuHbYKMcBKdyJkd\n"
     ]
    }
   ],
   "source": [
    "from bitcoin.wallet import CBitcoinSecret\n",
    "\n",
    "# Import a private key\n",
    "private_key_ = CBitcoinSecret.from_secret_bytes(bytes.fromhex(pre_private_key), 0)\n",
    "print(f\"Private key: {private_key_}\")\n",
    "\n",
    "# Generate a bitcoin address\n",
    "bitcoin_address_ = P2PKHBitcoinAddress.from_pubkey(private_key_.pub)\n",
    "print(f\"Bitcoin address: {bitcoin_address_}\")"
   ]
  },
  {
   "cell_type": "markdown",
   "metadata": {},
   "source": [
    "### Create and Sign a message"
   ]
  },
  {
   "cell_type": "code",
   "execution_count": 50,
   "metadata": {},
   "outputs": [
    {
     "name": "stdout",
     "output_type": "stream",
     "text": [
      "Message: Hello World\n",
      "Signature: b'G5ev5JxNp2KFVsEadbPUBrIiGzb3fysBafNGoaIYxEMMOXszDeSoaxtkx2M20xwX4UFT4P5EnyG7/Q8CXFpYzlI='\n"
     ]
    }
   ],
   "source": [
    "from bitcoin.wallet import CBitcoinSecret\n",
    "from bitcoin.signmessage import BitcoinMessage, VerifyMessage, SignMessage\n",
    "\n",
    "private_key = CBitcoinSecret.from_secret_bytes(bytes.fromhex(pre_private_key), 0)\n",
    "\n",
    "# Create a message\n",
    "message = BitcoinMessage(\"Hello World\")\n",
    "print(f\"Message: {message}\")\n",
    "\n",
    "# Sign the message\n",
    "signature = SignMessage(private_key, message)\n",
    "print(f\"Signature: {signature}\")"
   ]
  },
  {
   "cell_type": "markdown",
   "metadata": {},
   "source": [
    "### Verify the Signature"
   ]
  },
  {
   "cell_type": "code",
   "execution_count": 52,
   "metadata": {},
   "outputs": [],
   "source": [
    "bitcoin_address = P2PKHBitcoinAddress.from_pubkey(private_key.pub)\n",
    "\n",
    "# Verify the message\n",
    "verified = VerifyMessage(bitcoin_address, message, signature)\n",
    "print(f\"Verified: {verified}\")"
   ]
  }
 ],
 "metadata": {
  "kernelspec": {
   "display_name": ".venv",
   "language": "python",
   "name": "python3"
  },
  "language_info": {
   "codemirror_mode": {
    "name": "ipython",
    "version": 3
   },
   "file_extension": ".py",
   "mimetype": "text/x-python",
   "name": "python",
   "nbconvert_exporter": "python",
   "pygments_lexer": "ipython3",
   "version": "3.12.0"
  }
 },
 "nbformat": 4,
 "nbformat_minor": 2
}
