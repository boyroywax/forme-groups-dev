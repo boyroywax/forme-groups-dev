{
 "cells": [
  {
   "cell_type": "markdown",
   "metadata": {},
   "source": [
    "# Bitcoin Key Pairs"
   ]
  },
  {
   "cell_type": "code",
   "execution_count": 1,
   "metadata": {
    "vscode": {
     "languageId": "shellscript"
    }
   },
   "outputs": [],
   "source": [
    "# pip install ecdsa"
   ]
  },
  {
   "cell_type": "markdown",
   "metadata": {},
   "source": [
    "## Manual Key Generation"
   ]
  },
  {
   "cell_type": "code",
   "execution_count": 2,
   "metadata": {},
   "outputs": [
    {
     "name": "stdout",
     "output_type": "stream",
     "text": [
      "Private key raw: 9c6a04655be616bd82b0de98f1bfa7cc7c22b4f58fa2d5ecafde701dcbbe2eff\u0001\n",
      "Private key: 9c6a04655be616bd82b0de98f1bfa7cc7c22b4f58fa2d5ecafde701dcbbe2eff\n",
      "Public key compressed hex: 03fbcc9ee2e6fc0936c7ade15eb570bf202af0fab2851a8e3e8dbb1bd7727b07b0\n",
      "Public key uncompressed hex: 04fbcc9ee2e6fc0936c7ade15eb570bf202af0fab2851a8e3e8dbb1bd7727b07b0c3e13f17e8ddbb5c02a1b3fb401e6e3c46bec80a96cfe706504eb91689a1760b\n"
     ]
    }
   ],
   "source": [
    "import ecdsa\n",
    "import binascii\n",
    "import hashlib\n",
    "\n",
    "\n",
    "# # Generate a private key\n",
    "private_key_raw_object = ecdsa.SigningKey.generate(curve=ecdsa.SECP256k1, hashfunc=hashlib.sha256)\n",
    "print(\"Private key raw:\", (private_key_raw_object.to_string().hex()) + '\\x01')\n",
    "\n",
    "private_key_raw = private_key_raw_object.to_string()\n",
    "\n",
    "# Get the private key\n",
    "# private_key_hex = private_key_raw.to_string().hex()\n",
    "# private_key_bytes = binascii.unhexlify(private_key_hex)\n",
    "private_key = ecdsa.SigningKey.from_string(private_key_raw, curve=ecdsa.SECP256k1, hashfunc=hashlib.sha256)\n",
    "print(\"Private key:\", private_key.to_string().hex())\n",
    "\n",
    "# Get the public key\n",
    "# public_key: ecdsa.VerifyingKey = private_key.get_verifying_key()\n",
    "public_key = private_key.get_verifying_key()\n",
    "\n",
    "# Print the public key in hexadecimal format\n",
    "print(f\"Public key compressed hex: {public_key.to_string(\"compressed\").hex()}\")\n",
    "print(f\"Public key uncompressed hex: {public_key.to_string(\"uncompressed\").hex()}\")\n"
   ]
  },
  {
   "cell_type": "markdown",
   "metadata": {},
   "source": [
    "While the public key is correct it is not in the proper format. "
   ]
  },
  {
   "cell_type": "markdown",
   "metadata": {},
   "source": [
    "## Bitcoin Address\n",
    "\n",
    "Finding the bitcoin public key or bitcoin address from the private key is a bit more complicated.\n",
    "\n",
    "The public key is a point on the elliptic curve, but it is not in the proper format. The proper format is a 65 byte array with the first byte being 0x04 and the next 32 bytes being the x coordinate and the last 32 bytes being the y coordinate. The x and y coordinates are 32 bytes each because they are 256 bit numbers. The first byte is 0x04 because it is an uncompressed public key. There are compressed public keys which are 33 bytes long, but we will not be using them."
   ]
  },
  {
   "cell_type": "markdown",
   "metadata": {},
   "source": [
    "### Create a bitcoin address"
   ]
  },
  {
   "cell_type": "code",
   "execution_count": 3,
   "metadata": {},
   "outputs": [
    {
     "name": "stdout",
     "output_type": "stream",
     "text": [
      "SHA256:  d6fe69a28c28d487055e7ee10d28f0ae8bc6715970d173d511c75d7145b069af\n",
      "RIPEMD-160:  13a292090557a12933b9011111ae49927aefbabf\n",
      "Address checksum:  47e5164b\n",
      "Binary Bitcoin Address:  0013a292090557a12933b9011111ae49927aefbabf47e5164b\n",
      "Bitcoin address:  12npbEnZ5VoBywYguSYXcTunkAXTVcaxQ2\n"
     ]
    }
   ],
   "source": [
    "import hashlib\n",
    "import base58\n",
    "\n",
    "# Generate a bitcoin address\n",
    "# Step 1: Hash public key\n",
    "sha256: bytes = hashlib.sha256(public_key.to_string('compressed')).digest()\n",
    "print(\"SHA256: \", sha256.hex())\n",
    "\n",
    "# Step 2: Perform RIPEMD-160 hashing on the result of SHA256\n",
    "ripemd160 = hashlib.new('ripemd160')\n",
    "ripemd160.update(sha256)\n",
    "hashed_public_key = ripemd160.digest()\n",
    "print(\"RIPEMD-160: \", hashed_public_key.hex())\n",
    "\n",
    "# Step 3: Add version byte in front of RIPEMD-160 hash (0x00 for Main Network)\n",
    "hashed_public_key = b'\\x00' + hashed_public_key\n",
    "\n",
    "# Step 4: Perform SHA256 hash on the extended RIPEMD-160 result\n",
    "double_sha256 = hashlib.sha256(hashlib.sha256(hashed_public_key).digest()).digest()\n",
    "\n",
    "# Step 5: Take the first 4 bytes of the second SHA256 hash. This is the address checksum\n",
    "address_checksum = double_sha256[:4]\n",
    "print(\"Address checksum: \", address_checksum.hex())\n",
    "\n",
    "# Step 6: Add the 4 checksum bytes from stage 5 at the end of extended RIPEMD-160 hash from stage 4. This is the 25-byte binary Bitcoin Address.\n",
    "binary_bitcoin_address = hashed_public_key + address_checksum\n",
    "print(\"Binary Bitcoin Address: \", binary_bitcoin_address.hex())\n",
    "\n",
    "# Step 7: Convert the result from a byte string into a base58 string using Base58Check encoding. This is the most commonly used Bitcoin Address format\n",
    "bitcoin_address = base58.b58encode(binary_bitcoin_address).decode()\n",
    "print(\"Bitcoin address: \", bitcoin_address)"
   ]
  },
  {
   "cell_type": "markdown",
   "metadata": {},
   "source": [
    "### Verify a bitcoin address"
   ]
  },
  {
   "cell_type": "code",
   "execution_count": 4,
   "metadata": {},
   "outputs": [
    {
     "name": "stdout",
     "output_type": "stream",
     "text": [
      "Bitcoin address is valid: True\n"
     ]
    }
   ],
   "source": [
    "# Verify that the bitcoin address is correct\n",
    "# Step 1: Decode Base58 Bitcoin Address\n",
    "binary_bitcoin_address_check = base58.b58decode(bitcoin_address)\n",
    "\n",
    "# Step 2: Extract Bitcoin Address from decoded Base58 Bitcoin Address\n",
    "binary_bitcoin_address = binary_bitcoin_address_check[:-4]\n",
    "\n",
    "# Step 3: Extract Bitcoin Address Checksum from decoded Base58 Bitcoin Address\n",
    "binary_bitcoin_address_checksum = binary_bitcoin_address_check[-4:]\n",
    "\n",
    "# Step 4: Perform SHA256 hash on the extended RIPEMD-160 result\n",
    "double_sha256 = hashlib.sha256(hashlib.sha256(binary_bitcoin_address).digest()).digest()\n",
    "\n",
    "# Step 5: Take the first 4 bytes of the second SHA256 hash. This is the address checksum\n",
    "address_checksum = double_sha256[:4]\n",
    "\n",
    "# Step 6: Verify that the address checksum from decoded Base58 Bitcoin Address is equal to the address checksum from the SHA256 hash\n",
    "print(\"Bitcoin address is valid:\", binary_bitcoin_address_checksum == address_checksum)"
   ]
  },
  {
   "cell_type": "markdown",
   "metadata": {},
   "source": [
    "## Signing Messages\n",
    "\n",
    "### Sign a message"
   ]
  },
  {
   "cell_type": "code",
   "execution_count": 5,
   "metadata": {},
   "outputs": [],
   "source": [
    "def encode_varint(i: int) -> bytes:\n",
    "    \"\"\"\n",
    "    Encode a potentially very large integer into varint bytes. The length should be\n",
    "    specified in little-endian.\n",
    "\n",
    "    https://bitcoin.org/en/developer-reference#compactsize-unsigned-integers\n",
    "    \"\"\"\n",
    "    if i < 253:\n",
    "        return bytes([i])\n",
    "    elif i < 0x10000:\n",
    "        return b\"\\xfd\" + i.to_bytes(2, \"little\")\n",
    "    elif i < 0x100000000:\n",
    "        return b\"\\xfe\" + i.to_bytes(4, \"little\")\n",
    "    elif i < 0x10000000000000000:\n",
    "        return b\"\\xff\" + i.to_bytes(8, \"little\")\n",
    "    else:\n",
    "        raise ValueError(\"Integer is too large: %d\" % i)"
   ]
  },
  {
   "cell_type": "code",
   "execution_count": 6,
   "metadata": {},
   "outputs": [
    {
     "name": "stdout",
     "output_type": "stream",
     "text": [
      "Message hash: 9b45fcc99ed84a7051317cc9c804b0235925ea1d9117cb9eb49b22efc3df28b3\n",
      "Signature in b64: HO1xOZ0Z+MlS4bl1l34pKRt+KMvflOjsvA1RRAP1AH3BzOcl0vWxEDPFnZ4Dtz5KghhnnNxihsAq+ftvpw0E4xk=\n",
      "Signature hex: ed71399d19f8c952e1b975977e29291b7e28cbdf94e8ecbc0d514403f5007dc1cce725d2f5b11033c59d9e03b73e4a8218679cdc6286c02af9fb6fa70d04e319\n",
      "True\n"
     ]
    }
   ],
   "source": [
    "# Path: concepts_bitcoin_transactions.ipynb\n",
    "import base64\n",
    "\n",
    "private_key_raw_1 = private_key_raw_object\n",
    "msg = b\"Hello world!\"\n",
    "msg_size = encode_varint(len(msg))\n",
    "message_hash = hashlib.sha256(hashlib.sha256(b'\\x18Bitcoin Signed Message:\\n' + msg_size + msg).digest()).digest()\n",
    "print(\"Message hash:\", message_hash.hex())\n",
    "\n",
    "signature_ = private_key_raw_1.sign_deterministic(message_hash)\n",
    "# Use the private key to sign a message\n",
    "# message = bytes(\"Bitcoin Signed Message:\\nHello world!\", \"utf-8\")\n",
    "# message = b\"\\x18Bitcoin Signed Message:\\n\" + msg_size + msg\n",
    "# message_size = encode_varint(len(message))\n",
    "# signature_ = private_key.sign_deterministic(hashlib.sha256(hashlib.sha256(message).digest()).digest())\n",
    "# print(\"Signature:\", signature_.hex())\n",
    "print(f'Signature in b64: {base64.b64encode(bytes([28]) + signature_).decode('ascii')}')\n",
    "print(\"Signature hex:\", binascii.hexlify(signature_).decode('ascii'))\n",
    "\n",
    "# Verify the signature\n",
    "print(public_key.verify(signature_, message_hash))\n"
   ]
  },
  {
   "cell_type": "code",
   "execution_count": 7,
   "metadata": {},
   "outputs": [
    {
     "name": "stdout",
     "output_type": "stream",
     "text": [
      "Signature: e62d0ef1f946ce48f1d2bb9981ff0c33e63982380cbd94f6599857864ecfb1f673b7592bb0792368ea24eea575a160fc25e7d70e777a83847c17b951c613078a\n",
      "Signature b64: HOYtDvH5Rs5I8dK7mYH/DDPmOYI4DL2U9lmYV4ZOz7H2c7dZK7B5I2jqJO6ldaFg/CXn1w53eoOEfBe5UcYTB4o=\n",
      "Public key: 03fbcc9ee2e6fc0936c7ade15eb570bf202af0fab2851a8e3e8dbb1bd7727b07b0\n"
     ]
    }
   ],
   "source": [
    "# Get the private key\n",
    "# private_key_hex = 'your_private_key_here'\n",
    "# private_key_bytes = bytes.fromhex(private_key_hex)\n",
    "# private_key = ecdsa.SigningKey.from_string(private_key_bytes, curve=ecdsa.SECP256k1)\n",
    "\n",
    "# The message to sign\n",
    "# message = 'your_message_here'\n",
    "\n",
    "# Sign the message\n",
    "signature = private_key_raw_1.sign(message_hash)\n",
    "print(f\"Signature: {signature.hex()}\")\n",
    "\n",
    "signature_b64 = base64.b64encode(bytes([28]) + signature).decode('ascii')\n",
    "print(f\"Signature b64: {signature_b64}\")\n",
    "\n",
    "# Print the signature in base64 format\n",
    "# signature_b64 = base64.b64encode(signature).decode('ascii')\n",
    "# signature_b64 = base64.b64decode(signature)\n",
    "# print(f\"Signature b64: {signature_b64}\")\n",
    "\n",
    "# Get the public key\n",
    "public_key: ecdsa.VerifyingKey = private_key_raw_1.get_verifying_key()\n",
    "print(f\"Public key: {public_key.to_string('compressed').hex()}\")\n"
   ]
  },
  {
   "cell_type": "markdown",
   "metadata": {},
   "source": [
    "### Verify a message"
   ]
  },
  {
   "cell_type": "code",
   "execution_count": 8,
   "metadata": {},
   "outputs": [
    {
     "name": "stdout",
     "output_type": "stream",
     "text": [
      "Signature valid\n"
     ]
    }
   ],
   "source": [
    "# Use the public key to verify a message\n",
    "# Verify the signature\n",
    "try:\n",
    "    public_key.verify(signature, message_hash)\n",
    "    print(\"Signature valid\")\n",
    "except ecdsa.BadSignatureError:\n",
    "    print(\"Signature invalid\")"
   ]
  },
  {
   "cell_type": "markdown",
   "metadata": {},
   "source": [
    "# Libraries for bitcoin keys"
   ]
  },
  {
   "cell_type": "markdown",
   "metadata": {},
   "source": [
    "### pybitcoin\n",
    "\n",
    "No longer maintained and does not work with python 3.12"
   ]
  },
  {
   "cell_type": "code",
   "execution_count": 9,
   "metadata": {
    "vscode": {
     "languageId": "shellscript"
    }
   },
   "outputs": [],
   "source": [
    "# pip install pybitcoin"
   ]
  },
  {
   "cell_type": "code",
   "execution_count": 10,
   "metadata": {},
   "outputs": [],
   "source": [
    "# from pybitcoin import BitcoinPrivateKey\n",
    "\n",
    "# # Generate a private key\n",
    "# private_key = BitcoinPrivateKey()\n",
    "# print(f\"Private key: {private_key.to_hex()}\")\n",
    "\n",
    "# # Generate a public key\n",
    "# public_key = private_key.public_key()\n",
    "# print(f\"Public key: {public_key.to_hex()}\")\n",
    "\n",
    "# # Generate a bitcoin address\n",
    "# bitcoin_address = public_key.address()\n",
    "# print(f\"Bitcoin address: {bitcoin_address}\")"
   ]
  },
  {
   "cell_type": "markdown",
   "metadata": {},
   "source": [
    "### bitcoin-utils\n",
    "\n",
    "Package appears damaged and does not work with python 3.12"
   ]
  },
  {
   "cell_type": "code",
   "execution_count": 11,
   "metadata": {
    "vscode": {
     "languageId": "shellscript"
    }
   },
   "outputs": [],
   "source": [
    "# pip install bitcoin-utils"
   ]
  },
  {
   "cell_type": "code",
   "execution_count": 12,
   "metadata": {},
   "outputs": [],
   "source": [
    "# from bitcoinutils.keys import PrivateKey, PublicKey\n",
    "\n",
    "# # Generate a private key\n",
    "# private_key = PrivateKey()\n",
    "# print(f\"Private key: {private_key.to_wif(compressed=True)}\")\n",
    "\n",
    "# # get the public key\n",
    "# public_key: PublicKey = private_key.get_public_key()\n",
    "# print(f\"Public key: {public_key.to_hex(compressed=True)}\")\n",
    "\n",
    "# # get the bitcoin address\n",
    "# bitcoin_address = public_key.get_address()\n",
    "# print(f\"Bitcoin address: {bitcoin_address.to_string()}\")\n",
    "# print(f'Hash160: {bitcoin_address.to_hash160()}')\n",
    "\n"
   ]
  },
  {
   "cell_type": "markdown",
   "metadata": {},
   "source": [
    "Sign a message with a private key and verify the signature with the public key."
   ]
  },
  {
   "cell_type": "code",
   "execution_count": 13,
   "metadata": {},
   "outputs": [],
   "source": [
    "# message: str = \"Hello\"\n",
    "# signature = private_key.sign_message(message)\n",
    "# print(f\"Signature: {signature}\")\n",
    "# # print(f\"Signature valid? {public_key.verify(message, signature)}\")\n",
    "# print(f\"Signature valid? {public_key.verify_message(public_key.get_address().to_string(), message, signature)}\")"
   ]
  },
  {
   "cell_type": "markdown",
   "metadata": {},
   "source": [
    "### python-bitcoinlib"
   ]
  },
  {
   "cell_type": "code",
   "execution_count": 14,
   "metadata": {
    "vscode": {
     "languageId": "shellscript"
    }
   },
   "outputs": [],
   "source": [
    "# pip install python-bitcoinlib"
   ]
  },
  {
   "cell_type": "code",
   "execution_count": 15,
   "metadata": {},
   "outputs": [
    {
     "name": "stdout",
     "output_type": "stream",
     "text": [
      "Private key: KykTXTqL8PKiEehYpGoZRicgXtzMEpCUbVVfaerDrDmVWvFHgCMY\n",
      "Public key: 03a4895267173c744c59a0b20d752923626a83eebc7572b4c0d96d1bb5c87e6669\n",
      "Bitcoin address: 1JVBF8LyqRUBQG4Nm2SMqqgwr87iGaEX5r\n",
      "Bitcoin message: b'Bitcoin Signed Message:\\n' b'Hello world!' 9b45fcc99ed84a7051317cc9c804b0235925ea1d9117cb9eb49b22efc3df28b3\n",
      "Signature: 48366451762f43335258756c4c594f532b4e495336475068487a424a2f6d6671526e44554d6c3670536f6b735252673954496a6c30654b6d45587434615a6e7056475146786b4a4e4c2f596f37326c38394552486171493d\n",
      "signature in b64: 1fa750bff0b7457ba52d8392f8d212e863e11f3049fe67ea4670d4325ea94a892c45183d4c88e5d1e2a6117b786999e9546405c6424d2ff628ef697cf444476aa2\n",
      "Signature valid? True\n"
     ]
    }
   ],
   "source": [
    "import secrets\n",
    "import base64\n",
    "from bitcoin.wallet import CBitcoinSecret, P2PKHBitcoinAddress, CBitcoinAddress\n",
    "from bitcoin.signmessage import BitcoinMessage, VerifyMessage, SignMessage\n",
    "from bitcoin.core import x, lx, b2x, b2lx, Hash160\n",
    "\n",
    "message_: str = \"Hello world!\"\n",
    "\n",
    "# Generate a private key\n",
    "private_key_ = CBitcoinSecret.from_secret_bytes(secrets.token_bytes(32))\n",
    "print(f\"Private key: {private_key_}\")\n",
    "\n",
    "# Generate a public key\n",
    "public_key_ = private_key_.pub\n",
    "print(f\"Public key: {public_key_.hex()}\")\n",
    "\n",
    "# Generate a bitcoin address\n",
    "bitcoin_address_ = P2PKHBitcoinAddress.from_pubkey(public_key_)\n",
    "# bitcoin_address_ = CBitcoinAddress(bitcoin_address_)\n",
    "print(f\"Bitcoin address: {bitcoin_address_}\")\n",
    "\n",
    "# Sign message\n",
    "bitcoin_msg = BitcoinMessage(message_)\n",
    "print(f\"Bitcoin message: {bitcoin_msg.magic} {bitcoin_msg.message} {bitcoin_msg.GetHash().hex()}\")\n",
    "\n",
    "signature_ = SignMessage(private_key_, bitcoin_msg)\n",
    "print(f\"Signature: {signature_.hex()}\")\n",
    "print(f'signature in b64: {base64.b64decode(signature_).hex()}')\n",
    "\n",
    "# verify the message\n",
    "print(f\"Signature valid? {VerifyMessage(bitcoin_address_, bitcoin_msg, signature_)}\")\n"
   ]
  },
  {
   "cell_type": "code",
   "execution_count": 16,
   "metadata": {},
   "outputs": [
    {
     "name": "stdout",
     "output_type": "stream",
     "text": [
      "Private key not encoded: 9c6a04655be616bd82b0de98f1bfa7cc7c22b4f58fa2d5ecafde701dcbbe2eff01\n",
      "Bitcoin private key: 9c6a04655be616bd82b0de98f1bfa7cc7c22b4f58fa2d5ecafde701dcbbe2eff01\n",
      "bitcoin public not encoded: 03fbcc9ee2e6fc0936c7ade15eb570bf202af0fab2851a8e3e8dbb1bd7727b07b0\n",
      "Bitcoin public key: 03fbcc9ee2e6fc0936c7ade15eb570bf202af0fab2851a8e3e8dbb1bd7727b07b0\n",
      "Bitcoin address from top: 12npbEnZ5VoBywYguSYXcTunkAXTVcaxQ2\n",
      "Bitcoin address from pubkey: 12npbEnZ5VoBywYguSYXcTunkAXTVcaxQ2\n"
     ]
    }
   ],
   "source": [
    "# verify the handmade message from the top\n",
    "# print(f'Private Key BAse58 Encoded: {base58.b58encode(private_key_raw + b\"\\x01\")}')\n",
    "print(f'Private key not encoded: {private_key_raw.hex() + \"01\"}')\n",
    "# bitccoin_private_key = CBitcoinSecret.from_secret_bytes(private_key_raw)\n",
    "bitccoin_private_key = CBitcoinSecret.from_secret_bytes(bytes.fromhex(private_key_raw.hex() + \"01\"), 0)\n",
    "bitccoin_private_key_bytes = bitccoin_private_key\n",
    "\n",
    "# print(f\"Bitcoin private key: {bitccoin_private_key_bytes.hex()[:-2]}\")\n",
    "print(f\"Bitcoin private key: {bitccoin_private_key_bytes.hex()}\")\n",
    "\n",
    "# bitcoin_public_key_bytes = bitccoin_private_key_bytes.pub\n",
    "# print(f'Public key base58 Encoded: {base58.b58encode(private_key.get_verifying_key().to_string('compressed'))}')\n",
    "print(f'bitcoin public not encoded: {private_key.get_verifying_key().to_string('compressed').hex()}')\n",
    "\n",
    "def compress_public_key(public_key: bytes) -> bytes:\n",
    "    x = public_key[:32]\n",
    "    y = public_key[32:]\n",
    "    if int.from_bytes(y, 'big') % 2 == 0:\n",
    "        return b'\\x02' + x\n",
    "    else:\n",
    "        return b'\\x03' + x\n",
    "    \n",
    "# bitcoin_public_key_bytes = compress_public_key(private_key_raw.get_verifying_key().to_string())\n",
    "bitcoin_public_key_bytes = private_key.get_verifying_key().to_string('compressed')\n",
    "print(f\"Bitcoin public key: {bitcoin_public_key_bytes.hex()}\")\n",
    "\n",
    "print(f\"Bitcoin address from top: {bitcoin_address}\")\n",
    "bitcoin_address_bytes = P2PKHBitcoinAddress.from_pubkey(bytes.fromhex(bitcoin_public_key_bytes.hex()))\n",
    "print(f\"Bitcoin address from pubkey: {bitcoin_address_bytes}\")\n",
    "\n",
    "# bitcoin_address_bytes = P2PKHBitcoinAddress.from_bytes(bytes.fromhex(bitcoin_public_key_bytes.hex()), 0)\n",
    "# print(f\"Bitcoin address: {bitcoin_address_bytes}\")\n"
   ]
  },
  {
   "cell_type": "code",
   "execution_count": 17,
   "metadata": {},
   "outputs": [
    {
     "name": "stdout",
     "output_type": "stream",
     "text": [
      "Bitcoin message: b'Bitcoin Signed Message:\\n' b'Hello world!' 9b45fcc99ed84a7051317cc9c804b0235925ea1d9117cb9eb49b22efc3df28b3\n",
      "signature from top: H6dQv/C3RXulLYOS+NIS6GPhHzBJ/mfqRnDUMl6pSoksRRg9TIjl0eKmEXt4aZnpVGQFxkJNL/Yo72l89ERHaqI=\n",
      "Signature from top b64: 494567325a4646324c304d7a556c68316245785a54314d72546b6c544e6b645161456836516b6f7662575a78556d3545565531734e6e42546232747a556c4a6e4f56524a616d77775a557474525668304e474661626e4257523146476547744b546b7776575738334d6d77344f555653534746785354303d\n",
      "Signature bytes: H85KUiAXT9g+jCMaaT9G5CA2icrAPOoEVwtpYRJIVY4TDp0mggweZI3VFkPx0k5mg6YANzHASxVg+i2hJFc7eKY=\n",
      "signature bytes decoded: 1fce4a5220174fd83e8c231a693f46e4203689cac03cea04570b69611248558e130e9d26820c1e648dd51643f1d24e6683a6003731c04b1560fa2da124573b78a6\n",
      "Signature valid? True\n"
     ]
    }
   ],
   "source": [
    "\n",
    "bitcoin_message_bytes = BitcoinMessage(message_)\n",
    "print(f\"Bitcoin message: {bitcoin_message_bytes.magic} {bitcoin_message_bytes.message} {bitcoin_message_bytes.GetHash().hex()}\")\n",
    "\n",
    "print(f'signature from top: {signature_.decode()}')\n",
    "# print(f'signature from top b64: {base64.b64encode(signature)}')\n",
    "# signature_bytes = signature.__bytes__()\n",
    "signature_bytes_b64 = base64.b64encode(bytes([32]) + signature_).hex()\n",
    "print(f\"Signature from top b64: {signature_bytes_b64}\")\n",
    "\n",
    "#sign message using bitcoin library\n",
    "signature_bytes = SignMessage(bitccoin_private_key, bitcoin_message_bytes)\n",
    "print(f\"Signature bytes: {signature_bytes.decode()}\")\n",
    "\n",
    "# print(f'signature_bytes_hex: {base64.b64encode(signature_bytes).hex()}')\n",
    "print(f'signature bytes decoded: {base64.b64decode(signature_bytes).hex()}')\n",
    "\n",
    "# verify the message\n",
    "print(f\"Signature valid? {VerifyMessage(bitcoin_address_bytes, bitcoin_message_bytes, signature_bytes)}\")"
   ]
  },
  {
   "cell_type": "markdown",
   "metadata": {},
   "source": []
  },
  {
   "cell_type": "code",
   "execution_count": 18,
   "metadata": {},
   "outputs": [
    {
     "name": "stdout",
     "output_type": "stream",
     "text": [
      "Private key: 9c6a04655be616bd82b0de98f1bfa7cc7c22b4f58fa2d5ecafde701dcbbe2eff\n",
      "Public key: 03fbcc9ee2e6fc0936c7ade15eb570bf202af0fab2851a8e3e8dbb1bd7727b07b0\n",
      "Bitcoin address: 12npbEnZ5VoBywYguSYXcTunkAXTVcaxQ2\n",
      "Message: 9b45fcc99ed84a7051317cc9c804b0235925ea1d9117cb9eb49b22efc3df28b3\n",
      "Signature: 7a52932848c460969d37acee64101a489ae1b09b19cb371a272b382091650d0d550a81deeb36496d190646efb34fb512ab4d1c54075baf54aa2c363a55210bb2\n",
      "Signature ascii: 7a52932848c460969d37acee64101a489ae1b09b19cb371a272b382091650d0d550a81deeb36496d190646efb34fb512ab4d1c54075baf54aa2c363a55210bb2\n",
      "Signature unhex: b\"zR\\x93(H\\xc4`\\x96\\x9d7\\xac\\xeed\\x10\\x1aH\\x9a\\xe1\\xb0\\x9b\\x19\\xcb7\\x1a'+8 \\x91e\\r\\rU\\n\\x81\\xde\\xeb6Im\\x19\\x06F\\xef\\xb3O\\xb5\\x12\\xabM\\x1cT\\x07[\\xafT\\xaa,6:U!\\x0b\\xb2\"\n",
      "Signature b64: IHpSkyhIxGCWnTes7mQQGkia4bCbGcs3GicrOCCRZQ0NVQqB3us2SW0ZBkbvs0+1EqtNHFQHW69Uqiw2OlUhC7I=\n",
      "Signature valid\n"
     ]
    }
   ],
   "source": [
    "# Get the private key\n",
    "private_key_hex = private_key_raw.hex()\n",
    "private_key_bytes = binascii.unhexlify(private_key_hex)\n",
    "private_key = ecdsa.SigningKey.from_string(private_key_bytes, curve=ecdsa.SECP256k1)\n",
    "print(f\"Private key: {private_key.to_string().hex()}\")\n",
    "\n",
    "# Get the public key\n",
    "public_key_hex = private_key.get_verifying_key().to_string('compressed').hex()\n",
    "public_key_bytes = binascii.unhexlify(public_key_hex)\n",
    "public_key = ecdsa.VerifyingKey.from_string(public_key_bytes, curve=ecdsa.SECP256k1)\n",
    "print(f\"Public key: {public_key.to_string('compressed').hex()}\")\n",
    "\n",
    "# Get the bitcoin address\n",
    "bitcoin_address = P2PKHBitcoinAddress.from_pubkey(public_key_bytes)\n",
    "print(f\"Bitcoin address: {bitcoin_address}\")\n",
    "\n",
    "# The message to sign\n",
    "message = bitcoin_message_bytes.GetHash()\n",
    "print(f\"Message: {message.hex()}\")\n",
    "\n",
    "# Sign the message\n",
    "signature = private_key.sign(message)\n",
    "\n",
    "# Print the signature in hexadecimal format\n",
    "print(f\"Signature: {binascii.hexlify(signature).decode()}\")\n",
    "print(f\"Signature ascii: {binascii.hexlify(signature).decode('ascii')}\")\n",
    "\n",
    "signature_hex = binascii.hexlify(signature).decode('ascii')\n",
    "\n",
    "# The signature\n",
    "signature_unhex = binascii.unhexlify(signature_hex.encode('ascii'))\n",
    "print(f\"Signature unhex: {signature_unhex}\")\n",
    "\n",
    "# signature from b64\n",
    "# signature_from_b64 = base64.b64decode(signature_hex)\n",
    "# print(f\"Signature from b64: {signature_from_b64}\")\n",
    "\n",
    "# signature base64\n",
    "signature_b64 = base64.b64encode(bytes([32]) + signature_unhex).decode('ascii')\n",
    "print(f\"Signature b64: {signature_b64}\")\n",
    "\n",
    "# Verify the signature\n",
    "try:\n",
    "    public_key.verify(signature_unhex, message)\n",
    "    print(\"Signature valid\")\n",
    "except ecdsa.BadSignatureError:\n",
    "    print(\"Signature invalid\")"
   ]
  },
  {
   "cell_type": "code",
   "execution_count": 19,
   "metadata": {
    "vscode": {
     "languageId": "shellscript"
    }
   },
   "outputs": [],
   "source": [
    "# pip install pybitcoin"
   ]
  },
  {
   "cell_type": "code",
   "execution_count": 20,
   "metadata": {},
   "outputs": [],
   "source": [
    "# !pip install bitcoin\n",
    "\n",
    "# from pybitcoin import privtopub, ecdsa_raw_sign, encode_sig\n",
    "\n",
    "# # Get the private key and message\n",
    "# private_key = 'your_private_key_here'\n",
    "# message = 'your_message_here'\n",
    "\n",
    "# # Get the public key\n",
    "# public_key = privtopub(private_key)\n",
    "\n",
    "# # Sign the message\n",
    "# r, s = ecdsa_raw_sign(message, private_key)\n",
    "\n",
    "# # Calculate the recovery id\n",
    "# recovery_id = 27 + (public_key[64] % 2)\n",
    "\n",
    "# # Encode the signature in compact format\n",
    "# compact_signature = encode_sig(recovery_id, r, s)\n",
    "\n",
    "# print(f\"Compact signature: {compact_signature}\")"
   ]
  },
  {
   "cell_type": "code",
   "execution_count": 21,
   "metadata": {},
   "outputs": [
    {
     "name": "stdout",
     "output_type": "stream",
     "text": [
      "Private key: b'8\\xab\\x85\\x82\\x1c\\xceb\\xfc\\x97\\xc3__\\xa7\\x8f\\x82\\x05\\x1c\\xe4f\\xb0{o/S\\xb1\\xad\\x08\\xe2\\xca\\xe3\\xb3e'\n",
      "Private key hex: 38ab85821cce62fc97c35f5fa78f82051ce466b07b6f2f53b1ad08e2cae3b365\n",
      "Message: Hello world!\n",
      "Signature: b'\\xe1#\\xb3=\\x83\\xa99\\x97\\xae2\\xedl\\xfc\\x10\\xe5A\\xf1\\x1dN{F0\\x9d3\\xe2z\\x03!-\\xe4\\x0f\\xa5\\xbd\\xc0\\xfd\\x1fZ\\xd1)\\xb6\\x97\\xaa\\x8fJ!z\\xfeh\\xfag\"aD%q\\xbeo\\xb8\\xbf\\xe8-\\x8e\\xf5b'\n",
      "Signature hex: e123b33d83a93997ae32ed6cfc10e541f11d4e7b46309d33e27a03212de40fa5bdc0fd1f5ad129b697aa8f4a217afe68fa672261442571be6fb8bfe82d8ef562\n",
      "Signature b64: IOEjsz2DqTmXrjLtbPwQ5UHxHU57RjCdM+J6AyEt5A+lvcD9H1rRKbaXqo9KIXr+aPpnImFEJXG+b7i/6C2O9WI=\n",
      "Public key formatted: 049292d2b6178267267aee6be56312ec546325cab4b19db2165a8b74860d717c456b610da352ba0cb6cd398051d44341acf8e4fcf1fdd9e1648ce3f76db2a696d3\n",
      "Public key compressed hex: 039292d2b6178267267aee6be56312ec546325cab4b19db2165a8b74860d717c45\n",
      "Public key uncompressed: 049292d2b6178267267aee6be56312ec546325cab4b19db2165a8b74860d717c456b610da352ba0cb6cd398051d44341acf8e4fcf1fdd9e1648ce3f76db2a696d3\n",
      "Signature valid (Check from pubkey)? True\n",
      "Bitcoin message: b'Bitcoin Signed Message:\\n' b'Hello world!' 9b45fcc99ed84a7051317cc9c804b0235925ea1d9117cb9eb49b22efc3df28b3\n",
      "Bitcoin private key: 5JFF97jwYrhn9cJmMpgYEgGNFPZRG5BRiWdrt1YgsADFgbJo9CV\n",
      "Bitcoin private key Hex: 38ab85821cce62fc97c35f5fa78f82051ce466b07b6f2f53b1ad08e2cae3b365\n",
      "Bitcoin public key: 1D424jVx6pnuDvHRezUiYPqs6NAx88w3uE\n",
      "bitcoin public key hex: 8433a5514badc5936202422a14fcf5996e3355eb\n",
      "Bitcoin public key: CPubKey(b'\\x04\\x92\\x92\\xd2\\xb6\\x17\\x82g&z\\xeek\\xe5c\\x12\\xecTc%\\xca\\xb4\\xb1\\x9d\\xb2\\x16Z\\x8bt\\x86\\rq|Eka\\r\\xa3R\\xba\\x0c\\xb6\\xcd9\\x80Q\\xd4CA\\xac\\xf8\\xe4\\xfc\\xf1\\xfd\\xd9\\xe1d\\x8c\\xe3\\xf7m\\xb2\\xa6\\x96\\xd3')\n",
      "Bitcoin public key hex: 049292d2b6178267267aee6be56312ec546325cab4b19db2165a8b74860d717c456b610da352ba0cb6cd398051d44341acf8e4fcf1fdd9e1648ce3f76db2a696d3\n",
      "Bitcoin address: 1EQf9expXsifwuDbFGrtSKirtVnpAgQjCM\n",
      "Bitcoin signed message: b'HIFG5pCaOXdf8qjrFyb1e8M9JC/OqzJ4O2mMw9JLwvVWdv2Q2SlSodJJtgLo0TnyRwvSKc8UUbsDerCWoh2pN7E='\n",
      "Bitcoin signed message base64decode: 1c8146e6909a39775ff2a8eb1726f57bc33d242fceab32783b698cc3d24bc2f55676fd90d92952a1d249b602e8d139f2470bd229cf1451bb037ab096a21da937b1\n",
      "Signature valid? True\n"
     ]
    }
   ],
   "source": [
    "import hashlib\n",
    "import ecdsa\n",
    "import binascii\n",
    "from bitcoin.signmessage import BitcoinMessage, VerifyMessage, SignMessage\n",
    "\n",
    "def sign_message(private_key_hex, message):\n",
    "    private_key_bytes = binascii.unhexlify(private_key_hex)\n",
    "    private_key = ecdsa.SigningKey.from_string(private_key_bytes, curve=ecdsa.SECP256k1)\n",
    "\n",
    "    magic_message = b'\\x18Bitcoin Signed Message:\\n' + len(message).to_bytes(1, 'big') + message.encode()\n",
    "    magic_message_hash = hashlib.sha256(hashlib.sha256(magic_message).digest()).digest()\n",
    "\n",
    "    signature = private_key.sign(magic_message_hash)\n",
    "    print(f\"Signature: {signature}\")\n",
    "    # return binascii.hexlify(signature).decode()\n",
    "    return signature\n",
    "\n",
    "private_key = ecdsa.SigningKey.generate(curve=ecdsa.SECP256k1, hashfunc=hashlib.sha256)\n",
    "print(f\"Private key: {private_key.to_string()}\")\n",
    "\n",
    "private_key_hex = private_key.to_string().hex()\n",
    "print(f\"Private key hex: {private_key_hex}\")\n",
    "\n",
    "message = 'Hello world!'\n",
    "print(f\"Message: {message}\")\n",
    "\n",
    "signature = sign_message(private_key_hex, message)\n",
    "print(f\"Signature hex: {signature.hex()}\")\n",
    "\n",
    "signature_b64 = base64.b64encode(bytes([32]) + signature).decode()\n",
    "print(f\"Signature b64: {signature_b64}\")\n",
    "\n",
    "# Verify the signature\n",
    "def verify_signature(public_key_hex, signature, message):\n",
    "    public_key_bytes = binascii.unhexlify(public_key_hex)\n",
    "    public_key = ecdsa.VerifyingKey.from_string(public_key_bytes, curve=ecdsa.SECP256k1)\n",
    "\n",
    "    magic_message = b'\\x18Bitcoin Signed Message:\\n' + len(message).to_bytes(1, 'big') + message.encode()\n",
    "    magic_message_hash = hashlib.sha256(hashlib.sha256(magic_message).digest()).digest()\n",
    "\n",
    "    return public_key.verify(signature, magic_message_hash)\n",
    "\n",
    "public_key = private_key.get_verifying_key()\n",
    "public_key_formatted = '04' + public_key.to_string().hex()\n",
    "print(f\"Public key formatted: {'04' + public_key.to_string().hex()}\")\n",
    "\n",
    "public_key_hex = public_key.to_string('compressed').hex()\n",
    "print(f\"Public key compressed hex: {public_key_hex}\")\n",
    "\n",
    "public_key_uncompressed = public_key.to_string('uncompressed').hex()\n",
    "print(f\"Public key uncompressed: {public_key_uncompressed}\")\n",
    "\n",
    "print(f\"Signature valid (Check from pubkey)? {verify_signature(public_key_hex, signature, message)}\")\n",
    "\n",
    "# verify the signature using the python-bitcoinlib library\n",
    "bitcoin_message = BitcoinMessage(message)\n",
    "print(f\"Bitcoin message: {bitcoin_message.magic} {bitcoin_message.message} {bitcoin_message.GetHash().hex()}\")\n",
    "\n",
    "bitcoin_private_key = CBitcoinSecret.from_secret_bytes(bytes.fromhex(private_key_hex), 0)\n",
    "print(f\"Bitcoin private key: {bitcoin_private_key}\")\n",
    "print(f\"Bitcoin private key Hex: {bitcoin_private_key.hex()}\")\n",
    "\n",
    "# bitcoin_public_from_bitcoin_private = bitcoin_private_key.pub\n",
    "\n",
    "bitcoin_public_key = P2PKHBitcoinAddress.from_pubkey(bytes.fromhex(public_key_hex))\n",
    "print(f\"Bitcoin public key: {bitcoin_public_key}\")\n",
    "print(f'bitcoin public key hex: {bitcoin_public_key.to_bytes().hex()}')\n",
    "# print(f\"Bitcoin public key Hex: {bitcoin_public_key.to_scriptPubKey().hex()}\")\n",
    "\n",
    "bitcoin_public_key = bitcoin_private_key.pub\n",
    "print(f\"Bitcoin public key: {bitcoin_public_key}\")\n",
    "print(f\"Bitcoin public key hex: {bitcoin_public_key.hex()}\")\n",
    "\n",
    "bitcoin_address = P2PKHBitcoinAddress.from_pubkey(bitcoin_public_key)\n",
    "print(f\"Bitcoin address: {bitcoin_address}\")\n",
    "\n",
    "bitcoin_signed_message = SignMessage(bitcoin_private_key, bitcoin_message)\n",
    "print(f\"Bitcoin signed message: {bitcoin_signed_message}\")\n",
    "print(f\"Bitcoin signed message base64decode: {base64.b64decode(bitcoin_signed_message).hex()}\")\n",
    "\n",
    "print(f\"Signature valid? {VerifyMessage(bitcoin_address, bitcoin_message, bitcoin_signed_message)}\")\n"
   ]
  }
 ],
 "metadata": {
  "kernelspec": {
   "display_name": ".venv",
   "language": "python",
   "name": "python3"
  },
  "language_info": {
   "codemirror_mode": {
    "name": "ipython",
    "version": 3
   },
   "file_extension": ".py",
   "mimetype": "text/x-python",
   "name": "python",
   "nbconvert_exporter": "python",
   "pygments_lexer": "ipython3",
   "version": "3.12.0"
  }
 },
 "nbformat": 4,
 "nbformat_minor": 2
}
