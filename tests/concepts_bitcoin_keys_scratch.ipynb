{
 "cells": [
  {
   "cell_type": "markdown",
   "metadata": {},
   "source": [
    "# Bitcoin Key Pairs"
   ]
  },
  {
   "cell_type": "code",
   "execution_count": 1,
   "metadata": {
    "vscode": {
     "languageId": "shellscript"
    }
   },
   "outputs": [],
   "source": [
    "# pip install ecdsa"
   ]
  },
  {
   "cell_type": "markdown",
   "metadata": {},
   "source": [
    "## Manual Key Generation"
   ]
  },
  {
   "cell_type": "code",
   "execution_count": 2,
   "metadata": {},
   "outputs": [
    {
     "name": "stdout",
     "output_type": "stream",
     "text": [
      "Private key raw: e2b5f6538effcf0080503e4acb1e0ec11ae1632844883d47a0f936595b767038\u0001\n",
      "Private key: e2b5f6538effcf0080503e4acb1e0ec11ae1632844883d47a0f936595b767038\n",
      "Public key compressed hex: 028d4455ba8d8dcfc29c1c40a3d354b6d0fcd8fe0e90922377da14ccf06ddc86b2\n",
      "Public key uncompressed hex: 048d4455ba8d8dcfc29c1c40a3d354b6d0fcd8fe0e90922377da14ccf06ddc86b2a0dfd1b1c05a060a9dbd1213527cb87c713be45e89e592209bb41e5507b352ec\n"
     ]
    }
   ],
   "source": [
    "import ecdsa\n",
    "import binascii\n",
    "import hashlib\n",
    "\n",
    "\n",
    "# # Generate a private key\n",
    "private_key_raw_object = ecdsa.SigningKey.generate(curve=ecdsa.SECP256k1, hashfunc=hashlib.sha256)\n",
    "print(\"Private key raw:\", (private_key_raw_object.to_string().hex()) + '\\x01')\n",
    "\n",
    "private_key_raw = private_key_raw_object.to_string()\n",
    "\n",
    "# Get the private key\n",
    "# private_key_hex = private_key_raw.to_string().hex()\n",
    "# private_key_bytes = binascii.unhexlify(private_key_hex)\n",
    "private_key = ecdsa.SigningKey.from_string(private_key_raw, curve=ecdsa.SECP256k1, hashfunc=hashlib.sha256)\n",
    "print(\"Private key:\", private_key.to_string().hex())\n",
    "\n",
    "# Get the public key\n",
    "# public_key: ecdsa.VerifyingKey = private_key.get_verifying_key()\n",
    "public_key = private_key.get_verifying_key()\n",
    "\n",
    "# Print the public key in hexadecimal format\n",
    "print(f\"Public key compressed hex: {public_key.to_string(\"compressed\").hex()}\")\n",
    "print(f\"Public key uncompressed hex: {public_key.to_string(\"uncompressed\").hex()}\")\n"
   ]
  },
  {
   "cell_type": "markdown",
   "metadata": {},
   "source": [
    "While the public key is correct it is not in the proper format. "
   ]
  },
  {
   "cell_type": "markdown",
   "metadata": {},
   "source": [
    "## Bitcoin Address\n",
    "\n",
    "Finding the bitcoin public key or bitcoin address from the private key is a bit more complicated.\n",
    "\n",
    "The public key is a point on the elliptic curve, but it is not in the proper format. The proper format is a 65 byte array with the first byte being 0x04 and the next 32 bytes being the x coordinate and the last 32 bytes being the y coordinate. The x and y coordinates are 32 bytes each because they are 256 bit numbers. The first byte is 0x04 because it is an uncompressed public key. There are compressed public keys which are 33 bytes long, but we will not be using them."
   ]
  },
  {
   "cell_type": "markdown",
   "metadata": {},
   "source": [
    "### Create a bitcoin address"
   ]
  },
  {
   "cell_type": "code",
   "execution_count": 3,
   "metadata": {},
   "outputs": [
    {
     "name": "stdout",
     "output_type": "stream",
     "text": [
      "SHA256:  2e1243d7b0309d4f0052c2ecd13a4b072c3ae75e48cfcb44c33a700ee19818d1\n",
      "RIPEMD-160:  52d92c99eeff040fd973836fdeaa29b51fbbd5d1\n",
      "Address checksum:  091d90ba\n",
      "Binary Bitcoin Address:  0052d92c99eeff040fd973836fdeaa29b51fbbd5d1091d90ba\n",
      "Bitcoin address:  18Z4aG4eNhwvjTVn6fK7Lrbz9CaULMznvV\n"
     ]
    }
   ],
   "source": [
    "import hashlib\n",
    "import base58\n",
    "\n",
    "# Generate a bitcoin address\n",
    "# Step 1: Hash public key\n",
    "sha256: bytes = hashlib.sha256(public_key.to_string('compressed')).digest()\n",
    "print(\"SHA256: \", sha256.hex())\n",
    "\n",
    "# Step 2: Perform RIPEMD-160 hashing on the result of SHA256\n",
    "ripemd160 = hashlib.new('ripemd160')\n",
    "ripemd160.update(sha256)\n",
    "hashed_public_key = ripemd160.digest()\n",
    "print(\"RIPEMD-160: \", hashed_public_key.hex())\n",
    "\n",
    "# Step 3: Add version byte in front of RIPEMD-160 hash (0x00 for Main Network)\n",
    "hashed_public_key = b'\\x00' + hashed_public_key\n",
    "\n",
    "# Step 4: Perform SHA256 hash on the extended RIPEMD-160 result\n",
    "double_sha256 = hashlib.sha256(hashlib.sha256(hashed_public_key).digest()).digest()\n",
    "\n",
    "# Step 5: Take the first 4 bytes of the second SHA256 hash. This is the address checksum\n",
    "address_checksum = double_sha256[:4]\n",
    "print(\"Address checksum: \", address_checksum.hex())\n",
    "\n",
    "# Step 6: Add the 4 checksum bytes from stage 5 at the end of extended RIPEMD-160 hash from stage 4. This is the 25-byte binary Bitcoin Address.\n",
    "binary_bitcoin_address = hashed_public_key + address_checksum\n",
    "print(\"Binary Bitcoin Address: \", binary_bitcoin_address.hex())\n",
    "\n",
    "# Step 7: Convert the result from a byte string into a base58 string using Base58Check encoding. This is the most commonly used Bitcoin Address format\n",
    "bitcoin_address = base58.b58encode(binary_bitcoin_address).decode()\n",
    "print(\"Bitcoin address: \", bitcoin_address)"
   ]
  },
  {
   "cell_type": "markdown",
   "metadata": {},
   "source": [
    "### Verify a bitcoin address"
   ]
  },
  {
   "cell_type": "code",
   "execution_count": 4,
   "metadata": {},
   "outputs": [
    {
     "name": "stdout",
     "output_type": "stream",
     "text": [
      "Bitcoin address is valid: True\n"
     ]
    }
   ],
   "source": [
    "# Verify that the bitcoin address is correct\n",
    "# Step 1: Decode Base58 Bitcoin Address\n",
    "binary_bitcoin_address_check = base58.b58decode(bitcoin_address)\n",
    "\n",
    "# Step 2: Extract Bitcoin Address from decoded Base58 Bitcoin Address\n",
    "binary_bitcoin_address = binary_bitcoin_address_check[:-4]\n",
    "\n",
    "# Step 3: Extract Bitcoin Address Checksum from decoded Base58 Bitcoin Address\n",
    "binary_bitcoin_address_checksum = binary_bitcoin_address_check[-4:]\n",
    "\n",
    "# Step 4: Perform SHA256 hash on the extended RIPEMD-160 result\n",
    "double_sha256 = hashlib.sha256(hashlib.sha256(binary_bitcoin_address).digest()).digest()\n",
    "\n",
    "# Step 5: Take the first 4 bytes of the second SHA256 hash. This is the address checksum\n",
    "address_checksum = double_sha256[:4]\n",
    "\n",
    "# Step 6: Verify that the address checksum from decoded Base58 Bitcoin Address is equal to the address checksum from the SHA256 hash\n",
    "print(\"Bitcoin address is valid:\", binary_bitcoin_address_checksum == address_checksum)"
   ]
  },
  {
   "cell_type": "markdown",
   "metadata": {},
   "source": [
    "## Signing Messages\n",
    "\n",
    "### Sign a message"
   ]
  },
  {
   "cell_type": "code",
   "execution_count": 5,
   "metadata": {},
   "outputs": [],
   "source": [
    "def encode_varint(i: int) -> bytes:\n",
    "    \"\"\"\n",
    "    Encode a potentially very large integer into varint bytes. The length should be\n",
    "    specified in little-endian.\n",
    "\n",
    "    https://bitcoin.org/en/developer-reference#compactsize-unsigned-integers\n",
    "    \"\"\"\n",
    "    if i < 253:\n",
    "        return bytes([i])\n",
    "    elif i < 0x10000:\n",
    "        return b\"\\xfd\" + i.to_bytes(2, \"little\")\n",
    "    elif i < 0x100000000:\n",
    "        return b\"\\xfe\" + i.to_bytes(4, \"little\")\n",
    "    elif i < 0x10000000000000000:\n",
    "        return b\"\\xff\" + i.to_bytes(8, \"little\")\n",
    "    else:\n",
    "        raise ValueError(\"Integer is too large: %d\" % i)"
   ]
  },
  {
   "cell_type": "code",
   "execution_count": 6,
   "metadata": {},
   "outputs": [
    {
     "name": "stdout",
     "output_type": "stream",
     "text": [
      "Message hash: 9b45fcc99ed84a7051317cc9c804b0235925ea1d9117cb9eb49b22efc3df28b3\n",
      "Signature in b64: HAPIdfaLSOAdHqTZgyfKO0YjhUPjHfaEKmzT1EO/llk2xEkHRRqwPeKBDFmrvA2z1t3/Wh5fPV5MWrcA4pYw+Uw=\n",
      "Signature hex: 03c875f68b48e01d1ea4d98327ca3b46238543e31df6842a6cd3d443bf965936c44907451ab03de2810c59abbc0db3d6ddff5a1e5f3d5e4c5ab700e29630f94c\n",
      "True\n"
     ]
    }
   ],
   "source": [
    "# Path: concepts_bitcoin_transactions.ipynb\n",
    "import base64\n",
    "\n",
    "private_key_raw_1 = private_key_raw_object\n",
    "msg = b\"Hello world!\"\n",
    "msg_size = encode_varint(len(msg))\n",
    "message_hash = hashlib.sha256(hashlib.sha256(b'\\x18Bitcoin Signed Message:\\n' + msg_size + msg).digest()).digest()\n",
    "print(\"Message hash:\", message_hash.hex())\n",
    "\n",
    "signature_ = private_key_raw_1.sign_deterministic(message_hash)\n",
    "# Use the private key to sign a message\n",
    "# message = bytes(\"Bitcoin Signed Message:\\nHello world!\", \"utf-8\")\n",
    "# message = b\"\\x18Bitcoin Signed Message:\\n\" + msg_size + msg\n",
    "# message_size = encode_varint(len(message))\n",
    "# signature_ = private_key.sign_deterministic(hashlib.sha256(hashlib.sha256(message).digest()).digest())\n",
    "# print(\"Signature:\", signature_.hex())\n",
    "print(f'Signature in b64: {base64.b64encode(bytes([28]) + signature_).decode('ascii')}')\n",
    "print(\"Signature hex:\", binascii.hexlify(signature_).decode('ascii'))\n",
    "\n",
    "# Verify the signature\n",
    "print(public_key.verify(signature_, message_hash))\n"
   ]
  },
  {
   "cell_type": "code",
   "execution_count": 7,
   "metadata": {},
   "outputs": [
    {
     "name": "stdout",
     "output_type": "stream",
     "text": [
      "Signature: 66e320150507b7e8150cd3ecccdaba69664dbe230b63ad882345dc3154eba336872c4de6ebfb6b427d84069eeec3f44f7e27241f53e8b84686b23d807c904840\n",
      "Signature b64: HGbjIBUFB7foFQzT7MzaumlmTb4jC2OtiCNF3DFU66M2hyxN5uv7a0J9hAae7sP0T34nJB9T6LhGhrI9gHyQSEA=\n",
      "Public key: 028d4455ba8d8dcfc29c1c40a3d354b6d0fcd8fe0e90922377da14ccf06ddc86b2\n"
     ]
    }
   ],
   "source": [
    "# Get the private key\n",
    "# private_key_hex = 'your_private_key_here'\n",
    "# private_key_bytes = bytes.fromhex(private_key_hex)\n",
    "# private_key = ecdsa.SigningKey.from_string(private_key_bytes, curve=ecdsa.SECP256k1)\n",
    "\n",
    "# The message to sign\n",
    "# message = 'your_message_here'\n",
    "\n",
    "# Sign the message\n",
    "signature = private_key_raw_1.sign(message_hash)\n",
    "print(f\"Signature: {signature.hex()}\")\n",
    "\n",
    "signature_b64 = base64.b64encode(bytes([28]) + signature).decode('ascii')\n",
    "print(f\"Signature b64: {signature_b64}\")\n",
    "\n",
    "# Print the signature in base64 format\n",
    "# signature_b64 = base64.b64encode(signature).decode('ascii')\n",
    "# signature_b64 = base64.b64decode(signature)\n",
    "# print(f\"Signature b64: {signature_b64}\")\n",
    "\n",
    "# Get the public key\n",
    "public_key: ecdsa.VerifyingKey = private_key_raw_1.get_verifying_key()\n",
    "print(f\"Public key: {public_key.to_string('compressed').hex()}\")\n"
   ]
  },
  {
   "cell_type": "markdown",
   "metadata": {},
   "source": [
    "### Verify a message"
   ]
  },
  {
   "cell_type": "code",
   "execution_count": 8,
   "metadata": {},
   "outputs": [
    {
     "name": "stdout",
     "output_type": "stream",
     "text": [
      "Signature valid\n"
     ]
    }
   ],
   "source": [
    "# Use the public key to verify a message\n",
    "# Verify the signature\n",
    "try:\n",
    "    public_key.verify(signature, message_hash)\n",
    "    print(\"Signature valid\")\n",
    "except ecdsa.BadSignatureError:\n",
    "    print(\"Signature invalid\")"
   ]
  },
  {
   "cell_type": "markdown",
   "metadata": {},
   "source": [
    "# Libraries for bitcoin keys"
   ]
  },
  {
   "cell_type": "markdown",
   "metadata": {},
   "source": [
    "### pybitcoin\n",
    "\n",
    "No longer maintained and does not work with python 3.12"
   ]
  },
  {
   "cell_type": "code",
   "execution_count": 9,
   "metadata": {
    "vscode": {
     "languageId": "shellscript"
    }
   },
   "outputs": [],
   "source": [
    "# pip install pybitcoin"
   ]
  },
  {
   "cell_type": "code",
   "execution_count": 10,
   "metadata": {},
   "outputs": [],
   "source": [
    "# from pybitcoin import BitcoinPrivateKey\n",
    "\n",
    "# # Generate a private key\n",
    "# private_key = BitcoinPrivateKey()\n",
    "# print(f\"Private key: {private_key.to_hex()}\")\n",
    "\n",
    "# # Generate a public key\n",
    "# public_key = private_key.public_key()\n",
    "# print(f\"Public key: {public_key.to_hex()}\")\n",
    "\n",
    "# # Generate a bitcoin address\n",
    "# bitcoin_address = public_key.address()\n",
    "# print(f\"Bitcoin address: {bitcoin_address}\")"
   ]
  },
  {
   "cell_type": "markdown",
   "metadata": {},
   "source": [
    "### bitcoin-utils\n",
    "\n",
    "Package appears damaged and does not work with python 3.12"
   ]
  },
  {
   "cell_type": "code",
   "execution_count": 11,
   "metadata": {
    "vscode": {
     "languageId": "shellscript"
    }
   },
   "outputs": [],
   "source": [
    "# pip install bitcoin-utils"
   ]
  },
  {
   "cell_type": "code",
   "execution_count": 12,
   "metadata": {},
   "outputs": [],
   "source": [
    "# from bitcoinutils.keys import PrivateKey, PublicKey\n",
    "\n",
    "# # Generate a private key\n",
    "# private_key = PrivateKey()\n",
    "# print(f\"Private key: {private_key.to_wif(compressed=True)}\")\n",
    "\n",
    "# # get the public key\n",
    "# public_key: PublicKey = private_key.get_public_key()\n",
    "# print(f\"Public key: {public_key.to_hex(compressed=True)}\")\n",
    "\n",
    "# # get the bitcoin address\n",
    "# bitcoin_address = public_key.get_address()\n",
    "# print(f\"Bitcoin address: {bitcoin_address.to_string()}\")\n",
    "# print(f'Hash160: {bitcoin_address.to_hash160()}')\n",
    "\n"
   ]
  },
  {
   "cell_type": "markdown",
   "metadata": {},
   "source": [
    "Sign a message with a private key and verify the signature with the public key."
   ]
  },
  {
   "cell_type": "code",
   "execution_count": 13,
   "metadata": {},
   "outputs": [],
   "source": [
    "# message: str = \"Hello\"\n",
    "# signature = private_key.sign_message(message)\n",
    "# print(f\"Signature: {signature}\")\n",
    "# # print(f\"Signature valid? {public_key.verify(message, signature)}\")\n",
    "# print(f\"Signature valid? {public_key.verify_message(public_key.get_address().to_string(), message, signature)}\")"
   ]
  },
  {
   "cell_type": "markdown",
   "metadata": {},
   "source": [
    "### python-bitcoinlib"
   ]
  },
  {
   "cell_type": "code",
   "execution_count": 14,
   "metadata": {
    "vscode": {
     "languageId": "shellscript"
    }
   },
   "outputs": [],
   "source": [
    "# pip install python-bitcoinlib"
   ]
  },
  {
   "cell_type": "code",
   "execution_count": 15,
   "metadata": {},
   "outputs": [
    {
     "name": "stdout",
     "output_type": "stream",
     "text": [
      "Private key: Kx8mFgzxTKQnnU8zHBt7mohuwDhNmSCcbhMJ1bHqawfAWjzWbPks\n",
      "Public key: 0266bce94eabc9eda9a407623673861415152e781083be19ea8fb517f20b5f07fb\n",
      "Bitcoin address: 1GGHR5iyMky2UobpDxm6C6PDJYD1MHMAdZ\n",
      "Bitcoin message: b'Bitcoin Signed Message:\\n' b'Hello world!' 9b45fcc99ed84a7051317cc9c804b0235925ea1d9117cb9eb49b22efc3df28b3\n",
      "Signature: 49446b574d6947664d34396775427a742b5a4d51497836437639663278465842536e63544f34644b7376416a626e6474512b33495a76554f336b58544e7572584e4d466e4b7261384677546438387a496e6b7149364f513d\n",
      "signature in b64: 20391632219f338f60b81cedf99310231e82bfd7f6c455c14a77133b874ab2f0236e776d43edc866f50ede45d336ead734c1672ab6bc1704ddf3ccc89e4a88e8e4\n",
      "Signature valid? True\n"
     ]
    }
   ],
   "source": [
    "import secrets\n",
    "import base64\n",
    "from bitcoin.wallet import CBitcoinSecret, P2PKHBitcoinAddress, CBitcoinAddress\n",
    "from bitcoin.signmessage import BitcoinMessage, VerifyMessage, SignMessage\n",
    "from bitcoin.core import x, lx, b2x, b2lx, Hash160\n",
    "\n",
    "message_: str = \"Hello world!\"\n",
    "\n",
    "# Generate a private key\n",
    "private_key_ = CBitcoinSecret.from_secret_bytes(secrets.token_bytes(32))\n",
    "print(f\"Private key: {private_key_}\")\n",
    "\n",
    "# Generate a public key\n",
    "public_key_ = private_key_.pub\n",
    "print(f\"Public key: {public_key_.hex()}\")\n",
    "\n",
    "# Generate a bitcoin address\n",
    "bitcoin_address_ = P2PKHBitcoinAddress.from_pubkey(public_key_)\n",
    "# bitcoin_address_ = CBitcoinAddress(bitcoin_address_)\n",
    "print(f\"Bitcoin address: {bitcoin_address_}\")\n",
    "\n",
    "# Sign message\n",
    "bitcoin_msg = BitcoinMessage(message_)\n",
    "print(f\"Bitcoin message: {bitcoin_msg.magic} {bitcoin_msg.message} {bitcoin_msg.GetHash().hex()}\")\n",
    "\n",
    "signature_ = SignMessage(private_key_, bitcoin_msg)\n",
    "print(f\"Signature: {signature_.hex()}\")\n",
    "print(f'signature in b64: {base64.b64decode(bytes([32]) + signature_).hex()}')\n",
    "\n",
    "# verify the message\n",
    "print(f\"Signature valid? {VerifyMessage(bitcoin_address_, bitcoin_msg, signature_)}\")\n"
   ]
  },
  {
   "cell_type": "code",
   "execution_count": 16,
   "metadata": {},
   "outputs": [
    {
     "name": "stdout",
     "output_type": "stream",
     "text": [
      "Private key not encoded: e2b5f6538effcf0080503e4acb1e0ec11ae1632844883d47a0f936595b76703801\n",
      "Bitcoin private key: e2b5f6538effcf0080503e4acb1e0ec11ae1632844883d47a0f936595b76703801\n",
      "bitcoin public not encoded: 028d4455ba8d8dcfc29c1c40a3d354b6d0fcd8fe0e90922377da14ccf06ddc86b2\n",
      "Bitcoin public key: 028d4455ba8d8dcfc29c1c40a3d354b6d0fcd8fe0e90922377da14ccf06ddc86b2\n",
      "Bitcoin address from top: 18Z4aG4eNhwvjTVn6fK7Lrbz9CaULMznvV\n",
      "Bitcoin address from pubkey: 18Z4aG4eNhwvjTVn6fK7Lrbz9CaULMznvV\n"
     ]
    }
   ],
   "source": [
    "# verify the handmade message from the top\n",
    "# print(f'Private Key BAse58 Encoded: {base58.b58encode(private_key_raw + b\"\\x01\")}')\n",
    "print(f'Private key not encoded: {private_key_raw.hex() + \"01\"}')\n",
    "# bitccoin_private_key = CBitcoinSecret.from_secret_bytes(private_key_raw)\n",
    "bitccoin_private_key = CBitcoinSecret.from_secret_bytes(bytes.fromhex(private_key_raw.hex() + \"01\"), 0)\n",
    "bitccoin_private_key_bytes = bitccoin_private_key\n",
    "\n",
    "# print(f\"Bitcoin private key: {bitccoin_private_key_bytes.hex()[:-2]}\")\n",
    "print(f\"Bitcoin private key: {bitccoin_private_key_bytes.hex()}\")\n",
    "\n",
    "# bitcoin_public_key_bytes = bitccoin_private_key_bytes.pub\n",
    "# print(f'Public key base58 Encoded: {base58.b58encode(private_key.get_verifying_key().to_string('compressed'))}')\n",
    "print(f'bitcoin public not encoded: {private_key.get_verifying_key().to_string('compressed').hex()}')\n",
    "\n",
    "def compress_public_key(public_key: bytes) -> bytes:\n",
    "    x = public_key[:32]\n",
    "    y = public_key[32:]\n",
    "    if int.from_bytes(y, 'big') % 2 == 0:\n",
    "        return b'\\x02' + x\n",
    "    else:\n",
    "        return b'\\x03' + x\n",
    "    \n",
    "# bitcoin_public_key_bytes = compress_public_key(private_key_raw.get_verifying_key().to_string())\n",
    "bitcoin_public_key_bytes = private_key.get_verifying_key().to_string('compressed')\n",
    "print(f\"Bitcoin public key: {bitcoin_public_key_bytes.hex()}\")\n",
    "\n",
    "print(f\"Bitcoin address from top: {bitcoin_address}\")\n",
    "bitcoin_address_bytes = P2PKHBitcoinAddress.from_pubkey(bytes.fromhex(bitcoin_public_key_bytes.hex()))\n",
    "print(f\"Bitcoin address from pubkey: {bitcoin_address_bytes}\")\n",
    "\n",
    "# bitcoin_address_bytes = P2PKHBitcoinAddress.from_bytes(bytes.fromhex(bitcoin_public_key_bytes.hex()), 0)\n",
    "# print(f\"Bitcoin address: {bitcoin_address_bytes}\")\n"
   ]
  },
  {
   "cell_type": "code",
   "execution_count": 17,
   "metadata": {},
   "outputs": [
    {
     "name": "stdout",
     "output_type": "stream",
     "text": [
      "Bitcoin message: b'Bitcoin Signed Message:\\n' b'Hello world!' 9b45fcc99ed84a7051317cc9c804b0235925ea1d9117cb9eb49b22efc3df28b3\n",
      "signature from top: IDkWMiGfM49guBzt+ZMQIx6Cv9f2xFXBSncTO4dKsvAjbndtQ+3IZvUO3kXTNurXNMFnKra8FwTd88zInkqI6OQ=\n",
      "Signature from top b64: 49456c456131644e6155646d545451355a335643656e5172576b315253586732513359355a6a4a34526c68435532356a564538305a45747a646b4671596d356b644645724d306c61646c56504d32745956453531636c684f54555a7553334a684f455a33564751344f48704a626d747853545a505554303d\n",
      "Signature bytes: H2e1RXIuSiKmRK2y3bojl0kGr6WLSC+DVRLSw1KymJBxT6bCMm0nRV6n/nyyp59GrxB+/dEvr3wRezIWS+YYTHk=\n",
      "signature bytes decoded: 1f67b545722e4a22a644adb2ddba23974906afa58b482f835512d2c352b29890714fa6c2326d27455ea7fe7cb2a79f46af107efdd12faf7c117b32164be6184c79\n",
      "Signature valid? True\n"
     ]
    }
   ],
   "source": [
    "\n",
    "bitcoin_message_bytes = BitcoinMessage(message_)\n",
    "print(f\"Bitcoin message: {bitcoin_message_bytes.magic} {bitcoin_message_bytes.message} {bitcoin_message_bytes.GetHash().hex()}\")\n",
    "\n",
    "print(f'signature from top: {signature_.decode()}')\n",
    "# print(f'signature from top b64: {base64.b64encode(signature)}')\n",
    "# signature_bytes = signature.__bytes__()\n",
    "signature_bytes_b64 = base64.b64encode(bytes([32]) + signature_).hex()\n",
    "print(f\"Signature from top b64: {signature_bytes_b64}\")\n",
    "\n",
    "#sign message using bitcoin library\n",
    "signature_bytes = SignMessage(bitccoin_private_key, bitcoin_message_bytes)\n",
    "print(f\"Signature bytes: {signature_bytes.decode()}\")\n",
    "\n",
    "# print(f'signature_bytes_hex: {base64.b64encode(signature_bytes).hex()}')\n",
    "print(f'signature bytes decoded: {base64.b64decode(signature_bytes).hex()}')\n",
    "\n",
    "# verify the message\n",
    "print(f\"Signature valid? {VerifyMessage(bitcoin_address_bytes, bitcoin_message_bytes, signature_bytes)}\")"
   ]
  },
  {
   "cell_type": "markdown",
   "metadata": {},
   "source": []
  },
  {
   "cell_type": "code",
   "execution_count": 18,
   "metadata": {},
   "outputs": [
    {
     "name": "stdout",
     "output_type": "stream",
     "text": [
      "Private key: e2b5f6538effcf0080503e4acb1e0ec11ae1632844883d47a0f936595b767038\n",
      "Public key: 028d4455ba8d8dcfc29c1c40a3d354b6d0fcd8fe0e90922377da14ccf06ddc86b2\n",
      "Bitcoin address: 18Z4aG4eNhwvjTVn6fK7Lrbz9CaULMznvV\n",
      "Message: 9b45fcc99ed84a7051317cc9c804b0235925ea1d9117cb9eb49b22efc3df28b3\n",
      "Signature: 536d3184ebc76a4c5c1a1c957f17ddc8e084d86c705285df9ceeeef0bf079842626e7227c49412435d9e41ae0dcb64f456832bed445153400e8b96b48c9d1774\n",
      "Signature ascii: 536d3184ebc76a4c5c1a1c957f17ddc8e084d86c705285df9ceeeef0bf079842626e7227c49412435d9e41ae0dcb64f456832bed445153400e8b96b48c9d1774\n",
      "Signature unhex: b\"Sm1\\x84\\xeb\\xc7jL\\\\\\x1a\\x1c\\x95\\x7f\\x17\\xdd\\xc8\\xe0\\x84\\xd8lpR\\x85\\xdf\\x9c\\xee\\xee\\xf0\\xbf\\x07\\x98Bbnr'\\xc4\\x94\\x12C]\\x9eA\\xae\\r\\xcbd\\xf4V\\x83+\\xedDQS@\\x0e\\x8b\\x96\\xb4\\x8c\\x9d\\x17t\"\n",
      "Signature b64: IFNtMYTrx2pMXBoclX8X3cjghNhscFKF35zu7vC/B5hCYm5yJ8SUEkNdnkGuDctk9FaDK+1EUVNADouWtIydF3Q=\n",
      "Signature valid\n"
     ]
    }
   ],
   "source": [
    "# Get the private key\n",
    "private_key_hex = private_key_raw.hex()\n",
    "private_key_bytes = binascii.unhexlify(private_key_hex)\n",
    "private_key = ecdsa.SigningKey.from_string(private_key_bytes, curve=ecdsa.SECP256k1)\n",
    "print(f\"Private key: {private_key.to_string().hex()}\")\n",
    "\n",
    "# Get the public key\n",
    "public_key_hex = private_key.get_verifying_key().to_string('compressed').hex()\n",
    "public_key_bytes = binascii.unhexlify(public_key_hex)\n",
    "public_key = ecdsa.VerifyingKey.from_string(public_key_bytes, curve=ecdsa.SECP256k1)\n",
    "print(f\"Public key: {public_key.to_string('compressed').hex()}\")\n",
    "\n",
    "# Get the bitcoin address\n",
    "bitcoin_address = P2PKHBitcoinAddress.from_pubkey(public_key_bytes)\n",
    "print(f\"Bitcoin address: {bitcoin_address}\")\n",
    "\n",
    "# The message to sign\n",
    "message = bitcoin_message_bytes.GetHash()\n",
    "print(f\"Message: {message.hex()}\")\n",
    "\n",
    "# Sign the message\n",
    "signature = private_key.sign(message)\n",
    "\n",
    "# Print the signature in hexadecimal format\n",
    "print(f\"Signature: {binascii.hexlify(signature).decode()}\")\n",
    "print(f\"Signature ascii: {binascii.hexlify(signature).decode('ascii')}\")\n",
    "\n",
    "signature_hex = binascii.hexlify(signature).decode('ascii')\n",
    "\n",
    "# The signature\n",
    "signature_unhex = binascii.unhexlify(signature_hex.encode('ascii'))\n",
    "print(f\"Signature unhex: {signature_unhex}\")\n",
    "\n",
    "# signature from b64\n",
    "# signature_from_b64 = base64.b64decode(signature_hex)\n",
    "# print(f\"Signature from b64: {signature_from_b64}\")\n",
    "\n",
    "# signature base64\n",
    "signature_b64 = base64.b64encode(bytes([32]) + signature_unhex).decode('ascii')\n",
    "print(f\"Signature b64: {signature_b64}\")\n",
    "\n",
    "# Verify the signature\n",
    "try:\n",
    "    public_key.verify(signature_unhex, message)\n",
    "    print(\"Signature valid\")\n",
    "except ecdsa.BadSignatureError:\n",
    "    print(\"Signature invalid\")"
   ]
  },
  {
   "cell_type": "code",
   "execution_count": 19,
   "metadata": {
    "vscode": {
     "languageId": "shellscript"
    }
   },
   "outputs": [],
   "source": [
    "# pip install pybitcoin"
   ]
  },
  {
   "cell_type": "code",
   "execution_count": 20,
   "metadata": {},
   "outputs": [],
   "source": [
    "# !pip install bitcoin\n",
    "\n",
    "# from pybitcoin import privtopub, ecdsa_raw_sign, encode_sig\n",
    "\n",
    "# # Get the private key and message\n",
    "# private_key = 'your_private_key_here'\n",
    "# message = 'your_message_here'\n",
    "\n",
    "# # Get the public key\n",
    "# public_key = privtopub(private_key)\n",
    "\n",
    "# # Sign the message\n",
    "# r, s = ecdsa_raw_sign(message, private_key)\n",
    "\n",
    "# # Calculate the recovery id\n",
    "# recovery_id = 27 + (public_key[64] % 2)\n",
    "\n",
    "# # Encode the signature in compact format\n",
    "# compact_signature = encode_sig(recovery_id, r, s)\n",
    "\n",
    "# print(f\"Compact signature: {compact_signature}\")"
   ]
  },
  {
   "cell_type": "code",
   "execution_count": 21,
   "metadata": {},
   "outputs": [
    {
     "name": "stdout",
     "output_type": "stream",
     "text": [
      "Private key: b'\\x8dK\\xfd[.\\xb2J\\xae\\xe2Z\\x04/p)\\x98\\xf1U@3\\xe9\\xf9\\xf0\\xb0\\xe5C~\\x05\\xd0F\\xb2Bx'\n",
      "Private key hex: 8d4bfd5b2eb24aaee25a042f702998f1554033e9f9f0b0e5437e05d046b24278\n",
      "Message: Hello world!\n",
      "Signature: b'\\x8b~H\\xee\\xef\\xdf2YNI#\\xce\\xde&\\xc8\\x85\\xa1\\xd6H]\\xea]\\\\\\xafx\\xd9;G\\xa7\\xa6\\xb6\\xd1\\xfd\\xee\\xd0\\xa6\\xec(B\\xfc\\xb66\\xe2\\xebl\\x0b\\x80m\\x04\\x8e\\xd3\\x15@\\x00\\x13\\xcdiM\\xfd\\x86Pt{\\x14'\n",
      "Signature hex: 8b7e48eeefdf32594e4923cede26c885a1d6485dea5d5caf78d93b47a7a6b6d1fdeed0a6ec2842fcb636e2eb6c0b806d048ed315400013cd694dfd8650747b14\n",
      "Signature b64: IIt+SO7v3zJZTkkjzt4myIWh1khd6l1cr3jZO0enprbR/e7QpuwoQvy2NuLrbAuAbQSO0xVAABPNaU39hlB0exQ=\n",
      "Public key formatted: 0498ca5e5bfb0c0b570c604446882746cb7fdadfd9adf1f812c48cfd47f30f72bf7650d7ba0caf2f223815684a8770599b20a06a4f14531b1ecc3d11a4ba8e263f\n",
      "Public key compressed hex: 0398ca5e5bfb0c0b570c604446882746cb7fdadfd9adf1f812c48cfd47f30f72bf\n",
      "Public key uncompressed: 0498ca5e5bfb0c0b570c604446882746cb7fdadfd9adf1f812c48cfd47f30f72bf7650d7ba0caf2f223815684a8770599b20a06a4f14531b1ecc3d11a4ba8e263f\n",
      "Signature valid (Check from pubkey)? True\n",
      "Bitcoin message: b'Bitcoin Signed Message:\\n' b'Hello world!' 9b45fcc99ed84a7051317cc9c804b0235925ea1d9117cb9eb49b22efc3df28b3\n",
      "Bitcoin private key: 5JtWpV5vo4r7ZWZNLSU1YUGtECdnJ5A5F4mGeCw91fzM1k8nUMY\n",
      "Bitcoin private key Hex: 8d4bfd5b2eb24aaee25a042f702998f1554033e9f9f0b0e5437e05d046b24278\n",
      "Bitcoin public key: 1s4q7DeNJy3gawdo2qsR5rGcPVXVgA38w\n",
      "bitcoin public key hex: 0977fea7500757eb77e96b857814373287739cab\n",
      "Bitcoin public key: CPubKey(b'\\x04\\x98\\xca^[\\xfb\\x0c\\x0bW\\x0c`DF\\x88\\'F\\xcb\\x7f\\xda\\xdf\\xd9\\xad\\xf1\\xf8\\x12\\xc4\\x8c\\xfdG\\xf3\\x0fr\\xbfvP\\xd7\\xba\\x0c\\xaf/\"8\\x15hJ\\x87pY\\x9b \\xa0jO\\x14S\\x1b\\x1e\\xcc=\\x11\\xa4\\xba\\x8e&?')\n",
      "Bitcoin public key hex: 0498ca5e5bfb0c0b570c604446882746cb7fdadfd9adf1f812c48cfd47f30f72bf7650d7ba0caf2f223815684a8770599b20a06a4f14531b1ecc3d11a4ba8e263f\n",
      "Bitcoin address: 1QFZ9nUFbjhskiTk3S1BNamr4NfGTP12ou\n",
      "Bitcoin signed message: b'G5eatcHO92q0h0y4BLbNG2h9OlANHD0M7zjCCkT/7G8icMY+17MTaWOnvDmC5XrIQN70ocgSYP12mhL5zgIhGQ8='\n",
      "Bitcoin signed message base64decode: 1b979ab5c1cef76ab4874cb804b6cd1b687d3a500d1c3d0cef38c20a44ffec6f2270c63ed7b3136963a7bc3982e57ac840def4a1c81260fd769a12f9ce0221190f\n",
      "Signature valid? True\n"
     ]
    }
   ],
   "source": [
    "import hashlib\n",
    "import ecdsa\n",
    "import binascii\n",
    "from bitcoin.signmessage import BitcoinMessage, VerifyMessage, SignMessage\n",
    "\n",
    "def sign_message(private_key_hex, message):\n",
    "    private_key_bytes = binascii.unhexlify(private_key_hex)\n",
    "    private_key = ecdsa.SigningKey.from_string(private_key_bytes, curve=ecdsa.SECP256k1)\n",
    "\n",
    "    magic_message = b'\\x18Bitcoin Signed Message:\\n' + len(message).to_bytes(1, 'big') + message.encode()\n",
    "    magic_message_hash = hashlib.sha256(hashlib.sha256(magic_message).digest()).digest()\n",
    "\n",
    "    signature = private_key.sign(magic_message_hash)\n",
    "    print(f\"Signature: {signature}\")\n",
    "    # return binascii.hexlify(signature).decode()\n",
    "    return signature\n",
    "\n",
    "private_key = ecdsa.SigningKey.generate(curve=ecdsa.SECP256k1, hashfunc=hashlib.sha256)\n",
    "print(f\"Private key: {private_key.to_string()}\")\n",
    "\n",
    "private_key_hex = private_key.to_string().hex()\n",
    "print(f\"Private key hex: {private_key_hex}\")\n",
    "\n",
    "message = 'Hello world!'\n",
    "print(f\"Message: {message}\")\n",
    "\n",
    "signature = sign_message(private_key_hex, message)\n",
    "print(f\"Signature hex: {signature.hex()}\")\n",
    "\n",
    "signature_b64 = base64.b64encode(bytes([32]) + signature).decode()\n",
    "print(f\"Signature b64: {signature_b64}\")\n",
    "\n",
    "# Verify the signature\n",
    "def verify_signature(public_key_hex, signature, message):\n",
    "    public_key_bytes = binascii.unhexlify(public_key_hex)\n",
    "    public_key = ecdsa.VerifyingKey.from_string(public_key_bytes, curve=ecdsa.SECP256k1)\n",
    "\n",
    "    magic_message = b'\\x18Bitcoin Signed Message:\\n' + len(message).to_bytes(1, 'big') + message.encode()\n",
    "    magic_message_hash = hashlib.sha256(hashlib.sha256(magic_message).digest()).digest()\n",
    "\n",
    "    return public_key.verify(signature, magic_message_hash)\n",
    "\n",
    "public_key = private_key.get_verifying_key()\n",
    "public_key_formatted = '04' + public_key.to_string().hex()\n",
    "print(f\"Public key formatted: {'04' + public_key.to_string().hex()}\")\n",
    "\n",
    "public_key_hex = public_key.to_string('compressed').hex()\n",
    "print(f\"Public key compressed hex: {public_key_hex}\")\n",
    "\n",
    "public_key_uncompressed = public_key.to_string('uncompressed').hex()\n",
    "print(f\"Public key uncompressed: {public_key_uncompressed}\")\n",
    "\n",
    "print(f\"Signature valid (Check from pubkey)? {verify_signature(public_key_hex, signature, message)}\")\n",
    "\n",
    "# verify the signature using the python-bitcoinlib library\n",
    "bitcoin_message = BitcoinMessage(message)\n",
    "print(f\"Bitcoin message: {bitcoin_message.magic} {bitcoin_message.message} {bitcoin_message.GetHash().hex()}\")\n",
    "\n",
    "bitcoin_private_key = CBitcoinSecret.from_secret_bytes(bytes.fromhex(private_key_hex), 0)\n",
    "print(f\"Bitcoin private key: {bitcoin_private_key}\")\n",
    "print(f\"Bitcoin private key Hex: {bitcoin_private_key.hex()}\")\n",
    "\n",
    "# bitcoin_public_from_bitcoin_private = bitcoin_private_key.pub\n",
    "\n",
    "bitcoin_public_key = P2PKHBitcoinAddress.from_pubkey(bytes.fromhex(public_key_hex))\n",
    "print(f\"Bitcoin public key: {bitcoin_public_key}\")\n",
    "print(f'bitcoin public key hex: {bitcoin_public_key.to_bytes().hex()}')\n",
    "# print(f\"Bitcoin public key Hex: {bitcoin_public_key.to_scriptPubKey().hex()}\")\n",
    "\n",
    "bitcoin_public_key = bitcoin_private_key.pub\n",
    "print(f\"Bitcoin public key: {bitcoin_public_key}\")\n",
    "print(f\"Bitcoin public key hex: {bitcoin_public_key.hex()}\")\n",
    "\n",
    "bitcoin_address = P2PKHBitcoinAddress.from_pubkey(bitcoin_public_key)\n",
    "print(f\"Bitcoin address: {bitcoin_address}\")\n",
    "\n",
    "bitcoin_signed_message = SignMessage(bitcoin_private_key, bitcoin_message)\n",
    "print(f\"Bitcoin signed message: {bitcoin_signed_message}\")\n",
    "print(f\"Bitcoin signed message base64decode: {base64.b64decode(bitcoin_signed_message).hex()}\")\n",
    "\n",
    "print(f\"Signature valid? {VerifyMessage(bitcoin_address, bitcoin_message, bitcoin_signed_message)}\")\n"
   ]
  }
 ],
 "metadata": {
  "kernelspec": {
   "display_name": ".venv",
   "language": "python",
   "name": "python3"
  },
  "language_info": {
   "codemirror_mode": {
    "name": "ipython",
    "version": 3
   },
   "file_extension": ".py",
   "mimetype": "text/x-python",
   "name": "python",
   "nbconvert_exporter": "python",
   "pygments_lexer": "ipython3",
   "version": "3.12.0"
  }
 },
 "nbformat": 4,
 "nbformat_minor": 2
}
