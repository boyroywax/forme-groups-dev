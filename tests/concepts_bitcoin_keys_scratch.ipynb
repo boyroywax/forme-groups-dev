{
 "cells": [
  {
   "cell_type": "markdown",
   "metadata": {},
   "source": [
    "# Bitcoin Key Pairs"
   ]
  },
  {
   "cell_type": "code",
   "execution_count": 1,
   "metadata": {
    "vscode": {
     "languageId": "shellscript"
    }
   },
   "outputs": [],
   "source": [
    "# pip install ecdsa"
   ]
  },
  {
   "cell_type": "markdown",
   "metadata": {},
   "source": [
    "## Manual Key Generation"
   ]
  },
  {
   "cell_type": "code",
   "execution_count": 2,
   "metadata": {},
   "outputs": [
    {
     "name": "stdout",
     "output_type": "stream",
     "text": [
      "Private key raw: 6cd94e313bb7c97d669f5585afae25b288338475169ad767a290981176ea99c0\u0001\n",
      "Private key: 6cd94e313bb7c97d669f5585afae25b288338475169ad767a290981176ea99c0\n",
      "Public key compressed hex: 020b45eebda7dc64dbd41381b49c5dd228ccd6e39d93ef4b0c222e714c6aaf921c\n",
      "Public key uncompressed hex: 040b45eebda7dc64dbd41381b49c5dd228ccd6e39d93ef4b0c222e714c6aaf921c40c8d4959e8fb6d8fc5b01fb879eda14e1c4e41888f74e2078e5d4d56113e77a\n"
     ]
    }
   ],
   "source": [
    "import ecdsa\n",
    "import binascii\n",
    "import hashlib\n",
    "\n",
    "\n",
    "# # Generate a private key\n",
    "private_key_raw_object = ecdsa.SigningKey.generate(curve=ecdsa.SECP256k1, hashfunc=hashlib.sha256)\n",
    "print(\"Private key raw:\", (private_key_raw_object.to_string().hex()) + '\\x01')\n",
    "\n",
    "private_key_raw = private_key_raw_object.to_string()\n",
    "\n",
    "# Get the private key\n",
    "# private_key_hex = private_key_raw.to_string().hex()\n",
    "# private_key_bytes = binascii.unhexlify(private_key_hex)\n",
    "private_key = ecdsa.SigningKey.from_string(private_key_raw, curve=ecdsa.SECP256k1, hashfunc=hashlib.sha256)\n",
    "print(\"Private key:\", private_key.to_string().hex())\n",
    "\n",
    "# Get the public key\n",
    "# public_key: ecdsa.VerifyingKey = private_key.get_verifying_key()\n",
    "public_key = private_key.get_verifying_key()\n",
    "\n",
    "# Print the public key in hexadecimal format\n",
    "print(f\"Public key compressed hex: {public_key.to_string(\"compressed\").hex()}\")\n",
    "print(f\"Public key uncompressed hex: {public_key.to_string(\"uncompressed\").hex()}\")\n"
   ]
  },
  {
   "cell_type": "markdown",
   "metadata": {},
   "source": [
    "While the public key is correct it is not in the proper format. "
   ]
  },
  {
   "cell_type": "markdown",
   "metadata": {},
   "source": [
    "## Bitcoin Address\n",
    "\n",
    "Finding the bitcoin public key or bitcoin address from the private key is a bit more complicated.\n",
    "\n",
    "The public key is a point on the elliptic curve, but it is not in the proper format. The proper format is a 65 byte array with the first byte being 0x04 and the next 32 bytes being the x coordinate and the last 32 bytes being the y coordinate. The x and y coordinates are 32 bytes each because they are 256 bit numbers. The first byte is 0x04 because it is an uncompressed public key. There are compressed public keys which are 33 bytes long, but we will not be using them."
   ]
  },
  {
   "cell_type": "markdown",
   "metadata": {},
   "source": [
    "### Create a bitcoin address"
   ]
  },
  {
   "cell_type": "code",
   "execution_count": 3,
   "metadata": {},
   "outputs": [
    {
     "name": "stdout",
     "output_type": "stream",
     "text": [
      "SHA256:  5878d45032cac912a956e557023807ea948b13d74b249b1279f4d48fa2c3d389\n",
      "RIPEMD-160:  f05a703b1426e77f83e1fba340ac8fcd129f03eb\n",
      "Address checksum:  3867db23\n",
      "Binary Bitcoin Address:  00f05a703b1426e77f83e1fba340ac8fcd129f03eb3867db23\n",
      "Bitcoin address:  1NusWoxV34BpR7NCisNytttdMdCLVnb962\n"
     ]
    }
   ],
   "source": [
    "import hashlib\n",
    "import base58\n",
    "\n",
    "# Generate a bitcoin address\n",
    "# Step 1: Hash public key\n",
    "sha256: bytes = hashlib.sha256(public_key.to_string('compressed')).digest()\n",
    "print(\"SHA256: \", sha256.hex())\n",
    "\n",
    "# Step 2: Perform RIPEMD-160 hashing on the result of SHA256\n",
    "ripemd160 = hashlib.new('ripemd160')\n",
    "ripemd160.update(sha256)\n",
    "hashed_public_key = ripemd160.digest()\n",
    "print(\"RIPEMD-160: \", hashed_public_key.hex())\n",
    "\n",
    "# Step 3: Add version byte in front of RIPEMD-160 hash (0x00 for Main Network)\n",
    "hashed_public_key = b'\\x00' + hashed_public_key\n",
    "\n",
    "# Step 4: Perform SHA256 hash on the extended RIPEMD-160 result\n",
    "double_sha256 = hashlib.sha256(hashlib.sha256(hashed_public_key).digest()).digest()\n",
    "\n",
    "# Step 5: Take the first 4 bytes of the second SHA256 hash. This is the address checksum\n",
    "address_checksum = double_sha256[:4]\n",
    "print(\"Address checksum: \", address_checksum.hex())\n",
    "\n",
    "# Step 6: Add the 4 checksum bytes from stage 5 at the end of extended RIPEMD-160 hash from stage 4. This is the 25-byte binary Bitcoin Address.\n",
    "binary_bitcoin_address = hashed_public_key + address_checksum\n",
    "print(\"Binary Bitcoin Address: \", binary_bitcoin_address.hex())\n",
    "\n",
    "# Step 7: Convert the result from a byte string into a base58 string using Base58Check encoding. This is the most commonly used Bitcoin Address format\n",
    "bitcoin_address = base58.b58encode(binary_bitcoin_address).decode()\n",
    "print(\"Bitcoin address: \", bitcoin_address)"
   ]
  },
  {
   "cell_type": "markdown",
   "metadata": {},
   "source": [
    "### Verify a bitcoin address"
   ]
  },
  {
   "cell_type": "code",
   "execution_count": 4,
   "metadata": {},
   "outputs": [
    {
     "name": "stdout",
     "output_type": "stream",
     "text": [
      "Bitcoin address is valid: True\n"
     ]
    }
   ],
   "source": [
    "# Verify that the bitcoin address is correct\n",
    "# Step 1: Decode Base58 Bitcoin Address\n",
    "binary_bitcoin_address_check = base58.b58decode(bitcoin_address)\n",
    "\n",
    "# Step 2: Extract Bitcoin Address from decoded Base58 Bitcoin Address\n",
    "binary_bitcoin_address = binary_bitcoin_address_check[:-4]\n",
    "\n",
    "# Step 3: Extract Bitcoin Address Checksum from decoded Base58 Bitcoin Address\n",
    "binary_bitcoin_address_checksum = binary_bitcoin_address_check[-4:]\n",
    "\n",
    "# Step 4: Perform SHA256 hash on the extended RIPEMD-160 result\n",
    "double_sha256 = hashlib.sha256(hashlib.sha256(binary_bitcoin_address).digest()).digest()\n",
    "\n",
    "# Step 5: Take the first 4 bytes of the second SHA256 hash. This is the address checksum\n",
    "address_checksum = double_sha256[:4]\n",
    "\n",
    "# Step 6: Verify that the address checksum from decoded Base58 Bitcoin Address is equal to the address checksum from the SHA256 hash\n",
    "print(\"Bitcoin address is valid:\", binary_bitcoin_address_checksum == address_checksum)"
   ]
  },
  {
   "cell_type": "markdown",
   "metadata": {},
   "source": [
    "## Signing Messages\n",
    "\n",
    "### Sign a message"
   ]
  },
  {
   "cell_type": "code",
   "execution_count": 5,
   "metadata": {},
   "outputs": [],
   "source": [
    "def encode_varint(i: int) -> bytes:\n",
    "    \"\"\"\n",
    "    Encode a potentially very large integer into varint bytes. The length should be\n",
    "    specified in little-endian.\n",
    "\n",
    "    https://bitcoin.org/en/developer-reference#compactsize-unsigned-integers\n",
    "    \"\"\"\n",
    "    if i < 253:\n",
    "        return bytes([i])\n",
    "    elif i < 0x10000:\n",
    "        return b\"\\xfd\" + i.to_bytes(2, \"little\")\n",
    "    elif i < 0x100000000:\n",
    "        return b\"\\xfe\" + i.to_bytes(4, \"little\")\n",
    "    elif i < 0x10000000000000000:\n",
    "        return b\"\\xff\" + i.to_bytes(8, \"little\")\n",
    "    else:\n",
    "        raise ValueError(\"Integer is too large: %d\" % i)"
   ]
  },
  {
   "cell_type": "code",
   "execution_count": 6,
   "metadata": {},
   "outputs": [
    {
     "name": "stdout",
     "output_type": "stream",
     "text": [
      "Message hash: 9b45fcc99ed84a7051317cc9c804b0235925ea1d9117cb9eb49b22efc3df28b3\n",
      "Signature in b64: HAscw9M3Uly7WLdKaGtiggGbVDx9+G4cwBZ5RaFDg8Tn9pZFC5p025JoPryxqP9WFuuGIwV3iEkssldESo+KW/Q=\n",
      "Signature hex: 0b1cc3d337525cbb58b74a686b6282019b543c7df86e1cc0167945a14383c4e7f696450b9a74db92683ebcb1a8ff5616eb8623057788492cb257444a8f8a5bf4\n",
      "True\n"
     ]
    }
   ],
   "source": [
    "# Path: concepts_bitcoin_transactions.ipynb\n",
    "import base64\n",
    "\n",
    "private_key_raw_1 = private_key_raw_object\n",
    "msg = b\"Hello world!\"\n",
    "msg_size = encode_varint(len(msg))\n",
    "message_hash = hashlib.sha256(hashlib.sha256(b'\\x18Bitcoin Signed Message:\\n' + msg_size + msg).digest()).digest()\n",
    "print(\"Message hash:\", message_hash.hex())\n",
    "\n",
    "signature_ = private_key_raw_1.sign_deterministic(message_hash)\n",
    "# Use the private key to sign a message\n",
    "# message = bytes(\"Bitcoin Signed Message:\\nHello world!\", \"utf-8\")\n",
    "# message = b\"\\x18Bitcoin Signed Message:\\n\" + msg_size + msg\n",
    "# message_size = encode_varint(len(message))\n",
    "# signature_ = private_key.sign_deterministic(hashlib.sha256(hashlib.sha256(message).digest()).digest())\n",
    "# print(\"Signature:\", signature_.hex())\n",
    "print(f'Signature in b64: {base64.b64encode(bytes([28]) + signature_).decode('ascii')}')\n",
    "print(\"Signature hex:\", binascii.hexlify(signature_).decode('ascii'))\n",
    "\n",
    "# Verify the signature\n",
    "print(public_key.verify(signature_, message_hash))\n"
   ]
  },
  {
   "cell_type": "code",
   "execution_count": 7,
   "metadata": {},
   "outputs": [
    {
     "name": "stdout",
     "output_type": "stream",
     "text": [
      "Signature: f37f64f951dd26a97b909f35089ab95b09fa7bdd8f325c2c71f28e10391ea68adb3ad4a65f0073f16dc28f889583a05b3409ae278af62b1be82fe4505dfa64b1\n",
      "Signature b64: HPN/ZPlR3Sape5CfNQiauVsJ+nvdjzJcLHHyjhA5HqaK2zrUpl8Ac/Ftwo+IlYOgWzQJrieK9isb6C/kUF36ZLE=\n",
      "Public key: 020b45eebda7dc64dbd41381b49c5dd228ccd6e39d93ef4b0c222e714c6aaf921c\n"
     ]
    }
   ],
   "source": [
    "# Get the private key\n",
    "# private_key_hex = 'your_private_key_here'\n",
    "# private_key_bytes = bytes.fromhex(private_key_hex)\n",
    "# private_key = ecdsa.SigningKey.from_string(private_key_bytes, curve=ecdsa.SECP256k1)\n",
    "\n",
    "# The message to sign\n",
    "# message = 'your_message_here'\n",
    "\n",
    "# Sign the message\n",
    "signature = private_key_raw_1.sign(message_hash)\n",
    "print(f\"Signature: {signature.hex()}\")\n",
    "\n",
    "signature_b64 = base64.b64encode(bytes([28]) + signature).decode('ascii')\n",
    "print(f\"Signature b64: {signature_b64}\")\n",
    "\n",
    "# Print the signature in base64 format\n",
    "# signature_b64 = base64.b64encode(signature).decode('ascii')\n",
    "# signature_b64 = base64.b64decode(signature)\n",
    "# print(f\"Signature b64: {signature_b64}\")\n",
    "\n",
    "# Get the public key\n",
    "public_key: ecdsa.VerifyingKey = private_key_raw_1.get_verifying_key()\n",
    "print(f\"Public key: {public_key.to_string('compressed').hex()}\")\n"
   ]
  },
  {
   "cell_type": "markdown",
   "metadata": {},
   "source": [
    "### Verify a message"
   ]
  },
  {
   "cell_type": "code",
   "execution_count": 8,
   "metadata": {},
   "outputs": [
    {
     "name": "stdout",
     "output_type": "stream",
     "text": [
      "Signature valid\n"
     ]
    }
   ],
   "source": [
    "# Use the public key to verify a message\n",
    "# Verify the signature\n",
    "try:\n",
    "    public_key.verify(signature, message_hash)\n",
    "    print(\"Signature valid\")\n",
    "except ecdsa.BadSignatureError:\n",
    "    print(\"Signature invalid\")"
   ]
  },
  {
   "cell_type": "markdown",
   "metadata": {},
   "source": [
    "# Libraries for bitcoin keys"
   ]
  },
  {
   "cell_type": "markdown",
   "metadata": {},
   "source": [
    "### pybitcoin\n",
    "\n",
    "No longer maintained and does not work with python 3.12"
   ]
  },
  {
   "cell_type": "code",
   "execution_count": 9,
   "metadata": {
    "vscode": {
     "languageId": "shellscript"
    }
   },
   "outputs": [],
   "source": [
    "# pip install pybitcoin"
   ]
  },
  {
   "cell_type": "code",
   "execution_count": 10,
   "metadata": {},
   "outputs": [],
   "source": [
    "# from pybitcoin import BitcoinPrivateKey\n",
    "\n",
    "# # Generate a private key\n",
    "# private_key = BitcoinPrivateKey()\n",
    "# print(f\"Private key: {private_key.to_hex()}\")\n",
    "\n",
    "# # Generate a public key\n",
    "# public_key = private_key.public_key()\n",
    "# print(f\"Public key: {public_key.to_hex()}\")\n",
    "\n",
    "# # Generate a bitcoin address\n",
    "# bitcoin_address = public_key.address()\n",
    "# print(f\"Bitcoin address: {bitcoin_address}\")"
   ]
  },
  {
   "cell_type": "markdown",
   "metadata": {},
   "source": [
    "### bitcoin-utils\n",
    "\n",
    "Package appears damaged and does not work with python 3.12"
   ]
  },
  {
   "cell_type": "code",
   "execution_count": 11,
   "metadata": {
    "vscode": {
     "languageId": "shellscript"
    }
   },
   "outputs": [],
   "source": [
    "# pip install bitcoin-utils"
   ]
  },
  {
   "cell_type": "code",
   "execution_count": 12,
   "metadata": {},
   "outputs": [],
   "source": [
    "# from bitcoinutils.keys import PrivateKey, PublicKey\n",
    "\n",
    "# # Generate a private key\n",
    "# private_key = PrivateKey()\n",
    "# print(f\"Private key: {private_key.to_wif(compressed=True)}\")\n",
    "\n",
    "# # get the public key\n",
    "# public_key: PublicKey = private_key.get_public_key()\n",
    "# print(f\"Public key: {public_key.to_hex(compressed=True)}\")\n",
    "\n",
    "# # get the bitcoin address\n",
    "# bitcoin_address = public_key.get_address()\n",
    "# print(f\"Bitcoin address: {bitcoin_address.to_string()}\")\n",
    "# print(f'Hash160: {bitcoin_address.to_hash160()}')\n",
    "\n"
   ]
  },
  {
   "cell_type": "markdown",
   "metadata": {},
   "source": [
    "Sign a message with a private key and verify the signature with the public key."
   ]
  },
  {
   "cell_type": "code",
   "execution_count": 13,
   "metadata": {},
   "outputs": [],
   "source": [
    "# message: str = \"Hello\"\n",
    "# signature = private_key.sign_message(message)\n",
    "# print(f\"Signature: {signature}\")\n",
    "# # print(f\"Signature valid? {public_key.verify(message, signature)}\")\n",
    "# print(f\"Signature valid? {public_key.verify_message(public_key.get_address().to_string(), message, signature)}\")"
   ]
  },
  {
   "cell_type": "markdown",
   "metadata": {},
   "source": [
    "### python-bitcoinlib"
   ]
  },
  {
   "cell_type": "code",
   "execution_count": 14,
   "metadata": {
    "vscode": {
     "languageId": "shellscript"
    }
   },
   "outputs": [],
   "source": [
    "# pip install python-bitcoinlib"
   ]
  },
  {
   "cell_type": "code",
   "execution_count": 15,
   "metadata": {},
   "outputs": [
    {
     "name": "stdout",
     "output_type": "stream",
     "text": [
      "Private key: Kx5VwoQ8ju3iBN8XokyiqJ1hMzcRHK4yWALVTsqzvTQePrcebXz4\n",
      "Public key: 03381fc46c767d800f511a6367d060590e5e7df9b1d1fe30778685288eaef4f1bb\n",
      "Bitcoin address: 1C7KunanffXNXC4HNDeZGT2Ewoq27hS1DA\n",
      "Bitcoin message: b'Bitcoin Signed Message:\\n' b'Hello world!' 9b45fcc99ed84a7051317cc9c804b0235925ea1d9117cb9eb49b22efc3df28b3\n",
      "Signature: 49452b4574593875645857704c6f4d78475158666f77536c3865767147423643574d39574835793955646f6246507a5948756b65353850506556616b594657694f4e445856347059696f7a596e2b366772764e423537383d\n",
      "signature in b64: 204f84b58f2e7575a92e83311905dfa304a5f1ebea181e8258cf561f9cbd51da1b14fcd81ee91ee7c3cf7956a46055a238d0d7578a588a8cd89feea0aef341e7bf\n",
      "Signature valid? True\n"
     ]
    }
   ],
   "source": [
    "import secrets\n",
    "import base64\n",
    "from bitcoin.wallet import CBitcoinSecret, P2PKHBitcoinAddress, CBitcoinAddress\n",
    "from bitcoin.signmessage import BitcoinMessage, VerifyMessage, SignMessage\n",
    "from bitcoin.core import x, lx, b2x, b2lx, Hash160\n",
    "\n",
    "message_: str = \"Hello world!\"\n",
    "\n",
    "# Generate a private key\n",
    "private_key_ = CBitcoinSecret.from_secret_bytes(secrets.token_bytes(32))\n",
    "print(f\"Private key: {private_key_}\")\n",
    "\n",
    "# Generate a public key\n",
    "public_key_ = private_key_.pub\n",
    "print(f\"Public key: {public_key_.hex()}\")\n",
    "\n",
    "# Generate a bitcoin address\n",
    "bitcoin_address_ = P2PKHBitcoinAddress.from_pubkey(public_key_)\n",
    "# bitcoin_address_ = CBitcoinAddress(bitcoin_address_)\n",
    "print(f\"Bitcoin address: {bitcoin_address_}\")\n",
    "\n",
    "# Sign message\n",
    "bitcoin_msg = BitcoinMessage(message_)\n",
    "print(f\"Bitcoin message: {bitcoin_msg.magic} {bitcoin_msg.message} {bitcoin_msg.GetHash().hex()}\")\n",
    "\n",
    "signature_ = SignMessage(private_key_, bitcoin_msg)\n",
    "print(f\"Signature: {signature_.hex()}\")\n",
    "print(f'signature in b64: {base64.b64decode(signature_).hex()}')\n",
    "\n",
    "# verify the message\n",
    "print(f\"Signature valid? {VerifyMessage(bitcoin_address_, bitcoin_msg, signature_)}\")\n"
   ]
  },
  {
   "cell_type": "code",
   "execution_count": 16,
   "metadata": {},
   "outputs": [
    {
     "name": "stdout",
     "output_type": "stream",
     "text": [
      "Private key not encoded: 6cd94e313bb7c97d669f5585afae25b288338475169ad767a290981176ea99c001\n",
      "Bitcoin private key: 6cd94e313bb7c97d669f5585afae25b288338475169ad767a290981176ea99c001\n",
      "bitcoin public not encoded: 020b45eebda7dc64dbd41381b49c5dd228ccd6e39d93ef4b0c222e714c6aaf921c\n",
      "Bitcoin public key: 020b45eebda7dc64dbd41381b49c5dd228ccd6e39d93ef4b0c222e714c6aaf921c\n",
      "Bitcoin address from top: 1NusWoxV34BpR7NCisNytttdMdCLVnb962\n",
      "Bitcoin address from pubkey: 1NusWoxV34BpR7NCisNytttdMdCLVnb962\n"
     ]
    }
   ],
   "source": [
    "# verify the handmade message from the top\n",
    "# print(f'Private Key BAse58 Encoded: {base58.b58encode(private_key_raw + b\"\\x01\")}')\n",
    "print(f'Private key not encoded: {private_key_raw.hex() + \"01\"}')\n",
    "# bitccoin_private_key = CBitcoinSecret.from_secret_bytes(private_key_raw)\n",
    "bitccoin_private_key = CBitcoinSecret.from_secret_bytes(bytes.fromhex(private_key_raw.hex() + \"01\"), 0)\n",
    "bitccoin_private_key_bytes = bitccoin_private_key\n",
    "\n",
    "# print(f\"Bitcoin private key: {bitccoin_private_key_bytes.hex()[:-2]}\")\n",
    "print(f\"Bitcoin private key: {bitccoin_private_key_bytes.hex()}\")\n",
    "\n",
    "# bitcoin_public_key_bytes = bitccoin_private_key_bytes.pub\n",
    "# print(f'Public key base58 Encoded: {base58.b58encode(private_key.get_verifying_key().to_string('compressed'))}')\n",
    "print(f'bitcoin public not encoded: {private_key.get_verifying_key().to_string('compressed').hex()}')\n",
    "\n",
    "def compress_public_key(public_key: bytes) -> bytes:\n",
    "    x = public_key[:32]\n",
    "    y = public_key[32:]\n",
    "    if int.from_bytes(y, 'big') % 2 == 0:\n",
    "        return b'\\x02' + x\n",
    "    else:\n",
    "        return b'\\x03' + x\n",
    "    \n",
    "# bitcoin_public_key_bytes = compress_public_key(private_key_raw.get_verifying_key().to_string())\n",
    "bitcoin_public_key_bytes = private_key.get_verifying_key().to_string('compressed')\n",
    "print(f\"Bitcoin public key: {bitcoin_public_key_bytes.hex()}\")\n",
    "\n",
    "print(f\"Bitcoin address from top: {bitcoin_address}\")\n",
    "bitcoin_address_bytes = P2PKHBitcoinAddress.from_pubkey(bytes.fromhex(bitcoin_public_key_bytes.hex()))\n",
    "print(f\"Bitcoin address from pubkey: {bitcoin_address_bytes}\")\n",
    "\n",
    "# bitcoin_address_bytes = P2PKHBitcoinAddress.from_bytes(bytes.fromhex(bitcoin_public_key_bytes.hex()), 0)\n",
    "# print(f\"Bitcoin address: {bitcoin_address_bytes}\")\n"
   ]
  },
  {
   "cell_type": "code",
   "execution_count": 17,
   "metadata": {},
   "outputs": [
    {
     "name": "stdout",
     "output_type": "stream",
     "text": [
      "Bitcoin message: b'Bitcoin Signed Message:\\n' b'Hello world!' 9b45fcc99ed84a7051317cc9c804b0235925ea1d9117cb9eb49b22efc3df28b3\n",
      "signature from top: IE+EtY8udXWpLoMxGQXfowSl8evqGB6CWM9WH5y9UdobFPzYHuke58PPeVakYFWiONDXV4pYiozYn+6grvNB578=\n",
      "Signature from top b64: 49456c464b305630575468315a46685863457876545868485556686d623364546244686c646e4648516a5a44563030355630673165546c565a473969526c423657556831613255314f4642515a565a6861316c4756326c50546b5259566a527757576c76656c6c754b7a5a6e636e5a4f516a55334f44303d\n",
      "Signature bytes: IAgz8heDOb02VHPDs58ddJoWSPRtNvqF4DfOJpixE2qxLlBlOUrAfBdz+FNUh8wbz1KdK0G7jR/yG8kNlpY9vaQ=\n",
      "signature bytes decoded: 200833f2178339bd365473c3b39f1d749a1648f46d36fa85e037ce2698b1136ab12e5065394ac07c1773f8535487cc1bcf529d2b41bb8d1ff21bc90d96963dbda4\n",
      "Signature valid? True\n"
     ]
    }
   ],
   "source": [
    "\n",
    "bitcoin_message_bytes = BitcoinMessage(message_)\n",
    "print(f\"Bitcoin message: {bitcoin_message_bytes.magic} {bitcoin_message_bytes.message} {bitcoin_message_bytes.GetHash().hex()}\")\n",
    "\n",
    "print(f'signature from top: {signature_.decode()}')\n",
    "# print(f'signature from top b64: {base64.b64encode(signature)}')\n",
    "# signature_bytes = signature.__bytes__()\n",
    "signature_bytes_b64 = base64.b64encode(bytes([32]) + signature_).hex()\n",
    "print(f\"Signature from top b64: {signature_bytes_b64}\")\n",
    "\n",
    "#sign message using bitcoin library\n",
    "signature_bytes = SignMessage(bitccoin_private_key, bitcoin_message_bytes)\n",
    "print(f\"Signature bytes: {signature_bytes.decode()}\")\n",
    "\n",
    "# print(f'signature_bytes_hex: {base64.b64encode(signature_bytes).hex()}')\n",
    "print(f'signature bytes decoded: {base64.b64decode(signature_bytes).hex()}')\n",
    "\n",
    "# verify the message\n",
    "print(f\"Signature valid? {VerifyMessage(bitcoin_address_bytes, bitcoin_message_bytes, signature_bytes)}\")"
   ]
  },
  {
   "cell_type": "markdown",
   "metadata": {},
   "source": []
  },
  {
   "cell_type": "code",
   "execution_count": 18,
   "metadata": {},
   "outputs": [
    {
     "name": "stdout",
     "output_type": "stream",
     "text": [
      "Private key: 6cd94e313bb7c97d669f5585afae25b288338475169ad767a290981176ea99c0\n",
      "Public key: 020b45eebda7dc64dbd41381b49c5dd228ccd6e39d93ef4b0c222e714c6aaf921c\n",
      "Bitcoin address: 1NusWoxV34BpR7NCisNytttdMdCLVnb962\n",
      "Message: 9b45fcc99ed84a7051317cc9c804b0235925ea1d9117cb9eb49b22efc3df28b3\n",
      "Signature: b1490c7eaa1a7bba98efa4e3df0650171cde873969062282e792b3c7eab3e029e12adf3af28e2c9292852d8f403cda27503f5d87860bea8e8a943e06f18e5997\n",
      "Signature ascii: b1490c7eaa1a7bba98efa4e3df0650171cde873969062282e792b3c7eab3e029e12adf3af28e2c9292852d8f403cda27503f5d87860bea8e8a943e06f18e5997\n",
      "Signature unhex: b'\\xb1I\\x0c~\\xaa\\x1a{\\xba\\x98\\xef\\xa4\\xe3\\xdf\\x06P\\x17\\x1c\\xde\\x879i\\x06\"\\x82\\xe7\\x92\\xb3\\xc7\\xea\\xb3\\xe0)\\xe1*\\xdf:\\xf2\\x8e,\\x92\\x92\\x85-\\x8f@<\\xda\\'P?]\\x87\\x86\\x0b\\xea\\x8e\\x8a\\x94>\\x06\\xf1\\x8eY\\x97'\n",
      "Signature b64: ILFJDH6qGnu6mO+k498GUBcc3oc5aQYigueSs8fqs+Ap4SrfOvKOLJKShS2PQDzaJ1A/XYeGC+qOipQ+BvGOWZc=\n",
      "Signature valid\n"
     ]
    }
   ],
   "source": [
    "# Get the private key\n",
    "private_key_hex = private_key_raw.hex()\n",
    "private_key_bytes = binascii.unhexlify(private_key_hex)\n",
    "private_key = ecdsa.SigningKey.from_string(private_key_bytes, curve=ecdsa.SECP256k1)\n",
    "print(f\"Private key: {private_key.to_string().hex()}\")\n",
    "\n",
    "# Get the public key\n",
    "public_key_hex = private_key.get_verifying_key().to_string('compressed').hex()\n",
    "public_key_bytes = binascii.unhexlify(public_key_hex)\n",
    "public_key = ecdsa.VerifyingKey.from_string(public_key_bytes, curve=ecdsa.SECP256k1)\n",
    "print(f\"Public key: {public_key.to_string('compressed').hex()}\")\n",
    "\n",
    "# Get the bitcoin address\n",
    "bitcoin_address = P2PKHBitcoinAddress.from_pubkey(public_key_bytes)\n",
    "print(f\"Bitcoin address: {bitcoin_address}\")\n",
    "\n",
    "# The message to sign\n",
    "message = bitcoin_message_bytes.GetHash()\n",
    "print(f\"Message: {message.hex()}\")\n",
    "\n",
    "# Sign the message\n",
    "signature = private_key.sign(message)\n",
    "\n",
    "# Print the signature in hexadecimal format\n",
    "print(f\"Signature: {binascii.hexlify(signature).decode()}\")\n",
    "print(f\"Signature ascii: {binascii.hexlify(signature).decode('ascii')}\")\n",
    "\n",
    "signature_hex = binascii.hexlify(signature).decode('ascii')\n",
    "\n",
    "# The signature\n",
    "signature_unhex = binascii.unhexlify(signature_hex.encode('ascii'))\n",
    "print(f\"Signature unhex: {signature_unhex}\")\n",
    "\n",
    "# signature from b64\n",
    "# signature_from_b64 = base64.b64decode(signature_hex)\n",
    "# print(f\"Signature from b64: {signature_from_b64}\")\n",
    "\n",
    "# signature base64\n",
    "signature_b64 = base64.b64encode(bytes([32]) + signature_unhex).decode('ascii')\n",
    "print(f\"Signature b64: {signature_b64}\")\n",
    "\n",
    "# Verify the signature\n",
    "try:\n",
    "    public_key.verify(signature_unhex, message)\n",
    "    print(\"Signature valid\")\n",
    "except ecdsa.BadSignatureError:\n",
    "    print(\"Signature invalid\")"
   ]
  },
  {
   "cell_type": "code",
   "execution_count": 19,
   "metadata": {
    "vscode": {
     "languageId": "shellscript"
    }
   },
   "outputs": [],
   "source": [
    "# pip install pybitcoin"
   ]
  },
  {
   "cell_type": "code",
   "execution_count": 20,
   "metadata": {},
   "outputs": [],
   "source": [
    "# !pip install bitcoin\n",
    "\n",
    "# from pybitcoin import privtopub, ecdsa_raw_sign, encode_sig\n",
    "\n",
    "# # Get the private key and message\n",
    "# private_key = 'your_private_key_here'\n",
    "# message = 'your_message_here'\n",
    "\n",
    "# # Get the public key\n",
    "# public_key = privtopub(private_key)\n",
    "\n",
    "# # Sign the message\n",
    "# r, s = ecdsa_raw_sign(message, private_key)\n",
    "\n",
    "# # Calculate the recovery id\n",
    "# recovery_id = 27 + (public_key[64] % 2)\n",
    "\n",
    "# # Encode the signature in compact format\n",
    "# compact_signature = encode_sig(recovery_id, r, s)\n",
    "\n",
    "# print(f\"Compact signature: {compact_signature}\")"
   ]
  },
  {
   "cell_type": "code",
   "execution_count": 21,
   "metadata": {},
   "outputs": [
    {
     "name": "stdout",
     "output_type": "stream",
     "text": [
      "Private key: b'\\xfd\\x84\\xef\\x93\\xfc\\x1dO\\xff\\xb1\\xc5\\xde\\xc9\\x05HMJWL\\x8a\\x89[\\xec\\x1cm\\xea\\x96p\\x08\\xfbz#Z'\n",
      "Private key hex: fd84ef93fc1d4fffb1c5dec905484d4a574c8a895bec1c6dea967008fb7a235a\n",
      "Message: Hello world!\n",
      "Signature: b'\\xd8@C\\x8dR\\xe7\\xadS\\x97u\\xadT9\\xe0\\xb44\\xc7\\xf8G\\xf6\\xa0\\xe7\\xba\\xa2E\\xa7~hn\\xc4\\xca\\x8bh\\xe1\\xbe\\x9e\\x9f\\xc2nt\\xf7\\x0f\\x99\\xf5d\\x88\\xa1\\x905\\x94\\xc6=\\x834\\xc16b\\x94~\\xfe\\xaf\\xdf\\xc8\\xe8'\n",
      "Signature hex: d840438d52e7ad539775ad5439e0b434c7f847f6a0e7baa245a77e686ec4ca8b68e1be9e9fc26e74f70f99f56488a1903594c63d8334c13662947efeafdfc8e8\n",
      "Signature b64: INhAQ41S561Tl3WtVDngtDTH+Ef2oOe6okWnfmhuxMqLaOG+np/CbnT3D5n1ZIihkDWUxj2DNME2YpR+/q/fyOg=\n",
      "Public key formatted: 04c3ce6db729ad81bc98166d6e45aa1e2111a5d31aad00dd01d4cf6f4e0902542301246093fdc6c4e4300e7e96356df5facaa233c86e8198afabf1f829a61f47a8\n",
      "Public key compressed hex: 02c3ce6db729ad81bc98166d6e45aa1e2111a5d31aad00dd01d4cf6f4e09025423\n",
      "Public key uncompressed: 04c3ce6db729ad81bc98166d6e45aa1e2111a5d31aad00dd01d4cf6f4e0902542301246093fdc6c4e4300e7e96356df5facaa233c86e8198afabf1f829a61f47a8\n",
      "Signature valid (Check from pubkey)? True\n",
      "Bitcoin message: b'Bitcoin Signed Message:\\n' b'Hello world!' 9b45fcc99ed84a7051317cc9c804b0235925ea1d9117cb9eb49b22efc3df28b3\n",
      "Bitcoin private key: 5KjwPeW8TMQVC7SosPi9Y2Svk74taUGveJ2vVqCoMGSamaZErA5\n",
      "Bitcoin private key Hex: fd84ef93fc1d4fffb1c5dec905484d4a574c8a895bec1c6dea967008fb7a235a\n",
      "Bitcoin public key: 1AWn8jrZjJKgtFMbTqzdXqegiwcp7gk9QT\n",
      "bitcoin public key hex: 685aded4d30ffa694cfeede5cf3fe4189661d536\n",
      "Bitcoin public key: CPubKey(b'\\x04\\xc3\\xcem\\xb7)\\xad\\x81\\xbc\\x98\\x16mnE\\xaa\\x1e!\\x11\\xa5\\xd3\\x1a\\xad\\x00\\xdd\\x01\\xd4\\xcfoN\\t\\x02T#\\x01$`\\x93\\xfd\\xc6\\xc4\\xe40\\x0e~\\x965m\\xf5\\xfa\\xca\\xa23\\xc8n\\x81\\x98\\xaf\\xab\\xf1\\xf8)\\xa6\\x1fG\\xa8')\n",
      "Bitcoin public key hex: 04c3ce6db729ad81bc98166d6e45aa1e2111a5d31aad00dd01d4cf6f4e0902542301246093fdc6c4e4300e7e96356df5facaa233c86e8198afabf1f829a61f47a8\n",
      "Bitcoin address: 1EDBufM6b6asrRP7MRQSFVemgQZAYxpfMj\n",
      "Bitcoin signed message: b'HJukY6pP63eBwApm1rchHKK6soCz2gYHkr754wrBLF02CLKGSE9AGNXSQAdwnJ8uogS072hJJ3uzBTGpClRqvRE='\n",
      "Bitcoin signed message base64decode: 1c9ba463aa4feb7781c00a66d6b7211ca2bab280b3da060792bef9e30ac12c5d3608b286484f4018d5d24007709c9f2ea204b4ef6849277bb30531a90a546abd11\n",
      "Signature valid? True\n"
     ]
    }
   ],
   "source": [
    "import hashlib\n",
    "import ecdsa\n",
    "import binascii\n",
    "from bitcoin.signmessage import BitcoinMessage, VerifyMessage, SignMessage\n",
    "\n",
    "def sign_message(private_key_hex, message):\n",
    "    private_key_bytes = binascii.unhexlify(private_key_hex)\n",
    "    private_key = ecdsa.SigningKey.from_string(private_key_bytes, curve=ecdsa.SECP256k1)\n",
    "\n",
    "    magic_message = b'\\x18Bitcoin Signed Message:\\n' + len(message).to_bytes(1, 'big') + message.encode()\n",
    "    magic_message_hash = hashlib.sha256(hashlib.sha256(magic_message).digest()).digest()\n",
    "\n",
    "    signature = private_key.sign(magic_message_hash)\n",
    "    print(f\"Signature: {signature}\")\n",
    "    # return binascii.hexlify(signature).decode()\n",
    "    return signature\n",
    "\n",
    "private_key = ecdsa.SigningKey.generate(curve=ecdsa.SECP256k1, hashfunc=hashlib.sha256)\n",
    "print(f\"Private key: {private_key.to_string()}\")\n",
    "\n",
    "private_key_hex = private_key.to_string().hex()\n",
    "print(f\"Private key hex: {private_key_hex}\")\n",
    "\n",
    "message = 'Hello world!'\n",
    "print(f\"Message: {message}\")\n",
    "\n",
    "signature = sign_message(private_key_hex, message)\n",
    "print(f\"Signature hex: {signature.hex()}\")\n",
    "\n",
    "signature_b64 = base64.b64encode(bytes([32]) + signature).decode()\n",
    "print(f\"Signature b64: {signature_b64}\")\n",
    "\n",
    "# Verify the signature\n",
    "def verify_signature(public_key_hex, signature, message):\n",
    "    public_key_bytes = binascii.unhexlify(public_key_hex)\n",
    "    public_key = ecdsa.VerifyingKey.from_string(public_key_bytes, curve=ecdsa.SECP256k1)\n",
    "\n",
    "    magic_message = b'\\x18Bitcoin Signed Message:\\n' + len(message).to_bytes(1, 'big') + message.encode()\n",
    "    magic_message_hash = hashlib.sha256(hashlib.sha256(magic_message).digest()).digest()\n",
    "\n",
    "    return public_key.verify(signature, magic_message_hash)\n",
    "\n",
    "public_key = private_key.get_verifying_key()\n",
    "public_key_formatted = '04' + public_key.to_string().hex()\n",
    "print(f\"Public key formatted: {'04' + public_key.to_string().hex()}\")\n",
    "\n",
    "public_key_hex = public_key.to_string('compressed').hex()\n",
    "print(f\"Public key compressed hex: {public_key_hex}\")\n",
    "\n",
    "public_key_uncompressed = public_key.to_string('uncompressed').hex()\n",
    "print(f\"Public key uncompressed: {public_key_uncompressed}\")\n",
    "\n",
    "print(f\"Signature valid (Check from pubkey)? {verify_signature(public_key_hex, signature, message)}\")\n",
    "\n",
    "# verify the signature using the python-bitcoinlib library\n",
    "bitcoin_message = BitcoinMessage(message)\n",
    "print(f\"Bitcoin message: {bitcoin_message.magic} {bitcoin_message.message} {bitcoin_message.GetHash().hex()}\")\n",
    "\n",
    "bitcoin_private_key = CBitcoinSecret.from_secret_bytes(bytes.fromhex(private_key_hex), 0)\n",
    "print(f\"Bitcoin private key: {bitcoin_private_key}\")\n",
    "print(f\"Bitcoin private key Hex: {bitcoin_private_key.hex()}\")\n",
    "\n",
    "# bitcoin_public_from_bitcoin_private = bitcoin_private_key.pub\n",
    "\n",
    "bitcoin_public_key = P2PKHBitcoinAddress.from_pubkey(bytes.fromhex(public_key_hex))\n",
    "print(f\"Bitcoin public key: {bitcoin_public_key}\")\n",
    "print(f'bitcoin public key hex: {bitcoin_public_key.to_bytes().hex()}')\n",
    "# print(f\"Bitcoin public key Hex: {bitcoin_public_key.to_scriptPubKey().hex()}\")\n",
    "\n",
    "bitcoin_public_key = bitcoin_private_key.pub\n",
    "print(f\"Bitcoin public key: {bitcoin_public_key}\")\n",
    "print(f\"Bitcoin public key hex: {bitcoin_public_key.hex()}\")\n",
    "\n",
    "bitcoin_address = P2PKHBitcoinAddress.from_pubkey(bitcoin_public_key)\n",
    "print(f\"Bitcoin address: {bitcoin_address}\")\n",
    "\n",
    "bitcoin_signed_message = SignMessage(bitcoin_private_key, bitcoin_message)\n",
    "print(f\"Bitcoin signed message: {bitcoin_signed_message}\")\n",
    "print(f\"Bitcoin signed message base64decode: {base64.b64decode(bitcoin_signed_message).hex()}\")\n",
    "\n",
    "print(f\"Signature valid? {VerifyMessage(bitcoin_address, bitcoin_message, bitcoin_signed_message)}\")\n"
   ]
  }
 ],
 "metadata": {
  "kernelspec": {
   "display_name": ".venv",
   "language": "python",
   "name": "python3"
  },
  "language_info": {
   "codemirror_mode": {
    "name": "ipython",
    "version": 3
   },
   "file_extension": ".py",
   "mimetype": "text/x-python",
   "name": "python",
   "nbconvert_exporter": "python",
   "pygments_lexer": "ipython3",
   "version": "3.12.0"
  }
 },
 "nbformat": 4,
 "nbformat_minor": 2
}
