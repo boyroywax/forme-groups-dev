{
 "cells": [
  {
   "cell_type": "markdown",
   "metadata": {},
   "source": [
    "# III. Nonce"
   ]
  },
  {
   "cell_type": "code",
   "execution_count": 1,
   "metadata": {},
   "outputs": [],
   "source": [
    "import sys\n",
    "\n",
    "sys.path.append(\"../../forme-groups-python-3-12/\")"
   ]
  },
  {
   "cell_type": "markdown",
   "metadata": {},
   "source": [
    "## 1. Nonce Chain\n",
    "\n",
    "The Nonce chain is used to express hierarchy within a group.\n",
    "\n",
    "Example Nonce Chain:\n",
    "```text\n",
    "0 = Root\n",
    "0.0 = Root.SubLevel \n",
    "0.0.0 = Root.SubLevel.DeeperSubLevel\n",
    "\n",
    "1 = Root2\n",
    "1.0 = Root2.SubLevel2\n",
    "1.1 = Root2.SubLevel3\n",
    "1.1.0 = Root2.SubLevel3.DeeperSubLevel2\n",
    "```\n",
    "\n",
    "For now, nonces are only represented as integers, or str.\n",
    "\n",
    "\n",
    "### Default Nonce Chain\n",
    "\n",
    "The default nonce chain is a list of integers, starting at 0, and incrementing by 1."
   ]
  },
  {
   "cell_type": "code",
   "execution_count": 2,
   "metadata": {},
   "outputs": [
    {
     "name": "stdout",
     "output_type": "stream",
     "text": [
      "0\n",
      "1\n"
     ]
    }
   ],
   "source": [
    "from src.groups.unit import Nonce\n",
    "\n",
    "default_nonce = Nonce()  # 0\n",
    "print(default_nonce)\n",
    "\n",
    "next_nonce = default_nonce._next_active_nonce()  # 0 + 1 = 1\n",
    "print(next_nonce)"
   ]
  },
  {
   "cell_type": "markdown",
   "metadata": {},
   "source": [
    "### Nonce Levels\n",
    "\n",
    "The chain is split into levels, which are separated by a period."
   ]
  },
  {
   "cell_type": "code",
   "execution_count": 3,
   "metadata": {},
   "outputs": [
    {
     "name": "stdout",
     "output_type": "stream",
     "text": [
      "0.0\n",
      "0.1\n",
      "0.1.0\n",
      "0.1.1\n"
     ]
    }
   ],
   "source": [
    "sub_level = default_nonce._next_sub_nonce()  # 0.0\n",
    "print(sub_level)\n",
    "\n",
    "sub_level_item_2 = sub_level._next_active_nonce()  # 0.0 + 0.1 = 0.1\n",
    "print(sub_level_item_2)\n",
    "\n",
    "third_sub_level = sub_level_item_2._next_sub_nonce()  # 0.1.0\n",
    "print(third_sub_level)\n",
    "\n",
    "third_sub_level_item_2 = third_sub_level._next_active_nonce()  # 0.1.0 + 0.0.1 = 0.1.1\n",
    "print(third_sub_level_item_2)"
   ]
  },
  {
   "cell_type": "markdown",
   "metadata": {},
   "source": [
    "### The Active Nonce\n",
    "\n",
    "The Active Nonce is the last nonce unit in the chain."
   ]
  },
  {
   "cell_type": "code",
   "execution_count": 4,
   "metadata": {},
   "outputs": [
    {
     "name": "stdout",
     "output_type": "stream",
     "text": [
      "0\n",
      "1\n"
     ]
    }
   ],
   "source": [
    "active_nonce = default_nonce._get_active() # 0\n",
    "print(active_nonce)                        # ^ \"Active\"\n",
    "\n",
    "active_nonce2 = third_sub_level_item_2._get_active() # 0.1.1\n",
    "print(active_nonce2)                                 #     ^ \"Active\""
   ]
  },
  {
   "cell_type": "markdown",
   "metadata": {},
   "source": [
    "### Character Nonces\n",
    "\n",
    "Nonce units can be a str of characters"
   ]
  },
  {
   "cell_type": "code",
   "execution_count": 5,
   "metadata": {},
   "outputs": [
    {
     "name": "stdout",
     "output_type": "stream",
     "text": [
      "a\n",
      "b\n",
      "b.a\n",
      "hello.world\n",
      "hello.worle\n",
      "hello.worle.a\n"
     ]
    }
   ],
   "source": [
    "from src.groups.base import BaseContainer\n",
    "\n",
    "container = BaseContainer((\"a\"))\n",
    "char_nonce = Nonce(container)\n",
    "print(char_nonce)  # a\n",
    "\n",
    "char_nonce2 = char_nonce._next_active_nonce()\n",
    "print(char_nonce2)  # b\n",
    "\n",
    "char_nonce3 = char_nonce2._next_sub_nonce()\n",
    "print(char_nonce3)  # b.a\n",
    "\n",
    "char_nonce4 = Nonce(BaseContainer((\"hello\", \"world\")))\n",
    "print(char_nonce4)  # hello.world\n",
    "\n",
    "char_nonce5 = char_nonce4._next_active_nonce()\n",
    "print(char_nonce5)  # hello.worle\n",
    "\n",
    "char_nonce6 = char_nonce5._next_sub_nonce()\n",
    "print(char_nonce6)  # hello.worle.a"
   ]
  },
  {
   "cell_type": "markdown",
   "metadata": {},
   "source": [
    "## 2. Hashing\n",
    "\n",
    "Hashing is used to create a unique identifier for a nonce chain.\n",
    "\n",
    "How a nonce is hashed:\n",
    "- 1. The BaseValues of the chain are hashed using the BaseValue's _hash() method. (BaseValue._hash() functions by hashing the repr() of the BaseValue, seperatly from the BaseValue's Type and combining the hashes using a merkle tree.)\n",
    "- 2. The BaseValue root hashes from the previous step are hashed together using a merkle tree."
   ]
  },
  {
   "cell_type": "code",
   "execution_count": 6,
   "metadata": {},
   "outputs": [
    {
     "name": "stdout",
     "output_type": "stream",
     "text": [
      "hello.world nonce hashed: 470573df702151426e45ae5664caf4a7c0a46b2fff6c0321fede8bd2cba68bf1\n"
     ]
    }
   ],
   "source": [
    "print(f\"hello.world nonce hashed: {char_nonce4._hash()}\")\n",
    "# 470573df702151426e45ae5664caf4a7c0a46b2fff6c0321fede8bd2cba68bf1"
   ]
  },
  {
   "cell_type": "markdown",
   "metadata": {},
   "source": []
  }
 ],
 "metadata": {
  "kernelspec": {
   "display_name": ".venv",
   "language": "python",
   "name": "python3"
  },
  "language_info": {
   "codemirror_mode": {
    "name": "ipython",
    "version": 3
   },
   "file_extension": ".py",
   "mimetype": "text/x-python",
   "name": "python",
   "nbconvert_exporter": "python",
   "pygments_lexer": "ipython3",
   "version": "3.12.0"
  }
 },
 "nbformat": 4,
 "nbformat_minor": 2
}
