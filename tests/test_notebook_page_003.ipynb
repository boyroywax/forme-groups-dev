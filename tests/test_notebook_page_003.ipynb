{
 "cells": [
  {
   "cell_type": "markdown",
   "metadata": {},
   "source": [
    "# III. Nonce"
   ]
  },
  {
   "cell_type": "code",
   "execution_count": 4,
   "metadata": {},
   "outputs": [],
   "source": [
    "import sys\n",
    "\n",
    "sys.path.append(\"../../forme-groups-python-3-12/\")"
   ]
  },
  {
   "cell_type": "markdown",
   "metadata": {},
   "source": [
    "## 1. Nonce Chain\n",
    "\n",
    "The Nonce chain is used to express hierarchy within a group.\n",
    "\n",
    "Example Nonce Chain:\n",
    "    \n",
    "    ```\n",
    "    0 = Root\n",
    "    0.0 = Root.SubLevel \n",
    "    0.0.0 = Root.SubLevel.SubLevel\n",
    "    ```\n",
    "\n",
    "For now, nonces are only represented as integers, or str.\n",
    "\n",
    "\n",
    "### Default Nonce Chain\n",
    "\n",
    "The default nonce chain is a list of integers, starting at 0, and incrementing by 1."
   ]
  },
  {
   "cell_type": "code",
   "execution_count": 5,
   "metadata": {},
   "outputs": [
    {
     "name": "stdout",
     "output_type": "stream",
     "text": [
      "0\n",
      "1\n"
     ]
    }
   ],
   "source": [
    "from src.groups.unit import Nonce\n",
    "\n",
    "default_nonce = Nonce()  # 0\n",
    "print(default_nonce)\n",
    "\n",
    "next_nonce = default_nonce._next_active_nonce()  # 0 + 1 = 1\n",
    "print(next_nonce)"
   ]
  },
  {
   "cell_type": "markdown",
   "metadata": {},
   "source": [
    "### Nonce Levels\n",
    "\n",
    "The chain is split into levels, which are separated by a period."
   ]
  },
  {
   "cell_type": "code",
   "execution_count": 6,
   "metadata": {},
   "outputs": [
    {
     "ename": "UnboundLocalError",
     "evalue": "cannot access local variable 'type_' where it is not associated with a value",
     "output_type": "error",
     "traceback": [
      "\u001b[0;31m---------------------------------------------------------------------------\u001b[0m",
      "\u001b[0;31mUnboundLocalError\u001b[0m                         Traceback (most recent call last)",
      "\u001b[1;32m/Users/j/Documents/Forme/code/forme-groups-python-3-12/tests/test_notebook_page_003.ipynb Cell 6\u001b[0m line \u001b[0;36m1\n\u001b[0;32m----> <a href='vscode-notebook-cell:/Users/j/Documents/Forme/code/forme-groups-python-3-12/tests/test_notebook_page_003.ipynb#W5sZmlsZQ%3D%3D?line=0'>1</a>\u001b[0m sub_level \u001b[39m=\u001b[39m default_nonce\u001b[39m.\u001b[39;49m_next_sub_nonce()  \u001b[39m# 0.0\u001b[39;00m\n\u001b[1;32m      <a href='vscode-notebook-cell:/Users/j/Documents/Forme/code/forme-groups-python-3-12/tests/test_notebook_page_003.ipynb#W5sZmlsZQ%3D%3D?line=1'>2</a>\u001b[0m \u001b[39mprint\u001b[39m(sub_level)\n\u001b[1;32m      <a href='vscode-notebook-cell:/Users/j/Documents/Forme/code/forme-groups-python-3-12/tests/test_notebook_page_003.ipynb#W5sZmlsZQ%3D%3D?line=3'>4</a>\u001b[0m sub_level_item_2 \u001b[39m=\u001b[39m sub_level\u001b[39m.\u001b[39m_next_active_nonce()  \u001b[39m# 0.0 + 0.1 = 0.1\u001b[39;00m\n",
      "File \u001b[0;32m~/Documents/Forme/code/forme-groups-python-3-12/tests/../../forme-groups-python-3-12/src/groups/unit/nonce.py:97\u001b[0m, in \u001b[0;36mNonce._next_sub_nonce\u001b[0;34m(self, type_alias)\u001b[0m\n\u001b[1;32m     94\u001b[0m \u001b[39melse\u001b[39;00m:\n\u001b[1;32m     95\u001b[0m     type_ \u001b[39m=\u001b[39m BaseTypes\u001b[39m.\u001b[39m_get_type_from_alias(type_alias)\n\u001b[0;32m---> 97\u001b[0m \u001b[39mreturn\u001b[39;00m Nonce(\u001b[39mself\u001b[39m\u001b[39m.\u001b[39m_next_sub_nonce_chain(type_))\n",
      "\u001b[0;31mUnboundLocalError\u001b[0m: cannot access local variable 'type_' where it is not associated with a value"
     ]
    }
   ],
   "source": [
    "sub_level = default_nonce._next_sub_nonce()  # 0.0\n",
    "print(sub_level)\n",
    "\n",
    "sub_level_item_2 = sub_level._next_active_nonce()  # 0.0 + 0.1 = 0.1\n",
    "print(sub_level_item_2)\n",
    "\n",
    "third_sub_level = sub_level_item_2._next_sub_nonce()  # 0.1.0\n",
    "print(third_sub_level)\n",
    "\n",
    "third_sub_level_item_2 = third_sub_level._next_active_nonce()  # 0.1.0 + 0.0.1 = 0.1.1\n",
    "print(third_sub_level_item_2)"
   ]
  },
  {
   "cell_type": "markdown",
   "metadata": {},
   "source": [
    "### The Active Nonce\n",
    "\n",
    "The Active Nonce is the last nonce unit in the chain."
   ]
  },
  {
   "cell_type": "code",
   "execution_count": null,
   "metadata": {},
   "outputs": [],
   "source": [
    "active_nonce = default_nonce._get_active()\n",
    "print(active_nonce)\n",
    "\n",
    "active_nonce2 = sub_level_item_2._get_active()\n",
    "print(active_nonce2)"
   ]
  },
  {
   "cell_type": "markdown",
   "metadata": {},
   "source": [
    "### Nonces can be characters\n",
    "\n",
    "Nonce units can be a str of characters"
   ]
  },
  {
   "cell_type": "code",
   "execution_count": null,
   "metadata": {},
   "outputs": [],
   "source": [
    "from src.groups.base import BaseContainer\n",
    "\n",
    "container = BaseContainer((\"a\"))\n",
    "char_nonce = Nonce(container)\n",
    "print(char_nonce)\n",
    "\n",
    "char_nonce2 = char_nonce._next_active_nonce()\n",
    "print(char_nonce2)\n",
    "\n",
    "char_nonce3 = char_nonce2._next_sub_nonce()\n",
    "print(char_nonce3)"
   ]
  }
 ],
 "metadata": {
  "kernelspec": {
   "display_name": ".venv",
   "language": "python",
   "name": "python3"
  },
  "language_info": {
   "codemirror_mode": {
    "name": "ipython",
    "version": 3
   },
   "file_extension": ".py",
   "mimetype": "text/x-python",
   "name": "python",
   "nbconvert_exporter": "python",
   "pygments_lexer": "ipython3",
   "version": "3.12.0"
  }
 },
 "nbformat": 4,
 "nbformat_minor": 2
}
